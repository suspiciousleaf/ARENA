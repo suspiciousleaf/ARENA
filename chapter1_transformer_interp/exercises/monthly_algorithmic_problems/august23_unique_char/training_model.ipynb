{
 "cells": [
  {
   "attachments": {},
   "cell_type": "markdown",
   "metadata": {},
   "source": [
    "## Setup"
   ]
  },
  {
   "cell_type": "code",
   "execution_count": 1,
   "metadata": {},
   "outputs": [],
   "source": [
    "from IPython import get_ipython\n",
    "ipython = get_ipython()\n",
    "ipython.run_line_magic(\"load_ext\", \"autoreload\")\n",
    "ipython.run_line_magic(\"autoreload\", \"2\")\n",
    "\n",
    "import os; os.environ[\"ACCELERATE_DISABLE_RICH\"] = \"1\"\n",
    "import sys\n",
    "from functools import partial\n",
    "import json\n",
    "from typing import List, Tuple, Union, Optional, Callable, Dict\n",
    "import torch as t\n",
    "from torch import Tensor\n",
    "from sklearn.linear_model import LinearRegression\n",
    "import numpy as np\n",
    "from plotly.subplots import make_subplots\n",
    "import plotly.express as px\n",
    "import plotly.graph_objects as go\n",
    "import einops\n",
    "from tqdm import tqdm\n",
    "from jaxtyping import Float, Int, Bool\n",
    "from pathlib import Path\n",
    "import pandas as pd\n",
    "import circuitsvis as cv\n",
    "import webbrowser\n",
    "from IPython.display import display\n",
    "from transformer_lens import utils, ActivationCache, HookedTransformer, HookedTransformerConfig\n",
    "from transformer_lens.hook_points import HookPoint\n",
    "from transformer_lens.components import LayerNorm\n",
    "\n",
    "# Make sure exercises are in the path\n",
    "chapter = r\"chapter1_transformers\"\n",
    "exercises_dir = Path(f\"{os.getcwd().split(chapter)[0]}/{chapter}/exercises\").resolve()\n",
    "section_dir = exercises_dir / \"monthly_algorithmic_problems\" / \"august23_unique_char\"\n",
    "if str(exercises_dir) not in sys.path: sys.path.append(str(exercises_dir))\n",
    "\n",
    "from monthly_algorithmic_problems.august23_unique_char.model import create_model\n",
    "from monthly_algorithmic_problems.august23_unique_char.training import train, TrainArgs\n",
    "from monthly_algorithmic_problems.august23_unique_char.dataset import UniqueCharDataset\n",
    "\n",
    "device = t.device(\"cuda\" if t.cuda.is_available() else \"cpu\")\n",
    "\n",
    "MAIN = __name__ == \"__main__\""
   ]
  },
  {
   "cell_type": "markdown",
   "metadata": {},
   "source": [
    "## Dataset"
   ]
  },
  {
   "cell_type": "code",
   "execution_count": 2,
   "metadata": {},
   "outputs": [
    {
     "name": "stdout",
     "output_type": "stream",
     "text": [
      "Seq = ?acbba, First Unique Char = ?aaaac\n",
      "Seq = ?cbcbc, First Unique Char = ?ccb??\n"
     ]
    }
   ],
   "source": [
    "dataset = UniqueCharDataset(size=2, vocab=list(\"abc\"), seq_len=6, seed=42)\n",
    "\n",
    "for seq, first_unique_char_seq in zip(dataset.str_toks, dataset.str_tok_labels):\n",
    "    print(f\"Seq = {''.join(seq)}, First Unique Char = {''.join(first_unique_char_seq)}\")"
   ]
  },
  {
   "attachments": {},
   "cell_type": "markdown",
   "metadata": {},
   "source": [
    "## Transformer"
   ]
  },
  {
   "cell_type": "code",
   "execution_count": 3,
   "metadata": {},
   "outputs": [
    {
     "name": "stderr",
     "output_type": "stream",
     "text": [
      "Failed to detect the name of this notebook, you can set it manually with the WANDB_NOTEBOOK_NAME environment variable to enable code saving.\n",
      "\u001b[34m\u001b[1mwandb\u001b[0m: Currently logged in as: \u001b[33mcallum-mcdougall\u001b[0m. Use \u001b[1m`wandb login --relogin`\u001b[0m to force relogin\n"
     ]
    },
    {
     "data": {
      "text/html": [
       "wandb version 0.15.8 is available!  To upgrade, please run:\n",
       " $ pip install wandb --upgrade"
      ],
      "text/plain": [
       "<IPython.core.display.HTML object>"
      ]
     },
     "metadata": {},
     "output_type": "display_data"
    },
    {
     "data": {
      "text/html": [
       "Tracking run with wandb version 0.13.10"
      ],
      "text/plain": [
       "<IPython.core.display.HTML object>"
      ]
     },
     "metadata": {},
     "output_type": "display_data"
    },
    {
     "data": {
      "text/html": [
       "Run data is saved locally in <code>c:\\Users\\calsm\\Documents\\AI Alignment\\ARENA_2\\chapter1_transformers\\exercises\\monthly_algorithmic_problems\\august23_unique_char\\wandb\\run-20230808_163103-kp9m0ygw</code>"
      ],
      "text/plain": [
       "<IPython.core.display.HTML object>"
      ]
     },
     "metadata": {},
     "output_type": "display_data"
    },
    {
     "data": {
      "text/html": [
       "Syncing run <strong><a href='https://wandb.ai/callum-mcdougall/unique-char/runs/kp9m0ygw' target=\"_blank\">visionary-river-26</a></strong> to <a href='https://wandb.ai/callum-mcdougall/unique-char' target=\"_blank\">Weights & Biases</a> (<a href='https://wandb.me/run' target=\"_blank\">docs</a>)<br/>"
      ],
      "text/plain": [
       "<IPython.core.display.HTML object>"
      ]
     },
     "metadata": {},
     "output_type": "display_data"
    },
    {
     "data": {
      "text/html": [
       " View project at <a href='https://wandb.ai/callum-mcdougall/unique-char' target=\"_blank\">https://wandb.ai/callum-mcdougall/unique-char</a>"
      ],
      "text/plain": [
       "<IPython.core.display.HTML object>"
      ]
     },
     "metadata": {},
     "output_type": "display_data"
    },
    {
     "data": {
      "text/html": [
       " View run at <a href='https://wandb.ai/callum-mcdougall/unique-char/runs/kp9m0ygw' target=\"_blank\">https://wandb.ai/callum-mcdougall/unique-char/runs/kp9m0ygw</a>"
      ],
      "text/plain": [
       "<IPython.core.display.HTML object>"
      ]
     },
     "metadata": {},
     "output_type": "display_data"
    },
    {
     "name": "stderr",
     "output_type": "stream",
     "text": [
      "Finding first unique tokens: 100%|██████████| 100000/100000 [00:14<00:00, 6844.51it/s]\n",
      "Epoch 00, Train loss = 1.1021, Accuracy: 0.686: : 196it [00:15, 13.03it/s]      \n",
      "Epoch 01, Train loss = 0.6092, Accuracy: 0.806: : 196it [00:10, 18.28it/s]\n",
      "Epoch 02, Train loss = 0.5478, Accuracy: 0.842: : 196it [00:09, 19.73it/s]      \n",
      "Epoch 03, Train loss = 0.4362, Accuracy: 0.869: : 196it [00:10, 18.37it/s]\n",
      "Epoch 04, Train loss = 0.3871, Accuracy: 0.886: : 196it [00:09, 19.84it/s]      \n",
      "Epoch 05, Train loss = 0.3174, Accuracy: 0.895: : 196it [00:10, 18.25it/s]\n",
      "Epoch 06, Train loss = 0.2520, Accuracy: 0.911: : 196it [00:10, 18.97it/s]      \n",
      "Epoch 07, Train loss = 0.2260, Accuracy: 0.924: : 196it [00:09, 20.64it/s]\n",
      "Epoch 08, Train loss = 0.1686, Accuracy: 0.923: : 196it [00:09, 20.26it/s]      \n",
      "Epoch 09, Train loss = 0.1704, Accuracy: 0.937: : 196it [00:11, 17.24it/s]\n",
      "Epoch 10, Train loss = 0.1771, Accuracy: 0.936: : 196it [00:09, 19.60it/s]      \n",
      "Epoch 11, Train loss = 0.1247, Accuracy: 0.958: : 196it [00:10, 18.19it/s]\n",
      "Epoch 12, Train loss = 0.0980, Accuracy: 0.969: : 196it [00:09, 21.52it/s]      \n",
      "Epoch 13, Train loss = 0.1065, Accuracy: 0.961: : 196it [00:10, 19.01it/s]\n",
      "Epoch 14, Train loss = 0.0977, Accuracy: 0.966: : 196it [00:09, 20.69it/s]      \n",
      "Epoch 15, Train loss = 0.0966, Accuracy: 0.969: : 196it [00:10, 18.58it/s]\n",
      "Epoch 16, Train loss = 0.0741, Accuracy: 0.970: : 196it [00:09, 20.71it/s]      \n",
      "Epoch 17, Train loss = 0.0724, Accuracy: 0.968: : 196it [00:09, 19.66it/s]\n",
      "Epoch 18, Train loss = 0.0808, Accuracy: 0.978: : 196it [00:09, 21.67it/s]      \n",
      "Epoch 19, Train loss = 0.0522, Accuracy: 0.980: : 196it [00:09, 20.01it/s]\n",
      "Epoch 20, Train loss = 0.0705, Accuracy: 0.975: : 196it [00:08, 24.04it/s]      \n",
      "Epoch 21, Train loss = 0.0722, Accuracy: 0.972: : 196it [00:08, 22.97it/s]\n",
      "Epoch 22, Train loss = 0.0592, Accuracy: 0.979: : 196it [00:08, 24.10it/s]      \n",
      "Epoch 23, Train loss = 0.0478, Accuracy: 0.973: : 196it [00:08, 23.23it/s]\n",
      "Epoch 24, Train loss = 0.0490, Accuracy: 0.986: : 196it [00:08, 24.27it/s]      \n",
      "Epoch 25, Train loss = 0.0483, Accuracy: 0.981: : 196it [00:08, 22.67it/s]\n",
      "Epoch 26, Train loss = 0.0328, Accuracy: 0.979: : 196it [00:07, 24.52it/s]      \n",
      "Epoch 27, Train loss = 0.0355, Accuracy: 0.986: : 196it [00:08, 23.22it/s]\n",
      "Epoch 28, Train loss = 0.0373, Accuracy: 0.986: : 196it [00:08, 24.10it/s]      \n",
      "Epoch 29, Train loss = 0.0577, Accuracy: 0.983: : 196it [00:08, 23.20it/s]\n",
      "Epoch 30, Train loss = 0.0455, Accuracy: 0.982: : 196it [00:08, 24.40it/s]      \n",
      "Epoch 31, Train loss = 0.0312, Accuracy: 0.988: : 196it [00:08, 22.16it/s]\n",
      "Epoch 32, Train loss = 0.0286, Accuracy: 0.985: : 196it [00:08, 24.29it/s]      \n",
      "Epoch 33, Train loss = 0.0401, Accuracy: 0.982: : 196it [00:08, 22.39it/s]\n",
      "Epoch 34, Train loss = 0.0349, Accuracy: 0.986: : 196it [00:08, 24.46it/s]      \n",
      "Epoch 35, Train loss = 0.0315, Accuracy: 0.986: : 196it [00:08, 22.81it/s]\n",
      "Epoch 36, Train loss = 0.0264, Accuracy: 0.989: : 196it [00:08, 23.91it/s]      \n",
      "Epoch 37, Train loss = 0.0289, Accuracy: 0.987: : 196it [00:09, 20.09it/s]\n",
      "Epoch 38, Train loss = 0.0332, Accuracy: 0.991: : 196it [00:08, 23.75it/s]      \n",
      "Epoch 39, Train loss = 0.0374, Accuracy: 0.981: : 196it [00:08, 22.15it/s]\n",
      "Epoch 40, Train loss = 0.0246, Accuracy: 0.988: : 196it [00:08, 24.12it/s]      \n",
      "Epoch 41, Train loss = 0.0326, Accuracy: 0.989: : 196it [00:08, 22.95it/s]\n",
      "Epoch 42, Train loss = 0.0327, Accuracy: 0.984: : 196it [00:08, 24.09it/s]      \n",
      "Epoch 43, Train loss = 0.0357, Accuracy: 0.990: : 196it [00:09, 20.70it/s]\n",
      "Epoch 44, Train loss = 0.0288, Accuracy: 0.991: : 196it [00:08, 22.72it/s]      \n",
      "Epoch 45, Train loss = 0.0277, Accuracy: 0.991: : 196it [00:10, 17.90it/s]\n",
      "Epoch 46, Train loss = 0.0280, Accuracy: 0.992: : 196it [00:09, 20.31it/s]      \n",
      "Epoch 47, Train loss = 0.0377, Accuracy: 0.985: : 196it [00:10, 18.91it/s]\n",
      "Epoch 48, Train loss = 0.0254, Accuracy: 0.991: : 196it [00:09, 20.00it/s]      \n"
     ]
    },
    {
     "data": {
      "text/html": [
       "Waiting for W&B process to finish... <strong style=\"color:green\">(success).</strong>"
      ],
      "text/plain": [
       "<IPython.core.display.HTML object>"
      ]
     },
     "metadata": {},
     "output_type": "display_data"
    },
    {
     "data": {
      "application/vnd.jupyter.widget-view+json": {
       "model_id": "8e07a4b1d0d74c7798654c48b68128d2",
       "version_major": 2,
       "version_minor": 0
      },
      "text/plain": [
       "VBox(children=(Label(value='0.001 MB of 0.057 MB uploaded (0.000 MB deduped)\\r'), FloatProgress(value=0.022941…"
      ]
     },
     "metadata": {},
     "output_type": "display_data"
    },
    {
     "data": {
      "text/html": [
       "<style>\n",
       "    table.wandb td:nth-child(1) { padding: 0 10px; text-align: left ; width: auto;} td:nth-child(2) {text-align: left ; width: 100%}\n",
       "    .wandb-row { display: flex; flex-direction: row; flex-wrap: wrap; justify-content: flex-start; width: 100% }\n",
       "    .wandb-col { display: flex; flex-direction: column; flex-basis: 100%; flex: 1; padding: 10px; }\n",
       "    </style>\n",
       "<div class=\"wandb-row\"><div class=\"wandb-col\"><h3>Run history:</h3><br/><table class=\"wandb\"><tr><td>test_accuracy</td><td>▁▄▅▅▆▆▆▆▇▇▇▇▇▇▇█████████████████████████</td></tr><tr><td>training_loss</td><td>█▅▄▃▃▃▂▂▂▂▂▁▁▁▁▁▁▁▁▁▁▁▁▁▁▁▁▁▁▁▁▁▁▁▁▁▁▁▁▁</td></tr></table><br/></div><div class=\"wandb-col\"><h3>Run summary:</h3><br/><table class=\"wandb\"><tr><td>test_accuracy</td><td>0.99165</td></tr><tr><td>training_loss</td><td>0.01693</td></tr></table><br/></div></div>"
      ],
      "text/plain": [
       "<IPython.core.display.HTML object>"
      ]
     },
     "metadata": {},
     "output_type": "display_data"
    },
    {
     "data": {
      "text/html": [
       " View run <strong style=\"color:#cdcd00\">visionary-river-26</strong> at: <a href='https://wandb.ai/callum-mcdougall/unique-char/runs/kp9m0ygw' target=\"_blank\">https://wandb.ai/callum-mcdougall/unique-char/runs/kp9m0ygw</a><br/>Synced 5 W&B file(s), 0 media file(s), 0 artifact file(s) and 0 other file(s)"
      ],
      "text/plain": [
       "<IPython.core.display.HTML object>"
      ]
     },
     "metadata": {},
     "output_type": "display_data"
    },
    {
     "data": {
      "text/html": [
       "Find logs at: <code>.\\wandb\\run-20230808_163103-kp9m0ygw\\logs</code>"
      ],
      "text/plain": [
       "<IPython.core.display.HTML object>"
      ]
     },
     "metadata": {},
     "output_type": "display_data"
    },
    {
     "name": "stderr",
     "output_type": "stream",
     "text": [
      "Epoch 49, Train loss = 0.0169, Accuracy: 0.992: : 196it [00:15, 12.79it/s]"
     ]
    },
    {
     "name": "stdout",
     "output_type": "stream",
     "text": [
      "Returning best model from epoch 46/50, with accuracy 0.992\n"
     ]
    },
    {
     "name": "stderr",
     "output_type": "stream",
     "text": [
      "\n"
     ]
    }
   ],
   "source": [
    "args = TrainArgs(\n",
    "    seq_len=20,\n",
    "    vocab=list(\"abcdefghij\"),\n",
    "    trainset_size=100_000,\n",
    "    valset_size=5_000,\n",
    "    epochs=50,\n",
    "    batch_size=512,\n",
    "    lr=1e-3,\n",
    "    weight_decay=0.0,\n",
    "    seed=42,\n",
    "    d_model=42,\n",
    "    d_head=14,\n",
    "    n_layers=2,\n",
    "    n_heads=3,\n",
    "    d_mlp=None,\n",
    "    normalization_type=\"LN\",\n",
    "    use_wandb=True,\n",
    "    device=device,\n",
    ")\n",
    "model = train(args)"
   ]
  },
  {
   "cell_type": "code",
   "execution_count": 5,
   "metadata": {},
   "outputs": [
    {
     "data": {
      "text/plain": [
       "<All keys matched successfully>"
      ]
     },
     "execution_count": 5,
     "metadata": {},
     "output_type": "execute_result"
    }
   ],
   "source": [
    "# Save the model\n",
    "filename = section_dir / \"first_unique_char_model.pt\"\n",
    "t.save(model.state_dict(), filename)\n",
    "\n",
    "# Check we can load in the model\n",
    "model_loaded = create_model(\n",
    "    seq_len=20,\n",
    "    vocab=list(\"abcdefghij\"),\n",
    "    seed=42,\n",
    "    d_model=42,\n",
    "    d_head=14,\n",
    "    n_layers=2,\n",
    "    n_heads=3,\n",
    "    normalization_type=\"LN\",\n",
    "    d_mlp=None\n",
    ")\n",
    "model_loaded.load_state_dict(t.load(filename))"
   ]
  }
 ],
 "metadata": {
  "kernelspec": {
   "display_name": "tl_intro_test",
   "language": "python",
   "name": "python3"
  },
  "language_info": {
   "codemirror_mode": {
    "name": "ipython",
    "version": 3
   },
   "file_extension": ".py",
   "mimetype": "text/x-python",
   "name": "python",
   "nbconvert_exporter": "python",
   "pygments_lexer": "ipython3",
   "version": "3.11.4"
  },
  "orig_nbformat": 4
 },
 "nbformat": 4,
 "nbformat_minor": 2
}
