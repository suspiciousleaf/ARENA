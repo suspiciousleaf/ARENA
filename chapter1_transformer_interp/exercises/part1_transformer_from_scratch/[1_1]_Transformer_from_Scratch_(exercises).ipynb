{
  "cells": [
    {
      "cell_type": "markdown",
      "metadata": {
        "id": "sRrD2AbyMwmP"
      },
      "source": [
        "# [1.1] - Transformers from scratch\n"
      ]
    },
    {
      "cell_type": "markdown",
      "metadata": {
        "id": "usCBu-Op2CeU"
      },
      "source": [
        "Colab: [exercises](https://colab.research.google.com/drive/1lDwKASSYGE4y_7DuGSqlo3DN41NHrXEw?usp=sharing) | [solutions](https://colab.research.google.com/drive/1bZkkJd8pAVnSN23svyszZ3f4WrnYKN_3?usp=sharing)\n",
        "\n",
        "[Streamlit page](https://arena3-chapter1-transformer-interp.streamlit.app/[1.1]_Transformer_from_Scratch)\n",
        "\n",
        "Please send any problems / bugs on the `#errata` channel in the [Slack group](https://join.slack.com/t/arena-uk/shared_invite/zt-28h0xs49u-ZN9ZDbGXl~oCorjbBsSQag), and ask any questions on the dedicated channels for this chapter of material."
      ]
    },
    {
      "cell_type": "markdown",
      "metadata": {
        "id": "9XdSGDOH2qtL"
      },
      "source": [
        "<img src=\"https://raw.githubusercontent.com/callummcdougall/TransformerLens-intro/main/images/page_images/transformer-building.png\" width=\"350\">\n"
      ]
    },
    {
      "cell_type": "markdown",
      "metadata": {
        "id": "Ny4PdCRf3YPu"
      },
      "source": [
        "# Introduction"
      ]
    },
    {
      "cell_type": "markdown",
      "metadata": {
        "id": "IGQQ6Sm7fHNm"
      },
      "source": [
        "This is a clean, first principles implementation of GPT-2 in PyTorch. The architectural choices closely follow those used by the TransformerLens library (which you'll be using a lot more in later exercises).\n",
        "\n",
        "The exercises are written to accompany Neel Nanda's [TransformerLens library](https://github.com/neelnanda-io/TransformerLens) for doing mechanistic interpretability research on GPT-2 style language models. We'll be working with this library extensively in this chapter of the course.\n",
        "\n",
        "Each exercise will have a difficulty and importance rating out of 5, as well as an estimated maximum time you should spend on these exercises and sometimes a short annotation. You should interpret the ratings & time estimates relatively (e.g. if you find yourself spending about 50% longer on the exercises than the time estimates, adjust accordingly). Please do skip exercises / look at solutions if you don't feel like they're important enough to be worth doing, and you'd rather get to the good stuff!\n"
      ]
    },
    {
      "cell_type": "markdown",
      "metadata": {
        "id": "ugWVaR9Gm4Rw"
      },
      "source": [
        "## Content & Learning Objectives\n"
      ]
    },
    {
      "cell_type": "markdown",
      "metadata": {
        "id": "jzS18i5wfHNm"
      },
      "source": [
        "#### 1️⃣ Understanding Inputs & Outputs of a Transformer\n",
        "\n",
        "In this section, we'll take a first look at transformers - what their function is, how information moves inside a transformer, and what inputs & outputs they take.\n",
        "\n",
        "> ##### Learning objectives\n",
        ">\n",
        "> - Understand what a transformer is used for\n",
        "> - Understand causal attention, and what a transformer's output representsalgebra operations on tensors\n",
        "> - Learn what tokenization is, and how models do it\n",
        "> - Understand what logits are, and how to use them to derive a probability distribution over the vocabulary\n",
        "\n",
        "#### 2️⃣ Clean Transformer Implementation\n",
        "\n",
        "Here, we'll implement a transformer from scratch, using only PyTorch's tensor operations. This will give us a good understanding of how transformers work, and how to use them. We do this by going module-by-module, in an experience which should feel somewhat similar to last week's ResNet exercises. Much like with ResNets, you'll conclude by loading in pretrained weights and verifying that your model works as expected.\n",
        "\n",
        "> ##### Learning objectives\n",
        ">\n",
        "> * Understand that a transformer is composed of attention heads and MLPs, with each one performing operations on the residual stream\n",
        "> * Understand that the attention heads in a single layer operate independently, and that they have the role of calculating attention patterns (which determine where information is moved to & from in the residual stream)\n",
        "> * Learn about & implement the following transformer modules:\n",
        ">     * LayerNorm (transforming the input to have zero mean and unit variance)\n",
        ">     * Positional embedding (a lookup table from position indices to residual stream vectors)\n",
        ">     * Attention (the method of computing attention patterns for residual stream vectors)\n",
        ">     * MLP (the collection of linear and nonlinear transformations which operate on each residual stream vector in the same way)\n",
        ">     * Embedding (a lookup table from tokens to residual stream vectors)\n",
        ">     * Unembedding (a matrix for converting residual stream vectors into a distribution over tokens)\n",
        "\n",
        "#### 3️⃣ Training a Transformer\n",
        "\n",
        "Next, you'll learn how to train your transformer from scratch. This will be quite similar to the training loops you wrote for ResNet in your first week.\n",
        "\n",
        "> ##### Learning objectives\n",
        ">\n",
        "> * Understand how to train a transformer from scratch\n",
        "> * Write a basic transformer training loop\n",
        "> * Interpret the transformer's falling cross entropy loss with reference to features of the training data (e.g. bigram frequencies)\n",
        "\n",
        "#### 4️⃣ Sampling from a Transformer\n",
        "\n",
        "Lastly, you'll learn how to sample from a transformer. This will involve implementing a few different sampling methods, and writing a caching system which can reuse computations from previous forward passes to improve your model's text generation speed.\n",
        "\n",
        "*The second half of this section is less important, and you can skip it if you want.*\n",
        "\n",
        "> ##### Learning objectives\n",
        ">\n",
        "> * Learn how to sample from a transformer\n",
        ">     * This includes basic methods like greedy search or top-k, and more advanced methods like beam search\n",
        "> * Learn how to cache the output of a transformer, so that it can be used to generate text more efficiently\n",
        ">     * Optionally, rewrite your sampling functions to make use of your caching methods\n"
      ]
    },
    {
      "cell_type": "markdown",
      "metadata": {
        "id": "3mItbKVVm4Rx"
      },
      "source": [
        "## Setup (don't read, just run!)\n"
      ]
    },
    {
      "cell_type": "code",
      "execution_count": 1,
      "metadata": {
        "colab": {
          "base_uri": "https://localhost:8080/"
        },
        "id": "P_ngQtCbm4Rx",
        "outputId": "e0d72638-c1b0-4fd6-c4dd-33aef90864bc"
      },
      "outputs": [
        {
          "name": "stdout",
          "output_type": "stream",
          "text": [
            "Collecting transformer_lens\n",
            "  Downloading transformer_lens-1.15.0-py3-none-any.whl (124 kB)\n",
            "\u001b[?25l     \u001b[90m━━━━━━━━━━━━━━━━━━━━━━━━━━━━━━━━━━━━━━━━\u001b[0m \u001b[32m0.0/124.2 kB\u001b[0m \u001b[31m?\u001b[0m eta \u001b[36m-:--:--\u001b[0m\r\u001b[2K     \u001b[91m━━━━━━━━━━━━━━━━━━━━━━━━━━━━━━━━\u001b[0m\u001b[91m╸\u001b[0m\u001b[90m━━━━━━━\u001b[0m \u001b[32m102.4/124.2 kB\u001b[0m \u001b[31m2.9 MB/s\u001b[0m eta \u001b[36m0:00:01\u001b[0m\r\u001b[2K     \u001b[90m━━━━━━━━━━━━━━━━━━━━━━━━━━━━━━━━━━━━━━━━\u001b[0m \u001b[32m124.2/124.2 kB\u001b[0m \u001b[31m2.4 MB/s\u001b[0m eta \u001b[36m0:00:00\u001b[0m\n",
            "\u001b[?25hCollecting accelerate>=0.23.0 (from transformer_lens)\n",
            "  Downloading accelerate-0.29.2-py3-none-any.whl (297 kB)\n",
            "\u001b[2K     \u001b[90m━━━━━━━━━━━━━━━━━━━━━━━━━━━━━━━━━━━━━━━━\u001b[0m \u001b[32m297.4/297.4 kB\u001b[0m \u001b[31m6.8 MB/s\u001b[0m eta \u001b[36m0:00:00\u001b[0m\n",
            "\u001b[?25hCollecting beartype<0.15.0,>=0.14.1 (from transformer_lens)\n",
            "  Downloading beartype-0.14.1-py3-none-any.whl (739 kB)\n",
            "\u001b[2K     \u001b[90m━━━━━━━━━━━━━━━━━━━━━━━━━━━━━━━━━━━━━━━━\u001b[0m \u001b[32m739.7/739.7 kB\u001b[0m \u001b[31m6.1 MB/s\u001b[0m eta \u001b[36m0:00:00\u001b[0m\n",
            "\u001b[?25hCollecting better-abc<0.0.4,>=0.0.3 (from transformer_lens)\n",
            "  Downloading better_abc-0.0.3-py3-none-any.whl (3.5 kB)\n",
            "Collecting datasets>=2.7.1 (from transformer_lens)\n",
            "  Downloading datasets-2.18.0-py3-none-any.whl (510 kB)\n",
            "\u001b[2K     \u001b[90m━━━━━━━━━━━━━━━━━━━━━━━━━━━━━━━━━━━━━━━━\u001b[0m \u001b[32m510.5/510.5 kB\u001b[0m \u001b[31m13.0 MB/s\u001b[0m eta \u001b[36m0:00:00\u001b[0m\n",
            "\u001b[?25hCollecting einops>=0.6.0 (from transformer_lens)\n",
            "  Downloading einops-0.7.0-py3-none-any.whl (44 kB)\n",
            "\u001b[2K     \u001b[90m━━━━━━━━━━━━━━━━━━━━━━━━━━━━━━━━━━━━━━━━\u001b[0m \u001b[32m44.6/44.6 kB\u001b[0m \u001b[31m6.8 MB/s\u001b[0m eta \u001b[36m0:00:00\u001b[0m\n",
            "\u001b[?25hCollecting fancy-einsum>=0.0.3 (from transformer_lens)\n",
            "  Downloading fancy_einsum-0.0.3-py3-none-any.whl (6.2 kB)\n",
            "Collecting jaxtyping>=0.2.11 (from transformer_lens)\n",
            "  Downloading jaxtyping-0.2.28-py3-none-any.whl (40 kB)\n",
            "\u001b[2K     \u001b[90m━━━━━━━━━━━━━━━━━━━━━━━━━━━━━━━━━━━━━━━━\u001b[0m \u001b[32m40.7/40.7 kB\u001b[0m \u001b[31m6.1 MB/s\u001b[0m eta \u001b[36m0:00:00\u001b[0m\n",
            "\u001b[?25hRequirement already satisfied: numpy>=1.24 in /usr/local/lib/python3.10/dist-packages (from transformer_lens) (1.25.2)\n",
            "Requirement already satisfied: pandas>=1.1.5 in /usr/local/lib/python3.10/dist-packages (from transformer_lens) (2.0.3)\n",
            "Requirement already satisfied: rich>=12.6.0 in /usr/local/lib/python3.10/dist-packages (from transformer_lens) (13.7.1)\n",
            "Requirement already satisfied: torch!=2.0,!=2.1.0,>=1.10 in /usr/local/lib/python3.10/dist-packages (from transformer_lens) (2.2.1+cu121)\n",
            "Requirement already satisfied: tqdm>=4.64.1 in /usr/local/lib/python3.10/dist-packages (from transformer_lens) (4.66.2)\n",
            "Requirement already satisfied: transformers>=4.37.2 in /usr/local/lib/python3.10/dist-packages (from transformer_lens) (4.38.2)\n",
            "Requirement already satisfied: typing-extensions in /usr/local/lib/python3.10/dist-packages (from transformer_lens) (4.11.0)\n",
            "Collecting wandb>=0.13.5 (from transformer_lens)\n",
            "  Downloading wandb-0.16.6-py3-none-any.whl (2.2 MB)\n",
            "\u001b[2K     \u001b[90m━━━━━━━━━━━━━━━━━━━━━━━━━━━━━━━━━━━━━━━━\u001b[0m \u001b[32m2.2/2.2 MB\u001b[0m \u001b[31m21.6 MB/s\u001b[0m eta \u001b[36m0:00:00\u001b[0m\n",
            "\u001b[?25hRequirement already satisfied: packaging>=20.0 in /usr/local/lib/python3.10/dist-packages (from accelerate>=0.23.0->transformer_lens) (24.0)\n",
            "Requirement already satisfied: psutil in /usr/local/lib/python3.10/dist-packages (from accelerate>=0.23.0->transformer_lens) (5.9.5)\n",
            "Requirement already satisfied: pyyaml in /usr/local/lib/python3.10/dist-packages (from accelerate>=0.23.0->transformer_lens) (6.0.1)\n",
            "Requirement already satisfied: huggingface-hub in /usr/local/lib/python3.10/dist-packages (from accelerate>=0.23.0->transformer_lens) (0.20.3)\n",
            "Requirement already satisfied: safetensors>=0.3.1 in /usr/local/lib/python3.10/dist-packages (from accelerate>=0.23.0->transformer_lens) (0.4.2)\n",
            "Requirement already satisfied: filelock in /usr/local/lib/python3.10/dist-packages (from datasets>=2.7.1->transformer_lens) (3.13.4)\n",
            "Requirement already satisfied: pyarrow>=12.0.0 in /usr/local/lib/python3.10/dist-packages (from datasets>=2.7.1->transformer_lens) (14.0.2)\n",
            "Requirement already satisfied: pyarrow-hotfix in /usr/local/lib/python3.10/dist-packages (from datasets>=2.7.1->transformer_lens) (0.6)\n",
            "Collecting dill<0.3.9,>=0.3.0 (from datasets>=2.7.1->transformer_lens)\n",
            "  Downloading dill-0.3.8-py3-none-any.whl (116 kB)\n",
            "\u001b[2K     \u001b[90m━━━━━━━━━━━━━━━━━━━━━━━━━━━━━━━━━━━━━━━━\u001b[0m \u001b[32m116.3/116.3 kB\u001b[0m \u001b[31m16.2 MB/s\u001b[0m eta \u001b[36m0:00:00\u001b[0m\n",
            "\u001b[?25hRequirement already satisfied: requests>=2.19.0 in /usr/local/lib/python3.10/dist-packages (from datasets>=2.7.1->transformer_lens) (2.31.0)\n",
            "Collecting xxhash (from datasets>=2.7.1->transformer_lens)\n",
            "  Downloading xxhash-3.4.1-cp310-cp310-manylinux_2_17_x86_64.manylinux2014_x86_64.whl (194 kB)\n",
            "\u001b[2K     \u001b[90m━━━━━━━━━━━━━━━━━━━━━━━━━━━━━━━━━━━━━━━━\u001b[0m \u001b[32m194.1/194.1 kB\u001b[0m \u001b[31m21.4 MB/s\u001b[0m eta \u001b[36m0:00:00\u001b[0m\n",
            "\u001b[?25hCollecting multiprocess (from datasets>=2.7.1->transformer_lens)\n",
            "  Downloading multiprocess-0.70.16-py310-none-any.whl (134 kB)\n",
            "\u001b[2K     \u001b[90m━━━━━━━━━━━━━━━━━━━━━━━━━━━━━━━━━━━━━━━━\u001b[0m \u001b[32m134.8/134.8 kB\u001b[0m \u001b[31m19.5 MB/s\u001b[0m eta \u001b[36m0:00:00\u001b[0m\n",
            "\u001b[?25hRequirement already satisfied: fsspec[http]<=2024.2.0,>=2023.1.0 in /usr/local/lib/python3.10/dist-packages (from datasets>=2.7.1->transformer_lens) (2023.6.0)\n",
            "Requirement already satisfied: aiohttp in /usr/local/lib/python3.10/dist-packages (from datasets>=2.7.1->transformer_lens) (3.9.3)\n",
            "Collecting typeguard==2.13.3 (from jaxtyping>=0.2.11->transformer_lens)\n",
            "  Downloading typeguard-2.13.3-py3-none-any.whl (17 kB)\n",
            "Requirement already satisfied: python-dateutil>=2.8.2 in /usr/local/lib/python3.10/dist-packages (from pandas>=1.1.5->transformer_lens) (2.8.2)\n",
            "Requirement already satisfied: pytz>=2020.1 in /usr/local/lib/python3.10/dist-packages (from pandas>=1.1.5->transformer_lens) (2023.4)\n",
            "Requirement already satisfied: tzdata>=2022.1 in /usr/local/lib/python3.10/dist-packages (from pandas>=1.1.5->transformer_lens) (2024.1)\n",
            "Requirement already satisfied: markdown-it-py>=2.2.0 in /usr/local/lib/python3.10/dist-packages (from rich>=12.6.0->transformer_lens) (3.0.0)\n",
            "Requirement already satisfied: pygments<3.0.0,>=2.13.0 in /usr/local/lib/python3.10/dist-packages (from rich>=12.6.0->transformer_lens) (2.16.1)\n",
            "Requirement already satisfied: sympy in /usr/local/lib/python3.10/dist-packages (from torch!=2.0,!=2.1.0,>=1.10->transformer_lens) (1.12)\n",
            "Requirement already satisfied: networkx in /usr/local/lib/python3.10/dist-packages (from torch!=2.0,!=2.1.0,>=1.10->transformer_lens) (3.3)\n",
            "Requirement already satisfied: jinja2 in /usr/local/lib/python3.10/dist-packages (from torch!=2.0,!=2.1.0,>=1.10->transformer_lens) (3.1.3)\n",
            "Collecting nvidia-cuda-nvrtc-cu12==12.1.105 (from torch!=2.0,!=2.1.0,>=1.10->transformer_lens)\n",
            "  Using cached nvidia_cuda_nvrtc_cu12-12.1.105-py3-none-manylinux1_x86_64.whl (23.7 MB)\n",
            "Collecting nvidia-cuda-runtime-cu12==12.1.105 (from torch!=2.0,!=2.1.0,>=1.10->transformer_lens)\n",
            "  Using cached nvidia_cuda_runtime_cu12-12.1.105-py3-none-manylinux1_x86_64.whl (823 kB)\n",
            "Collecting nvidia-cuda-cupti-cu12==12.1.105 (from torch!=2.0,!=2.1.0,>=1.10->transformer_lens)\n",
            "  Using cached nvidia_cuda_cupti_cu12-12.1.105-py3-none-manylinux1_x86_64.whl (14.1 MB)\n",
            "Collecting nvidia-cudnn-cu12==8.9.2.26 (from torch!=2.0,!=2.1.0,>=1.10->transformer_lens)\n",
            "  Using cached nvidia_cudnn_cu12-8.9.2.26-py3-none-manylinux1_x86_64.whl (731.7 MB)\n",
            "Collecting nvidia-cublas-cu12==12.1.3.1 (from torch!=2.0,!=2.1.0,>=1.10->transformer_lens)\n",
            "  Using cached nvidia_cublas_cu12-12.1.3.1-py3-none-manylinux1_x86_64.whl (410.6 MB)\n",
            "Collecting nvidia-cufft-cu12==11.0.2.54 (from torch!=2.0,!=2.1.0,>=1.10->transformer_lens)\n",
            "  Using cached nvidia_cufft_cu12-11.0.2.54-py3-none-manylinux1_x86_64.whl (121.6 MB)\n",
            "Collecting nvidia-curand-cu12==10.3.2.106 (from torch!=2.0,!=2.1.0,>=1.10->transformer_lens)\n",
            "  Using cached nvidia_curand_cu12-10.3.2.106-py3-none-manylinux1_x86_64.whl (56.5 MB)\n",
            "Collecting nvidia-cusolver-cu12==11.4.5.107 (from torch!=2.0,!=2.1.0,>=1.10->transformer_lens)\n",
            "  Using cached nvidia_cusolver_cu12-11.4.5.107-py3-none-manylinux1_x86_64.whl (124.2 MB)\n",
            "Collecting nvidia-cusparse-cu12==12.1.0.106 (from torch!=2.0,!=2.1.0,>=1.10->transformer_lens)\n",
            "  Using cached nvidia_cusparse_cu12-12.1.0.106-py3-none-manylinux1_x86_64.whl (196.0 MB)\n",
            "Collecting nvidia-nccl-cu12==2.19.3 (from torch!=2.0,!=2.1.0,>=1.10->transformer_lens)\n",
            "  Using cached nvidia_nccl_cu12-2.19.3-py3-none-manylinux1_x86_64.whl (166.0 MB)\n",
            "Collecting nvidia-nvtx-cu12==12.1.105 (from torch!=2.0,!=2.1.0,>=1.10->transformer_lens)\n",
            "  Using cached nvidia_nvtx_cu12-12.1.105-py3-none-manylinux1_x86_64.whl (99 kB)\n",
            "Requirement already satisfied: triton==2.2.0 in /usr/local/lib/python3.10/dist-packages (from torch!=2.0,!=2.1.0,>=1.10->transformer_lens) (2.2.0)\n",
            "Collecting nvidia-nvjitlink-cu12 (from nvidia-cusolver-cu12==11.4.5.107->torch!=2.0,!=2.1.0,>=1.10->transformer_lens)\n",
            "  Using cached nvidia_nvjitlink_cu12-12.4.127-py3-none-manylinux2014_x86_64.whl (21.1 MB)\n",
            "Requirement already satisfied: regex!=2019.12.17 in /usr/local/lib/python3.10/dist-packages (from transformers>=4.37.2->transformer_lens) (2023.12.25)\n",
            "Requirement already satisfied: tokenizers<0.19,>=0.14 in /usr/local/lib/python3.10/dist-packages (from transformers>=4.37.2->transformer_lens) (0.15.2)\n",
            "Requirement already satisfied: Click!=8.0.0,>=7.1 in /usr/local/lib/python3.10/dist-packages (from wandb>=0.13.5->transformer_lens) (8.1.7)\n",
            "Collecting GitPython!=3.1.29,>=1.0.0 (from wandb>=0.13.5->transformer_lens)\n",
            "  Downloading GitPython-3.1.43-py3-none-any.whl (207 kB)\n",
            "\u001b[2K     \u001b[90m━━━━━━━━━━━━━━━━━━━━━━━━━━━━━━━━━━━━━━━━\u001b[0m \u001b[32m207.3/207.3 kB\u001b[0m \u001b[31m25.6 MB/s\u001b[0m eta \u001b[36m0:00:00\u001b[0m\n",
            "\u001b[?25hCollecting sentry-sdk>=1.0.0 (from wandb>=0.13.5->transformer_lens)\n",
            "  Downloading sentry_sdk-1.45.0-py2.py3-none-any.whl (267 kB)\n",
            "\u001b[2K     \u001b[90m━━━━━━━━━━━━━━━━━━━━━━━━━━━━━━━━━━━━━━━━\u001b[0m \u001b[32m267.1/267.1 kB\u001b[0m \u001b[31m19.4 MB/s\u001b[0m eta \u001b[36m0:00:00\u001b[0m\n",
            "\u001b[?25hCollecting docker-pycreds>=0.4.0 (from wandb>=0.13.5->transformer_lens)\n",
            "  Downloading docker_pycreds-0.4.0-py2.py3-none-any.whl (9.0 kB)\n",
            "Collecting setproctitle (from wandb>=0.13.5->transformer_lens)\n",
            "  Downloading setproctitle-1.3.3-cp310-cp310-manylinux_2_5_x86_64.manylinux1_x86_64.manylinux_2_17_x86_64.manylinux2014_x86_64.whl (30 kB)\n",
            "Requirement already satisfied: setuptools in /usr/local/lib/python3.10/dist-packages (from wandb>=0.13.5->transformer_lens) (67.7.2)\n",
            "Requirement already satisfied: appdirs>=1.4.3 in /usr/local/lib/python3.10/dist-packages (from wandb>=0.13.5->transformer_lens) (1.4.4)\n",
            "Requirement already satisfied: protobuf!=4.21.0,<5,>=3.19.0 in /usr/local/lib/python3.10/dist-packages (from wandb>=0.13.5->transformer_lens) (3.20.3)\n",
            "Requirement already satisfied: six>=1.4.0 in /usr/local/lib/python3.10/dist-packages (from docker-pycreds>=0.4.0->wandb>=0.13.5->transformer_lens) (1.16.0)\n",
            "Requirement already satisfied: aiosignal>=1.1.2 in /usr/local/lib/python3.10/dist-packages (from aiohttp->datasets>=2.7.1->transformer_lens) (1.3.1)\n",
            "Requirement already satisfied: attrs>=17.3.0 in /usr/local/lib/python3.10/dist-packages (from aiohttp->datasets>=2.7.1->transformer_lens) (23.2.0)\n",
            "Requirement already satisfied: frozenlist>=1.1.1 in /usr/local/lib/python3.10/dist-packages (from aiohttp->datasets>=2.7.1->transformer_lens) (1.4.1)\n",
            "Requirement already satisfied: multidict<7.0,>=4.5 in /usr/local/lib/python3.10/dist-packages (from aiohttp->datasets>=2.7.1->transformer_lens) (6.0.5)\n",
            "Requirement already satisfied: yarl<2.0,>=1.0 in /usr/local/lib/python3.10/dist-packages (from aiohttp->datasets>=2.7.1->transformer_lens) (1.9.4)\n",
            "Requirement already satisfied: async-timeout<5.0,>=4.0 in /usr/local/lib/python3.10/dist-packages (from aiohttp->datasets>=2.7.1->transformer_lens) (4.0.3)\n",
            "Collecting gitdb<5,>=4.0.1 (from GitPython!=3.1.29,>=1.0.0->wandb>=0.13.5->transformer_lens)\n",
            "  Downloading gitdb-4.0.11-py3-none-any.whl (62 kB)\n",
            "\u001b[2K     \u001b[90m━━━━━━━━━━━━━━━━━━━━━━━━━━━━━━━━━━━━━━━━\u001b[0m \u001b[32m62.7/62.7 kB\u001b[0m \u001b[31m9.0 MB/s\u001b[0m eta \u001b[36m0:00:00\u001b[0m\n",
            "\u001b[?25hRequirement already satisfied: mdurl~=0.1 in /usr/local/lib/python3.10/dist-packages (from markdown-it-py>=2.2.0->rich>=12.6.0->transformer_lens) (0.1.2)\n",
            "Requirement already satisfied: charset-normalizer<4,>=2 in /usr/local/lib/python3.10/dist-packages (from requests>=2.19.0->datasets>=2.7.1->transformer_lens) (3.3.2)\n",
            "Requirement already satisfied: idna<4,>=2.5 in /usr/local/lib/python3.10/dist-packages (from requests>=2.19.0->datasets>=2.7.1->transformer_lens) (3.6)\n",
            "Requirement already satisfied: urllib3<3,>=1.21.1 in /usr/local/lib/python3.10/dist-packages (from requests>=2.19.0->datasets>=2.7.1->transformer_lens) (2.0.7)\n",
            "Requirement already satisfied: certifi>=2017.4.17 in /usr/local/lib/python3.10/dist-packages (from requests>=2.19.0->datasets>=2.7.1->transformer_lens) (2024.2.2)\n",
            "Requirement already satisfied: MarkupSafe>=2.0 in /usr/local/lib/python3.10/dist-packages (from jinja2->torch!=2.0,!=2.1.0,>=1.10->transformer_lens) (2.1.5)\n",
            "Requirement already satisfied: mpmath>=0.19 in /usr/local/lib/python3.10/dist-packages (from sympy->torch!=2.0,!=2.1.0,>=1.10->transformer_lens) (1.3.0)\n",
            "Collecting smmap<6,>=3.0.1 (from gitdb<5,>=4.0.1->GitPython!=3.1.29,>=1.0.0->wandb>=0.13.5->transformer_lens)\n",
            "  Downloading smmap-5.0.1-py3-none-any.whl (24 kB)\n",
            "Installing collected packages: better-abc, xxhash, typeguard, smmap, setproctitle, sentry-sdk, nvidia-nvtx-cu12, nvidia-nvjitlink-cu12, nvidia-nccl-cu12, nvidia-curand-cu12, nvidia-cufft-cu12, nvidia-cuda-runtime-cu12, nvidia-cuda-nvrtc-cu12, nvidia-cuda-cupti-cu12, nvidia-cublas-cu12, fancy-einsum, einops, docker-pycreds, dill, beartype, nvidia-cusparse-cu12, nvidia-cudnn-cu12, multiprocess, jaxtyping, gitdb, nvidia-cusolver-cu12, GitPython, wandb, datasets, accelerate, transformer_lens\n",
            "Successfully installed GitPython-3.1.43 accelerate-0.29.2 beartype-0.14.1 better-abc-0.0.3 datasets-2.18.0 dill-0.3.8 docker-pycreds-0.4.0 einops-0.7.0 fancy-einsum-0.0.3 gitdb-4.0.11 jaxtyping-0.2.28 multiprocess-0.70.16 nvidia-cublas-cu12-12.1.3.1 nvidia-cuda-cupti-cu12-12.1.105 nvidia-cuda-nvrtc-cu12-12.1.105 nvidia-cuda-runtime-cu12-12.1.105 nvidia-cudnn-cu12-8.9.2.26 nvidia-cufft-cu12-11.0.2.54 nvidia-curand-cu12-10.3.2.106 nvidia-cusolver-cu12-11.4.5.107 nvidia-cusparse-cu12-12.1.0.106 nvidia-nccl-cu12-2.19.3 nvidia-nvjitlink-cu12-12.4.127 nvidia-nvtx-cu12-12.1.105 sentry-sdk-1.45.0 setproctitle-1.3.3 smmap-5.0.1 transformer_lens-1.15.0 typeguard-2.13.3 wandb-0.16.6 xxhash-3.4.1\n",
            "Requirement already satisfied: einops in /usr/local/lib/python3.10/dist-packages (0.7.0)\n",
            "Requirement already satisfied: jaxtyping in /usr/local/lib/python3.10/dist-packages (0.2.28)\n",
            "Requirement already satisfied: numpy>=1.20.0 in /usr/local/lib/python3.10/dist-packages (from jaxtyping) (1.25.2)\n",
            "Requirement already satisfied: typeguard==2.13.3 in /usr/local/lib/python3.10/dist-packages (from jaxtyping) (2.13.3)\n",
            "Collecting git+https://github.com/callummcdougall/CircuitsVis.git#subdirectory=python\n",
            "  Cloning https://github.com/callummcdougall/CircuitsVis.git to /tmp/pip-req-build-5xv9xqt8\n",
            "  Running command git clone --filter=blob:none --quiet https://github.com/callummcdougall/CircuitsVis.git /tmp/pip-req-build-5xv9xqt8\n",
            "  Resolved https://github.com/callummcdougall/CircuitsVis.git to commit 1e6129d08cae7af9242d9ab5d3ed322dd44b4dd3\n",
            "  Installing build dependencies ... \u001b[?25l\u001b[?25hdone\n",
            "  Getting requirements to build wheel ... \u001b[?25l\u001b[?25hdone\n",
            "  Preparing metadata (pyproject.toml) ... \u001b[?25l\u001b[?25hdone\n",
            "Collecting importlib-metadata<6.0.0,>=5.1.0 (from circuitsvis==0.0.0)\n",
            "  Downloading importlib_metadata-5.2.0-py3-none-any.whl (21 kB)\n",
            "Requirement already satisfied: numpy<2.0,>=1.23 in /usr/local/lib/python3.10/dist-packages (from circuitsvis==0.0.0) (1.25.2)\n",
            "Requirement already satisfied: torch<3.0,>=2.0 in /usr/local/lib/python3.10/dist-packages (from circuitsvis==0.0.0) (2.2.1+cu121)\n",
            "Requirement already satisfied: zipp>=0.5 in /usr/local/lib/python3.10/dist-packages (from importlib-metadata<6.0.0,>=5.1.0->circuitsvis==0.0.0) (3.18.1)\n",
            "Requirement already satisfied: filelock in /usr/local/lib/python3.10/dist-packages (from torch<3.0,>=2.0->circuitsvis==0.0.0) (3.13.4)\n",
            "Requirement already satisfied: typing-extensions>=4.8.0 in /usr/local/lib/python3.10/dist-packages (from torch<3.0,>=2.0->circuitsvis==0.0.0) (4.11.0)\n",
            "Requirement already satisfied: sympy in /usr/local/lib/python3.10/dist-packages (from torch<3.0,>=2.0->circuitsvis==0.0.0) (1.12)\n",
            "Requirement already satisfied: networkx in /usr/local/lib/python3.10/dist-packages (from torch<3.0,>=2.0->circuitsvis==0.0.0) (3.3)\n",
            "Requirement already satisfied: jinja2 in /usr/local/lib/python3.10/dist-packages (from torch<3.0,>=2.0->circuitsvis==0.0.0) (3.1.3)\n",
            "Requirement already satisfied: fsspec in /usr/local/lib/python3.10/dist-packages (from torch<3.0,>=2.0->circuitsvis==0.0.0) (2023.6.0)\n",
            "Requirement already satisfied: nvidia-cuda-nvrtc-cu12==12.1.105 in /usr/local/lib/python3.10/dist-packages (from torch<3.0,>=2.0->circuitsvis==0.0.0) (12.1.105)\n",
            "Requirement already satisfied: nvidia-cuda-runtime-cu12==12.1.105 in /usr/local/lib/python3.10/dist-packages (from torch<3.0,>=2.0->circuitsvis==0.0.0) (12.1.105)\n",
            "Requirement already satisfied: nvidia-cuda-cupti-cu12==12.1.105 in /usr/local/lib/python3.10/dist-packages (from torch<3.0,>=2.0->circuitsvis==0.0.0) (12.1.105)\n",
            "Requirement already satisfied: nvidia-cudnn-cu12==8.9.2.26 in /usr/local/lib/python3.10/dist-packages (from torch<3.0,>=2.0->circuitsvis==0.0.0) (8.9.2.26)\n",
            "Requirement already satisfied: nvidia-cublas-cu12==12.1.3.1 in /usr/local/lib/python3.10/dist-packages (from torch<3.0,>=2.0->circuitsvis==0.0.0) (12.1.3.1)\n",
            "Requirement already satisfied: nvidia-cufft-cu12==11.0.2.54 in /usr/local/lib/python3.10/dist-packages (from torch<3.0,>=2.0->circuitsvis==0.0.0) (11.0.2.54)\n",
            "Requirement already satisfied: nvidia-curand-cu12==10.3.2.106 in /usr/local/lib/python3.10/dist-packages (from torch<3.0,>=2.0->circuitsvis==0.0.0) (10.3.2.106)\n",
            "Requirement already satisfied: nvidia-cusolver-cu12==11.4.5.107 in /usr/local/lib/python3.10/dist-packages (from torch<3.0,>=2.0->circuitsvis==0.0.0) (11.4.5.107)\n",
            "Requirement already satisfied: nvidia-cusparse-cu12==12.1.0.106 in /usr/local/lib/python3.10/dist-packages (from torch<3.0,>=2.0->circuitsvis==0.0.0) (12.1.0.106)\n",
            "Requirement already satisfied: nvidia-nccl-cu12==2.19.3 in /usr/local/lib/python3.10/dist-packages (from torch<3.0,>=2.0->circuitsvis==0.0.0) (2.19.3)\n",
            "Requirement already satisfied: nvidia-nvtx-cu12==12.1.105 in /usr/local/lib/python3.10/dist-packages (from torch<3.0,>=2.0->circuitsvis==0.0.0) (12.1.105)\n",
            "Requirement already satisfied: triton==2.2.0 in /usr/local/lib/python3.10/dist-packages (from torch<3.0,>=2.0->circuitsvis==0.0.0) (2.2.0)\n",
            "Requirement already satisfied: nvidia-nvjitlink-cu12 in /usr/local/lib/python3.10/dist-packages (from nvidia-cusolver-cu12==11.4.5.107->torch<3.0,>=2.0->circuitsvis==0.0.0) (12.4.127)\n",
            "Requirement already satisfied: MarkupSafe>=2.0 in /usr/local/lib/python3.10/dist-packages (from jinja2->torch<3.0,>=2.0->circuitsvis==0.0.0) (2.1.5)\n",
            "Requirement already satisfied: mpmath>=0.19 in /usr/local/lib/python3.10/dist-packages (from sympy->torch<3.0,>=2.0->circuitsvis==0.0.0) (1.3.0)\n",
            "Building wheels for collected packages: circuitsvis\n",
            "  Building wheel for circuitsvis (pyproject.toml) ... \u001b[?25l\u001b[?25hdone\n",
            "  Created wheel for circuitsvis: filename=circuitsvis-0.0.0-py3-none-any.whl size=6172334 sha256=59415c32edc93016c6c42f3b4833706a3be43b700e7573be5495cc7c0ec5f306\n",
            "  Stored in directory: /tmp/pip-ephem-wheel-cache-ri8qoo0e/wheels/86/be/ad/78078aba9344d200aad61b63d35cdaecdec160212f039eed74\n",
            "Successfully built circuitsvis\n",
            "Installing collected packages: importlib-metadata, circuitsvis\n",
            "  Attempting uninstall: importlib-metadata\n",
            "    Found existing installation: importlib_metadata 7.1.0\n",
            "    Uninstalling importlib_metadata-7.1.0:\n",
            "      Successfully uninstalled importlib_metadata-7.1.0\n",
            "Successfully installed circuitsvis-0.0.0 importlib-metadata-5.2.0\n",
            "--2024-04-16 20:14:35--  https://github.com/callummcdougall/ARENA_3.0/archive/refs/heads/main.zip\n",
            "Resolving github.com (github.com)... 140.82.114.3\n",
            "Connecting to github.com (github.com)|140.82.114.3|:443... connected.\n",
            "HTTP request sent, awaiting response... 302 Found\n",
            "Location: https://codeload.github.com/callummcdougall/ARENA_3.0/zip/refs/heads/main [following]\n",
            "--2024-04-16 20:14:35--  https://codeload.github.com/callummcdougall/ARENA_3.0/zip/refs/heads/main\n",
            "Resolving codeload.github.com (codeload.github.com)... 140.82.113.10\n",
            "Connecting to codeload.github.com (codeload.github.com)|140.82.113.10|:443... connected.\n",
            "HTTP request sent, awaiting response... 200 OK\n",
            "Length: unspecified [application/zip]\n",
            "Saving to: ‘main.zip’\n",
            "\n",
            "main.zip                [   <=>              ]  81.62M  8.54MB/s    in 10s     \n",
            "\n",
            "2024-04-16 20:14:46 (8.08 MB/s) - ‘main.zip’ saved [85588516]\n",
            "\n",
            "Archive:  /content/main.zip\n",
            "d01789b19441c918dc6966423586056446b254fa\n",
            "   creating: ARENA_3.0-main/chapter1_transformer_interp/exercises/\n",
            "   creating: ARENA_3.0-main/chapter1_transformer_interp/exercises/monthly_algorithmic_problems/\n",
            "   creating: ARENA_3.0-main/chapter1_transformer_interp/exercises/monthly_algorithmic_problems/august23_unique_char/\n",
            "  inflating: ARENA_3.0-main/chapter1_transformer_interp/exercises/monthly_algorithmic_problems/august23_unique_char/dataset.py  \n",
            "  inflating: ARENA_3.0-main/chapter1_transformer_interp/exercises/monthly_algorithmic_problems/august23_unique_char/first_unique_char_model.pt  \n",
            "  inflating: ARENA_3.0-main/chapter1_transformer_interp/exercises/monthly_algorithmic_problems/august23_unique_char/model.py  \n",
            "  inflating: ARENA_3.0-main/chapter1_transformer_interp/exercises/monthly_algorithmic_problems/august23_unique_char/training.py  \n",
            "  inflating: ARENA_3.0-main/chapter1_transformer_interp/exercises/monthly_algorithmic_problems/august23_unique_char/training_model.ipynb  \n",
            "   creating: ARENA_3.0-main/chapter1_transformer_interp/exercises/monthly_algorithmic_problems/january24_caesar_cipher/\n",
            "  inflating: ARENA_3.0-main/chapter1_transformer_interp/exercises/monthly_algorithmic_problems/january24_caesar_cipher/caesar_cipher_model_easy.pt  \n",
            "  inflating: ARENA_3.0-main/chapter1_transformer_interp/exercises/monthly_algorithmic_problems/january24_caesar_cipher/caesar_cipher_model_hard.pt  \n",
            "  inflating: ARENA_3.0-main/chapter1_transformer_interp/exercises/monthly_algorithmic_problems/january24_caesar_cipher/caesar_cipher_model_medium.pt  \n",
            "  inflating: ARENA_3.0-main/chapter1_transformer_interp/exercises/monthly_algorithmic_problems/january24_caesar_cipher/dataset.py  \n",
            "  inflating: ARENA_3.0-main/chapter1_transformer_interp/exercises/monthly_algorithmic_problems/january24_caesar_cipher/hitchhikers.txt  \n",
            "  inflating: ARENA_3.0-main/chapter1_transformer_interp/exercises/monthly_algorithmic_problems/january24_caesar_cipher/model.py  \n",
            "  inflating: ARENA_3.0-main/chapter1_transformer_interp/exercises/monthly_algorithmic_problems/january24_caesar_cipher/training.py  \n",
            "  inflating: ARENA_3.0-main/chapter1_transformer_interp/exercises/monthly_algorithmic_problems/january24_caesar_cipher/training_model.ipynb  \n",
            "   creating: ARENA_3.0-main/chapter1_transformer_interp/exercises/monthly_algorithmic_problems/july23_palindromes/\n",
            "  inflating: ARENA_3.0-main/chapter1_transformer_interp/exercises/monthly_algorithmic_problems/july23_palindromes/dataset.py  \n",
            "  inflating: ARENA_3.0-main/chapter1_transformer_interp/exercises/monthly_algorithmic_problems/july23_palindromes/model.py  \n",
            "  inflating: ARENA_3.0-main/chapter1_transformer_interp/exercises/monthly_algorithmic_problems/july23_palindromes/palindrome_classifier.pt  \n",
            "  inflating: ARENA_3.0-main/chapter1_transformer_interp/exercises/monthly_algorithmic_problems/july23_palindromes/training.py  \n",
            "  inflating: ARENA_3.0-main/chapter1_transformer_interp/exercises/monthly_algorithmic_problems/july23_palindromes/training_model.ipynb  \n",
            "   creating: ARENA_3.0-main/chapter1_transformer_interp/exercises/monthly_algorithmic_problems/november23_cumsum/\n",
            "  inflating: ARENA_3.0-main/chapter1_transformer_interp/exercises/monthly_algorithmic_problems/november23_cumsum/cumsum_model.pt  \n",
            "  inflating: ARENA_3.0-main/chapter1_transformer_interp/exercises/monthly_algorithmic_problems/november23_cumsum/dataset.py  \n",
            "  inflating: ARENA_3.0-main/chapter1_transformer_interp/exercises/monthly_algorithmic_problems/november23_cumsum/model.py  \n",
            "  inflating: ARENA_3.0-main/chapter1_transformer_interp/exercises/monthly_algorithmic_problems/november23_cumsum/training.py  \n",
            "  inflating: ARENA_3.0-main/chapter1_transformer_interp/exercises/monthly_algorithmic_problems/november23_cumsum/training_model.ipynb  \n",
            "   creating: ARENA_3.0-main/chapter1_transformer_interp/exercises/monthly_algorithmic_problems/october23_sorted_list/\n",
            "  inflating: ARENA_3.0-main/chapter1_transformer_interp/exercises/monthly_algorithmic_problems/october23_sorted_list/dataset.py  \n",
            "  inflating: ARENA_3.0-main/chapter1_transformer_interp/exercises/monthly_algorithmic_problems/october23_sorted_list/model.py  \n",
            "  inflating: ARENA_3.0-main/chapter1_transformer_interp/exercises/monthly_algorithmic_problems/october23_sorted_list/sorted_list_model.pt  \n",
            "  inflating: ARENA_3.0-main/chapter1_transformer_interp/exercises/monthly_algorithmic_problems/october23_sorted_list/training.py  \n",
            "  inflating: ARENA_3.0-main/chapter1_transformer_interp/exercises/monthly_algorithmic_problems/october23_sorted_list/training_model.ipynb  \n",
            "   creating: ARENA_3.0-main/chapter1_transformer_interp/exercises/monthly_algorithmic_problems/september23_sum/\n",
            "  inflating: ARENA_3.0-main/chapter1_transformer_interp/exercises/monthly_algorithmic_problems/september23_sum/dataset.py  \n",
            "  inflating: ARENA_3.0-main/chapter1_transformer_interp/exercises/monthly_algorithmic_problems/september23_sum/model.py  \n",
            "  inflating: ARENA_3.0-main/chapter1_transformer_interp/exercises/monthly_algorithmic_problems/september23_sum/sum_model.pt  \n",
            "  inflating: ARENA_3.0-main/chapter1_transformer_interp/exercises/monthly_algorithmic_problems/september23_sum/training.py  \n",
            "  inflating: ARENA_3.0-main/chapter1_transformer_interp/exercises/monthly_algorithmic_problems/september23_sum/training_model.ipynb  \n",
            "   creating: ARENA_3.0-main/chapter1_transformer_interp/exercises/part1_transformer_from_scratch/\n",
            "  inflating: ARENA_3.0-main/chapter1_transformer_interp/exercises/part1_transformer_from_scratch/solutions.py  \n",
            "   creating: ARENA_3.0-main/chapter1_transformer_interp/exercises/part2_intro_to_mech_interp/\n",
            "  inflating: ARENA_3.0-main/chapter1_transformer_interp/exercises/part2_intro_to_mech_interp/solutions.py  \n",
            "  inflating: ARENA_3.0-main/chapter1_transformer_interp/exercises/part2_intro_to_mech_interp/tests.py  \n",
            "   creating: ARENA_3.0-main/chapter1_transformer_interp/exercises/part3_indirect_object_identification/\n",
            "  inflating: ARENA_3.0-main/chapter1_transformer_interp/exercises/part3_indirect_object_identification/ioi_circuit_extraction.py  \n",
            "  inflating: ARENA_3.0-main/chapter1_transformer_interp/exercises/part3_indirect_object_identification/ioi_dataset.py  \n",
            "  inflating: ARENA_3.0-main/chapter1_transformer_interp/exercises/part3_indirect_object_identification/solutions.py  \n",
            "  inflating: ARENA_3.0-main/chapter1_transformer_interp/exercises/part3_indirect_object_identification/tests.py  \n",
            "   creating: ARENA_3.0-main/chapter1_transformer_interp/exercises/part4_superposition_and_saes/\n",
            "  inflating: ARENA_3.0-main/chapter1_transformer_interp/exercises/part4_superposition_and_saes/solutions.py  \n",
            "  inflating: ARENA_3.0-main/chapter1_transformer_interp/exercises/part4_superposition_and_saes/tests.py  \n",
            "  inflating: ARENA_3.0-main/chapter1_transformer_interp/exercises/part4_superposition_and_saes/utils.py  \n",
            "   creating: ARENA_3.0-main/chapter1_transformer_interp/exercises/part5_function_vectors_and_model_steering/\n",
            "   creating: ARENA_3.0-main/chapter1_transformer_interp/exercises/part5_function_vectors_and_model_steering/data/\n",
            "  inflating: ARENA_3.0-main/chapter1_transformer_interp/exercises/part5_function_vectors_and_model_steering/data/antonym_pairs.txt  \n",
            "  inflating: ARENA_3.0-main/chapter1_transformer_interp/exercises/part5_function_vectors_and_model_steering/data/country_capital_pairs.txt  \n",
            "  inflating: ARENA_3.0-main/chapter1_transformer_interp/exercises/part5_function_vectors_and_model_steering/data/test_fn_vector.pt  \n",
            "  inflating: ARENA_3.0-main/chapter1_transformer_interp/exercises/part5_function_vectors_and_model_steering/data/test_fn_vector_1.pt  \n",
            "  inflating: ARENA_3.0-main/chapter1_transformer_interp/exercises/part5_function_vectors_and_model_steering/data/test_fn_vector_2.pt  \n",
            "  inflating: ARENA_3.0-main/chapter1_transformer_interp/exercises/part5_function_vectors_and_model_steering/data/test_h.pt  \n",
            "  inflating: ARENA_3.0-main/chapter1_transformer_interp/exercises/part5_function_vectors_and_model_steering/solutions.py  \n",
            "  inflating: ARENA_3.0-main/chapter1_transformer_interp/exercises/part5_function_vectors_and_model_steering/tests.py  \n",
            "   creating: ARENA_3.0-main/chapter1_transformer_interp/exercises/part6_othellogpt/\n",
            "  inflating: ARENA_3.0-main/chapter1_transformer_interp/exercises/part6_othellogpt/solutions.py  \n",
            "  inflating: ARENA_3.0-main/chapter1_transformer_interp/exercises/part6_othellogpt/tests.py  \n",
            "   creating: ARENA_3.0-main/chapter1_transformer_interp/exercises/part7_balanced_bracket_classifier/\n",
            "  inflating: ARENA_3.0-main/chapter1_transformer_interp/exercises/part7_balanced_bracket_classifier/brackets_data.json  \n",
            "  inflating: ARENA_3.0-main/chapter1_transformer_interp/exercises/part7_balanced_bracket_classifier/brackets_datasets.py  \n",
            "  inflating: ARENA_3.0-main/chapter1_transformer_interp/exercises/part7_balanced_bracket_classifier/brackets_model_state_dict.pt  \n",
            "  inflating: ARENA_3.0-main/chapter1_transformer_interp/exercises/part7_balanced_bracket_classifier/solutions.py  \n",
            "  inflating: ARENA_3.0-main/chapter1_transformer_interp/exercises/part7_balanced_bracket_classifier/tests.py  \n",
            "   creating: ARENA_3.0-main/chapter1_transformer_interp/exercises/part8_grokking_and_modular_arithmetic/\n",
            "  inflating: ARENA_3.0-main/chapter1_transformer_interp/exercises/part8_grokking_and_modular_arithmetic/my_utils.py  \n",
            "  inflating: ARENA_3.0-main/chapter1_transformer_interp/exercises/part8_grokking_and_modular_arithmetic/solutions.py  \n",
            "  inflating: ARENA_3.0-main/chapter1_transformer_interp/exercises/part8_grokking_and_modular_arithmetic/tests.py  \n",
            "  inflating: ARENA_3.0-main/chapter1_transformer_interp/exercises/plotly_utils.py  \n"
          ]
        }
      ],
      "source": [
        "try:\n",
        "    import google.colab # type: ignore\n",
        "    IN_COLAB = True\n",
        "except:\n",
        "    IN_COLAB = False\n",
        "\n",
        "import os, sys\n",
        "chapter = \"chapter1_transformer_interp\"\n",
        "repo = \"ARENA_3.0\"\n",
        "\n",
        "if IN_COLAB:\n",
        "    # Install packages\n",
        "    %pip install transformer_lens\n",
        "    %pip install einops\n",
        "    %pip install jaxtyping\n",
        "    %pip install git+https://github.com/callummcdougall/CircuitsVis.git#subdirectory=python\n",
        "\n",
        "    # Code to download the necessary files (e.g. solutions, test funcs)\n",
        "    if not os.path.exists(f\"/content/{chapter}\"):\n",
        "        !wget https://github.com/callummcdougall/ARENA_3.0/archive/refs/heads/main.zip\n",
        "        !unzip /content/main.zip 'ARENA_3.0-main/chapter1_transformer_interp/exercises/*'\n",
        "        sys.path.append(f\"/content/{repo}-main/{chapter}/exercises\")\n",
        "        os.remove(\"/content/main.zip\")\n",
        "        os.rename(f\"{repo}-main/{chapter}\", chapter)\n",
        "        os.rmdir(f\"{repo}-main\")\n",
        "        os.chdir(f\"{chapter}/exercises\")\n",
        "else:\n",
        "    chapter_dir = r\"./\" if chapter in os.listdir() else os.getcwd().split(chapter)[0]\n",
        "    sys.path.append(chapter_dir + f\"{chapter}/exercises\")"
      ]
    },
    {
      "cell_type": "code",
      "execution_count": 2,
      "metadata": {
        "colab": {
          "base_uri": "https://localhost:8080/",
          "height": 0,
          "referenced_widgets": [
            "255765c8a3ec4100b89e337c67408bcc",
            "5c3f92fd977b4d4d908f96cdbff73bed",
            "e99946f952624fd29ef0594cd7c53cc0",
            "7da3074f574b4e73ab0bc4081d92ce49",
            "3a77813f6cd5443cb764fac39a0a6050",
            "12c52c35ef924e77b8654833e9bd950f",
            "fc0788cc1ea040678b155998593c68a0",
            "23c8e227375144cfa0da8da7068599c4",
            "efdf6bf51d4342b3bbdc03c108a4d071",
            "c5e5949f05394ba58088d00936a3852a",
            "c45af9a074f1463d82f42589d6056301",
            "8280bc15c3804e16a5385dac17f661a4",
            "abded08c94b04abea1459b56898262d3",
            "43685d799cc340b7bafcca540a345b4a",
            "7f08c1176f944f509a748afbeab26ca6",
            "b2e8a5c1843d4872809a0bb8072f1620",
            "ed205b16f00b48b083b6b7dcfa861e32",
            "ec1ab50cb31040fc9ba58dce0965fec2",
            "7d0127e5e2c7414498085c4b788184f8",
            "6d69f5d0baaf4590b7831f9939598738",
            "bf66037e2a2e41a0924e521a880e1655",
            "43920883352644c5bb03569eeafd8411",
            "cd05362d5ce54269b779487487258daf",
            "fb472c29775d4c30b54f61c187f4f22d",
            "f8baa438d2884b24a1d06a9bc8bb403a",
            "00c7b2c01e4f499c987ba067efc9fa05",
            "540b580999bb4e19bc597296aebabcdd",
            "1a755e737565435484da72f6273bb7b8",
            "79f17ff195a44e6dac1efb6ff428ceaf",
            "0f6cdd65384e4d7f9daeaa8722bdee24",
            "4a554bd28d1642c5bf5326e682daddd1",
            "654420958efc4671bd0408d11d594d51",
            "d476a6979f124afdaa7d85abd53c3a5c",
            "a062c231d6ce47058fc40195c8c6ba15",
            "d13f81ffbd3c4519968703ce55b7ef88",
            "5f5a0846a31b4d76a5677655d9446df2",
            "91b1c6844fbf4000ba638f5dd346a5b7",
            "b99844112a3c4151aa7c912d9b054149",
            "d5a384088d1542119bdaf9131d8a8906",
            "3701ab6992c64ad5bb0bf55ea6c028a7",
            "e0dff96e96104e159f40738df5e2779f",
            "5c3d9c7fefb64b3e8e81662041cd21ce",
            "f7a21f435d6243b0882e048181618c7a",
            "b30d677efc6349abb135517d36b52ee5",
            "e535587a330c40b280747ef0e27af66f",
            "6e5f1540cd6b4396b7267ab6d68e1893",
            "efe129bb59a74c74842b14b7274bd431",
            "1c18cc650bf14513affcaa7269d96ede",
            "5446a0429dc741db96ae8986415c167f",
            "b4b4d978fc5449c98c4c0b49ec08e7ad",
            "e3e84318af3e48c2a3d4b393ba1fcda5",
            "9577a88cc0794bf5b3edd656e0b726c0",
            "31c541a2a591468291ee6dbbf311698b",
            "dbcf62928afa490086f5af5fb6d75658",
            "ea690105d8b845a78534144cf6659801",
            "7e6d72d8dbf04cd7afde9356c2a6f828",
            "d72424a0694a4ba0bc7bb7833d708521",
            "1a979d18a89548e58385612aa2331040",
            "c16ef81e21e24b5d97a709dc534c9df9",
            "4f682dd7cb734ed98d09d35cb73f7f67",
            "571b0b9bde254692a8fac5ff1a0bc58f",
            "ee07362183114348bf2d42c004e595b1",
            "39d222b0e0ce4e10907b43f1c0e58825",
            "56b8fe7b6c214debb41d4ee557d07c49",
            "2a365392b69b4267885dee36a4eb17fb",
            "9b2cecb4686848e5907409bf052e1996",
            "6a9416c25d9d4f4d963bfe02f3eac6eb",
            "67f147327cbf49b2b2e9d2a5395e386f",
            "e7a4696abb864486bd9c56b7a712b62c",
            "4ddc15fbe3044bc59e89cbc45519bf0f",
            "84637fa4e06a4ea5af462244760367ba",
            "ae8afef9cfec430ba2e318705a4223ba",
            "a178800868f3426ab41122b6ca113d15",
            "b3c301dd7923401e9bcd9f20b76ec68c",
            "64f5203fbcbf4aa2933ea0b33c303412",
            "8e4e46015fc24ba0910c620dd3161627",
            "37e0b3fdbc5c4d85acdd6e21175fd53f"
          ]
        },
        "id": "tfWhhdEBm4Ry",
        "outputId": "968ee1ae-e061-4cd2-88ad-aa706df718df"
      },
      "outputs": [
        {
          "name": "stderr",
          "output_type": "stream",
          "text": [
            "/usr/local/lib/python3.10/dist-packages/accelerate/utils/imports.py:256: UserWarning: `ACCELERATE_DISABLE_RICH` is deprecated and will be removed in v0.22.0 and deactivated by default. Please use `ACCELERATE_ENABLE_RICH` if you wish to use `rich`.\n",
            "  warnings.warn(\n",
            "/usr/local/lib/python3.10/dist-packages/huggingface_hub/utils/_token.py:88: UserWarning: \n",
            "The secret `HF_TOKEN` does not exist in your Colab secrets.\n",
            "To authenticate with the Hugging Face Hub, create a token in your settings tab (https://huggingface.co/settings/tokens), set it as secret in your Google Colab and restart your session.\n",
            "You will be able to reuse this secret in all of your notebooks.\n",
            "Please note that authentication is recommended but still optional to access public models or datasets.\n",
            "  warnings.warn(\n"
          ]
        },
        {
          "data": {
            "application/vnd.jupyter.widget-view+json": {
              "model_id": "255765c8a3ec4100b89e337c67408bcc",
              "version_major": 2,
              "version_minor": 0
            },
            "text/plain": [
              "config.json:   0%|          | 0.00/665 [00:00<?, ?B/s]"
            ]
          },
          "metadata": {},
          "output_type": "display_data"
        },
        {
          "data": {
            "application/vnd.jupyter.widget-view+json": {
              "model_id": "8280bc15c3804e16a5385dac17f661a4",
              "version_major": 2,
              "version_minor": 0
            },
            "text/plain": [
              "model.safetensors:   0%|          | 0.00/548M [00:00<?, ?B/s]"
            ]
          },
          "metadata": {},
          "output_type": "display_data"
        },
        {
          "data": {
            "application/vnd.jupyter.widget-view+json": {
              "model_id": "cd05362d5ce54269b779487487258daf",
              "version_major": 2,
              "version_minor": 0
            },
            "text/plain": [
              "generation_config.json:   0%|          | 0.00/124 [00:00<?, ?B/s]"
            ]
          },
          "metadata": {},
          "output_type": "display_data"
        },
        {
          "data": {
            "application/vnd.jupyter.widget-view+json": {
              "model_id": "a062c231d6ce47058fc40195c8c6ba15",
              "version_major": 2,
              "version_minor": 0
            },
            "text/plain": [
              "tokenizer_config.json:   0%|          | 0.00/26.0 [00:00<?, ?B/s]"
            ]
          },
          "metadata": {},
          "output_type": "display_data"
        },
        {
          "data": {
            "application/vnd.jupyter.widget-view+json": {
              "model_id": "e535587a330c40b280747ef0e27af66f",
              "version_major": 2,
              "version_minor": 0
            },
            "text/plain": [
              "vocab.json:   0%|          | 0.00/1.04M [00:00<?, ?B/s]"
            ]
          },
          "metadata": {},
          "output_type": "display_data"
        },
        {
          "data": {
            "application/vnd.jupyter.widget-view+json": {
              "model_id": "7e6d72d8dbf04cd7afde9356c2a6f828",
              "version_major": 2,
              "version_minor": 0
            },
            "text/plain": [
              "merges.txt:   0%|          | 0.00/456k [00:00<?, ?B/s]"
            ]
          },
          "metadata": {},
          "output_type": "display_data"
        },
        {
          "data": {
            "application/vnd.jupyter.widget-view+json": {
              "model_id": "6a9416c25d9d4f4d963bfe02f3eac6eb",
              "version_major": 2,
              "version_minor": 0
            },
            "text/plain": [
              "tokenizer.json:   0%|          | 0.00/1.36M [00:00<?, ?B/s]"
            ]
          },
          "metadata": {},
          "output_type": "display_data"
        },
        {
          "name": "stdout",
          "output_type": "stream",
          "text": [
            "Loaded pretrained model gpt2-small into HookedTransformer\n"
          ]
        }
      ],
      "source": [
        "import os; os.environ['ACCELERATE_DISABLE_RICH'] = \"1\"\n",
        "import sys\n",
        "import einops\n",
        "from dataclasses import dataclass\n",
        "from transformer_lens import HookedTransformer\n",
        "from transformer_lens.utils import gelu_new, tokenize_and_concatenate\n",
        "import torch as t\n",
        "from torch import Tensor\n",
        "import torch.nn as nn\n",
        "import numpy as np\n",
        "import math\n",
        "from tqdm.notebook import tqdm\n",
        "from typing import Tuple, List, Optional, Dict, Callable\n",
        "from jaxtyping import Float, Int\n",
        "from transformers.models.gpt2.tokenization_gpt2_fast import GPT2TokenizerFast\n",
        "from collections import defaultdict\n",
        "from rich.table import Table\n",
        "from rich import print as rprint\n",
        "import datasets\n",
        "from torch.utils.data import DataLoader\n",
        "import wandb\n",
        "from pathlib import Path\n",
        "import webbrowser\n",
        "\n",
        "# Make sure exercises are in the path\n",
        "exercises_dir = Path(f\"{os.getcwd().split(chapter)[0]}/{chapter}/exercises\").resolve()\n",
        "section_dir = (exercises_dir / \"part1_transformer_from_scratch\").resolve()\n",
        "if str(exercises_dir) not in sys.path: sys.path.append(str(exercises_dir))\n",
        "\n",
        "from plotly_utils import imshow\n",
        "import part1_transformer_from_scratch.solutions as solutions\n",
        "\n",
        "device = t.device(\"cuda\" if t.cuda.is_available() else \"cpu\")\n",
        "\n",
        "MAIN = __name__ == '__main__'\n",
        "\n",
        "reference_gpt2 = HookedTransformer.from_pretrained(\"gpt2-small\", fold_ln=False, center_unembed=False, center_writing_weights=False)"
      ]
    },
    {
      "cell_type": "markdown",
      "metadata": {
        "id": "w1x_mWI6m4Rz"
      },
      "source": [
        "# 1️⃣ Understanding Inputs & Outputs of a Transformer\n"
      ]
    },
    {
      "cell_type": "markdown",
      "metadata": {
        "id": "B_FUMfnwA6Oq"
      },
      "source": [
        "> ### Learning Objectives\n",
        ">\n",
        "> * Understand what a transformer is used for\n",
        "> * Understand causal attention, and what a transformer's output represents\n",
        "> * Learn what tokenization is, and how models do it\n",
        "> * Understand what logits are, and how to use them to derive a probability distribution over the vocabulary\n"
      ]
    },
    {
      "cell_type": "markdown",
      "metadata": {
        "id": "d--zV4Crm4Rz"
      },
      "source": [
        "## What is the point of a transformer?\n"
      ]
    },
    {
      "cell_type": "markdown",
      "metadata": {
        "id": "MaMw4jYgm4Rz"
      },
      "source": [
        "**Transformers exist to model text!**\n",
        "\n",
        "We're going to focus GPT-2 style transformers. Key feature: They generate text! You feed in language, and the model generates a probability distribution over tokens. And you can repeatedly sample from this to generate text!\n",
        "\n",
        "(To explain this in more detail - you feed in a sequence of length $N$, then sample from the probability distribution over the $N+1$-th word, use this to construct a new sequence of length $N+1$, then feed this new sequence into the model to get a probability distribution over the $N+2$-th word, and so on.)\n",
        "\n",
        "### How is the model trained?\n",
        "\n",
        "You give it a bunch of text, and train it to predict the next token.\n",
        "\n",
        "Importantly, if you give a model 100 tokens in a sequence, it predicts the next token for *each* prefix, i.e. it produces 100 logit vectors (= probability distributions) over the set of all words in our vocabulary, with the `i`-th logit vector representing the probability distribution over the token *following* the `i`-th token in the sequence.\n",
        "\n",
        "<details>\n",
        "<summary>Aside - logits</summary>\n",
        "\n",
        "If you haven't encountered the term \"logits\" before, here's a quick refresher.\n",
        "\n",
        "Given an arbitrary vector $x$, we can turn it into a probability distribution via the **softmax** function: $x_i \\to \\frac{e^{x_i}}{\\sum e^{x_j}}$. The exponential makes everything positive; the normalization makes it add to one.\n",
        "\n",
        "The model's output is the vector $x$ (one for each prediction it makes). We call this vector a logit because it represents a probability distribution, and it is related to the actual probabilities via the softmax function.\n",
        "</details>\n",
        "\n",
        "How do we stop the transformer by \"cheating\" by just looking at the tokens it's trying to predict? Answer - we make the transformer have *causal attention* (as opposed to *bidirectional attention*). Causal attention only allows information to move forwards in the sequence, never backwards. The prediction of what comes after token 50 is only a function of the first 50 tokens, *not* of token 51. We say the transformer is **autoregressive**, because it only predicts future words based on past data.\n"
      ]
    },
    {
      "cell_type": "markdown",
      "metadata": {
        "id": "AHzR45fBfHNq"
      },
      "source": [
        "<img src=\"https://raw.githubusercontent.com/callummcdougall/computational-thread-art/master/example_images/misc/transformer-overview-new.png\" width=\"900\">\n"
      ]
    },
    {
      "cell_type": "markdown",
      "metadata": {
        "id": "z8ZVvPhDm4R0"
      },
      "source": [
        "## Tokens - Transformer Inputs\n"
      ]
    },
    {
      "cell_type": "markdown",
      "metadata": {
        "id": "UkBYr2qym4R0"
      },
      "source": [
        "Our tranformer's input is natural language (i.e. a sequence of characters, strings, etc). But ML models generally take vectors as input, not language. How do we convert language to vectors?\n",
        "\n",
        "We can factor this into 2 questions:\n",
        "\n",
        "1. How do we split up language into small sub-units?\n",
        "2. How do we convert these sub-units into vectors?\n",
        "\n",
        "Let's start with the second of these questions.\n"
      ]
    },
    {
      "cell_type": "markdown",
      "metadata": {
        "id": "MRP795JofHNq"
      },
      "source": [
        "### Converting sub-units to vectors\n",
        "\n",
        "We basically make a massive lookup table, which is called an **embedding**. It has one vector for each possible sub-unit of language we might get (we call this set of all sub-units our **vocabulary**). We label every element in our vocabulary with an integer (this labelling never changes), and we use this integer to index into the embedding.\n",
        "\n",
        "A key intuition is that one-hot encodings let you think about each integer independently. We don't bake in any relation between words when we perform our embedding, because every word has a completely separate embedding vector.\n",
        "\n",
        "<details>\n",
        "<summary>Aside - one-hot encodings</summary>\n",
        "\n",
        "We sometimes think about **one-hot encodings** of words. These are vectors with zeros everywhere, except for a single one in the position corresponding to the word's index in the vocabulary. This means that indexing into the embedding is equivalent to multiplying the **embedding matrix** by the one-hot encoding (where the embedding matrix is the matrix we get by stacking all the embedding vectors on top of each other).\n",
        "\n",
        "$$\n",
        "\\begin{aligned}\n",
        "W_E &= \\begin{bmatrix}\n",
        "\\leftarrow v_0 \\rightarrow \\\\\n",
        "\\leftarrow v_1 \\rightarrow \\\\\n",
        "\\vdots \\\\\n",
        "\\leftarrow v_{d_{vocab}-1} \\rightarrow \\\\\n",
        "\\end{bmatrix} \\quad \\text{is the embedding matrix (size }d_{vocab} \\times d_{embed}\\text{),} \\\\\n",
        "\\\\\n",
        "t_i &= (0, \\dots, 0, 1, 0, \\dots, 0) \\quad \\text{is the one-hot encoding for the }i\\text{th word (length }d_{vocab}\\text{)} \\\\\n",
        "\\\\\n",
        "v_i &= t_i W_E \\quad \\text{is the embedding vector for the }i\\text{th word (length }d_{embed}\\text{).} \\\\\n",
        "\\end{aligned}\n",
        "$$\n",
        "\n",
        "</details>\n",
        "\n",
        "Now, let's answer the first question - how do we split language into sub-units?\n"
      ]
    },
    {
      "cell_type": "markdown",
      "metadata": {
        "id": "Y7t_YsDxm4R0"
      },
      "source": [
        "### Splitting language into sub-units\n",
        "\n",
        "We need to define a standard way of splitting up language into a series of substrings, where each substring is a member of our **vocabulary** set.\n",
        "\n",
        "Could we use a dictionary, and have our vocabulary be the set of all words in the dictionary? No, because this couldn't handle arbitrary text (e.g. URLs, punctuation, etc). We need a more general way of splitting up language.\n",
        "\n",
        "Could we just use the 256 ASCII characters? This fixes the previous problem, but it loses structure of language - some sequences of characters are more meaningful than others. For example, \"language\" is a lot more meaningful than \"hjksdfiu\". We want \"language\" to be a single token, but not \"hjksdfiu\" - this is a more efficient use of our vocab.\n",
        "\n",
        "What actually happens? The most common strategy is called **Byte-Pair encodings**.\n",
        "\n",
        "We begin with the 256 ASCII characters as our tokens, and then find the most common pair of tokens, and merge that into a new token. Note that we do have a space character as one of our 256 tokens, and merges using space are very common. For instance, here are the five first merges for the tokenizer used by GPT-2 (you'll be able to verify this below).\n",
        "\n",
        "```\n",
        "\" t\"\n",
        "\" a\"\n",
        "\"he\"\n",
        "\"in\"\n",
        "\"re\"\n",
        "```\n",
        "\n",
        "Note - you might see the character `Ġ` in front of some tokens. This is a special token that indicates that the token begins with a space. Tokens with a leading space vs not are different.\n",
        "\n",
        "You can run the code below to see some more of GPT-2's tokenizer's vocabulary:\n"
      ]
    },
    {
      "cell_type": "code",
      "execution_count": 3,
      "metadata": {
        "colab": {
          "base_uri": "https://localhost:8080/"
        },
        "id": "sHq2U0hKnXMm",
        "outputId": "287f943c-c619-4f1d-ff6e-0cc05fb35689"
      },
      "outputs": [
        {
          "name": "stdout",
          "output_type": "stream",
          "text": [
            "[('!', 0), ('\"', 1), ('#', 2), ('$', 3), ('%', 4), ('&', 5), (\"'\", 6), ('(', 7), (')', 8), ('*', 9), ('+', 10), (',', 11), ('-', 12), ('.', 13), ('/', 14), ('0', 15), ('1', 16), ('2', 17), ('3', 18), ('4', 19)]\n",
            "\n",
            "[('ľ', 250), ('Ŀ', 251), ('ŀ', 252), ('Ł', 253), ('ł', 254), ('Ń', 255), ('Ġt', 256), ('Ġa', 257), ('he', 258), ('in', 259), ('re', 260), ('on', 261), ('Ġthe', 262), ('er', 263), ('Ġs', 264), ('at', 265), ('Ġw', 266), ('Ġo', 267), ('en', 268), ('Ġc', 269)]\n",
            "\n",
            "[('Ġprodu', 990), ('Ġstill', 991), ('led', 992), ('ah', 993), ('Ġhere', 994), ('Ġworld', 995), ('Ġthough', 996), ('Ġnum', 997), ('arch', 998), ('imes', 999), ('ale', 1000), ('ĠSe', 1001), ('ĠIf', 1002), ('//', 1003), ('ĠLe', 1004), ('Ġret', 1005), ('Ġref', 1006), ('Ġtrans', 1007), ('ner', 1008), ('ution', 1009)]\n",
            "\n"
          ]
        }
      ],
      "source": [
        "sorted_vocab = sorted(list(reference_gpt2.tokenizer.vocab.items()), key=lambda n: n[1])\n",
        "print(sorted_vocab[:20])\n",
        "print()\n",
        "print(sorted_vocab[250:270])\n",
        "print()\n",
        "print(sorted_vocab[990:1010])\n",
        "print()"
      ]
    },
    {
      "cell_type": "markdown",
      "metadata": {
        "id": "ddGjdpeinaI8"
      },
      "source": [
        "As you get to the end of the vocabulary, you'll be producing some pretty weird-looking esoteric tokens (because you'll already have exhausted all of the short frequently-occurring ones):\n"
      ]
    },
    {
      "cell_type": "code",
      "execution_count": 4,
      "metadata": {
        "colab": {
          "base_uri": "https://localhost:8080/"
        },
        "id": "Rl40Jlw0m4R0",
        "outputId": "1279f6e3-eb4d-49d3-d230-bdb889e00921"
      },
      "outputs": [
        {
          "name": "stdout",
          "output_type": "stream",
          "text": [
            "[('Revolution', 50237), ('Ġsnipers', 50238), ('Ġreverted', 50239), ('Ġconglomerate', 50240), ('Terry', 50241), ('794', 50242), ('Ġharsher', 50243), ('Ġdesolate', 50244), ('ĠHitman', 50245), ('Commission', 50246), ('Ġ(/', 50247), ('âĢ¦.\"', 50248), ('Compar', 50249), ('Ġamplification', 50250), ('ominated', 50251), ('Ġregress', 50252), ('ĠCollider', 50253), ('Ġinformants', 50254), ('Ġgazed', 50255), ('<|endoftext|>', 50256)]\n"
          ]
        }
      ],
      "source": [
        "print(sorted_vocab[-20:])"
      ]
    },
    {
      "cell_type": "markdown",
      "metadata": {
        "id": "QcOKIhU-1IOS"
      },
      "source": [
        "\n",
        "<details>\n",
        "<summary>Fun (totally optional) exercise - can you guess what the first-formed 3/4/5/6/7-letter encodings in GPT-2's vocabulary are?</summary>\n",
        "Run this code to find out:\n",
        "\n",
        "```python\n",
        "lengths = dict.fromkeys(range(3, 8), \"\")\n",
        "for tok, idx in sorted_vocab:\n",
        "    if not lengths.get(len(tok), True):\n",
        "        lengths[len(tok)] = tok\n",
        "\n",
        "for length, tok in lengths.items():\n",
        "    print(f\"{length}: {tok}\")\n",
        "```\n",
        "</details>\n"
      ]
    },
    {
      "cell_type": "markdown",
      "metadata": {
        "id": "S5OKWOqHnmBg"
      },
      "source": [
        "Transformers in the `transformer_lens` library have a `to_tokens` method that converts text to numbers. It also prepends them with a special token called BOS (beginning of sequence) to indicate the start of a sequence. You can disable this with the `prepend_bos=False` argument.\n",
        "\n",
        "<details>\n",
        "<summary>Aside - BOS token</summary>\n",
        "\n",
        "The beginning of sequence (BOS) token is a special token used to mark the beginning of the sequence. Confusingly, in GPT-2, the End of Sequence (EOS), Beginning of Sequence (BOS) and Padding (PAD) tokens are all the same, `<|endoftext|>` with index `50256`.\n",
        "\n",
        "Why is this token added? Some basic intuitions are:\n",
        "\n",
        "* It provides context that this is the start of a sequence, which can help the model generate more appropriate text.\n",
        "* It can act as a \"rest position\" for attention heads (more on this later, when we discuss attention).\n",
        "\n",
        "TransformerLens adds this token automatically (including in forward passes of transformer models, e.g. it's implicitly added when you call `model(\"Hello World\")`). You can disable this behaviour by setting the flag `prepend_bos=False` in `to_tokens`, `to_str_tokens`, `model.forward` and any other function that converts strings to multi-token tensors.\n",
        "\n",
        "**Key Point: *If you get weird off-by-one errors, check whether there's an unexpected `prepend_bos`!***\n",
        "\n",
        "Why are the BOS, EOS and PAD tokens the same? This is because GPT-2 is an autoregressive model, and uses these kinds of tokens in a slightly different way to other transformer families (e.g. BERT). For instance, GPT has no need to distinguish between BOS and EOS tokens, because it only processes text from left to right.\n",
        "\n",
        "</details>\n",
        "\n",
        "### Some tokenization annoyances\n",
        "\n",
        "There are a few funky and frustrating things about tokenization, which causes it to behave differently than you might expect. For instance:\n",
        "\n",
        "#### Whether a word begins with a capital or space matters!\n"
      ]
    },
    {
      "cell_type": "code",
      "execution_count": 5,
      "metadata": {
        "colab": {
          "base_uri": "https://localhost:8080/"
        },
        "id": "0vlZ-pRAnoEw",
        "outputId": "d7486e34-0580-4620-eb85-0c5cd4afade4"
      },
      "outputs": [
        {
          "name": "stdout",
          "output_type": "stream",
          "text": [
            "['<|endoftext|>', 'R', 'alph']\n",
            "['<|endoftext|>', ' Ralph']\n",
            "['<|endoftext|>', ' r', 'alph']\n",
            "['<|endoftext|>', 'ral', 'ph']\n"
          ]
        }
      ],
      "source": [
        "print(reference_gpt2.to_str_tokens(\"Ralph\"))\n",
        "print(reference_gpt2.to_str_tokens(\" Ralph\"))\n",
        "print(reference_gpt2.to_str_tokens(\" ralph\"))\n",
        "print(reference_gpt2.to_str_tokens(\"ralph\"))"
      ]
    },
    {
      "cell_type": "markdown",
      "metadata": {
        "id": "joPO920PntIw"
      },
      "source": [
        "#### Arithmetic is a mess.\n",
        "\n",
        "Length is inconsistent, common numbers bundle together.\n"
      ]
    },
    {
      "cell_type": "code",
      "execution_count": 6,
      "metadata": {
        "colab": {
          "base_uri": "https://localhost:8080/"
        },
        "id": "rzbf4t-Zm4R1",
        "outputId": "50a564fb-8f77-474a-fa4a-6ce14106c316"
      },
      "outputs": [
        {
          "name": "stdout",
          "output_type": "stream",
          "text": [
            "['<|endoftext|>', '568', '73', '+', '318', '46', '23', '=', '123', '45', '67', '89', '-', '1', '000000', '000']\n"
          ]
        }
      ],
      "source": [
        "print(reference_gpt2.to_str_tokens(\"56873+3184623=123456789-1000000000\"))"
      ]
    },
    {
      "cell_type": "markdown",
      "metadata": {
        "id": "GgtPkQE-m4R2"
      },
      "source": [
        "> ### Key Takeaways\n",
        ">\n",
        "> * We learn a dictionary of vocab of tokens (sub-words).\n",
        "> * We (approx) losslessly convert language to integers via tokenizing it.\n",
        "> * We convert integers to vectors via a lookup table.\n",
        "> * Note: input to the transformer is a sequence of *tokens* (ie integers), not vectors\n"
      ]
    },
    {
      "cell_type": "markdown",
      "metadata": {
        "id": "rCSs3uXgn9Kb"
      },
      "source": [
        "## Text generation\n",
        "\n",
        "Now that we understand the basic ideas here, let's go through the entire process of text generation, from our original string to a new token which we can append to our string and plug back into the model.\n",
        "\n",
        "#### **Step 1:** Convert text to tokens\n",
        "\n",
        "The sequence gets tokenized, so it has shape `[batch, seq_len]`. Here, the batch dimension is just one (because we only have one sequence).\n"
      ]
    },
    {
      "cell_type": "code",
      "execution_count": 7,
      "metadata": {
        "colab": {
          "base_uri": "https://localhost:8080/"
        },
        "id": "mommexyJm4R3",
        "outputId": "9ff5b29d-eb70-4f66-8897-7334913275ed"
      },
      "outputs": [
        {
          "name": "stdout",
          "output_type": "stream",
          "text": [
            "tensor([[50256,    40,   716,   281,  4998,  1960,   382, 19741,    11,   875,\n",
            "         12342,    12,  8807,    11,   402, 11571,    12,    17,  3918, 47385,\n",
            "            13,  1881,  1110,   314,   481,  7074,  1692,  1241,  4430,   290,\n",
            "          1011,   625,   262,   995,     0]], device='cuda:0')\n",
            "torch.Size([1, 35])\n",
            "['<|endoftext|>', 'I', ' am', ' an', ' amazing', ' aut', 'ore', 'gressive', ',', ' dec', 'oder', '-', 'only', ',', ' G', 'PT', '-', '2', ' style', ' transformer', '.', ' One', ' day', ' I', ' will', ' exceed', ' human', ' level', ' intelligence', ' and', ' take', ' over', ' the', ' world', '!']\n"
          ]
        }
      ],
      "source": [
        "reference_text = \"I am an amazing autoregressive, decoder-only, GPT-2 style transformer. One day I will exceed human level intelligence and take over the world!\"\n",
        "tokens = reference_gpt2.to_tokens(reference_text).to(device)\n",
        "print(tokens)\n",
        "print(tokens.shape)\n",
        "print(reference_gpt2.to_str_tokens(tokens))"
      ]
    },
    {
      "cell_type": "markdown",
      "metadata": {
        "id": "Ovci8XHNm4R3"
      },
      "source": [
        "#### **Step 2:** Map tokens to logits\n",
        "\n",
        "\n",
        "From our input of shape `[batch, seq_len]`, we get output of shape `[batch, seq_len, vocab_size]`. The `[i, j, :]`-th element of our output is a vector of logits representing our prediction for the `j+1`-th token in the `i`-th sequence.\n"
      ]
    },
    {
      "cell_type": "code",
      "execution_count": 8,
      "metadata": {
        "colab": {
          "base_uri": "https://localhost:8080/"
        },
        "id": "5iK_hEUzm4R3",
        "outputId": "31d45ec7-aaca-4e1c-8eb5-52b0867ead8d"
      },
      "outputs": [
        {
          "name": "stdout",
          "output_type": "stream",
          "text": [
            "torch.Size([1, 35, 50257])\n"
          ]
        }
      ],
      "source": [
        "logits, cache = reference_gpt2.run_with_cache(tokens)\n",
        "print(logits.shape)"
      ]
    },
    {
      "cell_type": "markdown",
      "metadata": {
        "id": "39kXnrmrgeIw"
      },
      "source": [
        "(`run_with_cache` tells the model to cache all intermediate activations. This isn't important right now; we'll look at it in more detail later.)\n"
      ]
    },
    {
      "cell_type": "markdown",
      "metadata": {
        "id": "SDv_ftwFm4R4"
      },
      "source": [
        "#### **Step 3:** Convert the logits to a distribution with a softmax\n",
        "\n",
        "This doesn't change the shape, it is still `[batch, seq_len, vocab_size]`.\n"
      ]
    },
    {
      "cell_type": "code",
      "execution_count": 9,
      "metadata": {
        "colab": {
          "base_uri": "https://localhost:8080/"
        },
        "id": "csYLLcvcm4R4",
        "outputId": "2f692d67-0f2e-4e5c-9402-dd9fad9a6fce"
      },
      "outputs": [
        {
          "name": "stdout",
          "output_type": "stream",
          "text": [
            "torch.Size([1, 35, 50257])\n"
          ]
        }
      ],
      "source": [
        "probs = logits.softmax(dim=-1)\n",
        "print(probs.shape)"
      ]
    },
    {
      "cell_type": "markdown",
      "metadata": {
        "id": "BkOqYy8qm4R4"
      },
      "source": [
        "#### **Bonus step:** What is the most likely next token at each position?\n"
      ]
    },
    {
      "cell_type": "code",
      "execution_count": 10,
      "metadata": {
        "colab": {
          "base_uri": "https://localhost:8080/"
        },
        "id": "9tKcEGLXm4R4",
        "outputId": "f0bb8316-4bfa-4c8c-ff8c-58aedd564bcc"
      },
      "outputs": [
        {
          "name": "stdout",
          "output_type": "stream",
          "text": [
            "[('<|endoftext|>', '\\n'), ('I', \"'m\"), (' am', ' a'), (' an', ' avid'), (' amazing', ' person'), (' aut', 'od'), ('ore', 'sp'), ('gressive', '.'), (',', ' and'), (' dec', 'ently'), ('oder', ','), ('-', 'driven'), ('only', ' programmer'), (',', ' and'), (' G', 'IM'), ('PT', '-'), ('-', 'only'), ('2', '.'), (' style', ','), (' transformer', '.'), ('.', ' I'), (' One', ' of'), (' day', ' I'), (' I', ' will'), (' will', ' be'), (' exceed', ' my'), (' human', 'ly'), (' level', ' of'), (' intelligence', ' and'), (' and', ' I'), (' take', ' over'), (' over', ' the'), (' the', ' world'), (' world', '.'), ('!', ' I')]\n"
          ]
        }
      ],
      "source": [
        "most_likely_next_tokens = reference_gpt2.tokenizer.batch_decode(logits.argmax(dim=-1)[0])\n",
        "\n",
        "print(list(zip(reference_gpt2.to_str_tokens(tokens), most_likely_next_tokens)))"
      ]
    },
    {
      "cell_type": "markdown",
      "metadata": {
        "id": "yESVZd2igyPd"
      },
      "source": [
        "We can see that, in a few cases (particularly near the end of the sequence), the model accurately predicts the next token in the sequence. We might guess that `\"take over the world\"` is a common phrase that the model has seen in training, which is why the model can predict it.\n"
      ]
    },
    {
      "cell_type": "markdown",
      "metadata": {
        "id": "DrZCnki1m4R4"
      },
      "source": [
        "#### **Step 4:** Map distribution to a token\n"
      ]
    },
    {
      "cell_type": "code",
      "execution_count": 11,
      "metadata": {
        "colab": {
          "base_uri": "https://localhost:8080/"
        },
        "id": "Pp9PB99Mm4R4",
        "outputId": "e5025975-02e7-442b-c509-3473895c8e35"
      },
      "outputs": [
        {
          "name": "stdout",
          "output_type": "stream",
          "text": [
            "' I'\n"
          ]
        }
      ],
      "source": [
        "next_token = logits[0, -1].argmax(dim=-1)\n",
        "next_char = reference_gpt2.to_string(next_token)\n",
        "print(repr(next_char))"
      ]
    },
    {
      "cell_type": "markdown",
      "metadata": {
        "id": "I4uXGn1mhSnf"
      },
      "source": [
        "Note that we're indexing `logits[0, -1]`. This is because logits have shape `[1, sequence_length, vocab_size]`, so this indexing returns the vector of length `vocab_size` representing the model's prediction for what token follows the **last** token in the input sequence.\n",
        "\n",
        "In this case, we can see that the model predicts the token `' I'`.\n"
      ]
    },
    {
      "cell_type": "markdown",
      "metadata": {
        "id": "8XmSN1YFm4R5"
      },
      "source": [
        "### **Step 5:** Add this to the end of the input, re-run\n",
        "\n",
        "There are more efficient ways to do this (e.g. where we cache some of the values each time we run our input, so we don't have to do as much calculation each time we generate a new value), but this doesn't matter conceptually right now.\n"
      ]
    },
    {
      "cell_type": "code",
      "execution_count": 12,
      "metadata": {
        "colab": {
          "base_uri": "https://localhost:8080/"
        },
        "id": "dpgN-auXm4R6",
        "outputId": "a3782830-09bb-4a02-96d9-a4a987a32edc"
      },
      "outputs": [
        {
          "name": "stdout",
          "output_type": "stream",
          "text": [
            "Sequence so far: '<|endoftext|>I am an amazing autoregressive, decoder-only, GPT-2 style transformer. One day I will exceed human level intelligence and take over the world!'\n",
            "36th char = ' I'\n",
            "37th char = ' am'\n",
            "38th char = ' a'\n",
            "39th char = ' very'\n",
            "40th char = ' talented'\n",
            "41th char = ' and'\n",
            "42th char = ' talented'\n",
            "43th char = ' person'\n",
            "44th char = ','\n",
            "45th char = ' and'\n"
          ]
        }
      ],
      "source": [
        "print(f\"Sequence so far: {reference_gpt2.to_string(tokens)[0]!r}\")\n",
        "\n",
        "for i in range(10):\n",
        "    print(f\"{tokens.shape[-1]+1}th char = {next_char!r}\")\n",
        "    # Define new input sequence, by appending the previously generated token\n",
        "    tokens = t.cat([tokens, next_token[None, None]], dim=-1)\n",
        "    # Pass our new sequence through the model, to get new output\n",
        "    logits = reference_gpt2(tokens)\n",
        "    # Get the predicted token at the end of our sequence\n",
        "    next_token = logits[0, -1].argmax(dim=-1)\n",
        "    # Decode and print the result\n",
        "    next_char = reference_gpt2.to_string(next_token)"
      ]
    },
    {
      "cell_type": "markdown",
      "metadata": {
        "id": "PVd8J0QLm4R6"
      },
      "source": [
        "## Key takeaways\n",
        "\n",
        "* Transformer takes in language, predicts next token (for *each* token in a causal way)\n",
        "* We convert language to a sequence of integers with a tokenizer.\n",
        "* We convert integers to vectors with a lookup table.\n",
        "* Output is a vector of logits (one for each input token), we convert to a probability distn with a softmax, and can then convert this to a token (eg taking the largest logit, or sampling).\n",
        "* We append this to the input + run again to generate more text (Jargon: *autoregressive*)\n",
        "* Meta level point: Transformers are sequence operation models, they take in a sequence, do processing in parallel at each position, and use attention to move information between positions!\n"
      ]
    },
    {
      "cell_type": "markdown",
      "metadata": {
        "id": "BaSOTaLdm4R6"
      },
      "source": [
        "# 2️⃣ Clean Transformer Implementation\n"
      ]
    },
    {
      "cell_type": "markdown",
      "metadata": {
        "id": "-3YLmU9boWEv"
      },
      "source": [
        "> ##### Learning objectives\n",
        ">\n",
        "> * Understand that a transformer is composed of attention heads and MLPs, with each one performing operations on the residual stream\n",
        "> * Understand that the attention heads in a single layer operate independently, and that they have the role of calculating attention patterns (which determine where information is moved to & from in the residual stream)\n",
        "> * Learn about & implement the following transformer modules:\n",
        ">     * LayerNorm (transforming the input to have zero mean and unit variance)\n",
        ">     * Positional embedding (a lookup table from position indices to residual stream vectors)\n",
        ">     * Attention (the method of computing attention patterns for residual stream vectors)\n",
        ">     * MLP (the collection of linear and nonlinear transformations which operate on each residual stream vector in the same way)\n",
        ">     * Embedding (a lookup table from tokens to residual stream vectors)\n",
        ">     * Unembedding (a matrix for converting residual stream vectors into a distribution over tokens)\n"
      ]
    },
    {
      "cell_type": "markdown",
      "metadata": {
        "id": "v2LTUZkXm4R7"
      },
      "source": [
        "## High-Level architecture\n",
        "\n",
        "Go watch Neel's [Transformer Circuits walkthrough](https://www.youtube.com/watch?v=KV5gbOmHbjU) if you want more intuitions!\n",
        "\n",
        "(Diagram is bottom to top.)\n"
      ]
    },
    {
      "cell_type": "markdown",
      "metadata": {
        "id": "9XtGO8lYm4R6"
      },
      "source": [
        "<img src=\"https://raw.githubusercontent.com/callummcdougall/computational-thread-art/master/example_images/misc/transformer-new.png\" width=\"850\">\n"
      ]
    },
    {
      "cell_type": "markdown",
      "metadata": {
        "id": "347we6hfo6oP"
      },
      "source": [
        "### Tokenization & Embedding\n",
        "\n",
        "The input tokens $t$ are integers. We get them from taking a sequence, and tokenizing it (like we saw in the previous section).\n",
        "\n",
        "The token embedding is a lookup table mapping tokens to vectors, which is implemented as a matrix $W_E$. The matrix consists of a stack of token embedding vectors (one for each token).\n"
      ]
    },
    {
      "cell_type": "markdown",
      "metadata": {
        "id": "7SVWlk-qo9Bg"
      },
      "source": [
        "### Residual stream\n",
        "\n",
        "The residual stream is the sum of all previous outputs of layers of the model, is the input to each new layer. It has shape `[batch, seq_len, d_model]` (where `d_model` is the length of a single embedding vector).\n",
        "\n",
        "The initial value of the residual stream is denoted $x_0$ in the diagram, and $x_i$ are later values of the residual stream (after more attention and MLP layers have been applied to the residual stream).\n",
        "\n",
        "The residual stream is *really* fundamental. It's the central object of the transformer. It's how model remembers things, moves information between layers for composition, and it's the medium used to store the information that attention moves between positions.\n",
        "\n",
        "<details>\n",
        "<summary>Aside - <b>logit lens</b></summary>\n",
        "\n",
        "A key idea of transformers is the [residual stream as output accumulation](https://www.lesswrong.com/posts/X26ksz4p3wSyycKNB/gears-level-mental-models-of-transformer-interpretability#Residual_Stream_as_Output_Accumulation:~:text=The%20Models-,Residual%20Stream%20as%20Output%20Accumulation,-The%20residual%20stream). As we move through the layers of the model, shifting information around and processing it, the values in the residual stream represent the accumulation of all the inferences made by the transformer up to that point.\n",
        "\n",
        "This is neatly illustrated by the **logit lens**. Rather than getting predictions from the residual stream at the very end of the model, we can take the value of the residual stream midway through the model and convert it to a distribution over tokens. When we do this, we find surprisingly coherent predictions, especially in the last few layers before the end.\n",
        "</details>\n"
      ]
    },
    {
      "cell_type": "markdown",
      "metadata": {
        "id": "MTQ0R_FIo_Er"
      },
      "source": [
        "### Transformer blocks\n",
        "\n",
        "Then we have a series of `n_layers` **transformer blocks** (also sometimes called **residual blocks**).\n",
        "\n",
        "Note - a block contains an attention layer *and* an MLP layer, but we say a transformer has $k$ layers if it has $k$ blocks (i.e. $2k$ total layers).\n"
      ]
    },
    {
      "cell_type": "markdown",
      "metadata": {
        "id": "bN8L6lEgpBNB"
      },
      "source": [
        "#### Attention\n",
        "\n",
        "First we have attention. This moves information from prior positions in the sequence to the current token.\n",
        "\n",
        "We do this for *every* token in parallel using the same parameters. The only difference is that we look backwards only (to avoid \"cheating\"). This means later tokens have more of the sequence that they can look at.\n",
        "\n",
        "Attention layers are the only bit of a transformer that moves information between positions (i.e. between vectors at different sequence positions in the residual stream).\n",
        "\n",
        "Attention layers are made up of `n_heads` heads - each with their own parameters, own attention pattern, and own information how to copy things from source to destination. The heads act independently and additively, we just add their outputs together, and back to the stream.\n",
        "\n",
        "Each head does the following:\n",
        "* Produces an **attention pattern** for each destination token, a probability distribution of prior source tokens (including the current one) weighting how much information to copy.\n",
        "* Moves information (via a linear map) in the same way from each source token to each destination token.\n",
        "\n",
        "A few key points:\n",
        "\n",
        "* What information we copy depends on the source token's *residual stream*, but this doesn't mean it only depends on the value of that token, because the residual stream can store more information than just the token identity (the purpose of the attention heads is to move information between vectors at different positions in the residual stream!)\n",
        "* We can think of each attention head as consisting of two different **circuits**:\n",
        "    * One circuit determines **where to move information to and from** (this is a function of the residual stream for the source and destination tokens)\n",
        "    * The other circuit determines **what information to move** (this is a function of only the source token's residual stream)\n",
        "    * For reasons which will become clear later, we refer to the first circuit as the **QK circuit**, and the second circuit as the **OV circuit**\n",
        "\n",
        "<details>\n",
        "<summary>Key intuition - attention as generalized convolution</summary>\n",
        "\n",
        "We can think of attention as a kind of generalized convolution. Standard convolution layers work by imposing a \"prior of locality\", i.e. the assumption that pixels which are close together are more likely to share information. Although language has some locality (two words next to each other are more likely to share information than two words 100 tokens apart), the picture is a lot more nuanced, because which tokens are relevant to which others depends on the context of the sentence. For instance, in the sentence `\"When Mary and John went to the store, John gave a drink to Mary\"`, the names in this sentence are the most important tokens for predicting that the final token will be `\"Mary\"`, and this is because of the particular context of this sentence rather than the tokens' position.\n",
        "\n",
        "Attention layers are effectively our way of saying to the transformer, \"don't impose a prior of locality, but instead develop your own algorithm to figure out which tokens are important to which other tokens in any given sequence.\"\n",
        "</details>\n",
        "\n",
        "Below is a schematic diagram of the attention layers. Don't worry if you don't follow this right now, we'll go into more detail during implementation.\n"
      ]
    },
    {
      "cell_type": "markdown",
      "metadata": {
        "id": "9oU4oR-_omed"
      },
      "source": [
        "<img src=\"https://raw.githubusercontent.com/callummcdougall/computational-thread-art/master/example_images/misc/transformer-attn-new.png\" width=\"1100\">\n"
      ]
    },
    {
      "cell_type": "markdown",
      "metadata": {
        "id": "fGmfTAbCm4R7"
      },
      "source": [
        "### MLP\n",
        "\n",
        "The MLP layers are just a standard neural network, with a singular hidden layer and a nonlinear activation function. The exact activation isn't conceptually important ([GELU](https://paperswithcode.com/method/gelu) seems to perform best).\n",
        "\n",
        "Our hidden dimension is normally `d_mlp = 4 * d_model`. Exactly why the ratios are what they are isn't super important (people basically cargo-cult what GPT did back in the day!).\n",
        "\n",
        "Importantly, **the MLP operates on positions in the residual stream independently, and in exactly the same way**. It doesn't move information between positions.\n",
        "\n",
        "Intuition - once attention has moved relevant information to a single position in the residual stream, MLPs can actually do computation, reasoning, lookup information, etc. *What the hell is going on inside MLPs* is a pretty big open problem in transformer mechanistic interpretability - see the [Toy Model of Superposition Paper](https://transformer-circuits.pub/2022/toy_model/index.html) for more on why this is hard.\n",
        "\n",
        "<details>\n",
        "<summary>Key intuition - MLPs as key-value pairs</summary>\n",
        "\n",
        "We can write the MLP's output as $f(x^T W^{in})W^{out}$, where $W^{in}$ and $W^{out}$ are the different weights of the MLP (ignoring biases), $f$ is the activation function, and $x$ is a vector in the residual stream. This can be rewritten as:\n",
        "\n",
        "$$\n",
        "f(x^T W^{in}) W^{out} = \\sum_{i=1}^{d_{mlp}} f(x^T W^{in}_{[:, i]}) W^{out}_{[i, :]}\n",
        "$$\n",
        "\n",
        "We can view the vectors $W^{in}_{[:, i]}$ as the **input directions**, and $W^{out}_{[i, :]}$ as the **output directions**. We say the input directions are **activated** by certain textual features, and when they are activated, vectors are written in the corresponding output direction. This is very similar to the concept of keys and values in attention layers, which is why these vectors are also sometimes called keys and values (e.g. see the paper [Transformer Feed-Forward Layers Are Key-Value Memories](https://arxiv.org/pdf/2012.14913.pdf)).\n",
        "\n",
        "Terminology note - sometimes we refer to each of these $d_{mlp}$ input-output pairs as **neurons**.\n",
        "\n",
        "<img src=\"https://raw.githubusercontent.com/callummcdougall/computational-thread-art/master/example_images/misc/mlp-neurons-2.png\" width=\"900\">\n",
        "\n",
        "---\n",
        "\n",
        "Here's a step-by-step breakdown of the linear algebra, if it was too fast above. We have:\n",
        "\n",
        "$$\n",
        "\\begin{aligned}\n",
        "x^T W^{in} &= x^T [W^{in}_{[:, 1]}\\,, ...\\;, W^{in}_{[:, n]}] \\\\\n",
        "&= (x^T W^{in}_{[:, 1]}\\,, \\; ...\\;, \\; x^T W^{in}_{[:, n]})\n",
        "\\end{aligned}\n",
        "$$\n",
        "\n",
        "where $W^{in}_{[:, i]}$ are the columns of $W^{in}$. In other words, these values (the pre-GELU activations) are projections of $x$ along the input directions of the neurons.\n",
        "\n",
        "If we add our activation function and the second matrix, then we get:\n",
        "\n",
        "$$\n",
        "\\begin{aligned}\n",
        "f(x^T W^{in})W^{out} &= (f(x^T W^{in}_{[:, 1]})\\,, \\; ...\\;,\\; f(x^T W^{in}_{[:, n]})) \\begin{bmatrix} \\leftarrow W^{out}_{[1, :]} \\rightarrow \\\\ \\vdots \\\\ \\leftarrow W^{out}_{[n, :]} \\rightarrow \\end{bmatrix} \\\\\n",
        "&= f(x^T W^{in}_{[:, 1]}) W^{out}_{[1, :]} + \\;...\\; + f(x^T W^{in}_{[:, n]}) W^{out}_{[n, :]} \\\\\n",
        "&= \\sum_{i=1}^n f(x^T W^{in}_{[:, i]}) W^{out}_{[i, :]}\n",
        "\\end{aligned}\n",
        "$$\n",
        "\n",
        "where $W^{out}_{[i, :]}$ are the rows of $W^{out}$. In other words, our output is a linear combination of the rows of $W^{out}$, with the coefficients of that linear combination given by the projections of $x$ along the columns of $W^{in}$.\n",
        "\n",
        "</details>\n",
        "\n",
        "<details>\n",
        "<summary>Key intuition - MLPs as knowledge storage</summary>\n",
        "\n",
        "We can think of MLPs as where knowledge gets stored in our transformer. The attention mechanism is what moves information around between sequence positions, but the MLPs is where this information is processed, and new information is written into the residual stream which is a function of the old information.\n",
        "\n",
        "This is deeply connected to the key-value pairs model, since you can treat key-value pairs as a kind of associative memory system (where the key serves as a unique identifier, and the value holds the related information).\n",
        "\n",
        "Another related intuition (for which there is some evidence) is **MLPs as memory management**. In an idealized case, we might find that the $i$-th neuron satisfies $W^{in}_{[:, i]} \\approx - W^{out}_{[i, :]} \\approx \\vec v$ for some unit vector $\\vec v$, meaning it may be responsible for erasing the positive component of vector $\\vec x$ in the direction $\\vec v$ (exercise - can you show why this is the case?). This can free up space in the residual stream for other components to write to.\n",
        "</details>\n"
      ]
    },
    {
      "cell_type": "markdown",
      "metadata": {
        "id": "JxqWjPd2pI2p"
      },
      "source": [
        "<img src=\"https://raw.githubusercontent.com/callummcdougall/computational-thread-art/master/example_images/misc/transformer-mlp-new-2.png\" width=\"650\">\n"
      ]
    },
    {
      "cell_type": "markdown",
      "metadata": {
        "id": "Fvfe6yEtpYMd"
      },
      "source": [
        "### Unembedding\n",
        "\n",
        "Finally, we unembed!\n",
        "\n",
        "This just consists of applying a linear map $W_U$, going from final residual stream to a vector of logits - this is the output.\n",
        "\n",
        "<details>\n",
        "<summary>Aside - tied embeddings</summary>\n",
        "\n",
        "Note - sometimes we use something called a **tied embedding** - this is where we use the same weights for our $W_E$ and $W_U$ matrices. In other words, to get the logit score for a particular token at some sequence position, we just take the vector in the residual stream at that sequence position and take the inner product with the corresponding token embedding vector. This is more training-efficient (because there are fewer parameters in our model), and it might seem pricipled at first. After all, if two words have very similar meanings, shouldn't they have similar embedding vectors because the model will treat them the same, and similar unembedding vectors because they could both be substituted for each other in most output?\n",
        "\n",
        "However, this is actually not very principled, for the following main reason: **the direct path involving the embedding and unembedding should approximate bigram frequencies**.\n",
        "\n",
        "Let's break down this claim. **Bigram frequencies** refers to the frequencies of pairs of words in the english language (e.g. the bigram frequency of \"Barack Obama\" is much higher than the product of the individual frequencies of the words \"Barack\" and \"Obama\"). If our model had no attention heads or MLP layers, then all we have is a linear map from our one-hot encoded token `T` to a probability distribution over the token following `T`. This map is represented by the linear transformation $t \\to t^T W_E W_U$ (where $t$ is our one-hot encoded token vector). Since the output of this transformation can only be a function of the token `T` (and no earlier tokens), the best we can do is have this map approximate the true frequency of bigrams starting with `T`, which appear in the training data. Importantly, **this is not a symmetric map**. We want `T = \"Barack\"` to result in a high probability of the next token being `\"Obama\"`, but not the other way around!\n",
        "\n",
        "Even in multi-layer models, a similar principle applies. There will be more paths through the model than just the \"direct path\" $W_E W_U$, but because of the residual connections there will always exist a direct path, so there will always be some incentive for $W_E W_U$ to approximate bigram frequencies.\n",
        "\n",
        "</details>\n"
      ]
    },
    {
      "cell_type": "markdown",
      "metadata": {
        "id": "g5isIxIEpnO6"
      },
      "source": [
        "### Bonus things - less conceptually important but key technical details\n",
        "\n",
        "#### LayerNorm\n",
        "\n",
        "* Simple normalization function applied at the start of each layer (i.e. before each MLP, attention layer, and before the unembedding)\n",
        "* Converts each input vector (independently in parallel for each batch x position residual stream vector) to have mean zero and variance 1.\n",
        "* Then applies an elementwise scaling and translation\n",
        "* Cool maths tangent: The scale & translate is just a linear map. LayerNorm is only applied immediately before another linear map. Linear compose linear = linear, so we can just fold this into a single effective linear layer and ignore it.\n",
        "    * `fold_ln=True` flag in `from_pretrained` does this for you.\n",
        "* LayerNorm is annoying for interpertability - the scale part is not linear, so you can't think about different bits of the input independently. But it's *almost* linear - if you're changing a small part of the input it's linear, but if you're changing enough to alter the norm substantially it's not linear.\n",
        "</details>\n",
        "\n",
        "\n",
        "#### Positional embeddings\n",
        "\n",
        "* **Problem:** Attention operates over all pairs of positions. This means it's symmetric with regards to position - the attention calculation from token 5 to token 1 and token 5 to token 2 are the same by default\n",
        "    * This is dumb because nearby tokens are more relevant.\n",
        "* There's a lot of dumb hacks for this.\n",
        "* We'll focus on **learned, absolute positional embeddings**. This means we learn a lookup table mapping the index of the position of each token to a residual stream vector, and add this to the embed.\n",
        "    * Note that we *add* rather than concatenate. This is because the residual stream is shared memory, and likely under significant superposition (the model compresses more features in there than the model has dimensions)\n",
        "    * We basically never concatenate inside a transformer, unless doing weird shit like generating text efficiently.\n",
        "* This connects to **attention as generalized convolution**\n",
        "    * We argued that language does still have locality, and so it's helpful for transformers to have access to the positional information so they \"know\" two tokens are next to each other (and hence probably relevant to each other).\n"
      ]
    },
    {
      "cell_type": "markdown",
      "metadata": {
        "id": "pb3wtM2bm4R7"
      },
      "source": [
        "## Actual Code!\n",
        "\n",
        "Key (for the results you get when running the code immediately below)\n",
        "\n",
        "```\n",
        "batch = 1\n",
        "position = 35\n",
        "d_model = 768\n",
        "n_heads = 12\n",
        "n_layers = 12\n",
        "d_mlp = 3072 (= 4 * d_model)\n",
        "d_head = 64 (= d_model / n_heads)\n",
        "```\n"
      ]
    },
    {
      "cell_type": "markdown",
      "metadata": {
        "id": "WC9PaopAm4R7"
      },
      "source": [
        "### Parameters and Activations\n",
        "\n",
        "It's important to distinguish between parameters and activations in the model.\n",
        "\n",
        "* **Parameters** are the weights and biases that are learned during training.\n",
        "    * These don't change when the model input changes.\n",
        "* **Activations** are temporary numbers calculated during a forward pass, that are functions of the input.\n",
        "    * We can think of these values as only existing for the duration of a single forward pass, and disappearing afterwards.\n",
        "    * We can use hooks to access these values during a forward pass (more on hooks later), but it doesn't make sense to talk about a model's activations outside the context of some particular input.\n",
        "    * Attention scores and patterns are activations (this is slightly non-intuitve because they're used in a matrix multiplication with another activation).\n",
        "\n",
        "#### Print All Activation Shapes of Reference Model\n",
        "\n",
        "Run the following code to print all the activation shapes of the reference model:\n"
      ]
    },
    {
      "cell_type": "code",
      "execution_count": 13,
      "metadata": {
        "colab": {
          "base_uri": "https://localhost:8080/"
        },
        "id": "m6lM8CJmpwDJ",
        "outputId": "9db68b67-a6e7-4b2b-c7a1-178373f6df8a"
      },
      "outputs": [
        {
          "name": "stdout",
          "output_type": "stream",
          "text": [
            "hook_embed                     (1, 35, 768)\n",
            "hook_pos_embed                 (1, 35, 768)\n",
            "blocks.0.hook_resid_pre        (1, 35, 768)\n",
            "blocks.0.ln1.hook_scale        (1, 35, 1)\n",
            "blocks.0.ln1.hook_normalized   (1, 35, 768)\n",
            "blocks.0.attn.hook_q           (1, 35, 12, 64)\n",
            "blocks.0.attn.hook_k           (1, 35, 12, 64)\n",
            "blocks.0.attn.hook_v           (1, 35, 12, 64)\n",
            "blocks.0.attn.hook_attn_scores (1, 12, 35, 35)\n",
            "blocks.0.attn.hook_pattern     (1, 12, 35, 35)\n",
            "blocks.0.attn.hook_z           (1, 35, 12, 64)\n",
            "blocks.0.hook_attn_out         (1, 35, 768)\n",
            "blocks.0.hook_resid_mid        (1, 35, 768)\n",
            "blocks.0.ln2.hook_scale        (1, 35, 1)\n",
            "blocks.0.ln2.hook_normalized   (1, 35, 768)\n",
            "blocks.0.mlp.hook_pre          (1, 35, 3072)\n",
            "blocks.0.mlp.hook_post         (1, 35, 3072)\n",
            "blocks.0.hook_mlp_out          (1, 35, 768)\n",
            "blocks.0.hook_resid_post       (1, 35, 768)\n",
            "ln_final.hook_scale            (1, 35, 1)\n",
            "ln_final.hook_normalized       (1, 35, 768)\n"
          ]
        }
      ],
      "source": [
        "for activation_name, activation in cache.items():\n",
        "    # Only print for first layer\n",
        "    if \".0.\" in activation_name or \"blocks\" not in activation_name:\n",
        "        print(f\"{activation_name:30} {tuple(activation.shape)}\")"
      ]
    },
    {
      "cell_type": "markdown",
      "metadata": {
        "id": "RTSyQI7wm4R7"
      },
      "source": [
        "#### Print All Parameters Shapes of Reference Model\n"
      ]
    },
    {
      "cell_type": "code",
      "execution_count": 14,
      "metadata": {
        "colab": {
          "base_uri": "https://localhost:8080/"
        },
        "id": "HiiiIUbdm4R7",
        "outputId": "c54274d2-f9e1-40f6-b99b-2c7a07a65dd6"
      },
      "outputs": [
        {
          "name": "stdout",
          "output_type": "stream",
          "text": [
            "embed.W_E          (50257, 768)\n",
            "pos_embed.W_pos    (1024, 768)\n",
            "blocks.0.ln1.w     (768,)\n",
            "blocks.0.ln1.b     (768,)\n",
            "blocks.0.ln2.w     (768,)\n",
            "blocks.0.ln2.b     (768,)\n",
            "blocks.0.attn.W_Q  (12, 768, 64)\n",
            "blocks.0.attn.W_O  (12, 64, 768)\n",
            "blocks.0.attn.b_Q  (12, 64)\n",
            "blocks.0.attn.b_O  (768,)\n",
            "blocks.0.attn.W_K  (12, 768, 64)\n",
            "blocks.0.attn.W_V  (12, 768, 64)\n",
            "blocks.0.attn.b_K  (12, 64)\n",
            "blocks.0.attn.b_V  (12, 64)\n",
            "blocks.0.mlp.W_in  (768, 3072)\n",
            "blocks.0.mlp.b_in  (3072,)\n",
            "blocks.0.mlp.W_out (3072, 768)\n",
            "blocks.0.mlp.b_out (768,)\n",
            "ln_final.w         (768,)\n",
            "ln_final.b         (768,)\n",
            "unembed.W_U        (768, 50257)\n",
            "unembed.b_U        (50257,)\n"
          ]
        }
      ],
      "source": [
        "for name, param in reference_gpt2.named_parameters():\n",
        "    # Only print for first layer\n",
        "    if \".0.\" in name or \"blocks\" not in name:\n",
        "        print(f\"{name:18} {tuple(param.shape)}\")"
      ]
    },
    {
      "cell_type": "markdown",
      "metadata": {
        "id": "s7tXtTowp0Fy"
      },
      "source": [
        "[This diagram](https://raw.githubusercontent.com/callummcdougall/computational-thread-art/master/example_images/misc/full-merm.svg) shows the name of all activations and parameters in a fully general transformer model from transformerlens (except for a few at the start and end, like the embedding and unembedding). Lots of this won't make sense at first, but you can return to this diagram later and check that you understand most/all parts of it.\n",
        "\n",
        "There's also an annotated version [here](https://raw.githubusercontent.com/callummcdougall/computational-thread-art/master/example_images/misc/transformer-full-updated.png).\n"
      ]
    },
    {
      "cell_type": "markdown",
      "metadata": {
        "id": "TTbG6T8Bm4R8"
      },
      "source": [
        "### Config\n",
        "\n",
        "The config object contains all the hyperparameters of the model. We can print the config of the reference model to see what it contains:\n"
      ]
    },
    {
      "cell_type": "code",
      "execution_count": 15,
      "metadata": {
        "colab": {
          "base_uri": "https://localhost:8080/"
        },
        "id": "WPzJd3z-m4R8",
        "outputId": "97dd10ee-e4e4-4597-8851-724df4381d5b"
      },
      "outputs": [
        {
          "name": "stdout",
          "output_type": "stream",
          "text": [
            "HookedTransformerConfig:\n",
            "{'act_fn': 'gelu_new',\n",
            " 'attention_dir': 'causal',\n",
            " 'attn_only': False,\n",
            " 'attn_types': None,\n",
            " 'checkpoint_index': None,\n",
            " 'checkpoint_label_type': None,\n",
            " 'checkpoint_value': None,\n",
            " 'd_head': 64,\n",
            " 'd_mlp': 3072,\n",
            " 'd_model': 768,\n",
            " 'd_vocab': 50257,\n",
            " 'd_vocab_out': 50257,\n",
            " 'default_prepend_bos': True,\n",
            " 'device': device(type='cuda'),\n",
            " 'dtype': torch.float32,\n",
            " 'eps': 1e-05,\n",
            " 'final_rms': False,\n",
            " 'from_checkpoint': False,\n",
            " 'gated_mlp': False,\n",
            " 'init_mode': 'gpt2',\n",
            " 'init_weights': False,\n",
            " 'initializer_range': 0.02886751345948129,\n",
            " 'model_name': 'gpt2',\n",
            " 'n_ctx': 1024,\n",
            " 'n_devices': 1,\n",
            " 'n_heads': 12,\n",
            " 'n_key_value_heads': None,\n",
            " 'n_layers': 12,\n",
            " 'n_params': 84934656,\n",
            " 'normalization_type': 'LN',\n",
            " 'original_architecture': 'GPT2LMHeadModel',\n",
            " 'parallel_attn_mlp': False,\n",
            " 'positional_embedding_type': 'standard',\n",
            " 'post_embedding_ln': False,\n",
            " 'rotary_adjacent_pairs': False,\n",
            " 'rotary_base': 10000,\n",
            " 'rotary_dim': None,\n",
            " 'scale_attn_by_inverse_layer_idx': False,\n",
            " 'seed': None,\n",
            " 'tokenizer_name': 'gpt2',\n",
            " 'tokenizer_prepends_bos': False,\n",
            " 'trust_remote_code': False,\n",
            " 'use_attn_in': False,\n",
            " 'use_attn_result': False,\n",
            " 'use_attn_scale': True,\n",
            " 'use_hook_mlp_in': False,\n",
            " 'use_hook_tokens': False,\n",
            " 'use_local_attn': False,\n",
            " 'use_split_qkv_input': False,\n",
            " 'window_size': None}\n"
          ]
        }
      ],
      "source": [
        "# As a reference - note there's a lot of stuff we don't care about in here, to do with library internals or other architectures\n",
        "print(reference_gpt2.cfg)"
      ]
    },
    {
      "cell_type": "markdown",
      "metadata": {
        "id": "dCXCsrSSm4R8"
      },
      "source": [
        "We define a stripped down config for our model:\n"
      ]
    },
    {
      "cell_type": "code",
      "execution_count": 16,
      "metadata": {
        "colab": {
          "base_uri": "https://localhost:8080/"
        },
        "id": "VzsnAKw7m4R8",
        "outputId": "4fd8ae69-ed2d-4f54-99c7-604de9285ca1"
      },
      "outputs": [
        {
          "name": "stdout",
          "output_type": "stream",
          "text": [
            "Config(d_model=768, debug=True, layer_norm_eps=1e-05, d_vocab=50257, init_range=0.02, n_ctx=1024, d_head=64, d_mlp=3072, n_heads=12, n_layers=12)\n"
          ]
        }
      ],
      "source": [
        "@dataclass\n",
        "class Config:\n",
        "    d_model: int = 768\n",
        "    debug: bool = True\n",
        "    layer_norm_eps: float = 1e-5\n",
        "    d_vocab: int = 50257\n",
        "    init_range: float = 0.02\n",
        "    n_ctx: int = 1024\n",
        "    d_head: int = 64\n",
        "    d_mlp: int = 3072\n",
        "    n_heads: int = 12\n",
        "    n_layers: int = 12\n",
        "\n",
        "cfg = Config()\n",
        "print(cfg)"
      ]
    },
    {
      "cell_type": "markdown",
      "metadata": {
        "id": "RZlXjTMWm4R8"
      },
      "source": [
        "## Tests\n"
      ]
    },
    {
      "cell_type": "markdown",
      "metadata": {
        "id": "DJ8aqDkYm4R8"
      },
      "source": [
        "Tests are great, write lightweight ones to use as you go!\n",
        "\n",
        "**Naive test:** Generate random inputs of the right shape, input to your model, check whether there's an error and print the correct output.\n"
      ]
    },
    {
      "cell_type": "code",
      "execution_count": 17,
      "metadata": {
        "id": "iqUK4acom4R8"
      },
      "outputs": [],
      "source": [
        "def rand_float_test(cls, shape):\n",
        "    cfg = Config(debug=True)\n",
        "    layer = cls(cfg).to(device)\n",
        "    random_input = t.randn(shape).to(device)\n",
        "    print(\"Input shape:\", random_input.shape)\n",
        "    output = layer(random_input)\n",
        "    if isinstance(output, tuple): output = output[0]\n",
        "    print(\"Output shape:\", output.shape, \"\\n\")\n",
        "\n",
        "def rand_int_test(cls, shape):\n",
        "    cfg = Config(debug=True)\n",
        "    layer = cls(cfg).to(device)\n",
        "    random_input = t.randint(100, 1000, shape).to(device)\n",
        "    print(\"Input shape:\", random_input.shape)\n",
        "    output = layer(random_input)\n",
        "    if isinstance(output, tuple): output = output[0]\n",
        "    print(\"Output shape:\", output.shape, \"\\n\")\n",
        "\n",
        "def load_gpt2_test(cls, gpt2_layer, input):\n",
        "    cfg = Config(debug=False)\n",
        "    layer = cls(cfg).to(device)\n",
        "    layer.load_state_dict(gpt2_layer.state_dict(), strict=False)\n",
        "    print(\"Input shape:\", input.shape)\n",
        "    output = layer(input)\n",
        "    if isinstance(output, tuple): output = output[0]\n",
        "    print(\"Output shape:\", output.shape)\n",
        "    try: reference_output = gpt2_layer(input)\n",
        "    except: reference_output = gpt2_layer(input, input, input)\n",
        "    print(\"Reference output shape:\", reference_output.shape, \"\\n\")\n",
        "    comparison = t.isclose(output, reference_output, atol=1e-4, rtol=1e-3)\n",
        "    print(f\"{comparison.sum()/comparison.numel():.2%} of the values are correct\\n\")"
      ]
    },
    {
      "cell_type": "markdown",
      "metadata": {
        "id": "Vo4pVDvim4R8"
      },
      "source": [
        "## LayerNorm\n",
        "\n",
        "```c\n",
        "Difficulty: 🔴🔴🔴⚪⚪\n",
        "Importance: 🔵🔵🔵⚪⚪\n",
        "\n",
        "You should spend up to 10-15 minutes on this exercise.\n",
        "```\n",
        "\n",
        "You should fill in the code below, and then run the tests to verify that your layer is working correctly.\n",
        "\n",
        "Your LayerNorm should do the following:\n",
        "\n",
        "* Make mean 0\n",
        "* Normalize to have variance 1\n",
        "* Scale with learned weights\n",
        "* Translate with learned bias\n",
        "\n",
        "You can use the PyTorch [LayerNorm documentation](https://pytorch.org/docs/stable/generated/torch.nn.LayerNorm.html) as a reference. A few more notes:\n",
        "\n",
        "* Your layernorm implementation always has `affine=True`, i.e. you do learn parameters `w` and `b` (which are represented as $\\gamma$ and $\\beta$ respectively in the PyTorch documentation).\n",
        "* Remember that, after the centering and normalization, each vector of length `d_model` in your input should have mean 0 and variance 1.\n",
        "* As the PyTorch documentation page says, your variance should be computed using `unbiased=False`.\n",
        "* The `layer_norm_eps` argument in your config object corresponds to the $\\epsilon$ term in the PyTorch documentation (it is included to avoid division-by-zero errors).\n",
        "* We've given you a `debug` argument in your config. If `debug=True`, then you can print output like the shape of objects in your `forward` function to help you debug (this is a very useful trick to improve your coding speed).\n",
        "\n",
        "Fill in the function, where it says `pass` (this will be the basic pattern for most other exercises in this section).\n"
      ]
    },
    {
      "cell_type": "code",
      "execution_count": 18,
      "metadata": {
        "colab": {
          "base_uri": "https://localhost:8080/"
        },
        "id": "OlU317NRm4R9",
        "outputId": "7c385392-1793-4105-dbf8-00dc82bd09fc"
      },
      "outputs": [
        {
          "name": "stdout",
          "output_type": "stream",
          "text": [
            "Input shape: torch.Size([2, 4, 768])\n",
            "Output shape: torch.Size([2, 4, 768]) \n",
            "\n",
            "Input shape: torch.Size([1, 35, 768])\n",
            "Output shape: torch.Size([1, 35, 768])\n",
            "Reference output shape: torch.Size([1, 35, 768]) \n",
            "\n",
            "100.00% of the values are correct\n",
            "\n"
          ]
        }
      ],
      "source": [
        "class LayerNorm(nn.Module):\n",
        "    def __init__(self, cfg: Config):\n",
        "        super().__init__()\n",
        "        self.cfg = cfg\n",
        "        self.w = nn.Parameter(t.ones(cfg.d_model))\n",
        "        self.b = nn.Parameter(t.zeros(cfg.d_model))\n",
        "\n",
        "    def forward(self, residual: Float[Tensor, \"batch posn d_model\"]) -> Float[Tensor, \"batch posn d_model\"]:\n",
        "        r_mean = residual.mean(dim=-1, keepdim=True)\n",
        "        r_std = (residual.var(dim=-1, keepdim=True, unbiased=False) + self.cfg.layer_norm_eps).sqrt()\n",
        "        ans = ((residual - r_mean) / r_std) * self.w + self.b\n",
        "\n",
        "        return ans\n",
        "\n",
        "\n",
        "rand_float_test(LayerNorm, [2, 4, 768])\n",
        "load_gpt2_test(LayerNorm, reference_gpt2.ln_final, cache[\"resid_post\", 11])"
      ]
    },
    {
      "cell_type": "markdown",
      "metadata": {
        "id": "u9GJDIsAm4R9"
      },
      "source": [
        "## Embedding\n",
        "\n",
        "```c\n",
        "Difficulty: 🔴🔴⚪⚪⚪\n",
        "Importance: 🔵🔵🔵⚪⚪\n",
        "\n",
        "You should spend up to 5-10 minutes on this exercise.\n",
        "```\n",
        "\n",
        "This is basically a lookup table from tokens to residual stream vectors.\n",
        "\n",
        "(Hint - you can implement this in just one line, without any complicated functions.)\n"
      ]
    },
    {
      "cell_type": "code",
      "execution_count": 19,
      "metadata": {
        "colab": {
          "base_uri": "https://localhost:8080/"
        },
        "id": "oc6WFuDAm4R9",
        "outputId": "3e749aca-d9d0-4862-b33b-118d669c1676"
      },
      "outputs": [
        {
          "name": "stdout",
          "output_type": "stream",
          "text": [
            "Input shape: torch.Size([2, 4])\n",
            "Output shape: torch.Size([2, 4, 768]) \n",
            "\n",
            "Input shape: torch.Size([1, 45])\n",
            "Output shape: torch.Size([1, 45, 768])\n",
            "Reference output shape: torch.Size([1, 45, 768]) \n",
            "\n",
            "100.00% of the values are correct\n",
            "\n"
          ]
        }
      ],
      "source": [
        "class Embed(nn.Module):\n",
        "    def __init__(self, cfg: Config):\n",
        "        super().__init__()\n",
        "        self.cfg = cfg\n",
        "        self.W_E = nn.Parameter(t.empty((cfg.d_vocab, cfg.d_model)))\n",
        "        nn.init.normal_(self.W_E, std=self.cfg.init_range)\n",
        "\n",
        "    def forward(self, tokens: Int[Tensor, \"batch position\"]) -> Float[Tensor, \"batch position d_model\"]:\n",
        "        return self.W_E[tokens]\n",
        "\n",
        "rand_int_test(Embed, [2, 4])\n",
        "load_gpt2_test(Embed, reference_gpt2.embed, tokens)"
      ]
    },
    {
      "cell_type": "markdown",
      "metadata": {
        "id": "fStv2M35fHN0"
      },
      "source": [
        "<details>\n",
        "<summary>Help - I keep getting <code>RuntimeError: CUDA error: device-side assert triggered</code>.</summary>\n",
        "\n",
        "This is a uniquely frustrating type of error message, because it (1) forces you to restart the kernel, and (2) often won't tell you where the error message actually originated from!\n",
        "\n",
        "You can fix the second problem by adding the line `os.environ['CUDA_LAUNCH_BLOCKING'] = \"1\"` to the very top of your file (after importing `os`). This won't fix your bug, but it makes sure the correct origin point is identified.\n",
        "\n",
        "As for actually fixing the bug, this error usually ends up being the result of bad indexing, e.g. you're trying to apply an embedding layer to tokens which are larger than your maximum embedding.\n",
        "</details>\n"
      ]
    },
    {
      "cell_type": "markdown",
      "metadata": {
        "id": "YhHFmPZ6m4R9"
      },
      "source": [
        "## Positional Embedding\n",
        "\n",
        "```c\n",
        "Difficulty: 🔴🔴⚪⚪⚪\n",
        "Importance: 🔵🔵🔵⚪⚪\n",
        "\n",
        "You should spend up to 10-15 minutes on this exercise.\n",
        "```\n",
        "\n",
        "Positional embedding can also be thought of as a lookup table, but rather than the indices being our token IDs, the indices are just the numbers `0`, `1`, `2`, ..., `seq_len-1` (i.e. the position indices of the tokens in the sequence).\n"
      ]
    },
    {
      "cell_type": "code",
      "execution_count": 20,
      "metadata": {
        "colab": {
          "base_uri": "https://localhost:8080/"
        },
        "id": "fNAkYB8dm4R9",
        "outputId": "03887bcd-25dd-4953-fcb4-cfabd4b80d2b"
      },
      "outputs": [
        {
          "name": "stdout",
          "output_type": "stream",
          "text": [
            "Input shape: torch.Size([2, 4])\n",
            "Output shape: torch.Size([2, 4, 768]) \n",
            "\n",
            "Input shape: torch.Size([1, 45])\n",
            "Output shape: torch.Size([1, 45, 768])\n",
            "Reference output shape: torch.Size([1, 45, 768]) \n",
            "\n",
            "100.00% of the values are correct\n",
            "\n"
          ]
        }
      ],
      "source": [
        "class PosEmbed(nn.Module):\n",
        "    def __init__(self, cfg: Config):\n",
        "        super().__init__()\n",
        "        self.cfg = cfg\n",
        "        self.W_pos = nn.Parameter(t.empty((cfg.n_ctx, cfg.d_model)))\n",
        "        nn.init.normal_(self.W_pos, std=self.cfg.init_range)\n",
        "\n",
        "    def forward(self, tokens: Int[Tensor, \"batch position\"]) -> Float[Tensor, \"batch position d_model\"]:\n",
        "      ans = einops.repeat(self.W_pos[range(tokens.shape[1])], \"pos d_model -> batch pos d_model\", batch = tokens.shape[0])\n",
        "      # print(ans.shape)\n",
        "      return ans\n",
        "\n",
        "\n",
        "\n",
        "\n",
        "rand_int_test(PosEmbed, [2, 4])\n",
        "load_gpt2_test(PosEmbed, reference_gpt2.pos_embed, tokens)"
      ]
    },
    {
      "cell_type": "markdown",
      "metadata": {
        "id": "o_WZWukYm4R-"
      },
      "source": [
        "## Attention\n",
        "\n",
        "```c\n",
        "Difficulty: 🔴🔴🔴🔴⚪\n",
        "Importance: 🔵🔵🔵🔵🔵\n",
        "\n",
        "You should spend up to 30-45 minutes on this exercise.\n",
        "```\n",
        "\n",
        "* **Step 1:** Produce an attention pattern - for each destination token, probability distribution over previous tokens (including current token)\n",
        "    * Linear map from input -> query, key shape `[batch, seq_posn, head_index, d_head]`\n",
        "    * Dot product every *pair* of queries and keys to get attn_scores `[batch, head_index, query_pos, key_pos]` (query = dest, key = source)\n",
        "    * **Scale** and mask `attn_scores` to make it lower triangular, i.e. causal\n",
        "    * Softmax along the `key_pos` dimension, to get a probability distribution for each query (destination) token - this is our attention pattern!\n",
        "* **Step 2:** Move information from source tokens to destination token using attention pattern (move = apply linear map)\n",
        "    * Linear map from input -> value `[batch, key_pos, head_index, d_head]`\n",
        "    * Mix along the `key_pos` with attn pattern to get `z`, which is a weighted average of the value vectors `[batch, query_pos, head_index, d_head]`\n",
        "    * Map to output, `[batch, position, d_model]` (position = query_pos, we've summed over all heads)\n",
        "\n",
        "Note - when we say **scale**, we mean dividing by `sqrt(d_head)`. The purpose of this is to avoid vanishing gradients (which is a big problem when we're dealing with a function like softmax - if one of the values is much larger than all the others, the probabilities will be close to 0 or 1, and the gradients will be close to 0).\n",
        "\n",
        "Below is a much larger, more detailed version of the attention head diagram from earlier. This should give you an idea of the actual tensor operations involved. A few clarifications on this diagram:\n",
        "\n",
        "* Whenever there is a third dimension shown in the pictures, this refers to the `head_index` dimension. We can see that all operations within the attention layer are done independently for each head.\n",
        "* The objects in the box are activations; they have a batch dimension (for simplicity, we assume the batch dimension is 1 in the diagram). The objects to the right of the box are our parameters (weights and biases); they have no batch dimension.\n",
        "* We arrange the keys, queries and values as `(batch, seq_pos, head_idx, d_head)`, because the biases have shape `(head_idx, d_head)`, so this makes it convenient to add the biases (recall the rules of array broadcasting!).\n"
      ]
    },
    {
      "cell_type": "markdown",
      "metadata": {
        "id": "FuZvGlnhsIcr"
      },
      "source": [
        "<img src=\"https://raw.githubusercontent.com/callummcdougall/computational-thread-art/master/example_images/misc/transformer-attn-21.png\" width=\"1400\">\n"
      ]
    },
    {
      "cell_type": "markdown",
      "metadata": {
        "id": "PCODWJmAsr8x"
      },
      "source": [
        "<details>\n",
        "<summary><b>A few extra notes on attention (optional)</b></summary>\n",
        "\n",
        "Usually we have the relation `e = n * h` (i.e. `d_model = num_heads * d_head`). There are some computational justifications for this, but mostly this is just done out of convention (just like how we usually have `d_mlp = 4 * d_model`!).\n",
        "\n",
        "---\n",
        "\n",
        "The names **keys**, **queries** and **values** come from their analogy to retrieval systems. Broadly speaking:\n",
        "\n",
        "* The **queries** represent some information that a token is **\"looking for\"**\n",
        "* The **keys** represent the information that a token **\"contains\"**\n",
        "    * So the attention score being high basically means that the source (key) token contains the information which the destination (query) token **is looking for**\n",
        "* The **values** represent the information that is actually taken from the source token, to be moved to the destination token\n",
        "\n",
        "---\n",
        "\n",
        "This diagram can better help us understand the difference between the **QK** and **OV** circuit. We'll discuss this just briefly here, and will go into much more detail later on.\n",
        "\n",
        "The **QK** circuit consists of the operation of the $W_Q$ and $W_K$ matrices. In other words, it determines the attention pattern, i.e. where information is moved to and from in the residual stream. The functional form of the attention pattern $A$ is:\n",
        "\n",
        "$$\n",
        "A = \\text{softmax}\\left(\\frac{x^T W_Q W_K^T x}{\\sqrt{d_{head}}}\\right)\n",
        "$$\n",
        "\n",
        "where $x$ is the residual stream (shape `[seq_len, d_model]`), and $W_Q$, $W_K$ are the weight matrices for a single head (i.e. shape `[d_model, d_head]`).\n",
        "\n",
        "The **OV** circuit consists of the operation of the $W_V$ and $W_O$ matrices. Once attention patterns are fixed, these matrices operate on the residual stream at the source position, and their output is the thing which gets moved from source to destination position.\n",
        "\n",
        "The functional form of an entire attention head is:\n",
        "\n",
        "$$\n",
        "\\begin{aligned}\n",
        "\\text{output} &= \\text{softmax}\\left(\\frac{x W_Q W_K^T x^T}{\\sqrt{d_{head}}}\\right) (x W_V W_O) \\\\\n",
        "    &= Ax W_V W_O\n",
        "\\end{aligned}\n",
        "$$\n",
        "\n",
        "where $W_V$ has shape `[d_model, d_head]`, and $W_O$ has shape `[d_head, d_model]`.\n",
        "\n",
        "Here, we can clearly see that the **QK circuit** and **OV circuit** are doing conceptually different things, and should be thought of as two distinct parts of the attention head.\n",
        "\n",
        "Again, don't worry if you don't follow all of this right now - we'll go into **much** more detail on all of this in subsequent exercises. The purpose of the discussion here is just to give you a flavour of what's to come!\n",
        "\n",
        "</details>\n"
      ]
    },
    {
      "cell_type": "markdown",
      "metadata": {
        "id": "oA2JcOaHm4R-"
      },
      "source": [
        "First, it's useful to visualize and play around with attention patterns - what exactly are we looking at here? (Click on a head to lock onto just showing that head's pattern, it'll make it easier to interpret)\n"
      ]
    },
    {
      "cell_type": "code",
      "execution_count": 21,
      "metadata": {
        "colab": {
          "base_uri": "https://localhost:8080/",
          "height": 358
        },
        "id": "T38f-qpJtBTD",
        "outputId": "c8171d49-beaa-4ab9-d4d5-6cef06770790"
      },
      "outputs": [
        {
          "data": {
            "text/html": [
              "<div id=\"circuits-vis-98654104-21b3\" style=\"margin: 15px 0;\"/>\n",
              "    <script crossorigin type=\"module\">\n",
              "    import { render, AttentionPatterns } from \"https://unpkg.com/circuitsvis@1.41.0/dist/cdn/esm.js\";\n",
              "    render(\n",
              "      \"circuits-vis-98654104-21b3\",\n",
              "      AttentionPatterns,\n",
              "      {\"tokens\": [\"<|endoftext|>\", \"I\", \" am\", \" an\", \" amazing\", \" aut\", \"ore\", \"gressive\", \",\", \" dec\", \"oder\", \"-\", \"only\", \",\", \" G\", \"PT\", \"-\", \"2\", \" style\", \" transformer\", \".\", \" One\", \" day\", \" I\", \" will\", \" exceed\", \" human\", \" level\", \" intelligence\", \" and\", \" take\", \" over\", \" the\", \" world\", \"!\"], \"attention\": [[[1.0, 0.0, 0.0, 0.0, 0.0, 0.0, 0.0, 0.0, 0.0, 0.0, 0.0, 0.0, 0.0, 0.0, 0.0, 0.0, 0.0, 0.0, 0.0, 0.0, 0.0, 0.0, 0.0, 0.0, 0.0, 0.0, 0.0, 0.0, 0.0, 0.0, 0.0, 0.0, 0.0, 0.0, 0.0], [0.9679255485534668, 0.0320744626224041, 0.0, 0.0, 0.0, 0.0, 0.0, 0.0, 0.0, 0.0, 0.0, 0.0, 0.0, 0.0, 0.0, 0.0, 0.0, 0.0, 0.0, 0.0, 0.0, 0.0, 0.0, 0.0, 0.0, 0.0, 0.0, 0.0, 0.0, 0.0, 0.0, 0.0, 0.0, 0.0, 0.0], [0.8024235963821411, 0.16839203238487244, 0.029184354469180107, 0.0, 0.0, 0.0, 0.0, 0.0, 0.0, 0.0, 0.0, 0.0, 0.0, 0.0, 0.0, 0.0, 0.0, 0.0, 0.0, 0.0, 0.0, 0.0, 0.0, 0.0, 0.0, 0.0, 0.0, 0.0, 0.0, 0.0, 0.0, 0.0, 0.0, 0.0, 0.0], [0.6959055662155151, 0.12269631028175354, 0.14588484168052673, 0.03551324084401131, 0.0, 0.0, 0.0, 0.0, 0.0, 0.0, 0.0, 0.0, 0.0, 0.0, 0.0, 0.0, 0.0, 0.0, 0.0, 0.0, 0.0, 0.0, 0.0, 0.0, 0.0, 0.0, 0.0, 0.0, 0.0, 0.0, 0.0, 0.0, 0.0, 0.0, 0.0], [0.5661025047302246, 0.14705190062522888, 0.08665255457162857, 0.11258415877819061, 0.08760889619588852, 0.0, 0.0, 0.0, 0.0, 0.0, 0.0, 0.0, 0.0, 0.0, 0.0, 0.0, 0.0, 0.0, 0.0, 0.0, 0.0, 0.0, 0.0, 0.0, 0.0, 0.0, 0.0, 0.0, 0.0, 0.0, 0.0, 0.0, 0.0, 0.0, 0.0], [0.46218734979629517, 0.13512831926345825, 0.09698345512151718, 0.17473752796649933, 0.0462460070848465, 0.08471737056970596, 0.0, 0.0, 0.0, 0.0, 0.0, 0.0, 0.0, 0.0, 0.0, 0.0, 0.0, 0.0, 0.0, 0.0, 0.0, 0.0, 0.0, 0.0, 0.0, 0.0, 0.0, 0.0, 0.0, 0.0, 0.0, 0.0, 0.0, 0.0, 0.0], [0.43251609802246094, 0.1038288101553917, 0.08330133557319641, 0.06995750963687897, 0.074793741106987, 0.21568657457828522, 0.01991591975092888, 0.0, 0.0, 0.0, 0.0, 0.0, 0.0, 0.0, 0.0, 0.0, 0.0, 0.0, 0.0, 0.0, 0.0, 0.0, 0.0, 0.0, 0.0, 0.0, 0.0, 0.0, 0.0, 0.0, 0.0, 0.0, 0.0, 0.0, 0.0], [0.22236737608909607, 0.09167700260877609, 0.0879632756114006, 0.25168728828430176, 0.08263690024614334, 0.10428162664175034, 0.06469016522169113, 0.09469642490148544, 0.0, 0.0, 0.0, 0.0, 0.0, 0.0, 0.0, 0.0, 0.0, 0.0, 0.0, 0.0, 0.0, 0.0, 0.0, 0.0, 0.0, 0.0, 0.0, 0.0, 0.0, 0.0, 0.0, 0.0, 0.0, 0.0, 0.0], [0.40499556064605713, 0.09078016877174377, 0.05237359553575516, 0.026201872155070305, 0.11047189682722092, 0.036674052476882935, 0.025538938120007515, 0.24528279900550842, 0.007681119255721569, 0.0, 0.0, 0.0, 0.0, 0.0, 0.0, 0.0, 0.0, 0.0, 0.0, 0.0, 0.0, 0.0, 0.0, 0.0, 0.0, 0.0, 0.0, 0.0, 0.0, 0.0, 0.0, 0.0, 0.0, 0.0, 0.0], [0.39985963702201843, 0.04361315444111824, 0.061838842928409576, 0.0729835033416748, 0.03661305457353592, 0.09147469699382782, 0.07241710275411606, 0.07013338059186935, 0.06429055333137512, 0.08677610009908676, 0.0, 0.0, 0.0, 0.0, 0.0, 0.0, 0.0, 0.0, 0.0, 0.0, 0.0, 0.0, 0.0, 0.0, 0.0, 0.0, 0.0, 0.0, 0.0, 0.0, 0.0, 0.0, 0.0, 0.0, 0.0], [0.09702546894550323, 0.03552757576107979, 0.02321481518447399, 0.03676704689860344, 0.02515839785337448, 0.2775617837905884, 0.07676512002944946, 0.1950119137763977, 0.055800992995500565, 0.14529389142990112, 0.03187303990125656, 0.0, 0.0, 0.0, 0.0, 0.0, 0.0, 0.0, 0.0, 0.0, 0.0, 0.0, 0.0, 0.0, 0.0, 0.0, 0.0, 0.0, 0.0, 0.0, 0.0, 0.0, 0.0, 0.0, 0.0], [0.24143841862678528, 0.03971058875322342, 0.07687383890151978, 0.028042683377861977, 0.12435988336801529, 0.056015800684690475, 0.060636721551418304, 0.1284010261297226, 0.015699438750743866, 0.09114034473896027, 0.13185441493988037, 0.00582678010687232, 0.0, 0.0, 0.0, 0.0, 0.0, 0.0, 0.0, 0.0, 0.0, 0.0, 0.0, 0.0, 0.0, 0.0, 0.0, 0.0, 0.0, 0.0, 0.0, 0.0, 0.0, 0.0, 0.0], [0.14363093674182892, 0.051105011254549026, 0.055058952420949936, 0.07798511534929276, 0.0785427913069725, 0.03501972556114197, 0.134986013174057, 0.22634069621562958, 0.04162852093577385, 0.035131409764289856, 0.020236019045114517, 0.04114445298910141, 0.059190262109041214, 0.0, 0.0, 0.0, 0.0, 0.0, 0.0, 0.0, 0.0, 0.0, 0.0, 0.0, 0.0, 0.0, 0.0, 0.0, 0.0, 0.0, 0.0, 0.0, 0.0, 0.0, 0.0], [0.3156285285949707, 0.06791996955871582, 0.037872347980737686, 0.017874589189887047, 0.08683166652917862, 0.02922782301902771, 0.017664168030023575, 0.18301643431186676, 0.004987792111933231, 0.043228670954704285, 0.05172259360551834, 0.008913452737033367, 0.12899240851402283, 0.006119505036622286, 0.0, 0.0, 0.0, 0.0, 0.0, 0.0, 0.0, 0.0, 0.0, 0.0, 0.0, 0.0, 0.0, 0.0, 0.0, 0.0, 0.0, 0.0, 0.0, 0.0, 0.0], [0.2841019630432129, 0.0534539669752121, 0.023969218134880066, 0.022562259808182716, 0.046198245137929916, 0.06391075253486633, 0.04539215564727783, 0.07758504897356033, 0.02764430269598961, 0.058041173964738846, 0.17727363109588623, 0.034006014466285706, 0.030527284368872643, 0.03213079646229744, 0.023203188553452492, 0.0, 0.0, 0.0, 0.0, 0.0, 0.0, 0.0, 0.0, 0.0, 0.0, 0.0, 0.0, 0.0, 0.0, 0.0, 0.0, 0.0, 0.0, 0.0, 0.0], [0.14103913307189941, 0.028577815741300583, 0.037603989243507385, 0.031378280371427536, 0.03697334975004196, 0.07347070425748825, 0.07151783257722855, 0.09211237728595734, 0.03358154743909836, 0.03639131784439087, 0.18937677145004272, 0.03244517371058464, 0.06021037697792053, 0.03916926681995392, 0.04040953889489174, 0.05574261397123337, 0.0, 0.0, 0.0, 0.0, 0.0, 0.0, 0.0, 0.0, 0.0, 0.0, 0.0, 0.0, 0.0, 0.0, 0.0, 0.0, 0.0, 0.0, 0.0], [0.20265290141105652, 0.03025279939174652, 0.06003410369157791, 0.02178615890443325, 0.10314234346151352, 0.04516839236021042, 0.04681028053164482, 0.10542113333940506, 0.011398823000490665, 0.07159950584173203, 0.10570328682661057, 0.004199369810521603, 0.11079791933298111, 0.013912520371377468, 0.02892351895570755, 0.03286946937441826, 0.005327514372766018, 0.0, 0.0, 0.0, 0.0, 0.0, 0.0, 0.0, 0.0, 0.0, 0.0, 0.0, 0.0, 0.0, 0.0, 0.0, 0.0, 0.0, 0.0], [0.20498360693454742, 0.040072280913591385, 0.04229813814163208, 0.02493901364505291, 0.04992291331291199, 0.029371706768870354, 0.030769698321819305, 0.10315565019845963, 0.025490203872323036, 0.07886799424886703, 0.10560178756713867, 0.01735270954668522, 0.08083697408437729, 0.03128696605563164, 0.054510582238435745, 0.05288318172097206, 0.021742794662714005, 0.005913802422583103, 0.0, 0.0, 0.0, 0.0, 0.0, 0.0, 0.0, 0.0, 0.0, 0.0, 0.0, 0.0, 0.0, 0.0, 0.0, 0.0, 0.0], [0.24350899457931519, 0.03636489436030388, 0.04196161776781082, 0.026215720921754837, 0.040445730090141296, 0.09965367615222931, 0.025752244517207146, 0.03249461576342583, 0.024459946900606155, 0.03520265221595764, 0.03383537754416466, 0.03347690403461456, 0.046648625284433365, 0.02796793356537819, 0.018640786409378052, 0.11764255911111832, 0.03875286132097244, 0.022786682471632957, 0.05418814346194267, 0.0, 0.0, 0.0, 0.0, 0.0, 0.0, 0.0, 0.0, 0.0, 0.0, 0.0, 0.0, 0.0, 0.0, 0.0, 0.0], [0.14194567501544952, 0.03406404331326485, 0.03300987184047699, 0.020238690078258514, 0.03927316144108772, 0.02600555308163166, 0.006318644620478153, 0.04079786688089371, 0.036380037665367126, 0.14631050825119019, 0.01638617552816868, 0.023598462343215942, 0.015842774882912636, 0.04227608069777489, 0.022458232939243317, 0.06867402046918869, 0.02787845954298973, 0.037222400307655334, 0.08677615970373154, 0.13454321026802063, 0.0, 0.0, 0.0, 0.0, 0.0, 0.0, 0.0, 0.0, 0.0, 0.0, 0.0, 0.0, 0.0, 0.0, 0.0], [0.21778139472007751, 0.02690366841852665, 0.023647204041481018, 0.00710256164893508, 0.03517001494765282, 0.013998531736433506, 0.010392274707555771, 0.09431252628564835, 0.002962289610877633, 0.03783803433179855, 0.03792330250144005, 0.003733972553163767, 0.06506099551916122, 0.003636459354311228, 0.014758044853806496, 0.1202862560749054, 0.004900882486253977, 0.008107366971671581, 0.01744985207915306, 0.24998730421066284, 0.00404709717258811, 0.0, 0.0, 0.0, 0.0, 0.0, 0.0, 0.0, 0.0, 0.0, 0.0, 0.0, 0.0, 0.0, 0.0], [0.12187223136425018, 0.07663213461637497, 0.030231976881623268, 0.016371846199035645, 0.052687887102365494, 0.021402154117822647, 0.02340388484299183, 0.1064968854188919, 0.018582483753561974, 0.03509167954325676, 0.0839414969086647, 0.017393294721841812, 0.04183054342865944, 0.021453876048326492, 0.033331017941236496, 0.05027426779270172, 0.02074086293578148, 0.040903568267822266, 0.03054095432162285, 0.09200654178857803, 0.028245698660612106, 0.03656469285488129, 0.0, 0.0, 0.0, 0.0, 0.0, 0.0, 0.0, 0.0, 0.0, 0.0, 0.0, 0.0, 0.0], [0.21260197460651398, 0.02028411068022251, 0.05000367388129234, 0.015904178842902184, 0.0572250634431839, 0.02285732328891754, 0.04604589194059372, 0.03530845791101456, 0.011784467846155167, 0.04140482097864151, 0.016803618520498276, 0.015782050788402557, 0.02020842768251896, 0.013090195134282112, 0.020854245871305466, 0.06297554820775986, 0.018039442598819733, 0.018052963539958, 0.0244453027844429, 0.17059145867824554, 0.01593976467847824, 0.041521862149238586, 0.04827513173222542, 0.0, 0.0, 0.0, 0.0, 0.0, 0.0, 0.0, 0.0, 0.0, 0.0, 0.0, 0.0], [0.2671400308609009, 0.03564618527889252, 0.020422888919711113, 0.006622722838073969, 0.04034103453159332, 0.019110335037112236, 0.014575294218957424, 0.05641636252403259, 0.00840363185852766, 0.015526890754699707, 0.04414669796824455, 0.011055916547775269, 0.04001995548605919, 0.00935308262705803, 0.01935187540948391, 0.07054154574871063, 0.012798828072845936, 0.012832636944949627, 0.014165625907480717, 0.1173698753118515, 0.007312785368412733, 0.09727413952350616, 0.020751146599650383, 0.038820479065179825, 0.0, 0.0, 0.0, 0.0, 0.0, 0.0, 0.0, 0.0, 0.0, 0.0, 0.0], [0.1459123194217682, 0.03319380432367325, 0.03138772398233414, 0.009927899576723576, 0.05209652706980705, 0.019840892404317856, 0.01940172351896763, 0.07582408934831619, 0.012863264419138432, 0.03345128148794174, 0.016568416729569435, 0.014797176234424114, 0.05908385291695595, 0.015597389079630375, 0.011369233950972557, 0.021859491243958473, 0.019473852589726448, 0.014793705195188522, 0.05341867357492447, 0.0952148362994194, 0.016204578801989555, 0.06210914999246597, 0.06182849034667015, 0.06657964736223221, 0.037201955914497375, 0.0, 0.0, 0.0, 0.0, 0.0, 0.0, 0.0, 0.0, 0.0, 0.0], [0.06265702843666077, 0.014285167679190636, 0.025387229397892952, 0.030092524364590645, 0.021246913820505142, 0.029529903084039688, 0.02644670195877552, 0.014830505475401878, 0.015861935913562775, 0.04331432282924652, 0.02196395955979824, 0.01997012086212635, 0.04342854768037796, 0.018692893907427788, 0.009475366212427616, 0.02419748157262802, 0.02385363169014454, 0.026908766478300095, 0.01406070776283741, 0.17528492212295532, 0.03583678603172302, 0.047922540456056595, 0.0357506088912487, 0.012070522643625736, 0.059274278581142426, 0.1476566046476364, 0.0, 0.0, 0.0, 0.0, 0.0, 0.0, 0.0, 0.0, 0.0], [0.09766796976327896, 0.03152172639966011, 0.026686422526836395, 0.03645576909184456, 0.03492369502782822, 0.08635792136192322, 0.013895384967327118, 0.030186735093593597, 0.019402572885155678, 0.035141680389642715, 0.04878157377243042, 0.012551562860608101, 0.040990814566612244, 0.020208820700645447, 0.012653257697820663, 0.007451051380485296, 0.01352296955883503, 0.02407807670533657, 0.043027088046073914, 0.1506679654121399, 0.02925257943570614, 0.018810179084539413, 0.016104497015476227, 0.028549881651997566, 0.02987591363489628, 0.05121558904647827, 0.040018320083618164, 0.0, 0.0, 0.0, 0.0, 0.0, 0.0, 0.0, 0.0], [0.09151811897754669, 0.011421124450862408, 0.0397990457713604, 0.011658580042421818, 0.03344332426786423, 0.04107607528567314, 0.00953829474747181, 0.04061256721615791, 0.009114387445151806, 0.046904027462005615, 0.02731761336326599, 0.010844959877431393, 0.024547521024942398, 0.01000459585338831, 0.008095639757812023, 0.008396810851991177, 0.011855491437017918, 0.008184151723980904, 0.04104063659906387, 0.3625809848308563, 0.007537385448813438, 0.009961558505892754, 0.021045755594968796, 0.011855040676891804, 0.03005830943584442, 0.03281192481517792, 0.028863215819001198, 0.009912798181176186, 0.0, 0.0, 0.0, 0.0, 0.0, 0.0, 0.0], [0.1094629094004631, 0.025872720405459404, 0.023928707465529442, 0.02004525251686573, 0.03590446338057518, 0.03167986124753952, 0.029145285487174988, 0.11399826407432556, 0.013954713940620422, 0.03480716794729233, 0.018105637282133102, 0.01762225106358528, 0.01900731772184372, 0.015307598747313023, 0.009703021496534348, 0.012407955713570118, 0.020091691985726357, 0.027262570336461067, 0.0656459778547287, 0.027155406773090363, 0.026226608082652092, 0.018942994996905327, 0.04077144339680672, 0.01907329633831978, 0.02157342992722988, 0.0302194282412529, 0.07011832296848297, 0.060314662754535675, 0.04165104404091835, 0.0, 0.0, 0.0, 0.0, 0.0, 0.0], [0.11406347900629044, 0.02655625157058239, 0.019958434626460075, 0.008931465446949005, 0.03494320809841156, 0.0168343186378479, 0.009377745911478996, 0.044513314962387085, 0.0037722201086580753, 0.02876032143831253, 0.02074115164577961, 0.005650990642607212, 0.06007761135697365, 0.004424978047609329, 0.01082183700054884, 0.04112928360700607, 0.007085713092237711, 0.010434002615511417, 0.026548534631729126, 0.11019265651702881, 0.007190011441707611, 0.056519411504268646, 0.02802709862589836, 0.06370095163583755, 0.03407689183950424, 0.07150977849960327, 0.04093320295214653, 0.014252985827624798, 0.06984364986419678, 0.009128453209996223, 0.0, 0.0, 0.0, 0.0, 0.0], [0.14399927854537964, 0.020454606041312218, 0.04262387380003929, 0.011592100374400616, 0.02778942510485649, 0.01434292271733284, 0.029106196016073227, 0.04215824976563454, 0.013669709675014019, 0.02058149129152298, 0.008641064167022705, 0.01240221131592989, 0.019577058032155037, 0.014879738911986351, 0.023319052532315254, 0.022367188706994057, 0.014413872733712196, 0.006065310910344124, 0.0069853090681135654, 0.08859116584062576, 0.014219224452972412, 0.027541184797883034, 0.057073064148426056, 0.024985715746879578, 0.05733300372958183, 0.048089686781167984, 0.018268713727593422, 0.07940170913934708, 0.04377176985144615, 0.024849094450473785, 0.020906994119286537, 0.0, 0.0, 0.0, 0.0], [0.07786805182695389, 0.01973286084830761, 0.019906366243958473, 0.015179562382400036, 0.02926989644765854, 0.008963335305452347, 0.011427865363657475, 0.03169626742601395, 0.006965260021388531, 0.04064171016216278, 0.019985223188996315, 0.008789055980741978, 0.035749901086091995, 0.007953665219247341, 0.009612186811864376, 0.014965911395847797, 0.010367292910814285, 0.013545001856982708, 0.013747337274253368, 0.06818550825119019, 0.011837059631943703, 0.01935550570487976, 0.01676122099161148, 0.01630122773349285, 0.0612502284348011, 0.12023527920246124, 0.04739145189523697, 0.023822065442800522, 0.14942996203899384, 0.014121495187282562, 0.047418806701898575, 0.0075234416872262955, 0.0, 0.0, 0.0], [0.14836613833904266, 0.03627423197031021, 0.023768780753016472, 0.005308395251631737, 0.03226037323474884, 0.017439454793930054, 0.01509028673171997, 0.04443071410059929, 0.004935787990689278, 0.021151496097445488, 0.023849088698625565, 0.006127793807536364, 0.04430979862809181, 0.0057178521528840065, 0.006861451547592878, 0.016362622380256653, 0.00770712923258543, 0.009109635837376118, 0.0284276083111763, 0.14491389691829681, 0.00635160319507122, 0.03453823924064636, 0.02327299863100052, 0.04803790524601936, 0.03441666439175606, 0.06975369155406952, 0.027561891824007034, 0.012016531080007553, 0.035357315093278885, 0.008575200103223324, 0.03916304185986519, 0.009715794585645199, 0.008826580829918385, 0.0, 0.0], [0.11389312893152237, 0.021931476891040802, 0.026447610929608345, 0.007602881174534559, 0.020530689507722855, 0.029713178053498268, 0.03694963827729225, 0.02875792607665062, 0.007981305941939354, 0.02935917302966118, 0.01534960139542818, 0.01842017099261284, 0.020850976929068565, 0.008514747954905033, 0.010930919088423252, 0.009227692149579525, 0.02127930149435997, 0.00922299362719059, 0.027651101350784302, 0.12458857893943787, 0.010509633459150791, 0.06096190959215164, 0.02203325182199478, 0.030366938561201096, 0.02741120383143425, 0.03459944576025009, 0.03202730044722557, 0.0395297147333622, 0.05353794991970062, 0.017732907086610794, 0.017497558146715164, 0.017771482467651367, 0.012080210261046886, 0.03473735600709915, 0.0], [0.13933590054512024, 0.021371273323893547, 0.01454135961830616, 0.005123283714056015, 0.0316351056098938, 0.010921809822320938, 0.01254136674106121, 0.02249288186430931, 0.004774264059960842, 0.024901418015360832, 0.010858353227376938, 0.010577707551419735, 0.025906071066856384, 0.005286503583192825, 0.016752300783991814, 0.04520440101623535, 0.012112230062484741, 0.014714711345732212, 0.014629177749156952, 0.08781157433986664, 0.007287837099283934, 0.07496532797813416, 0.015995563939213753, 0.04392342269420624, 0.04102411866188049, 0.0758780762553215, 0.02792455069720745, 0.01525017712265253, 0.013413437642157078, 0.01453278586268425, 0.027215460315346718, 0.03453554958105087, 0.018207408487796783, 0.0350533090531826, 0.0233012568205595]], [[1.0, 0.0, 0.0, 0.0, 0.0, 0.0, 0.0, 0.0, 0.0, 0.0, 0.0, 0.0, 0.0, 0.0, 0.0, 0.0, 0.0, 0.0, 0.0, 0.0, 0.0, 0.0, 0.0, 0.0, 0.0, 0.0, 0.0, 0.0, 0.0, 0.0, 0.0, 0.0, 0.0, 0.0, 0.0], [0.0004189981264062226, 0.9995810389518738, 0.0, 0.0, 0.0, 0.0, 0.0, 0.0, 0.0, 0.0, 0.0, 0.0, 0.0, 0.0, 0.0, 0.0, 0.0, 0.0, 0.0, 0.0, 0.0, 0.0, 0.0, 0.0, 0.0, 0.0, 0.0, 0.0, 0.0, 0.0, 0.0, 0.0, 0.0, 0.0, 0.0], [0.00013394761481322348, 0.009511838667094707, 0.9903541803359985, 0.0, 0.0, 0.0, 0.0, 0.0, 0.0, 0.0, 0.0, 0.0, 0.0, 0.0, 0.0, 0.0, 0.0, 0.0, 0.0, 0.0, 0.0, 0.0, 0.0, 0.0, 0.0, 0.0, 0.0, 0.0, 0.0, 0.0, 0.0, 0.0, 0.0, 0.0, 0.0], [0.0008606771007180214, 0.0026100394316017628, 0.015066796913743019, 0.9814624786376953, 0.0, 0.0, 0.0, 0.0, 0.0, 0.0, 0.0, 0.0, 0.0, 0.0, 0.0, 0.0, 0.0, 0.0, 0.0, 0.0, 0.0, 0.0, 0.0, 0.0, 0.0, 0.0, 0.0, 0.0, 0.0, 0.0, 0.0, 0.0, 0.0, 0.0, 0.0], [3.717040817718953e-05, 0.0006769560277462006, 0.0012692931341007352, 0.0002140780707122758, 0.9978025555610657, 0.0, 0.0, 0.0, 0.0, 0.0, 0.0, 0.0, 0.0, 0.0, 0.0, 0.0, 0.0, 0.0, 0.0, 0.0, 0.0, 0.0, 0.0, 0.0, 0.0, 0.0, 0.0, 0.0, 0.0, 0.0, 0.0, 0.0, 0.0, 0.0, 0.0], [8.425424312008545e-05, 0.0007904717931523919, 0.0032152822241187096, 0.0027085694018751383, 0.0013058256590738893, 0.9918956160545349, 0.0, 0.0, 0.0, 0.0, 0.0, 0.0, 0.0, 0.0, 0.0, 0.0, 0.0, 0.0, 0.0, 0.0, 0.0, 0.0, 0.0, 0.0, 0.0, 0.0, 0.0, 0.0, 0.0, 0.0, 0.0, 0.0, 0.0, 0.0, 0.0], [0.00014960527187213302, 0.0018361863913014531, 0.001637504086829722, 0.001013060798868537, 0.0042098164558410645, 8.004387927940115e-05, 0.9910737872123718, 0.0, 0.0, 0.0, 0.0, 0.0, 0.0, 0.0, 0.0, 0.0, 0.0, 0.0, 0.0, 0.0, 0.0, 0.0, 0.0, 0.0, 0.0, 0.0, 0.0, 0.0, 0.0, 0.0, 0.0, 0.0, 0.0, 0.0, 0.0], [0.0002685565559659153, 0.0009259631624445319, 0.0008250505197793245, 0.0006819659029133618, 0.007268866058439016, 0.00135170784778893, 0.00034691678592935205, 0.9883310198783875, 0.0, 0.0, 0.0, 0.0, 0.0, 0.0, 0.0, 0.0, 0.0, 0.0, 0.0, 0.0, 0.0, 0.0, 0.0, 0.0, 0.0, 0.0, 0.0, 0.0, 0.0, 0.0, 0.0, 0.0, 0.0, 0.0, 0.0], [0.007326367311179638, 0.007828550413250923, 0.003931873943656683, 0.00018373991770204157, 6.43310122541152e-05, 0.0001008316467050463, 6.769897299818695e-05, 7.164081034716219e-05, 0.9804249405860901, 0.0, 0.0, 0.0, 0.0, 0.0, 0.0, 0.0, 0.0, 0.0, 0.0, 0.0, 0.0, 0.0, 0.0, 0.0, 0.0, 0.0, 0.0, 0.0, 0.0, 0.0, 0.0, 0.0, 0.0, 0.0, 0.0], [3.917570938938297e-05, 9.137415327131748e-05, 0.0003339905815664679, 6.816770473960787e-05, 7.81232156441547e-05, 0.000984302954748273, 0.00016941336798481643, 0.002541458001360297, 4.413309216033667e-05, 0.9956498742103577, 0.0, 0.0, 0.0, 0.0, 0.0, 0.0, 0.0, 0.0, 0.0, 0.0, 0.0, 0.0, 0.0, 0.0, 0.0, 0.0, 0.0, 0.0, 0.0, 0.0, 0.0, 0.0, 0.0, 0.0, 0.0], [5.520327249541879e-06, 2.346654946450144e-05, 9.186491661239415e-05, 8.01344940555282e-05, 3.939224552595988e-05, 8.521603740518913e-05, 2.5735973395057954e-05, 7.120834197849035e-05, 4.276972504158039e-06, 0.00015049795911181718, 0.9994226694107056, 0.0, 0.0, 0.0, 0.0, 0.0, 0.0, 0.0, 0.0, 0.0, 0.0, 0.0, 0.0, 0.0, 0.0, 0.0, 0.0, 0.0, 0.0, 0.0, 0.0, 0.0, 0.0, 0.0, 0.0], [0.0010400308528915048, 0.0022993639577180147, 0.0023920699022710323, 0.0003133234567940235, 0.00013362923345994204, 0.000516846717800945, 0.0011971102794632316, 6.827450124546885e-05, 0.005444325506687164, 0.0002821744710672647, 4.3057352741016075e-05, 0.9862697720527649, 0.0, 0.0, 0.0, 0.0, 0.0, 0.0, 0.0, 0.0, 0.0, 0.0, 0.0, 0.0, 0.0, 0.0, 0.0, 0.0, 0.0, 0.0, 0.0, 0.0, 0.0, 0.0, 0.0], [4.6304092393256724e-05, 0.00032482281676493585, 0.00024459429550915956, 0.0015311656752601266, 0.0008613707032054663, 0.0012943876208737493, 6.19845959590748e-05, 2.664272324182093e-05, 4.840868496103212e-05, 0.001985564362257719, 0.0001397188170813024, 0.00011434292537160218, 0.9933207035064697, 0.0, 0.0, 0.0, 0.0, 0.0, 0.0, 0.0, 0.0, 0.0, 0.0, 0.0, 0.0, 0.0, 0.0, 0.0, 0.0, 0.0, 0.0, 0.0, 0.0, 0.0, 0.0], [0.003044242039322853, 0.0018223633524030447, 0.0009289864683523774, 4.880229971604422e-05, 1.6391151802963577e-05, 2.9095617719576694e-05, 2.507983663235791e-05, 2.9130240363883786e-05, 0.45632192492485046, 2.457868686178699e-05, 2.4832152121234685e-05, 0.0030043944716453552, 1.6773799416114343e-06, 0.5346784591674805, 0.0, 0.0, 0.0, 0.0, 0.0, 0.0, 0.0, 0.0, 0.0, 0.0, 0.0, 0.0, 0.0, 0.0, 0.0, 0.0, 0.0, 0.0, 0.0, 0.0, 0.0], [0.0003981793124694377, 0.0010285013122484088, 0.0008281123591586947, 0.00023753188725095242, 7.34887071303092e-05, 0.0014350322308018804, 6.765669240849093e-05, 0.00029547428130172193, 0.00014295807341113687, 9.929101361194625e-05, 4.608220478985459e-06, 0.000514006766024977, 5.035662070440594e-06, 0.0001247553009307012, 0.9947452545166016, 0.0, 0.0, 0.0, 0.0, 0.0, 0.0, 0.0, 0.0, 0.0, 0.0, 0.0, 0.0, 0.0, 0.0, 0.0, 0.0, 0.0, 0.0, 0.0, 0.0], [9.074855915969238e-05, 0.00026525967405177653, 0.00011011176684405655, 0.00021231926803011447, 8.290543337352574e-05, 0.001181418658234179, 1.5688701751059853e-05, 0.0016655940562486649, 1.1725322110578418e-05, 0.0020509432069957256, 0.0001384257193421945, 1.557362156745512e-05, 1.1507429917401168e-05, 9.066184247785714e-06, 0.00022655779321212322, 0.9939122200012207, 0.0, 0.0, 0.0, 0.0, 0.0, 0.0, 0.0, 0.0, 0.0, 0.0, 0.0, 0.0, 0.0, 0.0, 0.0, 0.0, 0.0, 0.0, 0.0], [0.0004413537390064448, 0.0006528958911076188, 0.0006495664129033685, 9.398073598276824e-05, 4.112705573788844e-05, 0.00017028428555931896, 0.0005066702724434435, 2.8896070944028907e-05, 0.002370182890444994, 0.00010454306175233796, 1.9230950783821754e-05, 0.4705584943294525, 1.680400237091817e-05, 0.0022840937599539757, 0.00021698098862543702, 3.276937059126794e-05, 0.5218121409416199, 0.0, 0.0, 0.0, 0.0, 0.0, 0.0, 0.0, 0.0, 0.0, 0.0, 0.0, 0.0, 0.0, 0.0, 0.0, 0.0, 0.0, 0.0], [0.0005350523279048502, 0.0006631257710978389, 0.00018957503198180348, 0.00011594560055527836, 3.930590901290998e-05, 8.452115434920415e-05, 0.00026859997888095677, 0.00030034847441129386, 0.0001272758818231523, 0.00015363417332991958, 2.1524516341742128e-05, 0.0004102020466234535, 0.0015090389642864466, 0.00011659036681521684, 0.00013773961109109223, 7.389148231595755e-05, 0.00039899468538351357, 0.9948546886444092, 0.0, 0.0, 0.0, 0.0, 0.0, 0.0, 0.0, 0.0, 0.0, 0.0, 0.0, 0.0, 0.0, 0.0, 0.0, 0.0, 0.0], [0.0002235245192423463, 0.00025025324430316687, 0.00011739329056581482, 1.8608267055242322e-05, 0.000629148562438786, 0.0007579212542623281, 3.7840858567506075e-05, 0.0033851414918899536, 1.791827889974229e-05, 0.0001781826140359044, 3.4344302548561245e-05, 7.747576455585659e-05, 6.471150845754892e-05, 1.5270277799572796e-05, 0.0002935953380074352, 0.0005734384758397937, 7.154390914365649e-05, 0.0001588312879903242, 0.993094801902771, 0.0, 0.0, 0.0, 0.0, 0.0, 0.0, 0.0, 0.0, 0.0, 0.0, 0.0, 0.0, 0.0, 0.0, 0.0, 0.0], [0.00030641001649200916, 0.0004168006998952478, 0.0004519716603681445, 0.00015746380086056888, 0.0015800739638507366, 0.002266631228849292, 0.00014483602717518806, 0.002518873196095228, 4.471190186450258e-05, 0.0027394688222557306, 0.000434897345257923, 0.00015683105448260903, 2.8505710361059755e-05, 4.005827577202581e-05, 0.000593667384237051, 0.00011775208986364305, 0.00014039609231986105, 0.00018060373258776963, 0.0009641887154430151, 0.9867159128189087, 0.0, 0.0, 0.0, 0.0, 0.0, 0.0, 0.0, 0.0, 0.0, 0.0, 0.0, 0.0, 0.0, 0.0, 0.0], [0.009046894498169422, 0.0007260906277224422, 6.491791282314807e-05, 4.578269727062434e-05, 3.6695309972856194e-05, 3.389698758837767e-05, 4.1313283873023465e-05, 9.00011946214363e-05, 0.01616392657160759, 1.895380046335049e-05, 3.3513806556584314e-05, 0.002181082498282194, 5.3411863518704195e-06, 0.018749477341771126, 0.000178977643372491, 0.0004993692273274064, 0.0024355680216103792, 4.271614670869894e-05, 7.329288200708106e-05, 1.915437496791128e-05, 0.9495130777359009, 0.0, 0.0, 0.0, 0.0, 0.0, 0.0, 0.0, 0.0, 0.0, 0.0, 0.0, 0.0, 0.0, 0.0], [0.00021946335618849844, 0.0011669575469568372, 0.00021983285841997713, 0.000987631268799305, 0.0003133852151222527, 0.00012072677782271057, 5.631548447126988e-06, 2.4260116333607584e-05, 4.544206603895873e-05, 1.8529648514231667e-05, 1.4025742530066054e-05, 1.0155007657886017e-05, 0.00040180329233407974, 4.0526505472371355e-05, 0.00017106776067521423, 9.869076166069135e-06, 9.488580872130115e-06, 0.00039310986176133156, 5.709419838240137e-06, 1.7844327885541134e-05, 2.853047044482082e-05, 0.9957762360572815, 0.0, 0.0, 0.0, 0.0, 0.0, 0.0, 0.0, 0.0, 0.0, 0.0, 0.0, 0.0, 0.0], [0.00019361020531505346, 0.0008434196352027357, 0.0005215305718593299, 2.5664610802778043e-05, 0.00046233259490691125, 0.0002540161949582398, 1.84712353075156e-05, 0.0001150980606325902, 0.00027289020363241434, 0.0001543670368846506, 1.2149157555541024e-05, 0.0006913751713000238, 5.6959852372528985e-05, 0.000240248060435988, 3.827496766461991e-05, 9.934476111084223e-05, 0.0006488924846053123, 8.011755562620237e-05, 0.0001921883667819202, 2.5529448976158164e-05, 0.0003243483661208302, 0.001087109325453639, 0.9936420321464539, 0.0, 0.0, 0.0, 0.0, 0.0, 0.0, 0.0, 0.0, 0.0, 0.0, 0.0, 0.0], [0.001607763348147273, 0.17697328329086304, 0.015483584254980087, 0.00037138795596547425, 0.00037863419856876135, 0.0001645271258894354, 0.0003277383802924305, 0.0001698970008874312, 0.0021229623816907406, 3.5731001844396815e-05, 6.0901467804796994e-05, 0.0004562163376249373, 1.5447809346369468e-05, 0.0022543163504451513, 0.0015666878316551447, 0.00011843755783047527, 0.000469989056000486, 5.037317532696761e-05, 0.00012108052032999694, 6.008961645420641e-05, 0.0008920573745854199, 0.0007518455386161804, 0.0002689966349862516, 0.7952781319618225, 0.0, 0.0, 0.0, 0.0, 0.0, 0.0, 0.0, 0.0, 0.0, 0.0, 0.0], [0.0003919867449440062, 0.0002142122102668509, 0.0005306125967763364, 1.0745805411715992e-05, 0.00011862401879625395, 4.225786688039079e-05, 0.00021160392498131841, 4.6925590140745044e-05, 0.00044815847650170326, 0.00010691297211451456, 3.935468339477666e-05, 0.00016830874665174633, 0.00017352381837554276, 0.000452450942248106, 0.00014294138236436993, 0.00011699349124683067, 0.00017526814190205187, 0.00010119970829691738, 4.251394420862198e-05, 2.0371742721181363e-05, 3.83713559131138e-05, 0.0001134463309426792, 0.00025279319379478693, 6.991039117565379e-05, 0.9959704875946045, 0.0, 0.0, 0.0, 0.0, 0.0, 0.0, 0.0, 0.0, 0.0, 0.0], [0.00021530737285502255, 0.00010005858348449692, 0.0023809217382222414, 0.0019831459503620863, 0.0011120135895907879, 5.563472586800344e-05, 0.0006109274108894169, 0.00024564380873925984, 8.819022332318127e-05, 0.0011510419426485896, 0.00010669918265193701, 0.0001755490229697898, 5.736288949265145e-05, 7.814808486727998e-05, 0.000245735194766894, 9.594678886060137e-06, 0.00017032408504746854, 2.897272861446254e-05, 1.4011739040142857e-05, 0.00016692095960024744, 1.2888894161733333e-05, 0.00024495579418726265, 0.0005147022311575711, 4.942123996443115e-05, 0.0005746564129367471, 0.9896071553230286, 0.0, 0.0, 0.0, 0.0, 0.0, 0.0, 0.0, 0.0, 0.0], [0.00011423427349654958, 0.0008627416682429612, 0.0007732235244475305, 0.0007090758881531656, 0.0007292139925993979, 0.0014031633036211133, 0.00021403632126748562, 0.00017666495114099234, 6.622049113502726e-05, 3.215939796064049e-05, 0.000453306594863534, 0.0001200851402245462, 2.2129046556074172e-05, 5.8075143897440284e-05, 0.00012917457206640393, 1.9079669073107652e-05, 0.00011076675582444295, 8.56419592309976e-06, 2.363056773901917e-05, 0.000337998237228021, 5.211896859691478e-05, 0.00014455695054493845, 0.0001969498407561332, 0.0004510532016865909, 2.0576282622641884e-05, 8.764310041442513e-05, 0.992683470249176, 0.0, 0.0, 0.0, 0.0, 0.0, 0.0, 0.0, 0.0], [0.0001979835651582107, 0.00019567960407584906, 0.0002261226618429646, 0.0004194370994810015, 0.0005979703273624182, 0.00045174488332122564, 0.00034782904549501836, 0.0002585812471807003, 2.801990558509715e-05, 0.0007220012485049665, 0.0001301048177992925, 0.0011632074601948261, 6.916914571775123e-05, 2.4789154849713668e-05, 0.00010386025678599253, 0.00038124973070807755, 0.001158781349658966, 0.00033144469489343464, 0.00024494569515809417, 0.00012755185889545828, 0.0001609846658539027, 1.9267921743448824e-05, 0.0002717423776630312, 2.0765570297953673e-05, 6.825073796790093e-05, 0.0008764262311160564, 0.0006782172131352127, 0.9907240271568298, 0.0, 0.0, 0.0, 0.0, 0.0, 0.0, 0.0], [3.157188984914683e-05, 0.0006791111663915217, 0.0007090717554092407, 0.0002416485658613965, 0.0004120545636396855, 0.000923742598388344, 0.00020848578424192965, 6.639291677856818e-05, 0.00011664839985314757, 8.601942681707442e-05, 0.010591328144073486, 0.0003372913633938879, 2.1898511477047578e-05, 0.00010110744187841192, 0.00010436101729283109, 5.858746590092778e-05, 0.00032512188772670925, 1.585416066518519e-05, 5.0336129788775e-06, 0.00040949060348793864, 1.3119529285177123e-05, 5.313358997227624e-05, 1.1887270375154912e-05, 5.536675962503068e-05, 1.2197706382721663e-05, 8.952661301009357e-05, 0.0022435507271438837, 0.00021041954460088164, 0.9818660616874695, 0.0, 0.0, 0.0, 0.0, 0.0, 0.0], [0.0007582920952700078, 0.0012331441976130009, 8.604941103840247e-05, 6.291332101682201e-05, 2.8791733711841516e-05, 3.3166903449455276e-05, 7.622712291777134e-05, 0.00010868187382584438, 0.006450854241847992, 0.00014789080887567252, 1.0376495993114077e-05, 0.0023889716248959303, 7.88359175203368e-05, 0.007510701194405556, 0.00028743132133968174, 0.0001367574732284993, 0.0027602962218225002, 0.0007447165553458035, 8.811101724859327e-05, 2.470205072313547e-05, 0.0061888666823506355, 0.00011647049541352317, 0.0001724402973195538, 0.00026217513368465006, 0.0001841977791627869, 4.432135756360367e-05, 4.855170482187532e-05, 8.903052366804332e-05, 2.6887826606980525e-05, 0.9698501229286194, 0.0, 0.0, 0.0, 0.0, 0.0], [0.0002462745178490877, 0.0003591995919123292, 0.00020521917031146586, 9.387754107592627e-05, 8.577330299885944e-05, 5.495216100825928e-05, 4.531835293164477e-05, 1.0722179467848036e-05, 4.867117968387902e-05, 0.0001101760717574507, 0.00010064101661555469, 9.772245539352298e-05, 0.0005496820085681975, 4.362943582236767e-05, 3.945791468140669e-05, 7.140226080082357e-05, 9.814357326831669e-05, 5.7009699958143756e-05, 2.4251130525954068e-05, 2.3145676095737144e-06, 5.05694406456314e-05, 0.0001131849130615592, 0.00029069886659272015, 6.889968790346757e-05, 0.0006683265673927963, 0.0002321746142115444, 8.348713890882209e-06, 1.743463144521229e-05, 1.027312009682646e-05, 0.00013885690714232624, 0.9960569143295288, 0.0, 0.0, 0.0, 0.0], [0.00011105897283414379, 3.599153569666669e-05, 4.416053707245737e-05, 0.00022596387134399265, 0.00024025827588047832, 1.7348935216432437e-05, 7.204298890428618e-05, 0.0002373896713834256, 8.274748688563704e-05, 0.00010178543016081676, 7.876383278926369e-06, 6.391834904206917e-05, 3.295211718068458e-05, 7.889189873822033e-05, 0.00011627453932305798, 7.139135959732812e-06, 6.571754056494683e-05, 5.396364940679632e-06, 8.334015547006857e-06, 1.9613882614066824e-05, 4.110628287889995e-05, 8.537995745427907e-05, 3.161614222335629e-05, 9.916993803926744e-06, 2.3832411898183636e-05, 0.0018293503671884537, 2.6111210900126025e-05, 3.313507841085084e-05, 1.461272404412739e-05, 0.0008547279867343605, 0.00016745144966989756, 0.995307981967926, 0.0, 0.0, 0.0], [0.0022552281152457, 0.0004647752793971449, 0.00012283741671126336, 0.006661214865744114, 8.828943100525066e-05, 0.000249428121605888, 0.0001755516859702766, 2.6563477149466053e-05, 0.004149143118411303, 0.00020833108283113688, 1.597336449776776e-05, 0.0007248219917528331, 1.231808346346952e-05, 0.004929245449602604, 0.0007067766855470836, 2.7460195269668475e-05, 0.0008252453408204019, 5.148742638994008e-05, 9.107245205086656e-06, 0.0011702000629156828, 0.0011320507619529963, 0.0003872281522490084, 0.0001000029660644941, 0.0005395390908233821, 0.00012797676026821136, 7.418715540552512e-05, 0.0006351860938593745, 5.991849320707843e-05, 0.0002030233881669119, 0.022641267627477646, 7.111392915248871e-05, 0.0034798523411154747, 0.947674572467804, 0.0, 0.0], [0.00010488810949027538, 0.0005403983523137867, 0.0002700608456507325, 2.781994771794416e-05, 0.0008878541411831975, 0.0002531727368477732, 0.00029214046662673354, 0.000995146343484521, 3.9432117773685604e-05, 6.531640246976167e-05, 5.1983330195071176e-05, 0.0006716344505548477, 1.9524166418705136e-05, 3.796437886194326e-05, 0.00031547032995149493, 0.00015760336827952415, 0.0006809115293435752, 0.00017366751853842288, 0.00023275859712157398, 0.0004935205215588212, 0.00015254231402650476, 8.96886849659495e-05, 0.0014225811464712024, 0.00022503072977997363, 0.00015392254863400012, 0.00010696907702367753, 0.005650238133966923, 0.0008653235854580998, 0.0002874949714168906, 0.00013868501991964877, 1.4354172890307382e-05, 2.816200503730215e-05, 0.00011612014350248501, 0.9844375848770142, 0.0], [0.0018830427434295416, 0.000230139892664738, 7.190555334091187e-05, 3.798297029788955e-06, 0.00225636619143188, 4.3679814552888274e-05, 0.00012782977137248963, 0.0006368031608872116, 0.000536400533746928, 5.325712663761806e-06, 7.917867333162576e-05, 2.6016030460596085e-05, 1.1253274351474829e-05, 0.0005611258675344288, 9.103807315113954e-06, 0.00021052265947218984, 2.6891166271525435e-05, 3.242443926865235e-05, 0.0002593939134385437, 0.00045266764936968684, 0.001152101787738502, 1.149354920926271e-05, 4.818247543880716e-05, 0.00010571519669611007, 8.452803740510717e-05, 0.00010020880290539935, 2.8483780624810606e-05, 2.0415485778357834e-05, 1.802300289455161e-06, 7.628967432538047e-05, 4.604339483194053e-05, 9.973591659218073e-05, 5.258407327346504e-06, 0.00019488534599076957, 0.9905608296394348]], [[1.0, 0.0, 0.0, 0.0, 0.0, 0.0, 0.0, 0.0, 0.0, 0.0, 0.0, 0.0, 0.0, 0.0, 0.0, 0.0, 0.0, 0.0, 0.0, 0.0, 0.0, 0.0, 0.0, 0.0, 0.0, 0.0, 0.0, 0.0, 0.0, 0.0, 0.0, 0.0, 0.0, 0.0, 0.0], [0.9424744844436646, 0.05752559006214142, 0.0, 0.0, 0.0, 0.0, 0.0, 0.0, 0.0, 0.0, 0.0, 0.0, 0.0, 0.0, 0.0, 0.0, 0.0, 0.0, 0.0, 0.0, 0.0, 0.0, 0.0, 0.0, 0.0, 0.0, 0.0, 0.0, 0.0, 0.0, 0.0, 0.0, 0.0, 0.0, 0.0], [0.8506749868392944, 0.09740975499153137, 0.05191526561975479, 0.0, 0.0, 0.0, 0.0, 0.0, 0.0, 0.0, 0.0, 0.0, 0.0, 0.0, 0.0, 0.0, 0.0, 0.0, 0.0, 0.0, 0.0, 0.0, 0.0, 0.0, 0.0, 0.0, 0.0, 0.0, 0.0, 0.0, 0.0, 0.0, 0.0, 0.0, 0.0], [0.7641512751579285, 0.10970386117696762, 0.07497040927410126, 0.051174525171518326, 0.0, 0.0, 0.0, 0.0, 0.0, 0.0, 0.0, 0.0, 0.0, 0.0, 0.0, 0.0, 0.0, 0.0, 0.0, 0.0, 0.0, 0.0, 0.0, 0.0, 0.0, 0.0, 0.0, 0.0, 0.0, 0.0, 0.0, 0.0, 0.0, 0.0, 0.0], [0.6748190522193909, 0.08416198194026947, 0.0547025166451931, 0.07581546902656555, 0.11050090938806534, 0.0, 0.0, 0.0, 0.0, 0.0, 0.0, 0.0, 0.0, 0.0, 0.0, 0.0, 0.0, 0.0, 0.0, 0.0, 0.0, 0.0, 0.0, 0.0, 0.0, 0.0, 0.0, 0.0, 0.0, 0.0, 0.0, 0.0, 0.0, 0.0, 0.0], [0.6857606172561646, 0.08229535073041916, 0.05202116817235947, 0.08139178901910782, 0.04085883870720863, 0.05767225846648216, 0.0, 0.0, 0.0, 0.0, 0.0, 0.0, 0.0, 0.0, 0.0, 0.0, 0.0, 0.0, 0.0, 0.0, 0.0, 0.0, 0.0, 0.0, 0.0, 0.0, 0.0, 0.0, 0.0, 0.0, 0.0, 0.0, 0.0, 0.0, 0.0], [0.6174606084823608, 0.0565345399081707, 0.09111698716878891, 0.06854882091283798, 0.06338419020175934, 0.035969749093055725, 0.06698513776063919, 0.0, 0.0, 0.0, 0.0, 0.0, 0.0, 0.0, 0.0, 0.0, 0.0, 0.0, 0.0, 0.0, 0.0, 0.0, 0.0, 0.0, 0.0, 0.0, 0.0, 0.0, 0.0, 0.0, 0.0, 0.0, 0.0, 0.0, 0.0], [0.6047279834747314, 0.06088969483971596, 0.05921149626374245, 0.0955815464258194, 0.04265913367271423, 0.03184344992041588, 0.04263066127896309, 0.06245603784918785, 0.0, 0.0, 0.0, 0.0, 0.0, 0.0, 0.0, 0.0, 0.0, 0.0, 0.0, 0.0, 0.0, 0.0, 0.0, 0.0, 0.0, 0.0, 0.0, 0.0, 0.0, 0.0, 0.0, 0.0, 0.0, 0.0, 0.0], [0.4008437991142273, 0.07533576339483261, 0.0427083857357502, 0.011760719120502472, 0.026680560782551765, 0.013492072932422161, 0.028465455397963524, 0.01390059757977724, 0.38681256771087646, 0.0, 0.0, 0.0, 0.0, 0.0, 0.0, 0.0, 0.0, 0.0, 0.0, 0.0, 0.0, 0.0, 0.0, 0.0, 0.0, 0.0, 0.0, 0.0, 0.0, 0.0, 0.0, 0.0, 0.0, 0.0, 0.0], [0.49680259823799133, 0.06792881339788437, 0.057920049875974655, 0.07101528346538544, 0.06963259726762772, 0.01880010776221752, 0.06757562607526779, 0.06346482038497925, 0.06656692177057266, 0.020293204113841057, 0.0, 0.0, 0.0, 0.0, 0.0, 0.0, 0.0, 0.0, 0.0, 0.0, 0.0, 0.0, 0.0, 0.0, 0.0, 0.0, 0.0, 0.0, 0.0, 0.0, 0.0, 0.0, 0.0, 0.0, 0.0], [0.5176076292991638, 0.08289017528295517, 0.052397679537534714, 0.06842363625764847, 0.04608828201889992, 0.026865962892770767, 0.08181490749120712, 0.03230836242437363, 0.05516279116272926, 0.018549636006355286, 0.01789088174700737, 0.0, 0.0, 0.0, 0.0, 0.0, 0.0, 0.0, 0.0, 0.0, 0.0, 0.0, 0.0, 0.0, 0.0, 0.0, 0.0, 0.0, 0.0, 0.0, 0.0, 0.0, 0.0, 0.0, 0.0], [0.3038182258605957, 0.031856469810009, 0.02915768511593342, 0.011053643189370632, 0.013536771759390831, 0.016536906361579895, 0.015181957744061947, 0.015511727891862392, 0.026294978335499763, 0.01689099334180355, 0.0118866553530097, 0.5082739591598511, 0.0, 0.0, 0.0, 0.0, 0.0, 0.0, 0.0, 0.0, 0.0, 0.0, 0.0, 0.0, 0.0, 0.0, 0.0, 0.0, 0.0, 0.0, 0.0, 0.0, 0.0, 0.0, 0.0], [0.35859888792037964, 0.07880908995866776, 0.05902864411473274, 0.04445865750312805, 0.07822324335575104, 0.01967952400445938, 0.05133121460676193, 0.0400984063744545, 0.08024684339761734, 0.02781190723180771, 0.010250617749989033, 0.1361035704612732, 0.015359456650912762, 0.0, 0.0, 0.0, 0.0, 0.0, 0.0, 0.0, 0.0, 0.0, 0.0, 0.0, 0.0, 0.0, 0.0, 0.0, 0.0, 0.0, 0.0, 0.0, 0.0, 0.0, 0.0], [0.25116774439811707, 0.04623398557305336, 0.027838537469506264, 0.007056491915136576, 0.01724417880177498, 0.008997941389679909, 0.017309943214058876, 0.009924143552780151, 0.25275111198425293, 0.012778302654623985, 0.008546071127057076, 0.04791994020342827, 0.006098274607211351, 0.2861333191394806, 0.0, 0.0, 0.0, 0.0, 0.0, 0.0, 0.0, 0.0, 0.0, 0.0, 0.0, 0.0, 0.0, 0.0, 0.0, 0.0, 0.0, 0.0, 0.0, 0.0, 0.0], [0.3980076313018799, 0.06433820724487305, 0.049798544496297836, 0.05949563905596733, 0.031821127980947495, 0.030714746564626694, 0.058995530009269714, 0.054803911596536636, 0.039193715900182724, 0.03556448593735695, 0.02491646818816662, 0.04571932926774025, 0.016671663150191307, 0.038943104445934296, 0.051015835255384445, 0.0, 0.0, 0.0, 0.0, 0.0, 0.0, 0.0, 0.0, 0.0, 0.0, 0.0, 0.0, 0.0, 0.0, 0.0, 0.0, 0.0, 0.0, 0.0, 0.0], [0.39033830165863037, 0.07549393177032471, 0.03844675421714783, 0.04366779327392578, 0.017820747569203377, 0.012712197378277779, 0.04530724883079529, 0.036030206829309464, 0.0421706885099411, 0.01675303839147091, 0.042248670011758804, 0.0509234257042408, 0.030772073194384575, 0.04072081670165062, 0.056488845497369766, 0.06010531634092331, 0.0, 0.0, 0.0, 0.0, 0.0, 0.0, 0.0, 0.0, 0.0, 0.0, 0.0, 0.0, 0.0, 0.0, 0.0, 0.0, 0.0, 0.0, 0.0], [0.1818234920501709, 0.018224794417619705, 0.017477907240390778, 0.006372252944856882, 0.007922587916254997, 0.01006288267672062, 0.008703152649104595, 0.010297480039298534, 0.015354442410171032, 0.011538181453943253, 0.007091038394719362, 0.3139554262161255, 0.006019819527864456, 0.015887582674622536, 0.015421999618411064, 0.013188594952225685, 0.34065839648246765, 0.0, 0.0, 0.0, 0.0, 0.0, 0.0, 0.0, 0.0, 0.0, 0.0, 0.0, 0.0, 0.0, 0.0, 0.0, 0.0, 0.0, 0.0], [0.2388143241405487, 0.07684367150068283, 0.04843558371067047, 0.028319766744971275, 0.04297622665762901, 0.01943076215684414, 0.03321722149848938, 0.02747294493019581, 0.018975943326950073, 0.04046749696135521, 0.020095622166991234, 0.058573171496391296, 0.03530571982264519, 0.019691895693540573, 0.0970376580953598, 0.03909807279706001, 0.0619945265352726, 0.09324944764375687, 0.0, 0.0, 0.0, 0.0, 0.0, 0.0, 0.0, 0.0, 0.0, 0.0, 0.0, 0.0, 0.0, 0.0, 0.0, 0.0, 0.0], [0.35636112093925476, 0.04354536905884743, 0.0543937124311924, 0.035997211933135986, 0.055608730763196945, 0.03285681828856468, 0.019443847239017487, 0.06911689788103104, 0.020649446174502373, 0.03360532969236374, 0.02761874534189701, 0.03407999500632286, 0.02684745565056801, 0.02033730037510395, 0.022298939526081085, 0.036227405071258545, 0.03464476019144058, 0.022655004635453224, 0.053711894899606705, 0.0, 0.0, 0.0, 0.0, 0.0, 0.0, 0.0, 0.0, 0.0, 0.0, 0.0, 0.0, 0.0, 0.0, 0.0, 0.0], [0.3967011570930481, 0.051782384514808655, 0.03996192663908005, 0.06630747020244598, 0.045571863651275635, 0.0239834263920784, 0.019396744668483734, 0.02136596292257309, 0.020253783091902733, 0.03685583919286728, 0.009492038749158382, 0.04181000962853432, 0.01449868269264698, 0.01978372037410736, 0.029715221375226974, 0.04631546139717102, 0.042466409504413605, 0.031475216150283813, 0.022027637809515, 0.020235061645507812, 0.0, 0.0, 0.0, 0.0, 0.0, 0.0, 0.0, 0.0, 0.0, 0.0, 0.0, 0.0, 0.0, 0.0, 0.0], [0.23151394724845886, 0.13258196413516998, 0.060261040925979614, 0.011383594013750553, 0.024262718856334686, 0.014553475193679333, 0.01697956770658493, 0.013957404531538486, 0.022475894540548325, 0.027721278369426727, 0.02060709148645401, 0.040846846997737885, 0.027723219245672226, 0.024550698697566986, 0.038579169660806656, 0.04770102724432945, 0.04407110437750816, 0.07720747590065002, 0.046044740825891495, 0.04773346334695816, 0.029244301840662956, 0.0, 0.0, 0.0, 0.0, 0.0, 0.0, 0.0, 0.0, 0.0, 0.0, 0.0, 0.0, 0.0, 0.0], [0.20264166593551636, 0.048930857330560684, 0.03894680738449097, 0.026632284745573997, 0.04094349592924118, 0.01617504470050335, 0.043880145996809006, 0.04927309602499008, 0.037442903965711594, 0.018747957423329353, 0.0104383435100317, 0.030274203047156334, 0.011668819934129715, 0.03915902227163315, 0.0836191177368164, 0.02680654078722, 0.03237597271800041, 0.026771076023578644, 0.041368670761585236, 0.04380553588271141, 0.09921547770500183, 0.030883019790053368, 0.0, 0.0, 0.0, 0.0, 0.0, 0.0, 0.0, 0.0, 0.0, 0.0, 0.0, 0.0, 0.0], [0.22999972105026245, 0.029275385662913322, 0.024823682382702827, 0.030747536569833755, 0.024439753964543343, 0.025078173726797104, 0.019048266112804413, 0.04161752387881279, 0.025246422737836838, 0.05536343902349472, 0.013840343803167343, 0.032063111662864685, 0.02337372489273548, 0.026896366849541664, 0.03765583038330078, 0.02870967611670494, 0.03498142212629318, 0.03826926276087761, 0.05304878577589989, 0.07750781625509262, 0.04235750436782837, 0.0629706010222435, 0.022685663774609566, 0.0, 0.0, 0.0, 0.0, 0.0, 0.0, 0.0, 0.0, 0.0, 0.0, 0.0, 0.0], [0.2523007094860077, 0.04309261590242386, 0.04779429733753204, 0.021534817293286324, 0.05364760756492615, 0.014357617124915123, 0.016968203708529472, 0.012399856001138687, 0.02810794673860073, 0.02296457067131996, 0.013637290336191654, 0.03462434187531471, 0.01305756438523531, 0.029753554612398148, 0.02592567540705204, 0.03689543157815933, 0.0364658497273922, 0.020091168582439423, 0.034248434007167816, 0.032270647585392, 0.07516517490148544, 0.03381400927901268, 0.05794449895620346, 0.04293811321258545, 0.0, 0.0, 0.0, 0.0, 0.0, 0.0, 0.0, 0.0, 0.0, 0.0, 0.0], [0.2481558918952942, 0.04183840751647949, 0.03725351393222809, 0.0199141725897789, 0.060311757028102875, 0.013761515729129314, 0.010237004607915878, 0.02711835876107216, 0.02124747633934021, 0.014996417798101902, 0.015956399962306023, 0.019741928204894066, 0.016942845657467842, 0.02278241515159607, 0.021159423515200615, 0.013419792987406254, 0.02113156020641327, 0.01588008552789688, 0.03851575031876564, 0.03509928286075592, 0.06386470794677734, 0.04215891659259796, 0.055951785296201706, 0.06510591506958008, 0.057454634457826614, 0.0, 0.0, 0.0, 0.0, 0.0, 0.0, 0.0, 0.0, 0.0, 0.0], [0.24590614438056946, 0.03979460150003433, 0.03405001387000084, 0.038720112293958664, 0.02834436111152172, 0.02456827461719513, 0.013687250204384327, 0.01988094113767147, 0.017507946118712425, 0.04131213575601578, 0.024649064987897873, 0.01702808402478695, 0.015493776649236679, 0.01803990639746189, 0.028712522238492966, 0.0089453449472785, 0.01785881444811821, 0.02984652668237686, 0.02698223665356636, 0.061192579567432404, 0.039721421897411346, 0.040086906403303146, 0.046563778072595596, 0.046592097729444504, 0.04635816067457199, 0.028156954795122147, 0.0, 0.0, 0.0, 0.0, 0.0, 0.0, 0.0, 0.0, 0.0], [0.24299508333206177, 0.03093666024506092, 0.0372811034321785, 0.02997979149222374, 0.03951823711395264, 0.02068973518908024, 0.02446378953754902, 0.01616225764155388, 0.023514606058597565, 0.015184110961854458, 0.009779499843716621, 0.010400434024631977, 0.008830745704472065, 0.023988919332623482, 0.024419233202934265, 0.03784201666712761, 0.01058998703956604, 0.013367552310228348, 0.016263322904706, 0.09984055161476135, 0.025632793083786964, 0.027902815490961075, 0.05468781292438507, 0.031704071909189224, 0.027479570358991623, 0.016517238691449165, 0.08002807199954987, 0.0, 0.0, 0.0, 0.0, 0.0, 0.0, 0.0, 0.0], [0.24383294582366943, 0.02178153581917286, 0.019058488309383392, 0.026608403772115707, 0.03740561380982399, 0.027086645364761353, 0.005031604319810867, 0.026656057685613632, 0.01742936111986637, 0.02866247296333313, 0.012151000089943409, 0.03022322803735733, 0.014068306423723698, 0.018160900101065636, 0.015435311011970043, 0.01572183333337307, 0.03215306997299194, 0.02497299574315548, 0.04793374985456467, 0.045990005135536194, 0.031192149966955185, 0.038415275514125824, 0.03788124397397041, 0.03472229465842247, 0.035507529973983765, 0.033360373228788376, 0.054608020931482315, 0.02394954487681389, 0.0, 0.0, 0.0, 0.0, 0.0, 0.0, 0.0], [0.3087879717350006, 0.04082433134317398, 0.010766160674393177, 0.027089744806289673, 0.019433297216892242, 0.033555492758750916, 0.010839526541531086, 0.011495565064251423, 0.011286417953670025, 0.019319284707307816, 0.03442363068461418, 0.01059587113559246, 0.01946372352540493, 0.011577972210943699, 0.014172393828630447, 0.021593404933810234, 0.010569153353571892, 0.01821252889931202, 0.007991204969584942, 0.05231863260269165, 0.019707776606082916, 0.03532519191503525, 0.029598254710435867, 0.028512975201010704, 0.02101977914571762, 0.018976127728819847, 0.03100794553756714, 0.01773696206510067, 0.10379865020513535, 0.0, 0.0, 0.0, 0.0, 0.0, 0.0], [0.11270297318696976, 0.013211622834205627, 0.015115481801331043, 0.008062336593866348, 0.018075065687298775, 0.020267322659492493, 0.009121794253587723, 0.0216544009745121, 0.024600304663181305, 0.01222028024494648, 0.005230677779763937, 0.021195201203227043, 0.007505758665502071, 0.0272400863468647, 0.01682897098362446, 0.009307206608355045, 0.023774145171046257, 0.009840195067226887, 0.02352038398385048, 0.018096202984452248, 0.11592712253332138, 0.008296087384223938, 0.015038431622087955, 0.01626184582710266, 0.022837143391370773, 0.007970294915139675, 0.010346001945436, 0.013601294718682766, 0.009923172183334827, 0.362228125333786, 0.0, 0.0, 0.0, 0.0, 0.0], [0.19907142221927643, 0.023352958261966705, 0.027535494416952133, 0.02074119634926319, 0.04944239929318428, 0.03964550793170929, 0.011580475606024265, 0.038496073335409164, 0.012212726287543774, 0.012634863145649433, 0.018897850066423416, 0.011502716690301895, 0.014417947269976139, 0.012855136767029762, 0.015916287899017334, 0.009284349158406258, 0.011929099448025227, 0.0145748071372509, 0.02956235595047474, 0.03092147223651409, 0.049348875880241394, 0.02683301270008087, 0.03316975757479668, 0.02651391550898552, 0.03841780871152878, 0.03666592389345169, 0.037406835705041885, 0.0374491810798645, 0.04181370139122009, 0.04080498591065407, 0.027000805363059044, 0.0, 0.0, 0.0, 0.0], [0.1358085572719574, 0.0215982124209404, 0.028431450948119164, 0.0213667880743742, 0.03184177353978157, 0.02831077016890049, 0.011232446879148483, 0.016139337792992592, 0.023436740040779114, 0.02514428086578846, 0.012804519385099411, 0.012000501155853271, 0.020912280306220055, 0.02500326558947563, 0.027692236006259918, 0.017305925488471985, 0.012859737500548363, 0.016066299751400948, 0.032790012657642365, 0.03829028084874153, 0.060804806649684906, 0.03674997389316559, 0.0352473221719265, 0.03857799991965294, 0.039048150181770325, 0.036643411964178085, 0.014530440792441368, 0.021632276475429535, 0.010490994900465012, 0.06733925640583038, 0.03867286443710327, 0.04122712463140488, 0.0, 0.0, 0.0], [0.13088135421276093, 0.023744331672787666, 0.02011433243751526, 0.009702390059828758, 0.026952221989631653, 0.013591098599135876, 0.009517532773315907, 0.013271703384816647, 0.027617929503321648, 0.01149837113916874, 0.008886138908565044, 0.016865810379385948, 0.00997198186814785, 0.03131861612200737, 0.01495380513370037, 0.01563660055398941, 0.018755866214632988, 0.008822464384138584, 0.024258311837911606, 0.018599864095449448, 0.06659715622663498, 0.023935331031680107, 0.030215023085474968, 0.03847971186041832, 0.060547858476638794, 0.0388609804213047, 0.021039573475718498, 0.026919949799776077, 0.03078671544790268, 0.0633939579129219, 0.053022921085357666, 0.07499755918979645, 0.016242533922195435, 0.0, 0.0], [0.21679525077342987, 0.035239383578300476, 0.014480572193861008, 0.03231681510806084, 0.021502697840332985, 0.019766850396990776, 0.0077169653959572315, 0.03142576664686203, 0.011421256698668003, 0.039850786328315735, 0.005697544198483229, 0.013826770707964897, 0.011217726394534111, 0.011028860695660114, 0.014342340640723705, 0.016691595315933228, 0.013800657354295254, 0.009054162539541721, 0.01655157282948494, 0.04516450688242912, 0.01674339547753334, 0.04049497842788696, 0.04600658267736435, 0.039180245250463486, 0.020771784707903862, 0.04241837188601494, 0.029444053769111633, 0.016546525061130524, 0.043390437960624695, 0.018028808757662773, 0.01749301515519619, 0.031954456120729446, 0.02317996509373188, 0.026455208659172058, 0.0], [0.12406572699546814, 0.05575520545244217, 0.025793112814426422, 0.007745693903416395, 0.019214732572436333, 0.011872401461005211, 0.009303716011345387, 0.015842609107494354, 0.012728426605463028, 0.012888251803815365, 0.013962874189019203, 0.01662725955247879, 0.01550710666924715, 0.013195217587053776, 0.017325088381767273, 0.02114797569811344, 0.017335500568151474, 0.01582430489361286, 0.02479436807334423, 0.011903030797839165, 0.03651025891304016, 0.02387474663555622, 0.040221355855464935, 0.06286037713289261, 0.10149350762367249, 0.05332259088754654, 0.021689612418413162, 0.01824428327381611, 0.00840698927640915, 0.02320229820907116, 0.04960416629910469, 0.020869312807917595, 0.016017956659197807, 0.01110194344073534, 0.049747906625270844]], [[1.0, 0.0, 0.0, 0.0, 0.0, 0.0, 0.0, 0.0, 0.0, 0.0, 0.0, 0.0, 0.0, 0.0, 0.0, 0.0, 0.0, 0.0, 0.0, 0.0, 0.0, 0.0, 0.0, 0.0, 0.0, 0.0, 0.0, 0.0, 0.0, 0.0, 0.0, 0.0, 0.0, 0.0, 0.0], [0.1077800765633583, 0.8922199010848999, 0.0, 0.0, 0.0, 0.0, 0.0, 0.0, 0.0, 0.0, 0.0, 0.0, 0.0, 0.0, 0.0, 0.0, 0.0, 0.0, 0.0, 0.0, 0.0, 0.0, 0.0, 0.0, 0.0, 0.0, 0.0, 0.0, 0.0, 0.0, 0.0, 0.0, 0.0, 0.0, 0.0], [0.01184744294732809, 0.5536141991615295, 0.434538334608078, 0.0, 0.0, 0.0, 0.0, 0.0, 0.0, 0.0, 0.0, 0.0, 0.0, 0.0, 0.0, 0.0, 0.0, 0.0, 0.0, 0.0, 0.0, 0.0, 0.0, 0.0, 0.0, 0.0, 0.0, 0.0, 0.0, 0.0, 0.0, 0.0, 0.0, 0.0, 0.0], [0.06322260946035385, 0.021719152107834816, 0.09427288174629211, 0.8207852840423584, 0.0, 0.0, 0.0, 0.0, 0.0, 0.0, 0.0, 0.0, 0.0, 0.0, 0.0, 0.0, 0.0, 0.0, 0.0, 0.0, 0.0, 0.0, 0.0, 0.0, 0.0, 0.0, 0.0, 0.0, 0.0, 0.0, 0.0, 0.0, 0.0, 0.0, 0.0], [0.005095744971185923, 0.0005348750273697078, 0.0010105493711307645, 0.004657568410038948, 0.9887012243270874, 0.0, 0.0, 0.0, 0.0, 0.0, 0.0, 0.0, 0.0, 0.0, 0.0, 0.0, 0.0, 0.0, 0.0, 0.0, 0.0, 0.0, 0.0, 0.0, 0.0, 0.0, 0.0, 0.0, 0.0, 0.0, 0.0, 0.0, 0.0, 0.0, 0.0], [0.0055859629064798355, 0.00030240125488489866, 0.0007955094333738089, 0.0006780333933420479, 0.028760144487023354, 0.9638778567314148, 0.0, 0.0, 0.0, 0.0, 0.0, 0.0, 0.0, 0.0, 0.0, 0.0, 0.0, 0.0, 0.0, 0.0, 0.0, 0.0, 0.0, 0.0, 0.0, 0.0, 0.0, 0.0, 0.0, 0.0, 0.0, 0.0, 0.0, 0.0, 0.0], [0.00026657350827008486, 0.00015396180970128626, 4.3442043534014374e-05, 0.0003163384390063584, 0.007582372520118952, 0.008635692298412323, 0.9830016493797302, 0.0, 0.0, 0.0, 0.0, 0.0, 0.0, 0.0, 0.0, 0.0, 0.0, 0.0, 0.0, 0.0, 0.0, 0.0, 0.0, 0.0, 0.0, 0.0, 0.0, 0.0, 0.0, 0.0, 0.0, 0.0, 0.0, 0.0, 0.0], [0.0006940625025890768, 4.833183629671112e-05, 4.511350562097505e-05, 2.3520820832345635e-05, 0.0022377686109393835, 0.0012080544838681817, 0.009321358986198902, 0.9864218235015869, 0.0, 0.0, 0.0, 0.0, 0.0, 0.0, 0.0, 0.0, 0.0, 0.0, 0.0, 0.0, 0.0, 0.0, 0.0, 0.0, 0.0, 0.0, 0.0, 0.0, 0.0, 0.0, 0.0, 0.0, 0.0, 0.0, 0.0], [0.04771992564201355, 0.006346920970827341, 0.005507628433406353, 0.012776732444763184, 0.012552589178085327, 0.01220054179430008, 0.0077606067061424255, 0.01711486093699932, 0.8780202269554138, 0.0, 0.0, 0.0, 0.0, 0.0, 0.0, 0.0, 0.0, 0.0, 0.0, 0.0, 0.0, 0.0, 0.0, 0.0, 0.0, 0.0, 0.0, 0.0, 0.0, 0.0, 0.0, 0.0, 0.0, 0.0, 0.0], [9.403799049323425e-05, 7.29912756014528e-07, 1.2948547691848944e-06, 1.0040589586424176e-06, 1.5192427781585138e-05, 3.6095214454689994e-05, 3.1514402508037165e-05, 0.0010808263905346394, 4.2368457798147574e-05, 0.9986969828605652, 0.0, 0.0, 0.0, 0.0, 0.0, 0.0, 0.0, 0.0, 0.0, 0.0, 0.0, 0.0, 0.0, 0.0, 0.0, 0.0, 0.0, 0.0, 0.0, 0.0, 0.0, 0.0, 0.0, 0.0, 0.0], [0.00029844240634702146, 1.0225209734926466e-05, 2.0773864889633842e-05, 1.0716746146499645e-05, 7.453838043147698e-05, 0.00016580583178438246, 0.001366860349662602, 0.0025834848638623953, 5.024066922487691e-05, 0.32439520955085754, 0.6710236668586731, 0.0, 0.0, 0.0, 0.0, 0.0, 0.0, 0.0, 0.0, 0.0, 0.0, 0.0, 0.0, 0.0, 0.0, 0.0, 0.0, 0.0, 0.0, 0.0, 0.0, 0.0, 0.0, 0.0, 0.0], [0.009233687072992325, 0.0007820443133823574, 0.0006810438935644925, 0.0018207879038527608, 0.004383380990475416, 0.017509128898382187, 0.0033242476638406515, 0.017607437446713448, 0.0809965655207634, 0.10943033546209335, 0.01429188996553421, 0.7399393916130066, 0.0, 0.0, 0.0, 0.0, 0.0, 0.0, 0.0, 0.0, 0.0, 0.0, 0.0, 0.0, 0.0, 0.0, 0.0, 0.0, 0.0, 0.0, 0.0, 0.0, 0.0, 0.0, 0.0], [0.00023930352472234517, 3.3237977277167374e-06, 2.2832835384178907e-05, 1.024477751343511e-05, 1.0253643267787993e-05, 4.4964188418816775e-05, 2.357670928176958e-05, 6.216637120814994e-05, 0.0003292960172984749, 0.008749553933739662, 0.001878876704722643, 0.0014183486346155405, 0.9872072339057922, 0.0, 0.0, 0.0, 0.0, 0.0, 0.0, 0.0, 0.0, 0.0, 0.0, 0.0, 0.0, 0.0, 0.0, 0.0, 0.0, 0.0, 0.0, 0.0, 0.0, 0.0, 0.0], [0.012295348569750786, 0.0005298623582348228, 0.0003560508193913847, 0.0006006719195283949, 0.0005327538237906992, 0.0005349715938791633, 0.0003473352116998285, 0.0008671170216985047, 0.034323085099458694, 0.013273639604449272, 0.0075311968103051186, 0.05941799655556679, 0.09377511590719223, 0.775614857673645, 0.0, 0.0, 0.0, 0.0, 0.0, 0.0, 0.0, 0.0, 0.0, 0.0, 0.0, 0.0, 0.0, 0.0, 0.0, 0.0, 0.0, 0.0, 0.0, 0.0, 0.0], [7.85088850534521e-05, 1.1863371582876425e-05, 5.970536676613847e-06, 4.359465037850896e-06, 6.933054464752786e-06, 5.5673313909210265e-05, 8.762038305576425e-06, 2.2130028810352087e-05, 0.00022238318342715502, 0.00028025032952427864, 0.0008127274340949953, 0.0015677306801080704, 0.00018956410349346697, 0.0058794161304831505, 0.9908537864685059, 0.0, 0.0, 0.0, 0.0, 0.0, 0.0, 0.0, 0.0, 0.0, 0.0, 0.0, 0.0, 0.0, 0.0, 0.0, 0.0, 0.0, 0.0, 0.0, 0.0], [9.475036495132372e-05, 8.603485184721649e-06, 3.744870127775357e-06, 1.463425149950126e-07, 2.701749281186494e-06, 1.1417402674851473e-05, 8.62085562403081e-06, 9.9281343864277e-05, 3.1195229439617833e-06, 0.0002262087509734556, 0.0005323371151462197, 2.980500357807614e-05, 0.0013675696682184935, 5.1080169214401394e-05, 0.009570845402777195, 0.9879898428916931, 0.0, 0.0, 0.0, 0.0, 0.0, 0.0, 0.0, 0.0, 0.0, 0.0, 0.0, 0.0, 0.0, 0.0, 0.0, 0.0, 0.0, 0.0, 0.0], [0.0039447094313800335, 0.0001302912860410288, 9.947702346835285e-05, 0.00019776351109612733, 0.00042658456368371844, 0.0014889846788719296, 0.0002834685146808624, 0.001535671530291438, 0.0048100920394063, 0.005567713640630245, 0.0010473583824932575, 0.04082653671503067, 0.009189019910991192, 0.09278509765863419, 0.015853002667427063, 0.027940865606069565, 0.7938734292984009, 0.0, 0.0, 0.0, 0.0, 0.0, 0.0, 0.0, 0.0, 0.0, 0.0, 0.0, 0.0, 0.0, 0.0, 0.0, 0.0, 0.0, 0.0], [0.00021723686950281262, 2.3531270926469006e-05, 7.806313078617677e-06, 4.732967227027984e-06, 1.5671267874495243e-06, 8.667443580634426e-06, 1.2646282812056597e-05, 6.129294342827052e-05, 0.0001886947575258091, 0.0005901307449676096, 0.0004205673758406192, 0.0009746536379680037, 0.0004217778332531452, 0.004066715482622385, 0.0014422440435737371, 0.01196004543453455, 0.022401956841349602, 0.9571956396102905, 0.0, 0.0, 0.0, 0.0, 0.0, 0.0, 0.0, 0.0, 0.0, 0.0, 0.0, 0.0, 0.0, 0.0, 0.0, 0.0, 0.0], [0.0007360453018918633, 3.0168239391059615e-06, 1.355473841613275e-06, 1.401467784489796e-06, 3.387705146451481e-05, 3.7522881029872224e-05, 1.0748701242846437e-05, 0.0004302706802263856, 1.6196763681364246e-05, 0.0006748259766027331, 0.0005265922518447042, 0.00012409142800606787, 4.71071653009858e-05, 0.00024138137814588845, 0.0006886576884426177, 0.00038702061283402145, 0.002144153695553541, 0.0017651681555435061, 0.9921305775642395, 0.0, 0.0, 0.0, 0.0, 0.0, 0.0, 0.0, 0.0, 0.0, 0.0, 0.0, 0.0, 0.0, 0.0, 0.0, 0.0], [6.5298086155962665e-06, 4.013174681460896e-09, 4.275882758975058e-09, 9.052371297002537e-09, 5.135171932124649e-07, 3.731759534275625e-06, 1.4824242100530682e-07, 4.6551231207558885e-06, 1.663049964406582e-08, 3.029677600352443e-06, 3.191977884853259e-05, 1.401744071927169e-07, 4.954933956469176e-07, 2.367105196299235e-07, 7.952917258080561e-07, 0.00018607274978421628, 2.4466733066219604e-06, 1.1982309843006078e-05, 0.0005082337302155793, 0.9992390871047974, 0.0, 0.0, 0.0, 0.0, 0.0, 0.0, 0.0, 0.0, 0.0, 0.0, 0.0, 0.0, 0.0, 0.0, 0.0], [0.009417890571057796, 0.0001736242265906185, 0.00019593219622038305, 0.00010542478412389755, 0.00012100100866518915, 0.0001375036226818338, 0.00020822334045078605, 0.00026208790950477123, 0.0009803806897252798, 0.00017425190890207887, 0.001331392559222877, 0.003277307841926813, 0.0048406245186924934, 0.012378797866404057, 0.0018258971394971013, 0.024282041937112808, 0.05479968339204788, 0.0742848813533783, 0.07759269326925278, 0.1084534227848053, 0.6251569390296936, 0.0, 0.0, 0.0, 0.0, 0.0, 0.0, 0.0, 0.0, 0.0, 0.0, 0.0, 0.0, 0.0, 0.0], [0.00017886343994177878, 2.97178257824271e-06, 1.287924305870547e-06, 1.661971055000322e-06, 3.153397528876667e-06, 7.608561645611189e-06, 4.480571362819319e-07, 4.628855549526634e-06, 4.462084689293988e-06, 4.640829047275474e-06, 4.678133336710744e-06, 2.2255213480093516e-05, 0.0006885050097480416, 5.880873140995391e-05, 5.511297786142677e-05, 0.0013147706631571054, 0.0004210424958728254, 0.0005279298638924956, 0.0003059162700083107, 0.0011363036464899778, 0.004935148172080517, 0.9903199076652527, 0.0, 0.0, 0.0, 0.0, 0.0, 0.0, 0.0, 0.0, 0.0, 0.0, 0.0, 0.0, 0.0], [0.000900082231964916, 3.460912193986587e-05, 6.0000929806847125e-06, 1.3317927596290247e-06, 8.38242340250872e-06, 7.950181498017628e-06, 8.352971576641721e-07, 5.017455350753153e-06, 1.108557353290962e-05, 1.5506182535318658e-05, 2.244969073217362e-05, 3.2394586014561355e-05, 7.153389742597938e-05, 0.00011106161400675774, 6.552063041453948e-06, 3.557855961844325e-05, 0.00046084230416454375, 0.0006021027220413089, 0.00773558858782053, 0.004731390625238419, 0.012920131906867027, 0.016999121755361557, 0.9552805423736572, 0.0, 0.0, 0.0, 0.0, 0.0, 0.0, 0.0, 0.0, 0.0, 0.0, 0.0, 0.0], [8.094520308077335e-05, 5.419524677563459e-05, 2.1191046471358277e-05, 8.660334174237505e-07, 5.2414015954127535e-06, 2.8114016004110454e-06, 9.647656042943709e-07, 4.259619799995562e-06, 6.819952886871761e-06, 2.6370105388195952e-06, 1.038735263136914e-05, 3.11777948809322e-05, 2.5747023755684495e-05, 8.829349826555699e-05, 0.000105300459836144, 0.0003744474961422384, 0.0005833788309246302, 0.0009019345161505044, 0.00043120168265886605, 0.0049911243841052055, 0.003515928518027067, 0.015127475373446941, 0.018385006114840508, 0.9552487730979919, 0.0, 0.0, 0.0, 0.0, 0.0, 0.0, 0.0, 0.0, 0.0, 0.0, 0.0], [0.00019926734967157245, 5.897863388781843e-07, 4.093075460787077e-07, 5.28363045759761e-07, 4.043731394176575e-07, 6.811440016463166e-07, 2.501958533684956e-07, 3.190981203715637e-07, 5.018005595047725e-06, 3.0599273941334104e-06, 4.7768530748726334e-06, 8.106227141979616e-06, 1.787102701200638e-05, 5.904938007006422e-05, 7.0194905674725305e-06, 5.101946953800507e-05, 0.0001541965757496655, 0.0001555776543682441, 0.00046309444587677717, 0.00018736724450718611, 0.0029354484286159277, 0.0069986856542527676, 0.004895055666565895, 0.010302471928298473, 0.9735496640205383, 0.0, 0.0, 0.0, 0.0, 0.0, 0.0, 0.0, 0.0, 0.0, 0.0], [4.041891952510923e-05, 7.668172763430903e-09, 6.183993406239097e-08, 4.109946871722059e-08, 3.161342476687423e-07, 1.0004010420061604e-07, 6.658518003632707e-08, 4.780262656822742e-07, 4.035153366999111e-08, 6.753223715350032e-06, 8.574267695848903e-08, 1.0514231973957067e-07, 3.2702703265385935e-06, 4.896545533483732e-07, 1.2450329904822866e-06, 9.06984496396035e-06, 2.0693112219305476e-06, 8.541710485587828e-06, 4.513617022894323e-05, 8.528171747457236e-05, 8.476262155454606e-05, 0.001026789890602231, 0.0013347762869670987, 0.0002960067067760974, 0.005626782309263945, 0.9914274215698242, 0.0, 0.0, 0.0, 0.0, 0.0, 0.0, 0.0, 0.0, 0.0], [0.0003747466835193336, 1.24301294590623e-07, 2.5229184075215016e-07, 3.052454928820225e-07, 4.772525244334247e-06, 6.075460419197043e-07, 8.50174558308936e-07, 1.103085742215626e-05, 8.098998449668215e-08, 9.651313348513213e-07, 7.193372084657312e-07, 3.2339411859538814e-07, 1.7605461835046299e-06, 4.4468220039561857e-07, 3.2987662734740297e-07, 2.4300346922245808e-05, 3.6642647955886787e-06, 3.061651796087972e-06, 2.627128196763806e-05, 0.00034267199225723743, 2.078818215522915e-05, 0.00013409749954007566, 0.000304724439047277, 9.803608554648235e-05, 0.0004919694038107991, 0.004237077664583921, 0.9939160943031311, 0.0, 0.0, 0.0, 0.0, 0.0, 0.0, 0.0, 0.0], [0.00023197651898954064, 7.363622103184753e-07, 1.065806827682536e-06, 4.7498068056484044e-07, 2.187790641983156e-06, 2.074171561616822e-06, 1.38421185624793e-07, 2.5106528482865542e-06, 1.971600909200788e-07, 6.672000381513499e-06, 8.991803497337969e-07, 6.362190561048919e-07, 6.544808570652094e-07, 7.717989092270727e-07, 4.801893283001846e-07, 1.112233894673409e-05, 5.561919806496007e-06, 3.862761332129594e-06, 6.753716297680512e-05, 0.00028979568742215633, 4.3725034629460424e-05, 0.00015209011326078326, 0.0009337738738395274, 0.00018159420869778842, 8.423302642768249e-05, 0.009933868423104286, 0.008723175153136253, 0.9793182611465454, 0.0, 0.0, 0.0, 0.0, 0.0, 0.0, 0.0], [0.00015704902762081474, 3.1231869002112944e-07, 2.931934659500257e-07, 3.137154465093772e-07, 2.1960966023470974e-06, 1.4164401136440574e-06, 1.1236392083446844e-06, 1.3091762411931995e-06, 5.9214929848394604e-08, 7.978067628755525e-07, 2.8036718049406772e-06, 1.9766943637478107e-07, 3.994018413777667e-07, 2.3048994535201928e-07, 2.2642509520665044e-06, 1.6729463823139668e-05, 1.6667603404130205e-06, 2.8725471565849148e-06, 2.494689942977857e-05, 0.00025532764266245067, 4.849700417253189e-06, 4.708057167590596e-05, 5.325666279532015e-05, 4.240329872118309e-05, 0.00020874859183095396, 0.0020438109058886766, 0.08346710354089737, 0.003673001192510128, 0.9099873900413513, 0.0, 0.0, 0.0, 0.0, 0.0, 0.0], [0.0010030755074694753, 7.605908649566118e-06, 5.478894308907911e-06, 4.70407849206822e-06, 1.0818245073096477e-06, 7.246829341056582e-07, 6.05719890245382e-07, 1.5847818986003404e-06, 3.183095031999983e-05, 1.8444834495312534e-06, 1.3723765732720494e-06, 6.841013146186015e-06, 4.996103598386981e-06, 0.00014220451703295112, 2.1025925889262e-06, 2.046114059339743e-05, 6.875459803268313e-05, 8.339450869243592e-05, 7.060813368298113e-05, 0.00022270053159445524, 0.0013453494757413864, 0.0011953102657571435, 0.0007637687376700342, 0.0034127638209611177, 0.009595125913619995, 0.008245950564742088, 0.004028403665870428, 0.015673452988266945, 0.037109024822711945, 0.9169487953186035, 0.0, 0.0, 0.0, 0.0, 0.0], [0.000145980782690458, 1.3442448221212544e-07, 3.0679643714393023e-07, 1.270083771487407e-07, 9.539689216353509e-08, 4.421364963036467e-08, 7.2709593901265634e-09, 2.1630626179103274e-07, 1.7861790979623038e-07, 1.1440958758157649e-07, 4.546686227513419e-08, 1.140669425581109e-07, 1.784633099077837e-07, 8.568730436309124e-07, 1.0497480928961522e-07, 1.2474935147110955e-06, 1.1682670901791425e-06, 6.485002472800261e-07, 9.923066500050481e-06, 2.66356273641577e-05, 2.1481055227923207e-05, 7.19235249562189e-05, 0.00015873333904892206, 0.0001456323079764843, 0.002426168415695429, 0.0015144945355132222, 0.0007063176017254591, 0.0022442832123488188, 0.0045668138191103935, 0.00983235239982605, 0.9781237244606018, 0.0, 0.0, 0.0, 0.0], [1.0698774531192612e-05, 5.128419644506721e-08, 7.382501365782446e-08, 9.797534517019812e-08, 4.944878924106888e-07, 6.269718824114534e-07, 2.6257296781295736e-07, 7.361934422078775e-07, 2.5101189748966135e-07, 2.176487896576873e-06, 5.36374670900841e-07, 8.60690761328442e-07, 2.151581099951727e-07, 1.0358788813391584e-06, 2.4895066985664016e-07, 1.3481017958838493e-05, 8.521091331203934e-06, 5.148501713847509e-06, 4.645082753995666e-06, 1.6832609617267735e-05, 5.8646506658988073e-05, 3.65244886779692e-05, 0.00016485729429405183, 1.194499054690823e-05, 0.0005173987010493875, 0.002427906496450305, 0.00034773506922647357, 0.0015964048216119409, 0.009022930637001991, 0.013163730502128601, 0.06333824247121811, 0.9092468023300171, 0.0, 0.0, 0.0], [0.0012287318240851164, 8.407658242504112e-06, 8.36396066006273e-06, 8.199043804779649e-06, 3.972178546973737e-06, 3.987268883065553e-06, 1.5942542859193054e-06, 4.764986897498602e-06, 4.4619105210585985e-06, 8.699216778040864e-06, 3.482304691715399e-06, 4.0872232602851e-06, 4.3831860239151865e-06, 1.2878724191978108e-05, 2.7649944058794063e-06, 1.155086556536844e-05, 2.850840610335581e-05, 1.9726190657820553e-05, 8.007956057554111e-05, 0.00016381597379222512, 0.0002766102261375636, 0.0004829973040614277, 0.0005903010605834424, 0.0011750616831704974, 0.0034667078871279955, 0.005802726373076439, 0.011907557025551796, 0.016952965408563614, 0.028466515243053436, 0.061375778168439865, 0.11517593264579773, 0.20177730917930603, 0.5509370565414429, 0.0, 0.0], [3.782529165619053e-05, 6.459638512978927e-08, 1.9273654672247176e-08, 7.97582799805241e-08, 6.700336712128774e-07, 1.2464347776131035e-07, 3.072165100093116e-08, 3.367149190580676e-07, 9.954005264489751e-08, 4.5415245608637633e-07, 3.406016446660942e-08, 1.7256137141430372e-07, 3.3590254133741837e-07, 3.256334082379908e-07, 1.1636627661459897e-08, 3.2042187285696855e-06, 1.2533513427115395e-06, 1.766305558703607e-06, 1.1125961464131251e-05, 2.0410294382600114e-05, 8.103430445771664e-06, 1.288108524022391e-05, 0.00014193193055689335, 1.1411115337978117e-05, 0.00010671337804524228, 0.00010951134754577652, 0.0017927117878571153, 0.0015404949663206935, 0.0012465228792279959, 0.0015975880669429898, 0.0008927046437747777, 0.009557017125189304, 0.009279942139983177, 0.9736242294311523, 0.0], [0.0003539694007486105, 2.644037294885493e-06, 1.7576138588992762e-06, 1.2348078826107667e-06, 5.949707883701194e-06, 1.3091880646243226e-06, 3.3621063266764395e-07, 2.4850552904354117e-07, 6.705453188260435e-07, 6.699517030028801e-08, 6.061916906219267e-07, 4.6190581315386225e-07, 2.3573272756038932e-06, 1.4622232811234426e-06, 2.9763668862869963e-07, 1.6005789120754343e-06, 2.4609062165836804e-06, 1.9317201349622337e-06, 3.2001476938603446e-05, 2.4651993953739293e-05, 3.429640855756588e-05, 0.00016550840518902987, 7.883959187893197e-05, 0.00018387149611953646, 0.0011651520617306232, 0.00012255352339707315, 0.0011725190561264753, 0.0004984783008694649, 0.0035014813765883446, 0.0034007469657808542, 0.011839515529572964, 0.0051790876314044, 0.016713853925466537, 0.029127685353159904, 0.9263803958892822]], [[1.0, 0.0, 0.0, 0.0, 0.0, 0.0, 0.0, 0.0, 0.0, 0.0, 0.0, 0.0, 0.0, 0.0, 0.0, 0.0, 0.0, 0.0, 0.0, 0.0, 0.0, 0.0, 0.0, 0.0, 0.0, 0.0, 0.0, 0.0, 0.0, 0.0, 0.0, 0.0, 0.0, 0.0, 0.0], [0.9238101243972778, 0.07618988305330276, 0.0, 0.0, 0.0, 0.0, 0.0, 0.0, 0.0, 0.0, 0.0, 0.0, 0.0, 0.0, 0.0, 0.0, 0.0, 0.0, 0.0, 0.0, 0.0, 0.0, 0.0, 0.0, 0.0, 0.0, 0.0, 0.0, 0.0, 0.0, 0.0, 0.0, 0.0, 0.0, 0.0], [0.3758924603462219, 0.10050591081380844, 0.5236017107963562, 0.0, 0.0, 0.0, 0.0, 0.0, 0.0, 0.0, 0.0, 0.0, 0.0, 0.0, 0.0, 0.0, 0.0, 0.0, 0.0, 0.0, 0.0, 0.0, 0.0, 0.0, 0.0, 0.0, 0.0, 0.0, 0.0, 0.0, 0.0, 0.0, 0.0, 0.0, 0.0], [0.4121374189853668, 0.08231590688228607, 0.180847629904747, 0.3246990740299225, 0.0, 0.0, 0.0, 0.0, 0.0, 0.0, 0.0, 0.0, 0.0, 0.0, 0.0, 0.0, 0.0, 0.0, 0.0, 0.0, 0.0, 0.0, 0.0, 0.0, 0.0, 0.0, 0.0, 0.0, 0.0, 0.0, 0.0, 0.0, 0.0, 0.0, 0.0], [0.14052289724349976, 0.00581231527030468, 0.028276382014155388, 0.05733034014701843, 0.7680580615997314, 0.0, 0.0, 0.0, 0.0, 0.0, 0.0, 0.0, 0.0, 0.0, 0.0, 0.0, 0.0, 0.0, 0.0, 0.0, 0.0, 0.0, 0.0, 0.0, 0.0, 0.0, 0.0, 0.0, 0.0, 0.0, 0.0, 0.0, 0.0, 0.0, 0.0], [0.01923072151839733, 0.0014746836386620998, 0.0016810832312330604, 0.004905845504254103, 0.025906618684530258, 0.946800947189331, 0.0, 0.0, 0.0, 0.0, 0.0, 0.0, 0.0, 0.0, 0.0, 0.0, 0.0, 0.0, 0.0, 0.0, 0.0, 0.0, 0.0, 0.0, 0.0, 0.0, 0.0, 0.0, 0.0, 0.0, 0.0, 0.0, 0.0, 0.0, 0.0], [0.006040878128260374, 0.004658225923776627, 0.012865042313933372, 0.008953888900578022, 0.0702168345451355, 0.12025342136621475, 0.7770116925239563, 0.0, 0.0, 0.0, 0.0, 0.0, 0.0, 0.0, 0.0, 0.0, 0.0, 0.0, 0.0, 0.0, 0.0, 0.0, 0.0, 0.0, 0.0, 0.0, 0.0, 0.0, 0.0, 0.0, 0.0, 0.0, 0.0, 0.0, 0.0], [0.016248272731900215, 0.003929380793124437, 0.012836662121117115, 0.005099628586322069, 0.017354179173707962, 0.01559932716190815, 0.1360277235507965, 0.7929048538208008, 0.0, 0.0, 0.0, 0.0, 0.0, 0.0, 0.0, 0.0, 0.0, 0.0, 0.0, 0.0, 0.0, 0.0, 0.0, 0.0, 0.0, 0.0, 0.0, 0.0, 0.0, 0.0, 0.0, 0.0, 0.0, 0.0, 0.0], [0.13423293828964233, 0.07014793157577515, 0.03862922638654709, 0.035926904529333115, 0.05720486491918564, 0.06419360637664795, 0.03908981382846832, 0.2145734578371048, 0.34600120782852173, 0.0, 0.0, 0.0, 0.0, 0.0, 0.0, 0.0, 0.0, 0.0, 0.0, 0.0, 0.0, 0.0, 0.0, 0.0, 0.0, 0.0, 0.0, 0.0, 0.0, 0.0, 0.0, 0.0, 0.0, 0.0, 0.0], [0.0035958813969045877, 0.0003849504282698035, 0.0004921668441966176, 0.0008088793838396668, 0.0025900991167873144, 0.0024076527915894985, 0.000171318490174599, 0.011153016239404678, 0.0021147828083485365, 0.9762811660766602, 0.0, 0.0, 0.0, 0.0, 0.0, 0.0, 0.0, 0.0, 0.0, 0.0, 0.0, 0.0, 0.0, 0.0, 0.0, 0.0, 0.0, 0.0, 0.0, 0.0, 0.0, 0.0, 0.0, 0.0, 0.0], [0.00022834481205791235, 4.666248423745856e-05, 8.206463098758832e-05, 7.730660581728444e-05, 0.00012034235260216519, 0.0043192473240196705, 0.0038442201912403107, 0.0011964984005317092, 0.00016446919471491128, 0.8530564904212952, 0.1368642896413803, 0.0, 0.0, 0.0, 0.0, 0.0, 0.0, 0.0, 0.0, 0.0, 0.0, 0.0, 0.0, 0.0, 0.0, 0.0, 0.0, 0.0, 0.0, 0.0, 0.0, 0.0, 0.0, 0.0, 0.0], [0.0657891109585762, 0.01929076574742794, 0.02049269899725914, 0.021956777200102806, 0.026686672121286392, 0.08618339151144028, 0.03104090690612793, 0.16103023290634155, 0.030162541195750237, 0.2132367491722107, 0.07554484903812408, 0.2485852837562561, 0.0, 0.0, 0.0, 0.0, 0.0, 0.0, 0.0, 0.0, 0.0, 0.0, 0.0, 0.0, 0.0, 0.0, 0.0, 0.0, 0.0, 0.0, 0.0, 0.0, 0.0, 0.0, 0.0], [0.009123362600803375, 0.003399316919967532, 0.01681826077401638, 0.004648810718208551, 0.01460227556526661, 0.058332525193691254, 0.07909009605646133, 0.0176636204123497, 0.016087274998426437, 0.1505357176065445, 0.33433905243873596, 0.05438898503780365, 0.2409706711769104, 0.0, 0.0, 0.0, 0.0, 0.0, 0.0, 0.0, 0.0, 0.0, 0.0, 0.0, 0.0, 0.0, 0.0, 0.0, 0.0, 0.0, 0.0, 0.0, 0.0, 0.0, 0.0], [0.04253436252474785, 0.01655058190226555, 0.007813412696123123, 0.006833464838564396, 0.009650967083871365, 0.009173317812383175, 0.005910311359912157, 0.03009309247136116, 0.05324169993400574, 0.035758938640356064, 0.11968686431646347, 0.07133746147155762, 0.29692214727401733, 0.29449334740638733, 0.0, 0.0, 0.0, 0.0, 0.0, 0.0, 0.0, 0.0, 0.0, 0.0, 0.0, 0.0, 0.0, 0.0, 0.0, 0.0, 0.0, 0.0, 0.0, 0.0, 0.0], [0.010158028453588486, 0.00437741307541728, 0.006503184325993061, 0.0035466840490698814, 0.006157047115266323, 0.0051498147659003735, 0.0041582463309168816, 0.014994013123214245, 0.017724111676216125, 0.008609640412032604, 0.013557269237935543, 0.027689814567565918, 0.027776112779974937, 0.08518607169389725, 0.764412522315979, 0.0, 0.0, 0.0, 0.0, 0.0, 0.0, 0.0, 0.0, 0.0, 0.0, 0.0, 0.0, 0.0, 0.0, 0.0, 0.0, 0.0, 0.0, 0.0, 0.0], [0.0005760943749919534, 3.758488310268149e-05, 3.1005773053038865e-05, 2.8090942578273825e-05, 0.00011757240281440318, 0.001062651863321662, 0.0008489799220114946, 0.002364432206377387, 0.00031711842166259885, 0.00050407147500664, 0.000543897389434278, 0.0009964666096493602, 0.004787208512425423, 0.0016582177486270666, 0.0211811363697052, 0.9649454951286316, 0.0, 0.0, 0.0, 0.0, 0.0, 0.0, 0.0, 0.0, 0.0, 0.0, 0.0, 0.0, 0.0, 0.0, 0.0, 0.0, 0.0, 0.0, 0.0], [0.05710111930966377, 0.012982717715203762, 0.01246335543692112, 0.012371201068162918, 0.013064747676253319, 0.03530247509479523, 0.013208801858127117, 0.06362835317850113, 0.010588892735540867, 0.061131998896598816, 0.027357187122106552, 0.08200794458389282, 0.03997457027435303, 0.043028347194194794, 0.06893420219421387, 0.0673389583826065, 0.3795151114463806, 0.0, 0.0, 0.0, 0.0, 0.0, 0.0, 0.0, 0.0, 0.0, 0.0, 0.0, 0.0, 0.0, 0.0, 0.0, 0.0, 0.0, 0.0], [0.050381891429424286, 0.010253244079649448, 0.009017393924295902, 0.007853326387703419, 0.008382104337215424, 0.01603054441511631, 0.007579760625958443, 0.016568146646022797, 0.00955806765705347, 0.020098434761166573, 0.028027694672346115, 0.03172840178012848, 0.02179396152496338, 0.03942327946424484, 0.11988720297813416, 0.04783086106181145, 0.14773689210414886, 0.4078488051891327, 0.0, 0.0, 0.0, 0.0, 0.0, 0.0, 0.0, 0.0, 0.0, 0.0, 0.0, 0.0, 0.0, 0.0, 0.0, 0.0, 0.0], [0.009583800099790096, 0.0005122205475345254, 0.0006106934160925448, 0.0009717883658595383, 0.0022611019667237997, 0.004041267093271017, 0.0003397605905774981, 0.0023014822509139776, 0.0014669822994619608, 0.004360880237072706, 0.01003957074135542, 0.003883794415742159, 0.001906535355374217, 0.00496836518868804, 0.0035998786333948374, 0.0027956583071500063, 0.015628818422555923, 0.014497020281851292, 0.916230320930481, 0.0, 0.0, 0.0, 0.0, 0.0, 0.0, 0.0, 0.0, 0.0, 0.0, 0.0, 0.0, 0.0, 0.0, 0.0, 0.0], [0.03377579152584076, 0.0008472931804135442, 0.0009361558477394283, 0.0006967566441744566, 0.004600137937813997, 0.0032575984951108694, 0.00042183639016002417, 0.007556704338639975, 0.0010570584563538432, 0.0036437921226024628, 0.00017823856614995748, 0.0020456204656511545, 0.0014812102308496833, 0.00291804620064795, 0.005684812553226948, 0.06616657227277756, 0.0068207080475986, 0.005966112483292818, 0.02230619266629219, 0.8296393752098083, 0.0, 0.0, 0.0, 0.0, 0.0, 0.0, 0.0, 0.0, 0.0, 0.0, 0.0, 0.0, 0.0, 0.0, 0.0], [0.014338122680783272, 0.004506278783082962, 0.002293482655659318, 0.004502631723880768, 0.006348530296236277, 0.00644070515409112, 0.003075922606512904, 0.00342938001267612, 0.008825043216347694, 0.01356387510895729, 0.00880623422563076, 0.015333063900470734, 0.010930364020168781, 0.032562438398599625, 0.04165012761950493, 0.029358426108956337, 0.06823209673166275, 0.10101232677698135, 0.1282440721988678, 0.08141807466745377, 0.41512879729270935, 0.0, 0.0, 0.0, 0.0, 0.0, 0.0, 0.0, 0.0, 0.0, 0.0, 0.0, 0.0, 0.0, 0.0], [0.012516944669187069, 0.003707383992150426, 0.0011323613580316305, 0.0020440162625163794, 0.002103797858580947, 0.0007217557285912335, 0.00035877127083949745, 0.001065457588993013, 0.0033418682869523764, 0.003534772666171193, 0.0018008307088166475, 0.00513138622045517, 0.005956845358014107, 0.011681459844112396, 0.023353150114417076, 0.024626366794109344, 0.02308260090649128, 0.024053940549492836, 0.04505404084920883, 0.04447481781244278, 0.09848444908857346, 0.6617729663848877, 0.0, 0.0, 0.0, 0.0, 0.0, 0.0, 0.0, 0.0, 0.0, 0.0, 0.0, 0.0, 0.0], [0.02337808534502983, 0.0029700929298996925, 0.0022721632849425077, 0.0031212526373565197, 0.010448778048157692, 0.002795712323859334, 0.00095007085474208, 0.006640288047492504, 0.002509301993995905, 0.006215902976691723, 0.0018756603822112083, 0.004366474226117134, 0.005894931964576244, 0.007904245518147945, 0.011842511594295502, 0.01178031601011753, 0.016934018582105637, 0.015606733039021492, 0.036991946399211884, 0.05676274374127388, 0.03885181248188019, 0.3010690212249756, 0.4288179874420166, 0.0, 0.0, 0.0, 0.0, 0.0, 0.0, 0.0, 0.0, 0.0, 0.0, 0.0, 0.0], [0.042250849306583405, 0.009647666476666927, 0.01306966133415699, 0.003493925090879202, 0.008718244731426239, 0.0008717635064385831, 0.0021130708046257496, 0.0025201544631272554, 0.002825931180268526, 0.0030562581960111856, 0.005475993268191814, 0.004467592108994722, 0.0059662084095180035, 0.008145664818584919, 0.027670927345752716, 0.01338263414800167, 0.01818913221359253, 0.0327802412211895, 0.028848368674516678, 0.05995950475335121, 0.09605948626995087, 0.20931929349899292, 0.10138262063264847, 0.2997848093509674, 0.0, 0.0, 0.0, 0.0, 0.0, 0.0, 0.0, 0.0, 0.0, 0.0, 0.0], [0.025818001478910446, 0.0012453020317479968, 0.001236771116964519, 0.0031558212358504534, 0.002605453832075, 0.0011178315617144108, 0.00023053219774737954, 0.0010614539496600628, 0.001255297684110701, 0.001447016024030745, 0.0006083030020818114, 0.0021444340236485004, 0.0017222739988937974, 0.0030636764131486416, 0.0021307135466486216, 0.0017395145259797573, 0.007489565759897232, 0.004201175644993782, 0.016367275267839432, 0.017187532037496567, 0.016647018492221832, 0.06787319481372833, 0.075461246073246, 0.04369647800922394, 0.7004941701889038, 0.0, 0.0, 0.0, 0.0, 0.0, 0.0, 0.0, 0.0, 0.0, 0.0], [0.0075083100236952305, 0.00012913934187963605, 0.00022904042270965874, 0.0003099398745689541, 0.0015875755343586206, 0.00015740802336949855, 0.00036546672345139086, 0.00026319510652683675, 0.000246187555603683, 0.00496384734287858, 0.000849328760523349, 0.00020542528363876045, 0.0035996590740978718, 0.0006757518276572227, 0.0006743194535374641, 0.0028660339303314686, 0.0007401988259516656, 0.0012410664930939674, 0.0034339409321546555, 0.0033488080371171236, 0.005896297283470631, 0.015315254218876362, 0.013584433123469353, 0.003806075546890497, 0.10587518662214279, 0.8221280574798584, 0.0, 0.0, 0.0, 0.0, 0.0, 0.0, 0.0, 0.0, 0.0], [0.015146843157708645, 0.0002837271895259619, 0.0004323893808759749, 0.0012392145581543446, 0.0026600707788020372, 0.0003459545550867915, 0.000295427133096382, 0.0018772099865600467, 0.00023691265960223973, 0.00013219239190220833, 0.00033548095962032676, 0.00022997907944954932, 0.00027149065863341093, 0.000420953962020576, 0.0008192590321414173, 0.0003039471048396081, 0.000646936590783298, 0.0003804271691478789, 0.0023925937712192535, 0.002976801944896579, 0.0025756140239536762, 0.005941803101450205, 0.005901214201003313, 0.0052087814547121525, 0.025423720479011536, 0.023241262882947922, 0.900279700756073, 0.0, 0.0, 0.0, 0.0, 0.0, 0.0, 0.0, 0.0], [0.02088218741118908, 0.0006866256007924676, 0.0014190307119861245, 0.00162472203373909, 0.00546672660857439, 0.0019930731505155563, 0.0003444560570642352, 0.0014866311103105545, 0.0003860277065541595, 0.00029868012643419206, 0.0003715486091095954, 0.0005332496366463602, 0.000256707746302709, 0.000608334259595722, 0.000378625700250268, 0.0013748229248449206, 0.0013781336601823568, 0.000923665938898921, 0.023375000804662704, 0.03773236274719238, 0.004063981119543314, 0.021846633404493332, 0.018512383103370667, 0.005047196988016367, 0.01844027079641819, 0.0639948844909668, 0.3300279378890991, 0.4365461468696594, 0.0, 0.0, 0.0, 0.0, 0.0, 0.0, 0.0], [0.0027297872584313154, 0.00011315743176965043, 0.00025743190781213343, 0.00030652948771603405, 0.0008012371836230159, 0.0008870947058312595, 0.00010111580922966823, 0.0020485699642449617, 0.00014291185652837157, 0.0001989804150070995, 0.00043098186142742634, 7.435752195306122e-05, 0.00011077833187300712, 0.00022297559189610183, 0.00010400122846476734, 0.0007566189160570502, 0.00018428797193337232, 0.0003102098999079317, 0.0010590284364297986, 0.005394386127591133, 0.0013711382634937763, 0.0017238223226740956, 0.003438347252085805, 0.00077915278961882, 0.0027107922360301018, 0.011246602982282639, 0.26186174154281616, 0.042864635586738586, 0.6577692627906799, 0.0, 0.0, 0.0, 0.0, 0.0, 0.0], [0.007169216405600309, 0.002651229267939925, 0.002445024438202381, 0.00302325002849102, 0.0026861894875764847, 0.0007135472842492163, 0.0005127675249241292, 0.0003864862082991749, 0.0009532013791613281, 0.00044078356586396694, 0.0008591744699515402, 0.0012491060188040137, 0.00094247778179124, 0.001661724760197103, 0.0004435316368471831, 0.0014648407232016325, 0.0035774637944996357, 0.0037673397455364466, 0.01212292816489935, 0.006853912957012653, 0.005249565001577139, 0.019704243168234825, 0.026669228449463844, 0.040960222482681274, 0.23853962123394012, 0.05725705623626709, 0.04040537029504776, 0.1093398928642273, 0.0773630291223526, 0.33058756589889526, 0.0, 0.0, 0.0, 0.0, 0.0], [0.011626658961176872, 0.0019658158998936415, 0.0009179515182040632, 0.0018197433091700077, 0.002078976249322295, 0.0002935711236204952, 0.00010028556425822899, 0.0005799980717711151, 0.0004854122526012361, 9.764830610947683e-05, 0.00015712763706687838, 0.0004106425622012466, 0.0004877775500062853, 0.0007517860503867269, 0.0007532838499173522, 0.0012242115335538983, 0.001082684495486319, 0.0014821897493675351, 0.0027742492966353893, 0.00361033552326262, 0.0021372404880821705, 0.009361449629068375, 0.014277652837336063, 0.011846717447042465, 0.047293346375226974, 0.0450628399848938, 0.04156067222356796, 0.042807891964912415, 0.07079775631427765, 0.10084829479455948, 0.5813058018684387, 0.0, 0.0, 0.0, 0.0], [0.00387343461625278, 0.0002557098341640085, 0.0006259250803850591, 0.0005843958933837712, 0.0012326465221121907, 0.0003945601056329906, 0.0003326676378492266, 0.00015581950719933957, 0.000164727185619995, 0.0007726291660219431, 0.0003866982879117131, 0.00027824475546367466, 0.00015239730419125408, 0.00025198535877279937, 6.452926754718646e-05, 0.0001726413465803489, 0.0007133578765206039, 0.0005384792457334697, 0.007539564277976751, 0.006723247934132814, 0.0013963913079351187, 0.0031103563960641623, 0.005501287989318371, 0.0024135890416800976, 0.03896056115627289, 0.023422326892614365, 0.009641132317483425, 0.02575090527534485, 0.12702485918998718, 0.04005929082632065, 0.5142087936401367, 0.18329684436321259, 0.0, 0.0, 0.0], [0.015151125378906727, 0.0013760689180344343, 0.0015560504980385303, 0.0021717099007219076, 0.0025110088754445314, 0.0017854946199804544, 0.0004700868739746511, 0.0006788124446757138, 0.0003899071889463812, 0.0009900371078401804, 0.0003802655846811831, 0.0004182498960290104, 0.00044352910481393337, 0.0005140136345289648, 0.00016592226165812463, 0.0006932562100701034, 0.0009629509295336902, 0.000765694712754339, 0.004365227650851011, 0.006436274386942387, 0.0018688273848965764, 0.008356155827641487, 0.006384761072695255, 0.005890712607651949, 0.031187035143375397, 0.041009463369846344, 0.028566081076860428, 0.04157729819417, 0.04076457768678665, 0.0671285018324852, 0.30426734685897827, 0.2161881923675537, 0.1645854264497757, 0.0, 0.0], [0.01735411025583744, 0.0005264721112325788, 0.0006208932027220726, 0.0016926316311582923, 0.0062972563318908215, 0.0010202127741649747, 7.362538599409163e-05, 0.0006762283155694604, 0.00044483065721578896, 7.778883446007967e-05, 4.973805698682554e-05, 0.0003035978879779577, 0.00017341812781523913, 0.0005162436282262206, 0.00027352778124623, 0.0007444000220857561, 0.000602222396992147, 0.00045444999705068767, 0.002665339969098568, 0.00266387895680964, 0.0025515940506011248, 0.007818799465894699, 0.009490976110100746, 0.0009830397320911288, 0.007624234072864056, 0.011552365496754646, 0.09579712897539139, 0.08069910109043121, 0.09889817237854004, 0.037996165454387665, 0.05835622549057007, 0.11718909442424774, 0.11656812578439713, 0.3172440826892853, 0.0], [0.010796335525810719, 0.003018462797626853, 0.0017010797746479511, 0.002761397510766983, 0.005546449683606625, 0.0005509485490620136, 0.00022208321024663746, 0.00023305881768465042, 0.000855507212691009, 8.429415174759924e-05, 0.00013491020945366472, 0.0004030343552585691, 0.00021568564989138395, 0.000912233314011246, 0.0007261994178406894, 0.00038188433973118663, 0.0007406806689687073, 0.0007301235455088317, 0.0007852281560190022, 0.0013473373837769032, 0.004313784651458263, 0.00772917689755559, 0.005422807298600674, 0.006747081410139799, 0.013981979340314865, 0.004630993586033583, 0.019391823559999466, 0.02813369780778885, 0.01686192862689495, 0.07724326848983765, 0.05435164272785187, 0.13139016926288605, 0.15014056861400604, 0.0843437910079956, 0.3631703853607178]], [[1.0, 0.0, 0.0, 0.0, 0.0, 0.0, 0.0, 0.0, 0.0, 0.0, 0.0, 0.0, 0.0, 0.0, 0.0, 0.0, 0.0, 0.0, 0.0, 0.0, 0.0, 0.0, 0.0, 0.0, 0.0, 0.0, 0.0, 0.0, 0.0, 0.0, 0.0, 0.0, 0.0, 0.0, 0.0], [0.19326065480709076, 0.806739330291748, 0.0, 0.0, 0.0, 0.0, 0.0, 0.0, 0.0, 0.0, 0.0, 0.0, 0.0, 0.0, 0.0, 0.0, 0.0, 0.0, 0.0, 0.0, 0.0, 0.0, 0.0, 0.0, 0.0, 0.0, 0.0, 0.0, 0.0, 0.0, 0.0, 0.0, 0.0, 0.0, 0.0], [0.09132359176874161, 0.002221883274614811, 0.9064545035362244, 0.0, 0.0, 0.0, 0.0, 0.0, 0.0, 0.0, 0.0, 0.0, 0.0, 0.0, 0.0, 0.0, 0.0, 0.0, 0.0, 0.0, 0.0, 0.0, 0.0, 0.0, 0.0, 0.0, 0.0, 0.0, 0.0, 0.0, 0.0, 0.0, 0.0, 0.0, 0.0], [0.07127515971660614, 0.010394576005637646, 0.014608730562031269, 0.9037214517593384, 0.0, 0.0, 0.0, 0.0, 0.0, 0.0, 0.0, 0.0, 0.0, 0.0, 0.0, 0.0, 0.0, 0.0, 0.0, 0.0, 0.0, 0.0, 0.0, 0.0, 0.0, 0.0, 0.0, 0.0, 0.0, 0.0, 0.0, 0.0, 0.0, 0.0, 0.0], [0.007525169290602207, 8.942761633079499e-05, 7.544124673586339e-05, 3.4135737223550677e-06, 0.9923065304756165, 0.0, 0.0, 0.0, 0.0, 0.0, 0.0, 0.0, 0.0, 0.0, 0.0, 0.0, 0.0, 0.0, 0.0, 0.0, 0.0, 0.0, 0.0, 0.0, 0.0, 0.0, 0.0, 0.0, 0.0, 0.0, 0.0, 0.0, 0.0, 0.0, 0.0], [0.004521047696471214, 4.280504981579725e-06, 9.230424620909616e-05, 2.3636253899894655e-05, 1.1194412763870787e-05, 0.9953475594520569, 0.0, 0.0, 0.0, 0.0, 0.0, 0.0, 0.0, 0.0, 0.0, 0.0, 0.0, 0.0, 0.0, 0.0, 0.0, 0.0, 0.0, 0.0, 0.0, 0.0, 0.0, 0.0, 0.0, 0.0, 0.0, 0.0, 0.0, 0.0, 0.0], [0.007938134483993053, 0.00010465254308655858, 4.1882482037181035e-05, 8.376279765798245e-06, 0.00021111383102834225, 3.129790229650098e-06, 0.9916926622390747, 0.0, 0.0, 0.0, 0.0, 0.0, 0.0, 0.0, 0.0, 0.0, 0.0, 0.0, 0.0, 0.0, 0.0, 0.0, 0.0, 0.0, 0.0, 0.0, 0.0, 0.0, 0.0, 0.0, 0.0, 0.0, 0.0, 0.0, 0.0], [0.002452848246321082, 1.0800506970554125e-05, 1.541074198030401e-05, 2.2521547293763433e-07, 3.925124474335462e-05, 5.1336105570953805e-06, 2.3800499548087828e-05, 0.9974525570869446, 0.0, 0.0, 0.0, 0.0, 0.0, 0.0, 0.0, 0.0, 0.0, 0.0, 0.0, 0.0, 0.0, 0.0, 0.0, 0.0, 0.0, 0.0, 0.0, 0.0, 0.0, 0.0, 0.0, 0.0, 0.0, 0.0, 0.0], [0.19944849610328674, 0.17831812798976898, 0.06548024713993073, 0.13276459276676178, 0.03858448565006256, 0.010353410616517067, 0.02143358811736107, 0.006723287049680948, 0.3468937277793884, 0.0, 0.0, 0.0, 0.0, 0.0, 0.0, 0.0, 0.0, 0.0, 0.0, 0.0, 0.0, 0.0, 0.0, 0.0, 0.0, 0.0, 0.0, 0.0, 0.0, 0.0, 0.0, 0.0, 0.0, 0.0, 0.0], [0.0014458474470302463, 8.054711315708118e-07, 3.0645915103377774e-05, 7.412928084704618e-07, 2.0274044345569564e-06, 1.1259045095357578e-05, 1.8223396409666748e-06, 8.012932812562212e-05, 1.056965501788909e-07, 0.9984266757965088, 0.0, 0.0, 0.0, 0.0, 0.0, 0.0, 0.0, 0.0, 0.0, 0.0, 0.0, 0.0, 0.0, 0.0, 0.0, 0.0, 0.0, 0.0, 0.0, 0.0, 0.0, 0.0, 0.0, 0.0, 0.0], [0.002338015241548419, 1.2498653632064816e-05, 2.2450083633884788e-05, 4.236492259224178e-06, 2.952023407942761e-07, 1.8947017679238343e-06, 7.769844523863867e-05, 8.969038390205242e-06, 4.6951821985885545e-08, 1.1347635791025823e-06, 0.9975327253341675, 0.0, 0.0, 0.0, 0.0, 0.0, 0.0, 0.0, 0.0, 0.0, 0.0, 0.0, 0.0, 0.0, 0.0, 0.0, 0.0, 0.0, 0.0, 0.0, 0.0, 0.0, 0.0, 0.0, 0.0], [0.04751455411314964, 0.052682630717754364, 0.02040812373161316, 0.05853003263473511, 0.007166561204940081, 0.008201421238481998, 0.011846390552818775, 0.0017474376363679767, 0.024963324889540672, 0.002697253366932273, 0.0014261906035244465, 0.7628161311149597, 0.0, 0.0, 0.0, 0.0, 0.0, 0.0, 0.0, 0.0, 0.0, 0.0, 0.0, 0.0, 0.0, 0.0, 0.0, 0.0, 0.0, 0.0, 0.0, 0.0, 0.0, 0.0, 0.0], [0.006070807110518217, 0.00012957947910763323, 5.943352516624145e-05, 5.659345788444625e-06, 0.000261532433796674, 0.00012241843796800822, 1.039934613800142e-05, 1.1076393093389925e-05, 4.0604805917610065e-07, 0.0003600468917284161, 2.011545075220056e-05, 1.364392119285185e-07, 0.9929484128952026, 0.0, 0.0, 0.0, 0.0, 0.0, 0.0, 0.0, 0.0, 0.0, 0.0, 0.0, 0.0, 0.0, 0.0, 0.0, 0.0, 0.0, 0.0, 0.0, 0.0, 0.0, 0.0], [0.09530571848154068, 0.14180324971675873, 0.0503818541765213, 0.10299672186374664, 0.029812073335051537, 0.006589413154870272, 0.016824396327137947, 0.004481855314224958, 0.23106449842453003, 0.01943543367087841, 0.010874400846660137, 0.05543200671672821, 0.03543871268630028, 0.19955968856811523, 0.0, 0.0, 0.0, 0.0, 0.0, 0.0, 0.0, 0.0, 0.0, 0.0, 0.0, 0.0, 0.0, 0.0, 0.0, 0.0, 0.0, 0.0, 0.0, 0.0, 0.0], [0.027447763830423355, 0.00014065321011003107, 0.00019846615032292902, 3.4967641113325953e-05, 5.282139227347216e-06, 0.00015024191816337407, 8.128343324642628e-05, 1.2125115972594358e-05, 6.303882400970906e-05, 6.543203198816627e-05, 2.83248277810344e-06, 3.890723382937722e-05, 5.673621217283653e-07, 4.2104755266336724e-05, 0.9717162847518921, 0.0, 0.0, 0.0, 0.0, 0.0, 0.0, 0.0, 0.0, 0.0, 0.0, 0.0, 0.0, 0.0, 0.0, 0.0, 0.0, 0.0, 0.0, 0.0, 0.0], [0.0042121256701648235, 3.069694867008366e-05, 6.36945478618145e-05, 8.254580166067171e-07, 8.262156825367128e-07, 3.868349813274108e-05, 4.268823431630153e-06, 3.819413905148394e-06, 1.2628061085706577e-07, 0.00013782789756078273, 1.7806130927056074e-05, 1.7100266092029415e-08, 5.979889465379529e-06, 6.19032078930104e-08, 2.2941660517972196e-06, 0.9954808950424194, 0.0, 0.0, 0.0, 0.0, 0.0, 0.0, 0.0, 0.0, 0.0, 0.0, 0.0, 0.0, 0.0, 0.0, 0.0, 0.0, 0.0, 0.0, 0.0], [0.019846787676215172, 0.031683433800935745, 0.012553277425467968, 0.035718828439712524, 0.004399011842906475, 0.004350573755800724, 0.00742737203836441, 0.000937288103159517, 0.012662887573242188, 0.0016050537815317512, 0.0007319963187910616, 0.4563407897949219, 0.00201086956076324, 0.009759279899299145, 0.008237503468990326, 0.00025941262720152736, 0.3914756774902344, 0.0, 0.0, 0.0, 0.0, 0.0, 0.0, 0.0, 0.0, 0.0, 0.0, 0.0, 0.0, 0.0, 0.0, 0.0, 0.0, 0.0, 0.0], [0.027297280728816986, 0.0024357126094400883, 0.0002706824743654579, 7.52559644752182e-05, 1.3686870261153672e-05, 5.773253633378772e-06, 0.0004301847657188773, 1.443819473934127e-05, 4.835154322790913e-05, 5.326126120053232e-05, 9.613334441382904e-06, 6.846712494734675e-05, 0.0003037686983589083, 2.878399391192943e-05, 3.866407860186882e-05, 2.592691089375876e-05, 4.680058918893337e-05, 0.9688332676887512, 0.0, 0.0, 0.0, 0.0, 0.0, 0.0, 0.0, 0.0, 0.0, 0.0, 0.0, 0.0, 0.0, 0.0, 0.0, 0.0, 0.0], [0.006310693453997374, 3.2946885767159984e-05, 9.895686162053607e-06, 7.334584211093897e-07, 9.119832247961313e-05, 4.094936957699247e-05, 8.511704436386935e-06, 9.950702224159613e-05, 1.9264814454800216e-07, 8.829235298435378e-07, 1.8906105196947465e-06, 1.1808706403826363e-06, 3.116516154477722e-06, 9.47476834767258e-08, 3.301757942608674e-06, 2.585525180620607e-05, 7.711307148383639e-07, 2.670865796972066e-06, 0.993365466594696, 0.0, 0.0, 0.0, 0.0, 0.0, 0.0, 0.0, 0.0, 0.0, 0.0, 0.0, 0.0, 0.0, 0.0, 0.0, 0.0], [0.001134050078690052, 6.961909548408585e-06, 1.2364341273496393e-05, 4.006539029433043e-07, 5.351794607122429e-05, 5.240081918600481e-06, 4.459488991415128e-05, 0.00016450734983664006, 1.4344450960379618e-08, 1.038798131958174e-06, 4.778870061272755e-05, 5.058665308865784e-08, 9.468173516324896e-07, 7.475648544641444e-09, 6.603908673241676e-07, 3.8431048778875265e-06, 3.346418964156328e-08, 2.411968864635128e-07, 1.6647736629238352e-05, 0.9985072016716003, 0.0, 0.0, 0.0, 0.0, 0.0, 0.0, 0.0, 0.0, 0.0, 0.0, 0.0, 0.0, 0.0, 0.0, 0.0], [0.08800847828388214, 0.18921290338039398, 0.045562561601400375, 0.08163289725780487, 0.017358068376779556, 0.004830402787774801, 0.018958788365125656, 0.004620134364813566, 0.06910262256860733, 0.012970470823347569, 0.01034302543848753, 0.05366411805152893, 0.009830271825194359, 0.05797470360994339, 0.011936411261558533, 0.009446634911000729, 0.04662337526679039, 0.07882609963417053, 0.010427416302263737, 0.00209467438980937, 0.17657597362995148, 0.0, 0.0, 0.0, 0.0, 0.0, 0.0, 0.0, 0.0, 0.0, 0.0, 0.0, 0.0, 0.0, 0.0], [0.01597118191421032, 0.0030620144680142403, 0.00014189504145178944, 0.0007885739323683083, 4.2993680835934356e-05, 4.13119669246953e-05, 6.306861905613914e-05, 3.5465118344291113e-06, 2.173125722038094e-05, 1.786092070688028e-05, 1.0213978384854272e-05, 2.659637902979739e-05, 3.785551598411985e-05, 1.3186858268454671e-05, 0.0001881764328572899, 4.9638774726190604e-06, 1.8085096598952077e-05, 4.864023139816709e-05, 4.463590812520124e-06, 2.4802479856589343e-06, 1.217890439875191e-05, 0.9794788956642151, 0.0, 0.0, 0.0, 0.0, 0.0, 0.0, 0.0, 0.0, 0.0, 0.0, 0.0, 0.0, 0.0], [0.007472250144928694, 0.00037190807051956654, 7.639100658707321e-05, 1.1135944987472612e-05, 3.0148770747473463e-05, 1.1014460142177995e-05, 5.452888581203297e-05, 2.244444112875499e-05, 1.1283878848189488e-05, 2.8587952328962274e-05, 5.6277503972523846e-06, 7.51362822484225e-05, 7.734309474471956e-05, 6.529730399051914e-06, 8.796941983746365e-06, 8.651518328406382e-06, 5.0728016503853723e-05, 7.040875971142668e-06, 3.187647234881297e-05, 1.4034907280802145e-06, 7.003607606748119e-06, 7.040093623800203e-05, 0.9915596842765808, 0.0, 0.0, 0.0, 0.0, 0.0, 0.0, 0.0, 0.0, 0.0, 0.0, 0.0, 0.0], [0.022045444697141647, 0.28049436211586, 0.016674788668751717, 0.00015087159408722073, 0.0006804484291933477, 2.739418050623499e-05, 0.0008938343380577862, 1.2499222975748125e-05, 0.000266553572146222, 5.584174232353689e-06, 5.109109406475909e-05, 9.500447049504146e-05, 1.8194832591689192e-05, 0.00018282872042618692, 0.0016493627335876226, 2.7935227990383282e-05, 6.991928239585832e-05, 7.677577377762645e-05, 2.0886154743493535e-05, 4.512573468673509e-06, 0.0001454142911825329, 0.00044705081381835043, 5.5147946113720536e-05, 0.6759040355682373, 0.0, 0.0, 0.0, 0.0, 0.0, 0.0, 0.0, 0.0, 0.0, 0.0, 0.0], [0.01879945769906044, 0.0019184618722647429, 0.0010523874079808593, 7.228145841509104e-05, 0.000137966126203537, 5.208816219237633e-05, 6.334375939331949e-05, 9.731957106851041e-06, 8.120811253320426e-05, 5.998387496219948e-05, 9.635974492994137e-06, 4.818717934540473e-05, 4.688356784754433e-05, 5.250570393400267e-05, 0.00044942068052478135, 0.00028932970599271357, 3.537202792358585e-05, 0.00022377951245289296, 0.00020208988280501217, 3.112009608230437e-06, 3.5228513297624886e-05, 9.855003008851781e-05, 0.00018101489695254713, 0.00012300792150199413, 0.9759548306465149, 0.0, 0.0, 0.0, 0.0, 0.0, 0.0, 0.0, 0.0, 0.0, 0.0], [0.0016589788720011711, 6.632482836721465e-06, 3.9323476812569425e-05, 5.512151346920291e-06, 7.328293577302247e-05, 5.176199238121626e-07, 8.362679363926873e-05, 1.611542029422708e-05, 1.8407985180601827e-07, 0.00020032616157550365, 1.8497497649150318e-06, 7.683036784555952e-08, 1.8051065126201138e-05, 9.259771616143553e-08, 6.612191100430209e-06, 1.962786427611718e-06, 5.004856973300775e-08, 6.371137573069063e-08, 4.881649147137068e-07, 3.839154487650376e-06, 1.8601497231429676e-08, 1.6708690964151174e-06, 8.816616059448279e-07, 6.67335555704085e-08, 1.878519810816215e-07, 0.9978796243667603, 0.0, 0.0, 0.0, 0.0, 0.0, 0.0, 0.0, 0.0, 0.0], [0.005040658637881279, 0.00039155513513833284, 0.0005618699360638857, 0.00014523035497404635, 3.9371810999000445e-05, 5.409954974311404e-05, 0.0002847947762347758, 4.828735472983681e-05, 3.104316647295491e-06, 6.896268314449117e-05, 0.0002681412152014673, 4.210928636894096e-06, 1.2119873645133339e-05, 2.0253971797501436e-06, 3.188776463503018e-05, 1.1356515642546583e-05, 3.018800271092914e-06, 1.2622892427316401e-05, 7.465569979103748e-06, 3.027804723387817e-06, 4.951115215590107e-07, 3.0154526029946283e-05, 1.886376048787497e-05, 4.1512462303217035e-06, 5.031317414250225e-06, 6.069077244319487e-06, 0.9929414987564087, 0.0, 0.0, 0.0, 0.0, 0.0, 0.0, 0.0, 0.0], [0.0012448678025975823, 0.00017617041885387152, 2.4151753677870147e-05, 1.2456679542083293e-05, 5.2113085985183716e-05, 2.3546064767288044e-05, 5.673451960319653e-05, 0.00045827688882127404, 2.4983858111227164e-06, 0.00011349430133122951, 4.920252104056999e-05, 1.3444550859276205e-05, 7.735934195807204e-05, 1.343708390777465e-06, 6.060904979676707e-06, 0.00010331783414585516, 8.74549186846707e-06, 1.0811575521074701e-05, 0.00015856373647693545, 1.9056066093980917e-06, 5.418795012701594e-07, 1.232136924045335e-06, 6.472226232290268e-05, 3.589057087083347e-06, 8.65090169099858e-06, 2.9628040465468075e-06, 1.3278961887408514e-05, 0.9973099231719971, 0.0, 0.0, 0.0, 0.0, 0.0, 0.0, 0.0], [0.001973335398361087, 0.0009750578901730478, 7.218521932372823e-05, 9.848416084423661e-05, 4.9608672270551324e-05, 5.4340576753020287e-05, 0.0003797209938056767, 6.184639005368808e-06, 1.0831170129677048e-06, 4.491219897317933e-06, 0.00047983595868572593, 9.928668305292376e-07, 1.3564585060521495e-05, 6.477197871390672e-07, 1.018613238557009e-05, 5.581332516158e-06, 7.113491165000596e-07, 5.998082883706957e-07, 3.201093932148069e-06, 2.288288442287012e-06, 1.5130858344036824e-07, 7.130767698981799e-06, 1.7937991287908517e-06, 2.4025774109759368e-05, 2.8331209023235715e-07, 1.2269139915588312e-05, 0.00023325509391725063, 0.00031319670961238444, 0.9952758550643921, 0.0, 0.0, 0.0, 0.0, 0.0, 0.0], [0.03009928949177265, 0.09027375280857086, 0.028149738907814026, 0.157638818025589, 0.02647354267537594, 0.003006008919328451, 0.017219536006450653, 0.002244669944047928, 0.0312004666775465, 0.011351730674505234, 0.0013561333762481809, 0.029119178652763367, 0.016773518174886703, 0.02399810217320919, 0.009450534358620644, 0.006288204342126846, 0.023923050612211227, 0.058296237140893936, 0.009904230013489723, 0.0003779732796829194, 0.024595143273472786, 0.040420062839984894, 0.027886752039194107, 0.009823568165302277, 0.04994712397456169, 0.0010651148622855544, 0.01463252678513527, 0.0112463915720582, 0.0020601539872586727, 0.2411784529685974, 0.0, 0.0, 0.0, 0.0, 0.0], [0.00416941661387682, 0.0006143277860246599, 0.0005938458489254117, 0.00011036212526960298, 9.00550076039508e-05, 1.3705158380616922e-05, 0.0005903482669964433, 2.6892280402535107e-06, 8.671493560541421e-06, 4.6116343582980335e-05, 1.005678677756805e-05, 5.3629032663593534e-06, 5.1998405979247764e-05, 4.802409421245102e-06, 2.1195226509007625e-05, 2.478504757164046e-05, 3.4400377444399055e-06, 1.841083212639205e-05, 7.05513812135905e-05, 5.603969270850939e-07, 5.060174316895427e-06, 2.259210668853484e-05, 6.252538150874898e-05, 1.8619330148794688e-05, 0.00014118546096142381, 2.633106123539619e-05, 1.261043394151784e-06, 1.0759850965769147e-06, 3.093191764946823e-07, 5.793043328594649e-06, 0.9932644367218018, 0.0, 0.0, 0.0, 0.0], [0.010566655546426773, 0.0013905896339565516, 0.0004313632089179009, 0.0010295918909832835, 0.003916394896805286, 0.00015029520727694035, 0.0019935991149395704, 0.00030443709692917764, 2.984509410453029e-05, 0.0006592920981347561, 1.2659824278671294e-05, 7.527502748416737e-05, 0.00039767735870555043, 1.7276539438171312e-05, 0.00038583489367738366, 2.1061901861685328e-05, 5.3403091442305595e-05, 6.33502786513418e-05, 0.00012688453716691583, 6.783195658499608e-06, 2.7170561224920675e-05, 0.00013008965470362455, 3.859863136312924e-05, 4.3666466808645055e-05, 8.064091161941178e-06, 0.0007468659314326942, 8.195253940357361e-06, 9.368611063109711e-05, 6.252453658817103e-06, 4.447245373739861e-05, 0.00020698650041595101, 0.9770136475563049, 0.0, 0.0, 0.0], [0.017131464555859566, 0.10981197655200958, 0.045284971594810486, 0.1666400283575058, 0.04683492332696915, 0.012714346870779991, 0.024941828101873398, 0.0024605048820376396, 0.016514169052243233, 0.014018181711435318, 0.0028046502266079187, 0.017261294648051262, 0.05619136616587639, 0.01184317097067833, 0.024518396705389023, 0.008004873991012573, 0.013582986779510975, 0.027696527540683746, 0.007881488651037216, 0.0013759626308456063, 0.009033633396029472, 0.03747999668121338, 0.014368819072842598, 0.01657966338098049, 0.03148624673485756, 0.002235109219327569, 0.007032562047243118, 0.02033880352973938, 0.0021573654375970364, 0.015735730528831482, 0.035292547196149826, 0.017794989049434662, 0.16295143961906433, 0.0, 0.0], [0.0027362422551959753, 0.003270443296059966, 0.0002493853971827775, 2.9521164833568037e-05, 0.0027190805412828922, 1.568083098391071e-05, 0.0011440067319199443, 3.5285567719256505e-05, 1.9352088202140294e-05, 3.6209708923706785e-05, 1.2202230209368281e-05, 0.00012145674554631114, 4.955609256285243e-05, 1.1851510862470604e-05, 8.826622797641903e-05, 3.184519300702959e-05, 8.618924039183185e-05, 0.0001305781042901799, 9.267554560210556e-05, 1.844454527599737e-05, 4.454887402971508e-06, 1.4211034795152955e-05, 0.0002081982820527628, 6.224944809218869e-05, 2.7290012440062128e-05, 8.527104910172056e-06, 0.0010931720025837421, 0.0010259002447128296, 1.8266431652591564e-05, 9.816331839829218e-06, 7.599973059768672e-07, 4.15181375501561e-06, 8.365900612261612e-06, 0.9866164922714233, 0.0], [0.013301778584718704, 0.002024176763370633, 0.0009810642804950476, 0.00027103954926133156, 0.026242561638355255, 6.96841671015136e-05, 0.00018824616563506424, 0.0003323276177980006, 0.0002071750641334802, 0.0003558360622264445, 1.8688786440179683e-05, 0.0003101633337792009, 0.00028844253392890096, 0.00014157569967210293, 0.00021018930419813842, 0.00013730116188526154, 0.0002454254135955125, 0.000585863774176687, 0.0008409083820879459, 0.00037898425944149494, 0.00011255504796281457, 0.0009485282935202122, 0.0002581723383627832, 0.0005371629376895726, 0.00023706414503976703, 9.896158007904887e-05, 1.4541839846060611e-05, 7.514368189731613e-05, 1.0142452993022744e-05, 7.690770144108683e-05, 6.643282540608197e-05, 5.446000432129949e-05, 0.0001078200075426139, 0.002189122373238206, 0.9480817317962646]], [[1.0, 0.0, 0.0, 0.0, 0.0, 0.0, 0.0, 0.0, 0.0, 0.0, 0.0, 0.0, 0.0, 0.0, 0.0, 0.0, 0.0, 0.0, 0.0, 0.0, 0.0, 0.0, 0.0, 0.0, 0.0, 0.0, 0.0, 0.0, 0.0, 0.0, 0.0, 0.0, 0.0, 0.0, 0.0], [0.9360752105712891, 0.06392484903335571, 0.0, 0.0, 0.0, 0.0, 0.0, 0.0, 0.0, 0.0, 0.0, 0.0, 0.0, 0.0, 0.0, 0.0, 0.0, 0.0, 0.0, 0.0, 0.0, 0.0, 0.0, 0.0, 0.0, 0.0, 0.0, 0.0, 0.0, 0.0, 0.0, 0.0, 0.0, 0.0, 0.0], [0.8446659445762634, 0.06946857273578644, 0.0858655646443367, 0.0, 0.0, 0.0, 0.0, 0.0, 0.0, 0.0, 0.0, 0.0, 0.0, 0.0, 0.0, 0.0, 0.0, 0.0, 0.0, 0.0, 0.0, 0.0, 0.0, 0.0, 0.0, 0.0, 0.0, 0.0, 0.0, 0.0, 0.0, 0.0, 0.0, 0.0, 0.0], [0.6426600217819214, 0.1298869103193283, 0.17117175459861755, 0.056281283497810364, 0.0, 0.0, 0.0, 0.0, 0.0, 0.0, 0.0, 0.0, 0.0, 0.0, 0.0, 0.0, 0.0, 0.0, 0.0, 0.0, 0.0, 0.0, 0.0, 0.0, 0.0, 0.0, 0.0, 0.0, 0.0, 0.0, 0.0, 0.0, 0.0, 0.0, 0.0], [0.5074959993362427, 0.0778626948595047, 0.07268533855676651, 0.10711850225925446, 0.23483742773532867, 0.0, 0.0, 0.0, 0.0, 0.0, 0.0, 0.0, 0.0, 0.0, 0.0, 0.0, 0.0, 0.0, 0.0, 0.0, 0.0, 0.0, 0.0, 0.0, 0.0, 0.0, 0.0, 0.0, 0.0, 0.0, 0.0, 0.0, 0.0, 0.0, 0.0], [0.49707552790641785, 0.06315261125564575, 0.1155911460518837, 0.08851399272680283, 0.1019635871052742, 0.13370312750339508, 0.0, 0.0, 0.0, 0.0, 0.0, 0.0, 0.0, 0.0, 0.0, 0.0, 0.0, 0.0, 0.0, 0.0, 0.0, 0.0, 0.0, 0.0, 0.0, 0.0, 0.0, 0.0, 0.0, 0.0, 0.0, 0.0, 0.0, 0.0, 0.0], [0.3081282079219818, 0.06775977462530136, 0.13057541847229004, 0.05440935119986534, 0.04050320386886597, 0.3605913519859314, 0.03803272545337677, 0.0, 0.0, 0.0, 0.0, 0.0, 0.0, 0.0, 0.0, 0.0, 0.0, 0.0, 0.0, 0.0, 0.0, 0.0, 0.0, 0.0, 0.0, 0.0, 0.0, 0.0, 0.0, 0.0, 0.0, 0.0, 0.0, 0.0, 0.0], [0.32434970140457153, 0.06349693983793259, 0.07783646881580353, 0.07798171043395996, 0.07410472631454468, 0.13590551912784576, 0.07038860023021698, 0.1759362816810608, 0.0, 0.0, 0.0, 0.0, 0.0, 0.0, 0.0, 0.0, 0.0, 0.0, 0.0, 0.0, 0.0, 0.0, 0.0, 0.0, 0.0, 0.0, 0.0, 0.0, 0.0, 0.0, 0.0, 0.0, 0.0, 0.0, 0.0], [0.16412921249866486, 0.03469286113977432, 0.05131255462765694, 0.013316989876329899, 0.17712701857089996, 0.1595190018415451, 0.09812309592962265, 0.29690471291542053, 0.004874551203101873, 0.0, 0.0, 0.0, 0.0, 0.0, 0.0, 0.0, 0.0, 0.0, 0.0, 0.0, 0.0, 0.0, 0.0, 0.0, 0.0, 0.0, 0.0, 0.0, 0.0, 0.0, 0.0, 0.0, 0.0, 0.0, 0.0], [0.18775463104248047, 0.05488044023513794, 0.10758274793624878, 0.04391004517674446, 0.1406542807817459, 0.11696729809045792, 0.05246002972126007, 0.15366396307945251, 0.04935269430279732, 0.09277380257844925, 0.0, 0.0, 0.0, 0.0, 0.0, 0.0, 0.0, 0.0, 0.0, 0.0, 0.0, 0.0, 0.0, 0.0, 0.0, 0.0, 0.0, 0.0, 0.0, 0.0, 0.0, 0.0, 0.0, 0.0, 0.0], [0.205171138048172, 0.04006880149245262, 0.0833921730518341, 0.04565277695655823, 0.056970130652189255, 0.13319888710975647, 0.026416391134262085, 0.09950855374336243, 0.050134602934122086, 0.21417362987995148, 0.04531293362379074, 0.0, 0.0, 0.0, 0.0, 0.0, 0.0, 0.0, 0.0, 0.0, 0.0, 0.0, 0.0, 0.0, 0.0, 0.0, 0.0, 0.0, 0.0, 0.0, 0.0, 0.0, 0.0, 0.0, 0.0], [0.10754459351301193, 0.02095544897019863, 0.052468448877334595, 0.00833084899932146, 0.17997519671916962, 0.10652033239603043, 0.07210804522037506, 0.20191138982772827, 0.0033460466656833887, 0.14021331071853638, 0.10356739908456802, 0.0030589597299695015, 0.0, 0.0, 0.0, 0.0, 0.0, 0.0, 0.0, 0.0, 0.0, 0.0, 0.0, 0.0, 0.0, 0.0, 0.0, 0.0, 0.0, 0.0, 0.0, 0.0, 0.0, 0.0, 0.0], [0.09423349052667618, 0.022835401818156242, 0.055588558316230774, 0.02696785144507885, 0.12799425423145294, 0.07631108909845352, 0.07361149787902832, 0.16634683310985565, 0.030196361243724823, 0.11622444540262222, 0.1307915300130844, 0.022433554753661156, 0.056465134024620056, 0.0, 0.0, 0.0, 0.0, 0.0, 0.0, 0.0, 0.0, 0.0, 0.0, 0.0, 0.0, 0.0, 0.0, 0.0, 0.0, 0.0, 0.0, 0.0, 0.0, 0.0, 0.0], [0.11027710139751434, 0.0199173241853714, 0.03387210890650749, 0.008012218400835991, 0.1268695890903473, 0.12052720785140991, 0.06604589521884918, 0.21159577369689941, 0.002910379786044359, 0.13361382484436035, 0.07830416411161423, 0.005965668708086014, 0.0786396935582161, 0.003449013689532876, 0.0, 0.0, 0.0, 0.0, 0.0, 0.0, 0.0, 0.0, 0.0, 0.0, 0.0, 0.0, 0.0, 0.0, 0.0, 0.0, 0.0, 0.0, 0.0, 0.0, 0.0], [0.1600770652294159, 0.05452112480998039, 0.059736236929893494, 0.020207524299621582, 0.05266042426228523, 0.10011064261198044, 0.11729259788990021, 0.14998748898506165, 0.01724836975336075, 0.05625281482934952, 0.09442035853862762, 0.012046908028423786, 0.020297687500715256, 0.018244562670588493, 0.06689617782831192, 0.0, 0.0, 0.0, 0.0, 0.0, 0.0, 0.0, 0.0, 0.0, 0.0, 0.0, 0.0, 0.0, 0.0, 0.0, 0.0, 0.0, 0.0, 0.0, 0.0], [0.17850053310394287, 0.04271138459444046, 0.058762867003679276, 0.025501536205410957, 0.02821972221136093, 0.0939595028758049, 0.03569771721959114, 0.038533005863428116, 0.02757410891354084, 0.1241721361875534, 0.09900186210870743, 0.029919540509581566, 0.04168913885951042, 0.030038556084036827, 0.08029220253229141, 0.06542612612247467, 0.0, 0.0, 0.0, 0.0, 0.0, 0.0, 0.0, 0.0, 0.0, 0.0, 0.0, 0.0, 0.0, 0.0, 0.0, 0.0, 0.0, 0.0, 0.0], [0.0826260969042778, 0.01422165334224701, 0.03910331055521965, 0.005809776484966278, 0.14161066710948944, 0.08671102672815323, 0.05503493547439575, 0.15626992285251617, 0.002328180707991123, 0.11679325997829437, 0.08067944645881653, 0.0021917973645031452, 0.09792859107255936, 0.0027368676383048296, 0.03297452628612518, 0.0803784504532814, 0.0026014959439635277, 0.0, 0.0, 0.0, 0.0, 0.0, 0.0, 0.0, 0.0, 0.0, 0.0, 0.0, 0.0, 0.0, 0.0, 0.0, 0.0, 0.0, 0.0], [0.09858331084251404, 0.0283206719905138, 0.05263179913163185, 0.017858654260635376, 0.06163659691810608, 0.08070768415927887, 0.07397958636283875, 0.09560467302799225, 0.00933582428842783, 0.08467229455709457, 0.11269152164459229, 0.018467877060174942, 0.03856262192130089, 0.011051512323319912, 0.06964196264743805, 0.09237803518772125, 0.022560440003871918, 0.03131495416164398, 0.0, 0.0, 0.0, 0.0, 0.0, 0.0, 0.0, 0.0, 0.0, 0.0, 0.0, 0.0, 0.0, 0.0, 0.0, 0.0, 0.0], [0.1495792418718338, 0.013048065826296806, 0.03394850715994835, 0.015061767771840096, 0.045098837465047836, 0.08479966223239899, 0.02725698985159397, 0.17206284403800964, 0.01685033179819584, 0.10883235931396484, 0.11793848127126694, 0.008323253132402897, 0.01613432727754116, 0.0177264716476202, 0.026173416525125504, 0.051890868693590164, 0.008976073004305363, 0.010605721734464169, 0.0756927877664566, 0.0, 0.0, 0.0, 0.0, 0.0, 0.0, 0.0, 0.0, 0.0, 0.0, 0.0, 0.0, 0.0, 0.0, 0.0, 0.0], [0.2303972691297531, 0.024296823889017105, 0.0265599824488163, 0.03924618288874626, 0.04230225458741188, 0.04924342408776283, 0.007979434914886951, 0.07322090119123459, 0.034551847726106644, 0.06601924449205399, 0.03830167278647423, 0.03672320768237114, 0.0241401307284832, 0.037105266004800797, 0.02855713479220867, 0.054463956505060196, 0.039015065878629684, 0.015944387763738632, 0.046100083738565445, 0.08583169430494308, 0.0, 0.0, 0.0, 0.0, 0.0, 0.0, 0.0, 0.0, 0.0, 0.0, 0.0, 0.0, 0.0, 0.0, 0.0], [0.05691666528582573, 0.006225022487342358, 0.011754416860640049, 0.003549679182469845, 0.07110720872879028, 0.08006579428911209, 0.02216234989464283, 0.1101679801940918, 0.0010484934318810701, 0.08122202754020691, 0.026672057807445526, 0.0021960812155157328, 0.030598539859056473, 0.0012014050735160708, 0.01493776123970747, 0.14736884832382202, 0.0026267501525580883, 0.03338917717337608, 0.1104901134967804, 0.18504440784454346, 0.0012552258558571339, 0.0, 0.0, 0.0, 0.0, 0.0, 0.0, 0.0, 0.0, 0.0, 0.0, 0.0, 0.0, 0.0, 0.0], [0.09241702407598495, 0.026059620082378387, 0.024830594658851624, 0.014753980562090874, 0.07309960573911667, 0.04160081595182419, 0.02818296290934086, 0.1052236557006836, 0.01020056288689375, 0.02671685814857483, 0.038636256009340286, 0.008342117071151733, 0.03416537120938301, 0.0110118817538023, 0.027021972462534904, 0.10600949823856354, 0.009498465806245804, 0.01612309366464615, 0.06257016211748123, 0.1900315135717392, 0.010448912158608437, 0.04305501654744148, 0.0, 0.0, 0.0, 0.0, 0.0, 0.0, 0.0, 0.0, 0.0, 0.0, 0.0, 0.0, 0.0], [0.06173655763268471, 0.007029627449810505, 0.01948661170899868, 0.010366825386881828, 0.04601287841796875, 0.07236865907907486, 0.02275238372385502, 0.08978492766618729, 0.005041907541453838, 0.07019015401601791, 0.07947878539562225, 0.006475391332060099, 0.0383506715297699, 0.005680921021848917, 0.015840979292988777, 0.053441062569618225, 0.007524978835135698, 0.018862156197428703, 0.09784611314535141, 0.1908787339925766, 0.006985300220549107, 0.027727825567126274, 0.04613658785820007, 0.0, 0.0, 0.0, 0.0, 0.0, 0.0, 0.0, 0.0, 0.0, 0.0, 0.0, 0.0], [0.0434984490275383, 0.006029139738529921, 0.016271812841296196, 0.004962890408933163, 0.09232773631811142, 0.056436099112033844, 0.02427319623529911, 0.10004422068595886, 0.0013475846499204636, 0.04695267975330353, 0.04336998611688614, 0.0026120906695723534, 0.02598002552986145, 0.0015367745654657483, 0.013811730779707432, 0.12162512540817261, 0.003084054682403803, 0.014781142584979534, 0.08252865076065063, 0.20843425393104553, 0.0021058088168501854, 0.03356638550758362, 0.04992132633924484, 0.004498818889260292, 0.0, 0.0, 0.0, 0.0, 0.0, 0.0, 0.0, 0.0, 0.0, 0.0, 0.0], [0.05493932589888573, 0.005164694506675005, 0.013282532803714275, 0.0068168118596076965, 0.08581957966089249, 0.04258372634649277, 0.010111797600984573, 0.10901317745447159, 0.0030670419801026583, 0.04195145517587662, 0.03668753057718277, 0.0038776053115725517, 0.03639629855751991, 0.003642827505245805, 0.015713080763816833, 0.045142799615859985, 0.004770631901919842, 0.010733416303992271, 0.12949079275131226, 0.18343369662761688, 0.005763913970440626, 0.060088131576776505, 0.0642036497592926, 0.008479909971356392, 0.01882551982998848, 0.0, 0.0, 0.0, 0.0, 0.0, 0.0, 0.0, 0.0, 0.0, 0.0], [0.11619281023740768, 0.02400817908346653, 0.017500853165984154, 0.022795287892222404, 0.05027652904391289, 0.03202548623085022, 0.020647745579481125, 0.03974742442369461, 0.023735979571938515, 0.026677899062633514, 0.01885642483830452, 0.02817135863006115, 0.03460881486535072, 0.026643723249435425, 0.022768080234527588, 0.02357734926044941, 0.031199190765619278, 0.022620437666773796, 0.09706808626651764, 0.06436187773942947, 0.03251434117555618, 0.04557201266288757, 0.04268260300159454, 0.028252866119146347, 0.025809558108448982, 0.0816851258277893, 0.0, 0.0, 0.0, 0.0, 0.0, 0.0, 0.0, 0.0, 0.0], [0.11220826208591461, 0.0052759298123419285, 0.013701367191970348, 0.006475637201219797, 0.058257460594177246, 0.055918365716934204, 0.013027263805270195, 0.10451259464025497, 0.004013674333691597, 0.040113665163517, 0.03787229582667351, 0.003174529178068042, 0.012129993177950382, 0.004096258897334337, 0.007334521040320396, 0.017732826992869377, 0.003475232981145382, 0.0030595543794333935, 0.0948338657617569, 0.20002640783786774, 0.0056739686988294125, 0.016374554485082626, 0.01723022386431694, 0.004368433263152838, 0.009308064356446266, 0.09713458269834518, 0.05267036706209183, 0.0, 0.0, 0.0, 0.0, 0.0, 0.0, 0.0, 0.0], [0.06115269660949707, 0.0049393256194889545, 0.009762827306985855, 0.005227167624980211, 0.03646273538470268, 0.031370531767606735, 0.008218895643949509, 0.11535760015249252, 0.0032728654332458973, 0.0382491871714592, 0.033371761441230774, 0.002179378177970648, 0.007692956365644932, 0.0034548065159469843, 0.009085438214242458, 0.02790053002536297, 0.002366590779274702, 0.003948241472244263, 0.040771469473838806, 0.2757468521595001, 0.0035466665867716074, 0.012455109506845474, 0.03261316195130348, 0.0032098167575895786, 0.0036030937917530537, 0.10009618103504181, 0.08892865478992462, 0.03501542657613754, 0.0, 0.0, 0.0, 0.0, 0.0, 0.0, 0.0], [0.11957035958766937, 0.008050513453781605, 0.013377288356423378, 0.007089268881827593, 0.025275398045778275, 0.05149082839488983, 0.00658544572070241, 0.06165983900427818, 0.005620480515062809, 0.055614911019802094, 0.027291802689433098, 0.004286486189812422, 0.0076984320767223835, 0.005996251478791237, 0.007942015305161476, 0.028790514916181564, 0.0048709651455283165, 0.0043137590400874615, 0.026228051632642746, 0.15385547280311584, 0.010709965601563454, 0.009564641863107681, 0.029178407043218613, 0.005329275969415903, 0.008051514625549316, 0.07812704145908356, 0.10984008759260178, 0.029521051794290543, 0.0940699428319931, 0.0, 0.0, 0.0, 0.0, 0.0, 0.0], [0.025880740955471992, 0.0032868734560906887, 0.00919060967862606, 0.0022713167127221823, 0.04206257686018944, 0.0403556153178215, 0.015107073821127415, 0.04801338538527489, 0.0008096093079075217, 0.039064228534698486, 0.026566792279481888, 0.0015204478986561298, 0.02122015506029129, 0.0009539542370475829, 0.0078103686682879925, 0.03313516825437546, 0.0018792508635669947, 0.010119674727320671, 0.06751003861427307, 0.12262914329767227, 0.0015832214849069715, 0.022168047726154327, 0.03078523278236389, 0.004318805877119303, 0.018728986382484436, 0.1447751224040985, 0.06957439333200455, 0.11388754099607468, 0.07182323187589645, 0.0029684724286198616, 0.0, 0.0, 0.0, 0.0, 0.0], [0.04612511023879051, 0.004929371178150177, 0.011905013583600521, 0.005939910653978586, 0.05086231604218483, 0.03915585204958916, 0.011702249757945538, 0.07777238637208939, 0.0027224943041801453, 0.029330715537071228, 0.03543661907315254, 0.0025086570531129837, 0.011883243918418884, 0.002963855629786849, 0.008878660388290882, 0.018936678767204285, 0.0028045871295034885, 0.004066929686814547, 0.06637168675661087, 0.16173599660396576, 0.0040747420862317085, 0.017417898401618004, 0.04845813661813736, 0.00548985181376338, 0.014467375352978706, 0.0888427123427391, 0.05744139850139618, 0.04815756529569626, 0.09182097762823105, 0.004751018714159727, 0.023045988753437996, 0.0, 0.0, 0.0, 0.0], [0.02861655317246914, 0.0035397156607359648, 0.012825741432607174, 0.0037311033811420202, 0.022132830694317818, 0.02633908949792385, 0.015483646653592587, 0.046924490481615067, 0.001677018473856151, 0.05343088507652283, 0.03818729519844055, 0.002529491437599063, 0.027682233601808548, 0.0019447188824415207, 0.010427960194647312, 0.020306413993239403, 0.0030831166077405214, 0.008337561041116714, 0.061474431306123734, 0.056954700499773026, 0.0030909182969480753, 0.019787298515439034, 0.03770420700311661, 0.004031909629702568, 0.020770883187651634, 0.12126168608665466, 0.08733713626861572, 0.07036232948303223, 0.09933111816644669, 0.005798676051199436, 0.06381496042013168, 0.02107994258403778, 0.0, 0.0, 0.0], [0.02276923879981041, 0.002363817300647497, 0.006953616160899401, 0.0009745149873197079, 0.0334312841296196, 0.0309631135314703, 0.012881086207926273, 0.0763968676328659, 0.0002621035964693874, 0.030449921265244484, 0.036742571741342545, 0.0005670602549798787, 0.014569039456546307, 0.00030553346732631326, 0.005948358681052923, 0.022492559626698494, 0.0007025570375844836, 0.004866446368396282, 0.060261886566877365, 0.15585899353027344, 0.0005001774406991899, 0.01998808979988098, 0.030868500471115112, 0.0031281483825296164, 0.012151172384619713, 0.11994655430316925, 0.07597394287586212, 0.09628812968730927, 0.07584254443645477, 0.0010643763234838843, 0.03271331265568733, 0.011111115105450153, 0.0006633002194575965, 0.0, 0.0], [0.06755811721086502, 0.003352793864905834, 0.008972211740911007, 0.003402541158720851, 0.05607307329773903, 0.030404703691601753, 0.013628309592604637, 0.07952424883842468, 0.002588939154520631, 0.034729380160570145, 0.015315969474613667, 0.0025270988699048758, 0.007685472257435322, 0.002692826557904482, 0.00711299292743206, 0.02612847276031971, 0.0027733680326491594, 0.007069501094520092, 0.05076206848025322, 0.17593882977962494, 0.003935442306101322, 0.010542863048613071, 0.012697343714535236, 0.0028314434457570314, 0.004983492661267519, 0.05610370263457298, 0.10278666764497757, 0.07864401489496231, 0.06361379474401474, 0.004290645010769367, 0.012449052184820175, 0.007846897467970848, 0.003574163420125842, 0.03745954483747482, 0.0], [0.058894261717796326, 0.004834293853491545, 0.008816242218017578, 0.004917600192129612, 0.057244475930929184, 0.04719965159893036, 0.01038435846567154, 0.043736815452575684, 0.0032532147597521544, 0.027000509202480316, 0.015385997481644154, 0.005444502457976341, 0.018304413184523582, 0.003610059851780534, 0.011856133118271828, 0.07255378365516663, 0.006018077954649925, 0.006411907263100147, 0.05586157739162445, 0.08374668657779694, 0.003973666578531265, 0.018590601161122322, 0.01944512315094471, 0.0038806800730526447, 0.00893265102058649, 0.1224270835518837, 0.0409863218665123, 0.07429768145084381, 0.05774557963013649, 0.006318633910268545, 0.013084121979773045, 0.02306579425930977, 0.005796521436423063, 0.04094136133790016, 0.015039580874145031]], [[1.0, 0.0, 0.0, 0.0, 0.0, 0.0, 0.0, 0.0, 0.0, 0.0, 0.0, 0.0, 0.0, 0.0, 0.0, 0.0, 0.0, 0.0, 0.0, 0.0, 0.0, 0.0, 0.0, 0.0, 0.0, 0.0, 0.0, 0.0, 0.0, 0.0, 0.0, 0.0, 0.0, 0.0, 0.0], [0.9780336022377014, 0.021966347470879555, 0.0, 0.0, 0.0, 0.0, 0.0, 0.0, 0.0, 0.0, 0.0, 0.0, 0.0, 0.0, 0.0, 0.0, 0.0, 0.0, 0.0, 0.0, 0.0, 0.0, 0.0, 0.0, 0.0, 0.0, 0.0, 0.0, 0.0, 0.0, 0.0, 0.0, 0.0, 0.0, 0.0], [0.5068985223770142, 0.42791491746902466, 0.06518655270338058, 0.0, 0.0, 0.0, 0.0, 0.0, 0.0, 0.0, 0.0, 0.0, 0.0, 0.0, 0.0, 0.0, 0.0, 0.0, 0.0, 0.0, 0.0, 0.0, 0.0, 0.0, 0.0, 0.0, 0.0, 0.0, 0.0, 0.0, 0.0, 0.0, 0.0, 0.0, 0.0], [0.3459503948688507, 0.23385104537010193, 0.19138801097869873, 0.22881059348583221, 0.0, 0.0, 0.0, 0.0, 0.0, 0.0, 0.0, 0.0, 0.0, 0.0, 0.0, 0.0, 0.0, 0.0, 0.0, 0.0, 0.0, 0.0, 0.0, 0.0, 0.0, 0.0, 0.0, 0.0, 0.0, 0.0, 0.0, 0.0, 0.0, 0.0, 0.0], [0.27859699726104736, 0.17525744438171387, 0.1103709489107132, 0.2518094778060913, 0.18396514654159546, 0.0, 0.0, 0.0, 0.0, 0.0, 0.0, 0.0, 0.0, 0.0, 0.0, 0.0, 0.0, 0.0, 0.0, 0.0, 0.0, 0.0, 0.0, 0.0, 0.0, 0.0, 0.0, 0.0, 0.0, 0.0, 0.0, 0.0, 0.0, 0.0, 0.0], [0.20804202556610107, 0.08827140182256699, 0.06160813570022583, 0.2584840655326843, 0.2705698609352112, 0.11302448809146881, 0.0, 0.0, 0.0, 0.0, 0.0, 0.0, 0.0, 0.0, 0.0, 0.0, 0.0, 0.0, 0.0, 0.0, 0.0, 0.0, 0.0, 0.0, 0.0, 0.0, 0.0, 0.0, 0.0, 0.0, 0.0, 0.0, 0.0, 0.0, 0.0], [0.16325640678405762, 0.12141188234090805, 0.11990708112716675, 0.16166441142559052, 0.10774055868387222, 0.29750367999076843, 0.028515949845314026, 0.0, 0.0, 0.0, 0.0, 0.0, 0.0, 0.0, 0.0, 0.0, 0.0, 0.0, 0.0, 0.0, 0.0, 0.0, 0.0, 0.0, 0.0, 0.0, 0.0, 0.0, 0.0, 0.0, 0.0, 0.0, 0.0, 0.0, 0.0], [0.12280936539173126, 0.039789848029613495, 0.045145440846681595, 0.13578501343727112, 0.09269550442695618, 0.11808717250823975, 0.336984783411026, 0.10870285332202911, 0.0, 0.0, 0.0, 0.0, 0.0, 0.0, 0.0, 0.0, 0.0, 0.0, 0.0, 0.0, 0.0, 0.0, 0.0, 0.0, 0.0, 0.0, 0.0, 0.0, 0.0, 0.0, 0.0, 0.0, 0.0, 0.0, 0.0], [0.07854478061199188, 0.0357038751244545, 0.029105380177497864, 0.05200905725359917, 0.10322193056344986, 0.062225211411714554, 0.06801238656044006, 0.17029151320457458, 0.40088582038879395, 0.0, 0.0, 0.0, 0.0, 0.0, 0.0, 0.0, 0.0, 0.0, 0.0, 0.0, 0.0, 0.0, 0.0, 0.0, 0.0, 0.0, 0.0, 0.0, 0.0, 0.0, 0.0, 0.0, 0.0, 0.0, 0.0], [0.08555344492197037, 0.04508213698863983, 0.020755311474204063, 0.05748788267374039, 0.05853370949625969, 0.038125380873680115, 0.03164028748869896, 0.14470817148685455, 0.39396730065345764, 0.12414632737636566, 0.0, 0.0, 0.0, 0.0, 0.0, 0.0, 0.0, 0.0, 0.0, 0.0, 0.0, 0.0, 0.0, 0.0, 0.0, 0.0, 0.0, 0.0, 0.0, 0.0, 0.0, 0.0, 0.0, 0.0, 0.0], [0.034007616341114044, 0.00580130610615015, 0.004264360759407282, 0.014554588124155998, 0.00205812556669116, 0.010052237659692764, 0.015462442301213741, 0.014919937588274479, 0.07456015050411224, 0.8029413819313049, 0.021377811208367348, 0.0, 0.0, 0.0, 0.0, 0.0, 0.0, 0.0, 0.0, 0.0, 0.0, 0.0, 0.0, 0.0, 0.0, 0.0, 0.0, 0.0, 0.0, 0.0, 0.0, 0.0, 0.0, 0.0, 0.0], [0.036581333726644516, 0.008552638813853264, 0.009085928089916706, 0.010718598030507565, 0.03151058033108711, 0.07786067575216293, 0.02809949964284897, 0.05203387513756752, 0.0917564406991005, 0.24980774521827698, 0.2238457202911377, 0.18014688789844513, 0.0, 0.0, 0.0, 0.0, 0.0, 0.0, 0.0, 0.0, 0.0, 0.0, 0.0, 0.0, 0.0, 0.0, 0.0, 0.0, 0.0, 0.0, 0.0, 0.0, 0.0, 0.0, 0.0], [0.03899511322379112, 0.01395305898040533, 0.027150379493832588, 0.015978636220097542, 0.0060688708908855915, 0.015332893468439579, 0.007358452305197716, 0.008143591694533825, 0.0923609584569931, 0.09582383185625076, 0.39708971977233887, 0.22508253157138824, 0.05666198953986168, 0.0, 0.0, 0.0, 0.0, 0.0, 0.0, 0.0, 0.0, 0.0, 0.0, 0.0, 0.0, 0.0, 0.0, 0.0, 0.0, 0.0, 0.0, 0.0, 0.0, 0.0, 0.0], [0.02941765822470188, 0.006853983271867037, 0.005433529149740934, 0.008306887000799179, 0.01573827862739563, 0.008708898909389973, 0.008349096402525902, 0.023920083418488503, 0.04694685339927673, 0.04814498499035835, 0.09309986978769302, 0.15290869772434235, 0.148541659116745, 0.40362948179244995, 0.0, 0.0, 0.0, 0.0, 0.0, 0.0, 0.0, 0.0, 0.0, 0.0, 0.0, 0.0, 0.0, 0.0, 0.0, 0.0, 0.0, 0.0, 0.0, 0.0, 0.0], [0.03712834417819977, 0.007584467064589262, 0.003545145969837904, 0.008117971010506153, 0.018834201619029045, 0.005904985126107931, 0.009632605127990246, 0.011076650582253933, 0.04249940440058708, 0.015084004029631615, 0.019843485206365585, 0.11177270859479904, 0.12816858291625977, 0.3331785798072815, 0.2476288378238678, 0.0, 0.0, 0.0, 0.0, 0.0, 0.0, 0.0, 0.0, 0.0, 0.0, 0.0, 0.0, 0.0, 0.0, 0.0, 0.0, 0.0, 0.0, 0.0, 0.0], [0.024791501462459564, 0.002257240004837513, 0.0019112329464405775, 0.003149650292471051, 0.0017746705561876297, 0.0030808625742793083, 0.019880738109350204, 0.0064271059818565845, 0.015317477285861969, 0.0032266059424728155, 0.020296068862080574, 0.05772733315825462, 0.022555237635970116, 0.08885952085256577, 0.7141123414039612, 0.014632448554039001, 0.0, 0.0, 0.0, 0.0, 0.0, 0.0, 0.0, 0.0, 0.0, 0.0, 0.0, 0.0, 0.0, 0.0, 0.0, 0.0, 0.0, 0.0, 0.0], [0.019352801144123077, 0.002735717222094536, 0.0027006445452570915, 0.002816403517499566, 0.007300613448023796, 0.016268711537122726, 0.00513469846919179, 0.010258644819259644, 0.013791467063128948, 0.033804409205913544, 0.03394480422139168, 0.02411041408777237, 0.05347483977675438, 0.09691011160612106, 0.276188462972641, 0.22190366685390472, 0.1793036311864853, 0.0, 0.0, 0.0, 0.0, 0.0, 0.0, 0.0, 0.0, 0.0, 0.0, 0.0, 0.0, 0.0, 0.0, 0.0, 0.0, 0.0, 0.0], [0.016778303310275078, 0.0013836657162755728, 0.001250443165190518, 0.0019532651640474796, 0.001228310982696712, 0.0034270556643605232, 0.001771018491126597, 0.002587690483778715, 0.009956522844731808, 0.007537416648119688, 0.004963132552802563, 0.02366885170340538, 0.01745663583278656, 0.06967753916978836, 0.26127681136131287, 0.24082422256469727, 0.17677904665470123, 0.15748006105422974, 0.0, 0.0, 0.0, 0.0, 0.0, 0.0, 0.0, 0.0, 0.0, 0.0, 0.0, 0.0, 0.0, 0.0, 0.0, 0.0, 0.0], [0.054750412702560425, 0.009201953187584877, 0.0037833035457879305, 0.006891875993460417, 0.007006869185715914, 0.005267786793410778, 0.0019135884940624237, 0.006649010814726353, 0.022490736097097397, 0.00720369303599, 0.03985990956425667, 0.026306964457035065, 0.035983856767416, 0.10654618591070175, 0.14742790162563324, 0.029531927779316902, 0.14834155142307281, 0.23425284028053284, 0.10658968240022659, 0.0, 0.0, 0.0, 0.0, 0.0, 0.0, 0.0, 0.0, 0.0, 0.0, 0.0, 0.0, 0.0, 0.0, 0.0, 0.0], [0.08004874736070633, 0.0035627444740384817, 0.0033941438887268305, 0.011285574175417423, 0.012208581902086735, 0.00194350047968328, 0.003920824732631445, 0.02411663345992565, 0.023349981755018234, 0.00897589698433876, 0.005343950819224119, 0.025336049497127533, 0.013870185241103172, 0.101036436855793, 0.03973818197846413, 0.08061383664608002, 0.1208646297454834, 0.12294691801071167, 0.14132510125637054, 0.17611804604530334, 0.0, 0.0, 0.0, 0.0, 0.0, 0.0, 0.0, 0.0, 0.0, 0.0, 0.0, 0.0, 0.0, 0.0, 0.0], [0.013053365983068943, 0.0019795657135546207, 0.0016182127874344587, 0.0014078529784455895, 0.0014868245925754309, 0.001309916377067566, 0.0016642945120111108, 0.002566517097875476, 0.003062668489292264, 0.010340573266148567, 0.007755245082080364, 0.008929412811994553, 0.008869530633091927, 0.017165126278996468, 0.07265805453062057, 0.08664461970329285, 0.0622393935918808, 0.16528472304344177, 0.07255079597234726, 0.09155549854040146, 0.3678579032421112, 0.0, 0.0, 0.0, 0.0, 0.0, 0.0, 0.0, 0.0, 0.0, 0.0, 0.0, 0.0, 0.0, 0.0], [0.01231600996106863, 0.0011592356022447348, 0.0007622391567565501, 0.001950749778188765, 0.0012718503130599856, 0.0006892281817272305, 0.0005458996747620404, 0.0026030035223811865, 0.0039176661521196365, 0.0005409365403465927, 0.001274190959520638, 0.006503156386315823, 0.005551591515541077, 0.01797344721853733, 0.013353337533771992, 0.03805123642086983, 0.04303399845957756, 0.03958656266331673, 0.022300688549876213, 0.03898366168141365, 0.5949541926383972, 0.15267705917358398, 0.0, 0.0, 0.0, 0.0, 0.0, 0.0, 0.0, 0.0, 0.0, 0.0, 0.0, 0.0, 0.0], [0.013724973425269127, 0.001612572930753231, 0.0003289872838649899, 0.0010084315435960889, 0.0011758049950003624, 0.0007259284029714763, 0.0005918762180954218, 0.0009615595336072147, 0.003118618857115507, 0.005970004014670849, 0.003033468034118414, 0.0033444976434111595, 0.008407551795244217, 0.013658503070473671, 0.005607029423117638, 0.0053217243403196335, 0.019289949908852577, 0.029109656810760498, 0.013599605299532413, 0.03133780509233475, 0.2513725459575653, 0.5305220484733582, 0.056176912039518356, 0.0, 0.0, 0.0, 0.0, 0.0, 0.0, 0.0, 0.0, 0.0, 0.0, 0.0, 0.0], [0.01600240357220173, 0.0009560456383042037, 0.0005680466420017183, 0.0015549752861261368, 0.001575573580339551, 0.0006219743518158793, 0.0011257646838203073, 0.001436873571947217, 0.0023100466933101416, 0.0009028329513967037, 0.0013921490171924233, 0.0036725932732224464, 0.0036322823725640774, 0.009217401035130024, 0.008623877540230751, 0.02702576294541359, 0.021376466378569603, 0.03330114856362343, 0.03885405510663986, 0.039058420807123184, 0.2659665644168854, 0.1937258243560791, 0.09792884439229965, 0.2291700690984726, 0.0, 0.0, 0.0, 0.0, 0.0, 0.0, 0.0, 0.0, 0.0, 0.0, 0.0], [0.009987282566726208, 0.0009651752770878375, 0.000604158325586468, 0.0009222115040756762, 0.0008805814431980252, 0.0005974334781058133, 0.00021149196254555136, 0.0006455676630139351, 0.0012417667312547565, 0.0006859682616777718, 0.0007031483110040426, 0.0014577429974451661, 0.0018487675115466118, 0.005077199544757605, 0.0019275643862783909, 0.01241338811814785, 0.008568297140300274, 0.012073676101863384, 0.021936651319265366, 0.02919413149356842, 0.14272746443748474, 0.09834036231040955, 0.11847669631242752, 0.3163197338581085, 0.2121935337781906, 0.0, 0.0, 0.0, 0.0, 0.0, 0.0, 0.0, 0.0, 0.0, 0.0], [0.01686088554561138, 0.0019703246653079987, 0.0008858359651640058, 0.0017656402196735144, 0.002392832888290286, 0.0005271152476780117, 0.00036178933805786073, 0.0006361052510328591, 0.0022411327809095383, 0.0008515853551216424, 0.00038157834205776453, 0.0022748305927962065, 0.0018798449309542775, 0.007292232010513544, 0.002146676182746887, 0.0025263132993131876, 0.010355661623179913, 0.011969317682087421, 0.006590917240828276, 0.012827475555241108, 0.12130489945411682, 0.06624647974967957, 0.1461239755153656, 0.282807320356369, 0.247033029794693, 0.04974621534347534, 0.0, 0.0, 0.0, 0.0, 0.0, 0.0, 0.0, 0.0, 0.0], [0.026405036449432373, 0.0014231018722057343, 0.0016234442591667175, 0.002576407277956605, 0.002689707325771451, 0.0012257532216608524, 0.0010898775653913617, 0.0009538463782519102, 0.0019223560811951756, 0.002411524299532175, 0.0024579432792961597, 0.0014354183804243803, 0.005378488451242447, 0.004732341039925814, 0.001939115347340703, 0.007957514375448227, 0.006086883135139942, 0.01265745796263218, 0.01160251535475254, 0.029096636921167374, 0.08598875254392624, 0.07665890455245972, 0.03624013066291809, 0.13133347034454346, 0.19490262866020203, 0.21766339242458344, 0.13154728710651398, 0.0, 0.0, 0.0, 0.0, 0.0, 0.0, 0.0, 0.0], [0.02389608323574066, 0.0020674981642514467, 0.0025093790609389544, 0.0018511994276195765, 0.0031609651632606983, 0.0009005648898892105, 0.0002685424406081438, 0.0005213561234995723, 0.0017872123280540109, 0.0019308942137286067, 0.0010158238001167774, 0.001044267206452787, 0.001567705417983234, 0.004060101229697466, 0.0008207403589040041, 0.0033583028707653284, 0.004117118194699287, 0.007223028689622879, 0.014547291211783886, 0.046351563185453415, 0.056018680334091187, 0.03840014338493347, 0.0416099838912487, 0.1049453467130661, 0.1578821837902069, 0.12118810415267944, 0.19090259075164795, 0.16605332493782043, 0.0, 0.0, 0.0, 0.0, 0.0, 0.0, 0.0], [0.04075780138373375, 0.003958363551646471, 0.005698091816157103, 0.003957987762987614, 0.0014047817094251513, 0.0003276948118582368, 0.0006401925347745419, 0.0012045818148180842, 0.002238561399281025, 0.00074485078221187, 0.003836575895547867, 0.0016206821892410517, 0.0010148303117603064, 0.004261191003024578, 0.0009652952430769801, 0.0003954318817704916, 0.005401071161031723, 0.007263411767780781, 0.005766807124018669, 0.029991863295435905, 0.04173656925559044, 0.01752764917910099, 0.025155048817396164, 0.07565268129110336, 0.24542629718780518, 0.0666850134730339, 0.2648317813873291, 0.05502411350607872, 0.08651083707809448, 0.0, 0.0, 0.0, 0.0, 0.0, 0.0], [0.011784796603024006, 0.001394755789078772, 0.0009515654528513551, 0.0008953198557719588, 0.00103727076202631, 0.0004972643218934536, 0.00025283850845880806, 0.0004317571874707937, 0.0005345694371499121, 0.00028229207964614034, 0.00042747287079691887, 0.0005479560932144523, 0.0008038732339628041, 0.0011037467047572136, 0.0010882847709581256, 0.002635376527905464, 0.002003316767513752, 0.0029394535813480616, 0.0051142023876309395, 0.009162310510873795, 0.020236410200595856, 0.01439722627401352, 0.014386596158146858, 0.05287304148077965, 0.044258128851652145, 0.07174724340438843, 0.08077171444892883, 0.11779723316431046, 0.1448613703250885, 0.3947826623916626, 0.0, 0.0, 0.0, 0.0, 0.0], [0.0129928570240736, 0.001667612581513822, 0.001002107048407197, 0.00117612408939749, 0.0007638350361958146, 0.0004005825612694025, 0.00012849246559198946, 0.00010518679482629523, 0.0005606430349871516, 0.0001407938834745437, 0.00012207550753373653, 0.00039859864045865834, 0.00022988277487456799, 0.0011077814269810915, 0.0003631023573689163, 0.0008891792385838926, 0.0014402425149455667, 0.0014520215336233377, 0.0026305667124688625, 0.0031673824414610863, 0.017224669456481934, 0.010722332634031773, 0.0050229961052536964, 0.045778483152389526, 0.04751961678266525, 0.027067173272371292, 0.0521685816347599, 0.05500796437263489, 0.11481022089719772, 0.4456881284713745, 0.14825083315372467, 0.0, 0.0, 0.0, 0.0], [0.011720022186636925, 0.0009638674091547728, 0.0016792784444987774, 0.0009598793694749475, 0.0011835334589704871, 0.0003587342507671565, 0.00013125188706908375, 0.0002098585682688281, 0.0003518580924719572, 0.00011673840344883502, 0.00033267249818891287, 0.00020899796800222248, 0.00016304041491821408, 0.0005591603112407029, 0.00017877887876238674, 0.0005847539869137108, 0.0006520409951917827, 0.0008100882987491786, 0.0008232032414525747, 0.006545146927237511, 0.007790680974721909, 0.006622510962188244, 0.005052980501204729, 0.014489841647446156, 0.02494209073483944, 0.019010335206985474, 0.028525512665510178, 0.0367877259850502, 0.14266976714134216, 0.2348988652229309, 0.30085405707359314, 0.14982274174690247, 0.0, 0.0, 0.0], [0.011463291943073273, 0.0009014835814014077, 0.0005477445665746927, 0.0005869876476936042, 0.0005616630078293383, 0.00023434797185473144, 0.00013944676902610809, 0.00019926806271541864, 0.00031403067987412214, 0.00012514660193119198, 0.00021479521819856018, 0.000248134572757408, 0.00022906126105226576, 0.0005020766402594745, 0.0004519023932516575, 0.000667673593852669, 0.0007638579700142145, 0.0009467182098887861, 0.0010094365570694208, 0.0037195777986198664, 0.007444893475621939, 0.00450056092813611, 0.0018344359705224633, 0.012973634526133537, 0.015522491186857224, 0.02183828316628933, 0.016228972002863884, 0.02469741366803646, 0.038053251802921295, 0.1630234569311142, 0.118260458111763, 0.22884778678417206, 0.32294777035713196, 0.0, 0.0], [0.009539707563817501, 0.00142432760912925, 0.0009944570483639836, 0.0009655564790591598, 0.0007854426512494683, 0.0003016068076249212, 0.00011159548012074083, 0.0008093677461147308, 0.00040054594865068793, 8.517048263456672e-05, 0.000630756258033216, 0.00020861529628746212, 0.0002525557647459209, 0.0005451839533634484, 0.00024275522446259856, 0.0005828303983435035, 0.0005503926076926291, 0.0010548572754487395, 0.001097913016565144, 0.00403354037553072, 0.005151552613824606, 0.007251252420246601, 0.003988177981227636, 0.012260399758815765, 0.013561548665165901, 0.03828653693199158, 0.06675269454717636, 0.013111520558595657, 0.10093282163143158, 0.1317911446094513, 0.05432308837771416, 0.1525149941444397, 0.3083244860172272, 0.06713256984949112, 0.0], [0.009234567172825336, 0.0018696903716772795, 0.0015434930101037025, 0.0012878915295004845, 0.0009349419269710779, 0.0002825607662089169, 0.00044942693784832954, 0.000559499894734472, 0.0003277683863416314, 7.203814311651513e-05, 0.00010657894017640501, 0.0002636238350532949, 0.00036547251511365175, 0.00037483088090084493, 0.0003117537416983396, 0.0008969140471890569, 0.0006347448215819895, 0.0008650032104924321, 0.0008020047098398209, 0.000630789203569293, 0.0032187814358621836, 0.003845830215141177, 0.0030004389118403196, 0.007814165204763412, 0.010107209905982018, 0.016721583902835846, 0.007672078441828489, 0.010031213983893394, 0.005356392823159695, 0.07757061719894409, 0.03774446249008179, 0.13809111714363098, 0.19567610323429108, 0.03074357472360134, 0.4305928647518158]], [[1.0, 0.0, 0.0, 0.0, 0.0, 0.0, 0.0, 0.0, 0.0, 0.0, 0.0, 0.0, 0.0, 0.0, 0.0, 0.0, 0.0, 0.0, 0.0, 0.0, 0.0, 0.0, 0.0, 0.0, 0.0, 0.0, 0.0, 0.0, 0.0, 0.0, 0.0, 0.0, 0.0, 0.0, 0.0], [0.8970723748207092, 0.10292765498161316, 0.0, 0.0, 0.0, 0.0, 0.0, 0.0, 0.0, 0.0, 0.0, 0.0, 0.0, 0.0, 0.0, 0.0, 0.0, 0.0, 0.0, 0.0, 0.0, 0.0, 0.0, 0.0, 0.0, 0.0, 0.0, 0.0, 0.0, 0.0, 0.0, 0.0, 0.0, 0.0, 0.0], [0.7731762528419495, 0.17108598351478577, 0.05573773384094238, 0.0, 0.0, 0.0, 0.0, 0.0, 0.0, 0.0, 0.0, 0.0, 0.0, 0.0, 0.0, 0.0, 0.0, 0.0, 0.0, 0.0, 0.0, 0.0, 0.0, 0.0, 0.0, 0.0, 0.0, 0.0, 0.0, 0.0, 0.0, 0.0, 0.0, 0.0, 0.0], [0.2190985381603241, 0.09592845290899277, 0.1539974808692932, 0.5309755206108093, 0.0, 0.0, 0.0, 0.0, 0.0, 0.0, 0.0, 0.0, 0.0, 0.0, 0.0, 0.0, 0.0, 0.0, 0.0, 0.0, 0.0, 0.0, 0.0, 0.0, 0.0, 0.0, 0.0, 0.0, 0.0, 0.0, 0.0, 0.0, 0.0, 0.0, 0.0], [0.4932918846607208, 0.12421072274446487, 0.08378953486680984, 0.2104450762271881, 0.08826276659965515, 0.0, 0.0, 0.0, 0.0, 0.0, 0.0, 0.0, 0.0, 0.0, 0.0, 0.0, 0.0, 0.0, 0.0, 0.0, 0.0, 0.0, 0.0, 0.0, 0.0, 0.0, 0.0, 0.0, 0.0, 0.0, 0.0, 0.0, 0.0, 0.0, 0.0], [0.4792534112930298, 0.11483937501907349, 0.05825282260775566, 0.12140918523073196, 0.19296897947788239, 0.0332762710750103, 0.0, 0.0, 0.0, 0.0, 0.0, 0.0, 0.0, 0.0, 0.0, 0.0, 0.0, 0.0, 0.0, 0.0, 0.0, 0.0, 0.0, 0.0, 0.0, 0.0, 0.0, 0.0, 0.0, 0.0, 0.0, 0.0, 0.0, 0.0, 0.0], [0.3376070261001587, 0.13038289546966553, 0.12365774810314178, 0.16848322749137878, 0.039485637098550797, 0.15522730350494385, 0.045156173408031464, 0.0, 0.0, 0.0, 0.0, 0.0, 0.0, 0.0, 0.0, 0.0, 0.0, 0.0, 0.0, 0.0, 0.0, 0.0, 0.0, 0.0, 0.0, 0.0, 0.0, 0.0, 0.0, 0.0, 0.0, 0.0, 0.0, 0.0, 0.0], [0.3124314546585083, 0.10335507243871689, 0.07322122156620026, 0.13077448308467865, 0.08650775253772736, 0.20371736586093903, 0.04714130237698555, 0.04285133630037308, 0.0, 0.0, 0.0, 0.0, 0.0, 0.0, 0.0, 0.0, 0.0, 0.0, 0.0, 0.0, 0.0, 0.0, 0.0, 0.0, 0.0, 0.0, 0.0, 0.0, 0.0, 0.0, 0.0, 0.0, 0.0, 0.0, 0.0], [0.1071995422244072, 0.03256478160619736, 0.0461539700627327, 0.12522774934768677, 0.01110523846000433, 0.03433005139231682, 0.007858382537961006, 0.01136657502502203, 0.6241936087608337, 0.0, 0.0, 0.0, 0.0, 0.0, 0.0, 0.0, 0.0, 0.0, 0.0, 0.0, 0.0, 0.0, 0.0, 0.0, 0.0, 0.0, 0.0, 0.0, 0.0, 0.0, 0.0, 0.0, 0.0, 0.0, 0.0], [0.3028891682624817, 0.07804969698190689, 0.05937645584344864, 0.09426909685134888, 0.1737714558839798, 0.038616277277469635, 0.04802526533603668, 0.03951254114508629, 0.13237622380256653, 0.03311379253864288, 0.0, 0.0, 0.0, 0.0, 0.0, 0.0, 0.0, 0.0, 0.0, 0.0, 0.0, 0.0, 0.0, 0.0, 0.0, 0.0, 0.0, 0.0, 0.0, 0.0, 0.0, 0.0, 0.0, 0.0, 0.0], [0.13027675449848175, 0.04213489219546318, 0.07258213311433792, 0.10922865569591522, 0.03630436584353447, 0.19112570583820343, 0.03369796648621559, 0.05715861916542053, 0.11187220364809036, 0.16414125263690948, 0.05147748067975044, 0.0, 0.0, 0.0, 0.0, 0.0, 0.0, 0.0, 0.0, 0.0, 0.0, 0.0, 0.0, 0.0, 0.0, 0.0, 0.0, 0.0, 0.0, 0.0, 0.0, 0.0, 0.0, 0.0, 0.0], [0.09464418143033981, 0.029253441840410233, 0.03811938688158989, 0.14989574253559113, 0.020670868456363678, 0.0763171911239624, 0.008947464637458324, 0.020045075565576553, 0.3057856559753418, 0.0475209504365921, 0.010440818034112453, 0.19835922122001648, 0.0, 0.0, 0.0, 0.0, 0.0, 0.0, 0.0, 0.0, 0.0, 0.0, 0.0, 0.0, 0.0, 0.0, 0.0, 0.0, 0.0, 0.0, 0.0, 0.0, 0.0, 0.0, 0.0], [0.14440800249576569, 0.06329527497291565, 0.07617757469415665, 0.07194553315639496, 0.03394104540348053, 0.08442076295614243, 0.035940200090408325, 0.07685543596744537, 0.11588277667760849, 0.059519536793231964, 0.06183496117591858, 0.14841711521148682, 0.027361810207366943, 0.0, 0.0, 0.0, 0.0, 0.0, 0.0, 0.0, 0.0, 0.0, 0.0, 0.0, 0.0, 0.0, 0.0, 0.0, 0.0, 0.0, 0.0, 0.0, 0.0, 0.0, 0.0], [0.04147873446345329, 0.011494417674839497, 0.01764351688325405, 0.04599723592400551, 0.004085008054971695, 0.013701115734875202, 0.0028708993922919035, 0.004510775674134493, 0.24164842069149017, 0.009729510173201561, 0.002616732381284237, 0.2641770839691162, 0.008053767494857311, 0.3319927752017975, 0.0, 0.0, 0.0, 0.0, 0.0, 0.0, 0.0, 0.0, 0.0, 0.0, 0.0, 0.0, 0.0, 0.0, 0.0, 0.0, 0.0, 0.0, 0.0, 0.0, 0.0], [0.1515585333108902, 0.0377250500023365, 0.027330640703439713, 0.06052474305033684, 0.030143294483423233, 0.02803487703204155, 0.013341407291591167, 0.02250303328037262, 0.11653437465429306, 0.05189970135688782, 0.010558653622865677, 0.10229875147342682, 0.015167283825576305, 0.14137384295463562, 0.19100581109523773, 0.0, 0.0, 0.0, 0.0, 0.0, 0.0, 0.0, 0.0, 0.0, 0.0, 0.0, 0.0, 0.0, 0.0, 0.0, 0.0, 0.0, 0.0, 0.0, 0.0], [0.2839045226573944, 0.0650239884853363, 0.03238336369395256, 0.029591109603643417, 0.0424320213496685, 0.02846977673470974, 0.04153314605355263, 0.08465307205915451, 0.043854970484972, 0.02753038890659809, 0.09218152612447739, 0.037511151283979416, 0.04891906678676605, 0.04984966665506363, 0.0791383907198906, 0.013023811392486095, 0.0, 0.0, 0.0, 0.0, 0.0, 0.0, 0.0, 0.0, 0.0, 0.0, 0.0, 0.0, 0.0, 0.0, 0.0, 0.0, 0.0, 0.0, 0.0], [0.04885762557387352, 0.014007379300892353, 0.019542613998055458, 0.07337553799152374, 0.010089142248034477, 0.039725713431835175, 0.004310052841901779, 0.010590329766273499, 0.15303608775138855, 0.026499025523662567, 0.005417247768491507, 0.09647629410028458, 0.012806713581085205, 0.204786479473114, 0.14743393659591675, 0.009689188562333584, 0.1233566626906395, 0.0, 0.0, 0.0, 0.0, 0.0, 0.0, 0.0, 0.0, 0.0, 0.0, 0.0, 0.0, 0.0, 0.0, 0.0, 0.0, 0.0, 0.0], [0.05943121388554573, 0.025951197370886803, 0.03547388315200806, 0.03907974064350128, 0.018049314618110657, 0.023087259382009506, 0.010503759607672691, 0.030069541186094284, 0.09918282181024551, 0.03614410385489464, 0.018410032615065575, 0.11741490662097931, 0.017167584970593452, 0.12769989669322968, 0.08459017425775528, 0.03790273144841194, 0.1457722932100296, 0.07406952232122421, 0.0, 0.0, 0.0, 0.0, 0.0, 0.0, 0.0, 0.0, 0.0, 0.0, 0.0, 0.0, 0.0, 0.0, 0.0, 0.0, 0.0], [0.272489070892334, 0.04502271115779877, 0.04612233117222786, 0.042052011936903, 0.038135625422000885, 0.054544299840927124, 0.025706561282277107, 0.01925416849553585, 0.04536458104848862, 0.05106877535581589, 0.021479351446032524, 0.051429376006126404, 0.035683102905750275, 0.051102474331855774, 0.04221019521355629, 0.03813278302550316, 0.057898230850696564, 0.023540088906884193, 0.038764286786317825, 0.0, 0.0, 0.0, 0.0, 0.0, 0.0, 0.0, 0.0, 0.0, 0.0, 0.0, 0.0, 0.0, 0.0, 0.0, 0.0], [0.2398124486207962, 0.03723882511258125, 0.04641319811344147, 0.018074775114655495, 0.028609449043869972, 0.031563639640808105, 0.023263653740286827, 0.053141217678785324, 0.03672982007265091, 0.044361576437950134, 0.014090007171034813, 0.04079654812812805, 0.013384053483605385, 0.040182746946811676, 0.02512497454881668, 0.022283194586634636, 0.044574372470378876, 0.026357246562838554, 0.01850210502743721, 0.19549615681171417, 0.0, 0.0, 0.0, 0.0, 0.0, 0.0, 0.0, 0.0, 0.0, 0.0, 0.0, 0.0, 0.0, 0.0, 0.0], [0.034472573548555374, 0.007049791049212217, 0.008516226895153522, 0.019823292270302773, 0.0020061926916241646, 0.008738493546843529, 0.001380531582981348, 0.0025849875528365374, 0.1296386867761612, 0.004980520345270634, 0.0014542947756126523, 0.09793518483638763, 0.004242657218128443, 0.1747492402791977, 0.020575357601046562, 0.002921729814261198, 0.12519222497940063, 0.0176667682826519, 0.008172443136572838, 0.006463978905230761, 0.321434885263443, 0.0, 0.0, 0.0, 0.0, 0.0, 0.0, 0.0, 0.0, 0.0, 0.0, 0.0, 0.0, 0.0, 0.0], [0.07532122731208801, 0.017385121434926987, 0.026499591767787933, 0.03820114955306053, 0.013464302755892277, 0.017004938796162605, 0.00568271754309535, 0.00816139206290245, 0.08791027218103409, 0.01565200462937355, 0.004622376058250666, 0.0687001645565033, 0.017068389803171158, 0.11098404973745346, 0.08843355625867844, 0.015540501102805138, 0.08290653675794601, 0.034457094967365265, 0.03490288555622101, 0.02266904152929783, 0.1672757863998413, 0.04715690389275551, 0.0, 0.0, 0.0, 0.0, 0.0, 0.0, 0.0, 0.0, 0.0, 0.0, 0.0, 0.0, 0.0], [0.11039689928293228, 0.017618590965867043, 0.012073228135704994, 0.07903023064136505, 0.04707181453704834, 0.028393493965268135, 0.010853300802409649, 0.03898293897509575, 0.042541783303022385, 0.05313577130436897, 0.010616570711135864, 0.04066743701696396, 0.016578689217567444, 0.05044251307845116, 0.04148310795426369, 0.011694181710481644, 0.04894391819834709, 0.045875322073698044, 0.0680345892906189, 0.03145819157361984, 0.07373650372028351, 0.09332361817359924, 0.0270472951233387, 0.0, 0.0, 0.0, 0.0, 0.0, 0.0, 0.0, 0.0, 0.0, 0.0, 0.0, 0.0], [0.05010591447353363, 0.01140363048762083, 0.018979987129569054, 0.04829110577702522, 0.005478162784129381, 0.027938112616539, 0.003475341247394681, 0.0096676554530859, 0.08883962780237198, 0.021459797397255898, 0.009184245951473713, 0.06738952547311783, 0.006293780170381069, 0.11730518937110901, 0.05559385567903519, 0.023259563371539116, 0.08538825064897537, 0.030172359198331833, 0.01855376549065113, 0.049727194011211395, 0.138699471950531, 0.03593091294169426, 0.0295705683529377, 0.04729193076491356, 0.0, 0.0, 0.0, 0.0, 0.0, 0.0, 0.0, 0.0, 0.0, 0.0, 0.0], [0.03365062549710274, 0.03973434120416641, 0.013943256810307503, 0.022155024111270905, 0.00737409945577383, 0.012534353882074356, 0.003937930800020695, 0.005588040221482515, 0.052764154970645905, 0.011353476904332638, 0.0029761551413685083, 0.06122001260519028, 0.0071145324036479, 0.06609285622835159, 0.018457194790244102, 0.004707180894911289, 0.07780604064464569, 0.01593407429754734, 0.01626971736550331, 0.027332929894328117, 0.08945076912641525, 0.028283223509788513, 0.01342835370451212, 0.24125005304813385, 0.12664161622524261, 0.0, 0.0, 0.0, 0.0, 0.0, 0.0, 0.0, 0.0, 0.0, 0.0], [0.10162995755672455, 0.048173438757658005, 0.022741511464118958, 0.017647169530391693, 0.0163576640188694, 0.014718177728354931, 0.02023889496922493, 0.030098307877779007, 0.038364384323358536, 0.02529747411608696, 0.03959346190094948, 0.04179811477661133, 0.018494972959160805, 0.04345663636922836, 0.023876938968896866, 0.01341190841048956, 0.048047516494989395, 0.021995287388563156, 0.030744779855012894, 0.05168472230434418, 0.05786483734846115, 0.042160164564847946, 0.05038999393582344, 0.08024898916482925, 0.07608187198638916, 0.02488282509148121, 0.0, 0.0, 0.0, 0.0, 0.0, 0.0, 0.0, 0.0, 0.0], [0.06603523343801498, 0.020660124719142914, 0.02168170176446438, 0.03408763185143471, 0.015279390849173069, 0.018442001193761826, 0.010789580643177032, 0.05595835670828819, 0.03565486520528793, 0.02173885703086853, 0.02566494792699814, 0.03946555033326149, 0.019091863185167313, 0.042604994028806686, 0.0451403371989727, 0.012913594953715801, 0.04735582321882248, 0.025561867281794548, 0.035244137048721313, 0.0974636822938919, 0.056113146245479584, 0.03593845292925835, 0.032566990703344345, 0.04301987215876579, 0.04697676748037338, 0.032461266964673996, 0.06208902224898338, 0.0, 0.0, 0.0, 0.0, 0.0, 0.0, 0.0, 0.0], [0.10541097074747086, 0.016973096877336502, 0.02034100703895092, 0.03266654163599014, 0.021851161494851112, 0.031789932399988174, 0.005571206100285053, 0.024194540455937386, 0.016740450635552406, 0.016082553192973137, 0.01348491758108139, 0.022790374234318733, 0.020844895392656326, 0.01981642283499241, 0.0074119954369962215, 0.013035076670348644, 0.026982493698596954, 0.010132263414561749, 0.017667710781097412, 0.2972625195980072, 0.023457154631614685, 0.03235582634806633, 0.03224532678723335, 0.019980130717158318, 0.05017193406820297, 0.048278916627168655, 0.03308820351958275, 0.019372418522834778, 0.0, 0.0, 0.0, 0.0, 0.0, 0.0, 0.0], [0.11478213965892792, 0.028451889753341675, 0.03015807457268238, 0.02989070490002632, 0.015577703714370728, 0.045236293226480484, 0.008156659081578255, 0.04677767679095268, 0.02057456597685814, 0.018089178949594498, 0.01663844846189022, 0.02435152605175972, 0.014281020499765873, 0.02287057414650917, 0.02455841936171055, 0.021522240713238716, 0.027740122750401497, 0.012263164855539799, 0.016789676621556282, 0.03060176782310009, 0.03310443460941315, 0.042306140065193176, 0.050134167075157166, 0.03989564627408981, 0.02547144703567028, 0.03835654631257057, 0.148365780711174, 0.04062195122241974, 0.012431958690285683, 0.0, 0.0, 0.0, 0.0, 0.0, 0.0], [0.010402963496744633, 0.00398831395432353, 0.007536553777754307, 0.02371407113969326, 0.0015746995341032743, 0.004556502681225538, 0.0011461444664746523, 0.0020206558983772993, 0.08388331532478333, 0.006093551404774189, 0.001224363804794848, 0.08011980354785919, 0.003282930701971054, 0.11485142260789871, 0.020138543099164963, 0.003874024609103799, 0.1035565435886383, 0.016239918768405914, 0.006219519302248955, 0.011158781126141548, 0.12897230684757233, 0.016916098073124886, 0.00881306454539299, 0.028795938938856125, 0.06059351935982704, 0.005618594121187925, 0.016893552616238594, 0.008791649714112282, 0.01702238991856575, 0.20200029015541077, 0.0, 0.0, 0.0, 0.0, 0.0], [0.05472036823630333, 0.015954434871673584, 0.012098261155188084, 0.022833766415715218, 0.01898520439863205, 0.028783898800611496, 0.008076787926256657, 0.00837206095457077, 0.03956405073404312, 0.012315313331782818, 0.009588335640728474, 0.023571280762553215, 0.010643109679222107, 0.04663844406604767, 0.014515891671180725, 0.012394598685204983, 0.027597343549132347, 0.021691441535949707, 0.020180564373731613, 0.018239226192235947, 0.054966527968645096, 0.0371178537607193, 0.024244997650384903, 0.03499604016542435, 0.14947675168514252, 0.029019517824053764, 0.04327644407749176, 0.01586645469069481, 0.045115403831005096, 0.11428382992744446, 0.024871772155165672, 0.0, 0.0, 0.0, 0.0], [0.02826632931828499, 0.008342589251697063, 0.009693154133856297, 0.024003295227885246, 0.012406977824866772, 0.009731613099575043, 0.0072547681629657745, 0.011378861963748932, 0.0452534481883049, 0.014661086723208427, 0.004759799223393202, 0.032793063670396805, 0.00959976576268673, 0.05662671849131584, 0.023795729503035545, 0.004614101257175207, 0.03982144966721535, 0.021239010617136955, 0.025286566466093063, 0.10159793496131897, 0.09278308600187302, 0.02612387016415596, 0.01509142853319645, 0.03458564728498459, 0.06182192638516426, 0.013407000340521336, 0.016889788210392, 0.030893554911017418, 0.02819485031068325, 0.11031375080347061, 0.04056956246495247, 0.03819922357797623, 0.0, 0.0, 0.0], [0.005920099094510078, 0.0026448271237313747, 0.005754887126386166, 0.021997174248099327, 0.0013081285869702697, 0.00572653952986002, 0.000870404823217541, 0.0018940431764349341, 0.05295496806502342, 0.0047250110656023026, 0.0009999446338042617, 0.043427079916000366, 0.0021749839652329683, 0.0736372321844101, 0.01701578125357628, 0.0030869953334331512, 0.05779089778661728, 0.010734479874372482, 0.0034258251544088125, 0.010332701727747917, 0.08509061485528946, 0.012429159134626389, 0.0062302350997924805, 0.02222101017832756, 0.0641111209988594, 0.005053481087088585, 0.01815238781273365, 0.007594154216349125, 0.006786444690078497, 0.16716448962688446, 0.013871796429157257, 0.014755632728338242, 0.2501174509525299, 0.0, 0.0], [0.05958716943860054, 0.014287116937339306, 0.009688670746982098, 0.028474610298871994, 0.028604792430996895, 0.026259347796440125, 0.008819633163511753, 0.022136051207780838, 0.017910216003656387, 0.026397552341222763, 0.01724357344210148, 0.025983819738030434, 0.006316179875284433, 0.02004316635429859, 0.015440622344613075, 0.025940267369151115, 0.030103053897619247, 0.01836533285677433, 0.023130424320697784, 0.026214592158794403, 0.03115726076066494, 0.02898618020117283, 0.028961284086108208, 0.016435224562883377, 0.03480090945959091, 0.03794369474053383, 0.0738067701458931, 0.030772432684898376, 0.02851724438369274, 0.07387097179889679, 0.0245877243578434, 0.03523407503962517, 0.08090803772211075, 0.02307201363146305, 0.0], [0.05258987471461296, 0.008282377384603024, 0.004686588887125254, 0.011556102894246578, 0.002124359831213951, 0.00737666105851531, 0.0025699094403535128, 0.005167302209883928, 0.06430476903915405, 0.008688672445714474, 0.004349815659224987, 0.05405205115675926, 0.003567327745258808, 0.08101722598075867, 0.02145703323185444, 0.004144074860960245, 0.0662156268954277, 0.01871694251894951, 0.009488225914537907, 0.006038547493517399, 0.102742999792099, 0.014565215446054935, 0.009106303565204144, 0.0216576736420393, 0.03524800390005112, 0.00485263392329216, 0.008422158658504486, 0.01958949863910675, 0.011885888874530792, 0.14464662969112396, 0.016607558354735374, 0.02283477410674095, 0.08476629108190536, 0.015126856043934822, 0.05155405029654503]], [[1.0, 0.0, 0.0, 0.0, 0.0, 0.0, 0.0, 0.0, 0.0, 0.0, 0.0, 0.0, 0.0, 0.0, 0.0, 0.0, 0.0, 0.0, 0.0, 0.0, 0.0, 0.0, 0.0, 0.0, 0.0, 0.0, 0.0, 0.0, 0.0, 0.0, 0.0, 0.0, 0.0, 0.0, 0.0], [0.8803902268409729, 0.11960974335670471, 0.0, 0.0, 0.0, 0.0, 0.0, 0.0, 0.0, 0.0, 0.0, 0.0, 0.0, 0.0, 0.0, 0.0, 0.0, 0.0, 0.0, 0.0, 0.0, 0.0, 0.0, 0.0, 0.0, 0.0, 0.0, 0.0, 0.0, 0.0, 0.0, 0.0, 0.0, 0.0, 0.0], [0.800162672996521, 0.14422567188739777, 0.05561167746782303, 0.0, 0.0, 0.0, 0.0, 0.0, 0.0, 0.0, 0.0, 0.0, 0.0, 0.0, 0.0, 0.0, 0.0, 0.0, 0.0, 0.0, 0.0, 0.0, 0.0, 0.0, 0.0, 0.0, 0.0, 0.0, 0.0, 0.0, 0.0, 0.0, 0.0, 0.0, 0.0], [0.6471941471099854, 0.14701780676841736, 0.0793100968003273, 0.12647795677185059, 0.0, 0.0, 0.0, 0.0, 0.0, 0.0, 0.0, 0.0, 0.0, 0.0, 0.0, 0.0, 0.0, 0.0, 0.0, 0.0, 0.0, 0.0, 0.0, 0.0, 0.0, 0.0, 0.0, 0.0, 0.0, 0.0, 0.0, 0.0, 0.0, 0.0, 0.0], [0.6291001439094543, 0.13269944489002228, 0.0830739364027977, 0.10306606441736221, 0.052060458809137344, 0.0, 0.0, 0.0, 0.0, 0.0, 0.0, 0.0, 0.0, 0.0, 0.0, 0.0, 0.0, 0.0, 0.0, 0.0, 0.0, 0.0, 0.0, 0.0, 0.0, 0.0, 0.0, 0.0, 0.0, 0.0, 0.0, 0.0, 0.0, 0.0, 0.0], [0.5631012916564941, 0.123759426176548, 0.11159727722406387, 0.10842732340097427, 0.08343344926834106, 0.009681188501417637, 0.0, 0.0, 0.0, 0.0, 0.0, 0.0, 0.0, 0.0, 0.0, 0.0, 0.0, 0.0, 0.0, 0.0, 0.0, 0.0, 0.0, 0.0, 0.0, 0.0, 0.0, 0.0, 0.0, 0.0, 0.0, 0.0, 0.0, 0.0, 0.0], [0.49733901023864746, 0.11400077491998672, 0.07851862162351608, 0.10408830642700195, 0.08229988068342209, 0.08720177412033081, 0.03655165433883667, 0.0, 0.0, 0.0, 0.0, 0.0, 0.0, 0.0, 0.0, 0.0, 0.0, 0.0, 0.0, 0.0, 0.0, 0.0, 0.0, 0.0, 0.0, 0.0, 0.0, 0.0, 0.0, 0.0, 0.0, 0.0, 0.0, 0.0, 0.0], [0.46186619997024536, 0.10720600932836533, 0.07680263370275497, 0.09525879472494125, 0.11179576814174652, 0.04683658108115196, 0.06328980624675751, 0.03694412484765053, 0.0, 0.0, 0.0, 0.0, 0.0, 0.0, 0.0, 0.0, 0.0, 0.0, 0.0, 0.0, 0.0, 0.0, 0.0, 0.0, 0.0, 0.0, 0.0, 0.0, 0.0, 0.0, 0.0, 0.0, 0.0, 0.0, 0.0], [0.40880176424980164, 0.11223537474870682, 0.06194951757788658, 0.08138206601142883, 0.06888710707426071, 0.04759940132498741, 0.057795677334070206, 0.06300585716962814, 0.09834323078393936, 0.0, 0.0, 0.0, 0.0, 0.0, 0.0, 0.0, 0.0, 0.0, 0.0, 0.0, 0.0, 0.0, 0.0, 0.0, 0.0, 0.0, 0.0, 0.0, 0.0, 0.0, 0.0, 0.0, 0.0, 0.0, 0.0], [0.3377855122089386, 0.07768955081701279, 0.06164024397730827, 0.08030417561531067, 0.0924348533153534, 0.12569789588451385, 0.043102771043777466, 0.08006507903337479, 0.08753135055303574, 0.01374861877411604, 0.0, 0.0, 0.0, 0.0, 0.0, 0.0, 0.0, 0.0, 0.0, 0.0, 0.0, 0.0, 0.0, 0.0, 0.0, 0.0, 0.0, 0.0, 0.0, 0.0, 0.0, 0.0, 0.0, 0.0, 0.0], [0.4084457457065582, 0.07972612977027893, 0.05943279340863228, 0.07098965346813202, 0.06258389353752136, 0.07298711687326431, 0.05290915444493294, 0.06663115322589874, 0.08486580103635788, 0.030785242095589638, 0.010643374174833298, 0.0, 0.0, 0.0, 0.0, 0.0, 0.0, 0.0, 0.0, 0.0, 0.0, 0.0, 0.0, 0.0, 0.0, 0.0, 0.0, 0.0, 0.0, 0.0, 0.0, 0.0, 0.0, 0.0, 0.0], [0.3284088373184204, 0.08126059174537659, 0.05222116783261299, 0.0667019784450531, 0.062212198972702026, 0.04688328504562378, 0.047482267022132874, 0.04943713918328285, 0.0864436998963356, 0.05108508840203285, 0.04660410061478615, 0.08125962316989899, 0.0, 0.0, 0.0, 0.0, 0.0, 0.0, 0.0, 0.0, 0.0, 0.0, 0.0, 0.0, 0.0, 0.0, 0.0, 0.0, 0.0, 0.0, 0.0, 0.0, 0.0, 0.0, 0.0], [0.28456372022628784, 0.07334227114915848, 0.05956626683473587, 0.05995682254433632, 0.0626126229763031, 0.044922519475221634, 0.0535489022731781, 0.055395226925611496, 0.0760505273938179, 0.054391514509916306, 0.05521010607481003, 0.0848141685128212, 0.03562537580728531, 0.0, 0.0, 0.0, 0.0, 0.0, 0.0, 0.0, 0.0, 0.0, 0.0, 0.0, 0.0, 0.0, 0.0, 0.0, 0.0, 0.0, 0.0, 0.0, 0.0, 0.0, 0.0], [0.29869240522384644, 0.08053487539291382, 0.04630003497004509, 0.058416109532117844, 0.05245252698659897, 0.03589676320552826, 0.0431300550699234, 0.04816411808133125, 0.07179585844278336, 0.035882290452718735, 0.03498636558651924, 0.06638612598180771, 0.0474989078938961, 0.07986355572938919, 0.0, 0.0, 0.0, 0.0, 0.0, 0.0, 0.0, 0.0, 0.0, 0.0, 0.0, 0.0, 0.0, 0.0, 0.0, 0.0, 0.0, 0.0, 0.0, 0.0, 0.0], [0.26184868812561035, 0.06895224004983902, 0.0466209314763546, 0.05860458314418793, 0.04692878574132919, 0.05568013712763786, 0.049152079969644547, 0.041177794337272644, 0.0749075636267662, 0.03198426216840744, 0.032572243362665176, 0.07257072627544403, 0.03739877790212631, 0.08542974293231964, 0.03617139905691147, 0.0, 0.0, 0.0, 0.0, 0.0, 0.0, 0.0, 0.0, 0.0, 0.0, 0.0, 0.0, 0.0, 0.0, 0.0, 0.0, 0.0, 0.0, 0.0, 0.0], [0.29417479038238525, 0.053609199821949005, 0.03860876336693764, 0.04952670633792877, 0.04060917720198631, 0.041493263095617294, 0.029716243967413902, 0.045369818806648254, 0.06024929881095886, 0.04159967973828316, 0.06637393683195114, 0.059824664145708084, 0.040502920746803284, 0.06734269857406616, 0.06095736473798752, 0.010041484609246254, 0.0, 0.0, 0.0, 0.0, 0.0, 0.0, 0.0, 0.0, 0.0, 0.0, 0.0, 0.0, 0.0, 0.0, 0.0, 0.0, 0.0, 0.0, 0.0], [0.24078042805194855, 0.057315025478601456, 0.03812980279326439, 0.04762376844882965, 0.04672614485025406, 0.03515475243330002, 0.03462181240320206, 0.037472423166036606, 0.06234780699014664, 0.0395454578101635, 0.035744309425354004, 0.05874498561024666, 0.0340784452855587, 0.07071569561958313, 0.05439115688204765, 0.03945149481296539, 0.06715650111436844, 0.0, 0.0, 0.0, 0.0, 0.0, 0.0, 0.0, 0.0, 0.0, 0.0, 0.0, 0.0, 0.0, 0.0, 0.0, 0.0, 0.0, 0.0], [0.19008119404315948, 0.05546915531158447, 0.03824985772371292, 0.04468470439314842, 0.0434919074177742, 0.03729136660695076, 0.03500030189752579, 0.03413338214159012, 0.056148409843444824, 0.029018191620707512, 0.026478582993149757, 0.06265047937631607, 0.03502202033996582, 0.06568854302167892, 0.057141970843076706, 0.047816332429647446, 0.07356441766023636, 0.06806915998458862, 0.0, 0.0, 0.0, 0.0, 0.0, 0.0, 0.0, 0.0, 0.0, 0.0, 0.0, 0.0, 0.0, 0.0, 0.0, 0.0, 0.0], [0.23406481742858887, 0.04765680059790611, 0.03626637160778046, 0.04350152984261513, 0.04482332244515419, 0.0309261754155159, 0.02414553239941597, 0.03047105483710766, 0.05100265517830849, 0.038521427661180496, 0.04128359258174896, 0.05289096012711525, 0.02789280191063881, 0.0573887936770916, 0.060669999569654465, 0.043871063739061356, 0.05933019891381264, 0.05117017775774002, 0.024122701957821846, 0.0, 0.0, 0.0, 0.0, 0.0, 0.0, 0.0, 0.0, 0.0, 0.0, 0.0, 0.0, 0.0, 0.0, 0.0, 0.0], [0.3121168911457062, 0.043056998401880264, 0.0307391956448555, 0.03990123048424721, 0.04073919355869293, 0.03397355228662491, 0.013991202227771282, 0.032501693814992905, 0.04214293137192726, 0.031367406249046326, 0.057223204523324966, 0.04209974780678749, 0.03285331279039383, 0.04662720859050751, 0.04874775931239128, 0.021730612963438034, 0.04722375422716141, 0.029857590794563293, 0.04530389606952667, 0.007802657317370176, 0.0, 0.0, 0.0, 0.0, 0.0, 0.0, 0.0, 0.0, 0.0, 0.0, 0.0, 0.0, 0.0, 0.0, 0.0], [0.1958305388689041, 0.052274733781814575, 0.032512079924345016, 0.037058889865875244, 0.043354298919439316, 0.027641313150525093, 0.027452072128653526, 0.033081576228141785, 0.045324407517910004, 0.025406748056411743, 0.024781623855233192, 0.03888050094246864, 0.030247299000620842, 0.05089511349797249, 0.041287776082754135, 0.03749212622642517, 0.04425322636961937, 0.04428720846772194, 0.04519394412636757, 0.050723981112241745, 0.0720205307006836, 0.0, 0.0, 0.0, 0.0, 0.0, 0.0, 0.0, 0.0, 0.0, 0.0, 0.0, 0.0, 0.0, 0.0], [0.16079992055892944, 0.04841073602437973, 0.033020976930856705, 0.03441706299781799, 0.03531980141997337, 0.023897046223282814, 0.026063481345772743, 0.02863973006606102, 0.044538743793964386, 0.024949470534920692, 0.02971615456044674, 0.040129996836185455, 0.024859070777893066, 0.051343947649002075, 0.05373542010784149, 0.045276302844285965, 0.04680594056844711, 0.03460598364472389, 0.04245501384139061, 0.054854534566402435, 0.06976333260536194, 0.04639734700322151, 0.0, 0.0, 0.0, 0.0, 0.0, 0.0, 0.0, 0.0, 0.0, 0.0, 0.0, 0.0, 0.0], [0.18932510912418365, 0.03910362720489502, 0.024852009490132332, 0.03345048427581787, 0.0386015884578228, 0.02410930022597313, 0.020502110943198204, 0.024301746860146523, 0.03976470232009888, 0.03418166935443878, 0.034847863018512726, 0.03619781509041786, 0.023668944835662842, 0.04502483084797859, 0.03498942404985428, 0.02682553231716156, 0.04153790697455406, 0.03736662492156029, 0.04202277585864067, 0.05591040849685669, 0.06404417753219604, 0.056186314672231674, 0.03318499028682709, 0.0, 0.0, 0.0, 0.0, 0.0, 0.0, 0.0, 0.0, 0.0, 0.0, 0.0, 0.0], [0.16596607863903046, 0.03388110175728798, 0.02065752074122429, 0.032127272337675095, 0.03747253865003586, 0.026519494131207466, 0.01988290809094906, 0.025609640404582024, 0.040917444974184036, 0.022610334679484367, 0.019720878452062607, 0.03376534581184387, 0.02350381389260292, 0.046445250511169434, 0.03541432321071625, 0.027368422597646713, 0.038769423961639404, 0.031460728496313095, 0.04639926180243492, 0.04867471382021904, 0.06382152438163757, 0.06529751420021057, 0.04629906639456749, 0.047415390610694885, 0.0, 0.0, 0.0, 0.0, 0.0, 0.0, 0.0, 0.0, 0.0, 0.0, 0.0], [0.1551409512758255, 0.03631480410695076, 0.022236892953515053, 0.02809741348028183, 0.04015664756298065, 0.02405598759651184, 0.017400911077857018, 0.021498555317521095, 0.036750663071870804, 0.017986755818128586, 0.01970391534268856, 0.02832779474556446, 0.022604620084166527, 0.04168051853775978, 0.030497949570417404, 0.025585606694221497, 0.032487593591213226, 0.027014946565032005, 0.04112285375595093, 0.047384489327669144, 0.06382337957620621, 0.05655011162161827, 0.04119998589158058, 0.06263259798288345, 0.05974406376481056, 0.0, 0.0, 0.0, 0.0, 0.0, 0.0, 0.0, 0.0, 0.0, 0.0], [0.12975941598415375, 0.027339696884155273, 0.02995750866830349, 0.022702829912304878, 0.037815336138010025, 0.03144635632634163, 0.01713675633072853, 0.046564918011426926, 0.030618302524089813, 0.018781673163175583, 0.025273194536566734, 0.028721971437335014, 0.019090941175818443, 0.034810010343790054, 0.026170212775468826, 0.026817752048373222, 0.03296039253473282, 0.024960245937108994, 0.05474759265780449, 0.05780104175209999, 0.056176237761974335, 0.03305985778570175, 0.05767423287034035, 0.046674203127622604, 0.062286995351314545, 0.02065235935151577, 0.0, 0.0, 0.0, 0.0, 0.0, 0.0, 0.0, 0.0, 0.0], [0.18126998841762543, 0.02792493999004364, 0.028055928647518158, 0.02945740334689617, 0.028532743453979492, 0.020307771861553192, 0.019550150260329247, 0.03153109550476074, 0.029232842847704887, 0.02111053839325905, 0.014580837450921535, 0.022505315020680428, 0.016256755217909813, 0.03150884434580803, 0.024519724771380424, 0.036590561270713806, 0.025034518912434578, 0.020030677318572998, 0.04726611077785492, 0.12142346054315567, 0.041896261274814606, 0.03646090254187584, 0.03734692186117172, 0.03705747798085213, 0.035210929811000824, 0.024784494191408157, 0.010552848689258099, 0.0, 0.0, 0.0, 0.0, 0.0, 0.0, 0.0, 0.0], [0.1419323980808258, 0.026873430237174034, 0.023394407704472542, 0.024198882281780243, 0.034410905092954636, 0.03176819905638695, 0.01428281795233488, 0.02788500115275383, 0.027823280543088913, 0.020267954096198082, 0.020075343549251556, 0.026035428047180176, 0.01527105551213026, 0.031183553859591484, 0.02134445495903492, 0.030780887231230736, 0.02968648634850979, 0.024966180324554443, 0.03290621563792229, 0.0812656506896019, 0.04738019406795502, 0.0395050123333931, 0.03810606524348259, 0.039200253784656525, 0.04723042622208595, 0.03223776817321777, 0.04768495261669159, 0.022302793338894844, 0.0, 0.0, 0.0, 0.0, 0.0, 0.0, 0.0], [0.19361069798469543, 0.02891046367585659, 0.01741073653101921, 0.024991951882839203, 0.02041228488087654, 0.036923520267009735, 0.01856403984129429, 0.022491104900836945, 0.026469895616173744, 0.019851719960570335, 0.016706902533769608, 0.02012959122657776, 0.01730293594300747, 0.02887752838432789, 0.01937028579413891, 0.021512914448976517, 0.022604653611779213, 0.01946551539003849, 0.03218545764684677, 0.09415601193904877, 0.03964083641767502, 0.046928733587265015, 0.03296550363302231, 0.034327466040849686, 0.03549886867403984, 0.04152422025799751, 0.03800845891237259, 0.02419380098581314, 0.004963916726410389, 0.0, 0.0, 0.0, 0.0, 0.0, 0.0], [0.13062261044979095, 0.0292381439357996, 0.020562471821904182, 0.024924924597144127, 0.026433365419507027, 0.02088005095720291, 0.016895076259970665, 0.020366206765174866, 0.030794672667980194, 0.01681152544915676, 0.014352641999721527, 0.026399683207273483, 0.017968149855732918, 0.03419143334031105, 0.025793621316552162, 0.020880065858364105, 0.02998332493007183, 0.022576836869120598, 0.031984005123376846, 0.0387752503156662, 0.047299258410930634, 0.039518095552921295, 0.03569554537534714, 0.04647783935070038, 0.04560371860861778, 0.027694012969732285, 0.028376266360282898, 0.029506977647542953, 0.03388816863298416, 0.06550601869821548, 0.0, 0.0, 0.0, 0.0, 0.0], [0.10399016737937927, 0.021966133266687393, 0.016451168805360794, 0.02278798632323742, 0.0243571475148201, 0.01997542567551136, 0.01367860659956932, 0.02052461914718151, 0.02641664817929268, 0.01582499034702778, 0.01812475360929966, 0.022938059642910957, 0.015249830670654774, 0.02995176985859871, 0.01956864818930626, 0.017790071666240692, 0.026331376284360886, 0.020062383264303207, 0.030405642464756966, 0.058378059417009354, 0.04746948182582855, 0.03560006245970726, 0.03361858054995537, 0.039051614701747894, 0.0462346076965332, 0.03415834158658981, 0.050636306405067444, 0.03304954618215561, 0.04132762923836708, 0.060074787586927414, 0.03400558605790138, 0.0, 0.0, 0.0, 0.0], [0.10689453780651093, 0.023425215855240822, 0.018311120569705963, 0.02227620594203472, 0.019986266270279884, 0.0183456689119339, 0.01589350588619709, 0.019802751019597054, 0.02582935243844986, 0.016079479828476906, 0.016656847670674324, 0.025818221271038055, 0.012892832979559898, 0.029111435636878014, 0.020739203318953514, 0.017621519044041634, 0.029654445126652718, 0.02428116276860237, 0.02804587408900261, 0.052053939551115036, 0.04263104498386383, 0.03251811861991882, 0.03738033026456833, 0.038434360176324844, 0.039821233600378036, 0.026290129870176315, 0.035206377506256104, 0.03138630837202072, 0.03282343968749046, 0.06194703280925751, 0.03762543573975563, 0.04021658003330231, 0.0, 0.0, 0.0], [0.1222902461886406, 0.02516898699104786, 0.0167140681296587, 0.02203325927257538, 0.02300073951482773, 0.015408722683787346, 0.014958013780415058, 0.018676772713661194, 0.026191163808107376, 0.012370296753942966, 0.010715773329138756, 0.02163190022110939, 0.013984636403620243, 0.02889922633767128, 0.023200981318950653, 0.018216608092188835, 0.02428123727440834, 0.018235333263874054, 0.021653957664966583, 0.03633744642138481, 0.03855649381875992, 0.03691945597529411, 0.03379228711128235, 0.04258827865123749, 0.03839157894253731, 0.023295769467949867, 0.030805261805653572, 0.024493319913744926, 0.030105778947472572, 0.05652609094977379, 0.03756684064865112, 0.04159916937351227, 0.05139037221670151, 0.0, 0.0], [0.13871711492538452, 0.021967248991131783, 0.016682984307408333, 0.021551374346017838, 0.026049219071865082, 0.015379135496914387, 0.012522307224571705, 0.02002522349357605, 0.021879838779568672, 0.014553078450262547, 0.01562824286520481, 0.018288591876626015, 0.012421742081642151, 0.023633431643247604, 0.01722067780792713, 0.02009168267250061, 0.020151866599917412, 0.018530184403061867, 0.024212490767240524, 0.07234078645706177, 0.03423937410116196, 0.030147047713398933, 0.03145884722471237, 0.030202968046069145, 0.030948741361498833, 0.024833207949995995, 0.030743271112442017, 0.022636570036411285, 0.04456690698862076, 0.041731372475624084, 0.02892465516924858, 0.029865315183997154, 0.04288144037127495, 0.024973034858703613, 0.0], [0.12327979505062103, 0.02670745551586151, 0.014834707602858543, 0.018021510913968086, 0.017764994874596596, 0.013351661153137684, 0.014073795638978481, 0.018723031505942345, 0.023980092257261276, 0.021256310865283012, 0.017004815861582756, 0.020616674795746803, 0.012905535288155079, 0.02609744668006897, 0.021554267033934593, 0.015845775604248047, 0.022780926898121834, 0.023595383390784264, 0.019861740991473198, 0.021922379732131958, 0.03597114235162735, 0.03369681537151337, 0.02117166668176651, 0.035360537469387054, 0.03450924903154373, 0.02189764939248562, 0.03512425720691681, 0.02411290816962719, 0.03299052640795708, 0.04677635431289673, 0.03042444959282875, 0.032703183591365814, 0.03790725767612457, 0.042624931782484055, 0.04055078700184822]], [[1.0, 0.0, 0.0, 0.0, 0.0, 0.0, 0.0, 0.0, 0.0, 0.0, 0.0, 0.0, 0.0, 0.0, 0.0, 0.0, 0.0, 0.0, 0.0, 0.0, 0.0, 0.0, 0.0, 0.0, 0.0, 0.0, 0.0, 0.0, 0.0, 0.0, 0.0, 0.0, 0.0, 0.0, 0.0], [0.6533873081207275, 0.34661275148391724, 0.0, 0.0, 0.0, 0.0, 0.0, 0.0, 0.0, 0.0, 0.0, 0.0, 0.0, 0.0, 0.0, 0.0, 0.0, 0.0, 0.0, 0.0, 0.0, 0.0, 0.0, 0.0, 0.0, 0.0, 0.0, 0.0, 0.0, 0.0, 0.0, 0.0, 0.0, 0.0, 0.0], [0.4451116919517517, 0.3337682783603668, 0.22112002968788147, 0.0, 0.0, 0.0, 0.0, 0.0, 0.0, 0.0, 0.0, 0.0, 0.0, 0.0, 0.0, 0.0, 0.0, 0.0, 0.0, 0.0, 0.0, 0.0, 0.0, 0.0, 0.0, 0.0, 0.0, 0.0, 0.0, 0.0, 0.0, 0.0, 0.0, 0.0, 0.0], [0.5459808707237244, 0.1529107391834259, 0.0764545351266861, 0.22465382516384125, 0.0, 0.0, 0.0, 0.0, 0.0, 0.0, 0.0, 0.0, 0.0, 0.0, 0.0, 0.0, 0.0, 0.0, 0.0, 0.0, 0.0, 0.0, 0.0, 0.0, 0.0, 0.0, 0.0, 0.0, 0.0, 0.0, 0.0, 0.0, 0.0, 0.0, 0.0], [0.42720288038253784, 0.1412525475025177, 0.06143974885344505, 0.11979990452528, 0.2503049075603485, 0.0, 0.0, 0.0, 0.0, 0.0, 0.0, 0.0, 0.0, 0.0, 0.0, 0.0, 0.0, 0.0, 0.0, 0.0, 0.0, 0.0, 0.0, 0.0, 0.0, 0.0, 0.0, 0.0, 0.0, 0.0, 0.0, 0.0, 0.0, 0.0, 0.0], [0.4097931385040283, 0.11732903867959976, 0.06548825651407242, 0.1236746534705162, 0.042223721742630005, 0.24149122834205627, 0.0, 0.0, 0.0, 0.0, 0.0, 0.0, 0.0, 0.0, 0.0, 0.0, 0.0, 0.0, 0.0, 0.0, 0.0, 0.0, 0.0, 0.0, 0.0, 0.0, 0.0, 0.0, 0.0, 0.0, 0.0, 0.0, 0.0, 0.0, 0.0], [0.3643514811992645, 0.15547119081020355, 0.08527877926826477, 0.0883261039853096, 0.04993733763694763, 0.034096237272024155, 0.22253888845443726, 0.0, 0.0, 0.0, 0.0, 0.0, 0.0, 0.0, 0.0, 0.0, 0.0, 0.0, 0.0, 0.0, 0.0, 0.0, 0.0, 0.0, 0.0, 0.0, 0.0, 0.0, 0.0, 0.0, 0.0, 0.0, 0.0, 0.0, 0.0], [0.35626858472824097, 0.09063339233398438, 0.05006816238164902, 0.10755757987499237, 0.06895480304956436, 0.04669608175754547, 0.040975309908390045, 0.238846093416214, 0.0, 0.0, 0.0, 0.0, 0.0, 0.0, 0.0, 0.0, 0.0, 0.0, 0.0, 0.0, 0.0, 0.0, 0.0, 0.0, 0.0, 0.0, 0.0, 0.0, 0.0, 0.0, 0.0, 0.0, 0.0, 0.0, 0.0], [0.3461388945579529, 0.14562255144119263, 0.09470635652542114, 0.10499641299247742, 0.06400174647569656, 0.04047238454222679, 0.03757920861244202, 0.04448215290904045, 0.12200022488832474, 0.0, 0.0, 0.0, 0.0, 0.0, 0.0, 0.0, 0.0, 0.0, 0.0, 0.0, 0.0, 0.0, 0.0, 0.0, 0.0, 0.0, 0.0, 0.0, 0.0, 0.0, 0.0, 0.0, 0.0, 0.0, 0.0], [0.20510230958461761, 0.04824315384030342, 0.05157081037759781, 0.09953969717025757, 0.06673121452331543, 0.045586880296468735, 0.03648392856121063, 0.08169861137866974, 0.08583585172891617, 0.2792075574398041, 0.0, 0.0, 0.0, 0.0, 0.0, 0.0, 0.0, 0.0, 0.0, 0.0, 0.0, 0.0, 0.0, 0.0, 0.0, 0.0, 0.0, 0.0, 0.0, 0.0, 0.0, 0.0, 0.0, 0.0, 0.0], [0.2301696240901947, 0.07576315104961395, 0.06243026256561279, 0.0619683675467968, 0.05024823918938637, 0.03796260058879852, 0.05770515277981758, 0.05617327243089676, 0.06585753709077835, 0.04166558012366295, 0.2600562274456024, 0.0, 0.0, 0.0, 0.0, 0.0, 0.0, 0.0, 0.0, 0.0, 0.0, 0.0, 0.0, 0.0, 0.0, 0.0, 0.0, 0.0, 0.0, 0.0, 0.0, 0.0, 0.0, 0.0, 0.0], [0.2668822705745697, 0.09969267249107361, 0.06880500167608261, 0.10110106319189072, 0.03625768423080444, 0.0487603023648262, 0.0317954458296299, 0.03426746651530266, 0.09192278981208801, 0.044060152024030685, 0.024279985576868057, 0.1521751582622528, 0.0, 0.0, 0.0, 0.0, 0.0, 0.0, 0.0, 0.0, 0.0, 0.0, 0.0, 0.0, 0.0, 0.0, 0.0, 0.0, 0.0, 0.0, 0.0, 0.0, 0.0, 0.0, 0.0], [0.24808605015277863, 0.05943755805492401, 0.036453068256378174, 0.09643884748220444, 0.04665254428982735, 0.043580617755651474, 0.02640967257320881, 0.038718488067388535, 0.06937099993228912, 0.0355321541428566, 0.02358422614634037, 0.05824919417500496, 0.21748660504817963, 0.0, 0.0, 0.0, 0.0, 0.0, 0.0, 0.0, 0.0, 0.0, 0.0, 0.0, 0.0, 0.0, 0.0, 0.0, 0.0, 0.0, 0.0, 0.0, 0.0, 0.0, 0.0], [0.22227585315704346, 0.08784300833940506, 0.06428328156471252, 0.07245950400829315, 0.051530078053474426, 0.03354166820645332, 0.03151150792837143, 0.043959807604551315, 0.10531803220510483, 0.036292850971221924, 0.03349635377526283, 0.07923728227615356, 0.034966111183166504, 0.10328470170497894, 0.0, 0.0, 0.0, 0.0, 0.0, 0.0, 0.0, 0.0, 0.0, 0.0, 0.0, 0.0, 0.0, 0.0, 0.0, 0.0, 0.0, 0.0, 0.0, 0.0, 0.0], [0.2625540494918823, 0.07451015710830688, 0.049621909856796265, 0.065139539539814, 0.022182416170835495, 0.03923412039875984, 0.021433910354971886, 0.028292492032051086, 0.06496232002973557, 0.02216963656246662, 0.018070971593260765, 0.05796554312109947, 0.01818801648914814, 0.061765074729919434, 0.1939098984003067, 0.0, 0.0, 0.0, 0.0, 0.0, 0.0, 0.0, 0.0, 0.0, 0.0, 0.0, 0.0, 0.0, 0.0, 0.0, 0.0, 0.0, 0.0, 0.0, 0.0], [0.21454617381095886, 0.052079539746046066, 0.043386027216911316, 0.05108675733208656, 0.023057054728269577, 0.03987296670675278, 0.021457554772496223, 0.0431031808257103, 0.057124003767967224, 0.04732410982251167, 0.020076347514986992, 0.04863850399851799, 0.031737685203552246, 0.053890712559223175, 0.039228107780218124, 0.21339131891727448, 0.0, 0.0, 0.0, 0.0, 0.0, 0.0, 0.0, 0.0, 0.0, 0.0, 0.0, 0.0, 0.0, 0.0, 0.0, 0.0, 0.0, 0.0, 0.0], [0.16934643685817719, 0.0575847402215004, 0.04318229854106903, 0.06501621752977371, 0.025769706815481186, 0.03584060072898865, 0.02340393140912056, 0.02863309718668461, 0.06884390860795975, 0.03735612705349922, 0.021079326048493385, 0.12265526503324509, 0.025184905156493187, 0.07096561044454575, 0.04923552647233009, 0.028457917273044586, 0.12744443118572235, 0.0, 0.0, 0.0, 0.0, 0.0, 0.0, 0.0, 0.0, 0.0, 0.0, 0.0, 0.0, 0.0, 0.0, 0.0, 0.0, 0.0, 0.0], [0.12944906949996948, 0.04351518303155899, 0.028707342222332954, 0.04557255282998085, 0.02128218673169613, 0.019885344430804253, 0.028857694938778877, 0.03478112816810608, 0.0553259402513504, 0.030885053798556328, 0.02108754962682724, 0.06504064053297043, 0.040431588888168335, 0.05797602981328964, 0.041369806975126266, 0.028544064611196518, 0.06784920394420624, 0.23943956196308136, 0.0, 0.0, 0.0, 0.0, 0.0, 0.0, 0.0, 0.0, 0.0, 0.0, 0.0, 0.0, 0.0, 0.0, 0.0, 0.0, 0.0], [0.14163608849048615, 0.035789649933576584, 0.028365232050418854, 0.04538756236433983, 0.046378400176763535, 0.039788711816072464, 0.014343786984682083, 0.04959797486662865, 0.047326184809207916, 0.030782444402575493, 0.018412159755825996, 0.04871037229895592, 0.023401634767651558, 0.047455642372369766, 0.03751208633184433, 0.023782702162861824, 0.04894062876701355, 0.033790674060583115, 0.2385980188846588, 0.0, 0.0, 0.0, 0.0, 0.0, 0.0, 0.0, 0.0, 0.0, 0.0, 0.0, 0.0, 0.0, 0.0, 0.0, 0.0], [0.13350321352481842, 0.03222053498029709, 0.020588897168636322, 0.03780217096209526, 0.04108010604977608, 0.03671092167496681, 0.025954410433769226, 0.04136638343334198, 0.0432656928896904, 0.030096465721726418, 0.02681291103363037, 0.04010694846510887, 0.024385904893279076, 0.04430919885635376, 0.0337374247610569, 0.02071092464029789, 0.04079743102192879, 0.032650165259838104, 0.03506242483854294, 0.25883781909942627, 0.0, 0.0, 0.0, 0.0, 0.0, 0.0, 0.0, 0.0, 0.0, 0.0, 0.0, 0.0, 0.0, 0.0, 0.0], [0.11974348872900009, 0.03914883732795715, 0.028956564143300056, 0.033427074551582336, 0.03769592568278313, 0.02054389752447605, 0.017558956518769264, 0.0326584130525589, 0.06372419744729996, 0.03310192748904228, 0.02986794151365757, 0.053869180381298065, 0.02251299098134041, 0.07236675173044205, 0.04143425449728966, 0.03790142014622688, 0.06002622842788696, 0.04586021602153778, 0.05091096833348274, 0.031955886632204056, 0.1267348974943161, 0.0, 0.0, 0.0, 0.0, 0.0, 0.0, 0.0, 0.0, 0.0, 0.0, 0.0, 0.0, 0.0, 0.0], [0.11878617852926254, 0.039572034031152725, 0.023222969844937325, 0.05364081636071205, 0.03261677920818329, 0.01737094856798649, 0.011663907207548618, 0.016273822635412216, 0.05014301836490631, 0.013260259293019772, 0.010486901737749577, 0.03813209757208824, 0.04193669557571411, 0.05336223915219307, 0.030979985371232033, 0.019617727026343346, 0.040241558104753494, 0.032441604882478714, 0.020540133118629456, 0.026845509186387062, 0.05771110579371452, 0.25115373730659485, 0.0, 0.0, 0.0, 0.0, 0.0, 0.0, 0.0, 0.0, 0.0, 0.0, 0.0, 0.0, 0.0], [0.1059650108218193, 0.03639822080731392, 0.02373065985739231, 0.027703462168574333, 0.02952033095061779, 0.016958510503172874, 0.0092772226780653, 0.019281182438135147, 0.04353448748588562, 0.025435717776417732, 0.015441062860190868, 0.0416172556579113, 0.018472319468855858, 0.046173423528671265, 0.02697521075606346, 0.016877291724085808, 0.0436592735350132, 0.020190218463540077, 0.018645785748958588, 0.016359705477952957, 0.05703481286764145, 0.06433957815170288, 0.27640917897224426, 0.0, 0.0, 0.0, 0.0, 0.0, 0.0, 0.0, 0.0, 0.0, 0.0, 0.0, 0.0], [0.08669394999742508, 0.14005151391029358, 0.05404343456029892, 0.026910433545708656, 0.02693350985646248, 0.01693662256002426, 0.01752724125981331, 0.011132634244859219, 0.033167172223329544, 0.00911658350378275, 0.014021697454154491, 0.028125261887907982, 0.012107604183256626, 0.03627436235547066, 0.030991649255156517, 0.015099073760211468, 0.03022146411240101, 0.02081548608839512, 0.018955036997795105, 0.021182602271437645, 0.043649885803461075, 0.04377347230911255, 0.025040630251169205, 0.23722875118255615, 0.0, 0.0, 0.0, 0.0, 0.0, 0.0, 0.0, 0.0, 0.0, 0.0, 0.0], [0.1050545945763588, 0.02472284436225891, 0.02343858778476715, 0.024256443604826927, 0.021477704867720604, 0.01411109883338213, 0.012018011882901192, 0.01570730283856392, 0.042195823043584824, 0.01680336892604828, 0.011159352958202362, 0.031271807849407196, 0.02032068930566311, 0.04702335223555565, 0.03988676890730858, 0.025853361934423447, 0.03450958803296089, 0.02452259510755539, 0.01759421080350876, 0.021597158163785934, 0.06303169578313828, 0.05036986619234085, 0.02654913440346718, 0.04091528430581093, 0.24560922384262085, 0.0, 0.0, 0.0, 0.0, 0.0, 0.0, 0.0, 0.0, 0.0, 0.0], [0.07146887481212616, 0.01568310335278511, 0.019199557602405548, 0.02765510231256485, 0.025888731703162193, 0.011495743878185749, 0.013834541663527489, 0.025006256997585297, 0.03285751864314079, 0.04069041833281517, 0.019407065585255623, 0.03628278151154518, 0.026671355590224266, 0.03698844835162163, 0.02539135329425335, 0.012203282676637173, 0.04081625118851662, 0.022441430017352104, 0.018680064007639885, 0.037140704691410065, 0.05291352793574333, 0.033748991787433624, 0.03600706532597542, 0.0273960642516613, 0.04157792404294014, 0.24855388700962067, 0.0, 0.0, 0.0, 0.0, 0.0, 0.0, 0.0, 0.0, 0.0], [0.09520062804222107, 0.023399099707603455, 0.016249949112534523, 0.03728703409433365, 0.02706947922706604, 0.02442619949579239, 0.016916709020733833, 0.020519256591796875, 0.035614460706710815, 0.0172467939555645, 0.01696517877280712, 0.030670631676912308, 0.01476180087774992, 0.03783896565437317, 0.025590211153030396, 0.013281548395752907, 0.03275728225708008, 0.01698147878050804, 0.012912832200527191, 0.040966764092445374, 0.044523753225803375, 0.03288855403661728, 0.021862009540200233, 0.02890506014227867, 0.025222206488251686, 0.015681955963373184, 0.27426013350486755, 0.0, 0.0, 0.0, 0.0, 0.0, 0.0, 0.0, 0.0], [0.07106205821037292, 0.022234495729207993, 0.015442529693245888, 0.02880682982504368, 0.024911722168326378, 0.014096676371991634, 0.010925306007266045, 0.022356456145644188, 0.028251029551029205, 0.025925245136022568, 0.012314549647271633, 0.03621361777186394, 0.0176627766340971, 0.031407058238983154, 0.018595045432448387, 0.018171407282352448, 0.04006665199995041, 0.02272830158472061, 0.02500053495168686, 0.04014963284134865, 0.042498040944337845, 0.02628159336745739, 0.023634901270270348, 0.03034823201596737, 0.028446583077311516, 0.04931708425283432, 0.045332688838243484, 0.22781892120838165, 0.0, 0.0, 0.0, 0.0, 0.0, 0.0, 0.0], [0.11998689919710159, 0.03201313689351082, 0.020363764837384224, 0.031922318041324615, 0.02011149562895298, 0.017741894349455833, 0.014963150024414062, 0.014099696651101112, 0.032360270619392395, 0.012826556339859962, 0.01920422725379467, 0.024741899222135544, 0.014775943011045456, 0.033650849014520645, 0.032850783318281174, 0.015633024275302887, 0.026330983266234398, 0.009946920908987522, 0.010015271604061127, 0.02325468510389328, 0.03898429125547409, 0.034919410943984985, 0.011989151127636433, 0.030530868098139763, 0.02381373755633831, 0.0189790241420269, 0.06846079975366592, 0.019141538068652153, 0.22638750076293945, 0.0, 0.0, 0.0, 0.0, 0.0, 0.0], [0.0711139589548111, 0.023045016452670097, 0.017407840117812157, 0.025577733293175697, 0.018817279487848282, 0.01440666988492012, 0.011364500969648361, 0.019742926582694054, 0.037803784012794495, 0.017498360946774483, 0.0122145377099514, 0.034711796790361404, 0.01624511182308197, 0.0449482686817646, 0.031461041420698166, 0.01797626167535782, 0.040775008499622345, 0.026232006028294563, 0.029104549437761307, 0.03286315128207207, 0.06312330812215805, 0.03996738791465759, 0.03193743899464607, 0.05005759373307228, 0.050039853900671005, 0.02629847265779972, 0.040675751864910126, 0.03425349295139313, 0.03361442685127258, 0.0867224857211113, 0.0, 0.0, 0.0, 0.0, 0.0], [0.06342679262161255, 0.018928568810224533, 0.015915194526314735, 0.022974470630288124, 0.01581357792019844, 0.011996149085462093, 0.006959726568311453, 0.010440586134791374, 0.027604447677731514, 0.014203771948814392, 0.011755007319152355, 0.02697419933974743, 0.015696220099925995, 0.03244096785783768, 0.02146400883793831, 0.01630021259188652, 0.0315910279750824, 0.018295634537935257, 0.02407490462064743, 0.018299637362360954, 0.04905861243605614, 0.03294461593031883, 0.031695034354925156, 0.04070066660642624, 0.05526788532733917, 0.03228400647640228, 0.01833721622824669, 0.020621933043003082, 0.02061566896736622, 0.061421554535627365, 0.21189774572849274, 0.0, 0.0, 0.0, 0.0], [0.05903123691678047, 0.011650345288217068, 0.01190631277859211, 0.020305123180150986, 0.01582454703748226, 0.011342639103531837, 0.012165090069174767, 0.020514553412795067, 0.02463514171540737, 0.01787753403186798, 0.008976953104138374, 0.027097532525658607, 0.01015137042850256, 0.029500097036361694, 0.022961726412177086, 0.01152713131159544, 0.032491881400346756, 0.02021908015012741, 0.02027125470340252, 0.027604978531599045, 0.042306941002607346, 0.022920366376638412, 0.027398398146033287, 0.02483934536576271, 0.028419984504580498, 0.04172162711620331, 0.0314212329685688, 0.035203296691179276, 0.030631238594651222, 0.06006475165486336, 0.045377377420663834, 0.19364094734191895, 0.0, 0.0, 0.0], [0.08590574562549591, 0.014704100787639618, 0.01051056943833828, 0.028699841350317, 0.016654491424560547, 0.012795396149158478, 0.00923528429120779, 0.014819213189184666, 0.028232712298631668, 0.011867670342326164, 0.009268177673220634, 0.023044347763061523, 0.017553268000483513, 0.032954033464193344, 0.02501373365521431, 0.012247503735125065, 0.026799563318490982, 0.013326534070074558, 0.016479840502142906, 0.034728214144706726, 0.03980801999568939, 0.05067338049411774, 0.030861172825098038, 0.027551833540201187, 0.03616422787308693, 0.01740611158311367, 0.047160591930150986, 0.02589183673262596, 0.028397290036082268, 0.06047137454152107, 0.03584858775138855, 0.03886668011546135, 0.11605862528085709, 0.0, 0.0], [0.0567077212035656, 0.01524327602237463, 0.009892581962049007, 0.017495425418019295, 0.035292450338602066, 0.015370241366326809, 0.010747743770480156, 0.017091594636440277, 0.021245010197162628, 0.013064499013125896, 0.006394115276634693, 0.02176818437874317, 0.01101536862552166, 0.0232908446341753, 0.02097102254629135, 0.012346653267741203, 0.024119652807712555, 0.013815037906169891, 0.016820501536130905, 0.0345151424407959, 0.030974799767136574, 0.032177552580833435, 0.03227026388049126, 0.023270362988114357, 0.027259428054094315, 0.01785033568739891, 0.05776430666446686, 0.024271583184599876, 0.025243019685149193, 0.037745822221040726, 0.01589580997824669, 0.026596594601869583, 0.04215160384774208, 0.20932143926620483, 0.0], [0.04736970737576485, 0.013491550460457802, 0.008601199835538864, 0.01153437327593565, 0.03260952979326248, 0.00875001773238182, 0.010495420545339584, 0.01597345992922783, 0.02422492206096649, 0.013959750533103943, 0.011584170162677765, 0.020906992256641388, 0.01231019664555788, 0.028499379754066467, 0.014403227716684341, 0.011428192257881165, 0.024424532428383827, 0.021284056827425957, 0.027576277032494545, 0.025762224569916725, 0.04914955049753189, 0.02154945582151413, 0.020725887268781662, 0.030232436954975128, 0.04683733731508255, 0.02172248065471649, 0.02025720104575157, 0.0191495381295681, 0.010533901862800121, 0.05002591386437416, 0.030405579134821892, 0.02281223237514496, 0.029462482780218124, 0.03996318578720093, 0.20198364555835724]], [[1.0, 0.0, 0.0, 0.0, 0.0, 0.0, 0.0, 0.0, 0.0, 0.0, 0.0, 0.0, 0.0, 0.0, 0.0, 0.0, 0.0, 0.0, 0.0, 0.0, 0.0, 0.0, 0.0, 0.0, 0.0, 0.0, 0.0, 0.0, 0.0, 0.0, 0.0, 0.0, 0.0, 0.0, 0.0], [0.8253123164176941, 0.1746877133846283, 0.0, 0.0, 0.0, 0.0, 0.0, 0.0, 0.0, 0.0, 0.0, 0.0, 0.0, 0.0, 0.0, 0.0, 0.0, 0.0, 0.0, 0.0, 0.0, 0.0, 0.0, 0.0, 0.0, 0.0, 0.0, 0.0, 0.0, 0.0, 0.0, 0.0, 0.0, 0.0, 0.0], [0.758050262928009, 0.1302967369556427, 0.1116529181599617, 0.0, 0.0, 0.0, 0.0, 0.0, 0.0, 0.0, 0.0, 0.0, 0.0, 0.0, 0.0, 0.0, 0.0, 0.0, 0.0, 0.0, 0.0, 0.0, 0.0, 0.0, 0.0, 0.0, 0.0, 0.0, 0.0, 0.0, 0.0, 0.0, 0.0, 0.0, 0.0], [0.7232241034507751, 0.082744300365448, 0.0787082239985466, 0.11532338708639145, 0.0, 0.0, 0.0, 0.0, 0.0, 0.0, 0.0, 0.0, 0.0, 0.0, 0.0, 0.0, 0.0, 0.0, 0.0, 0.0, 0.0, 0.0, 0.0, 0.0, 0.0, 0.0, 0.0, 0.0, 0.0, 0.0, 0.0, 0.0, 0.0, 0.0, 0.0], [0.5594541430473328, 0.08694437891244888, 0.09115545451641083, 0.09393440932035446, 0.1685115098953247, 0.0, 0.0, 0.0, 0.0, 0.0, 0.0, 0.0, 0.0, 0.0, 0.0, 0.0, 0.0, 0.0, 0.0, 0.0, 0.0, 0.0, 0.0, 0.0, 0.0, 0.0, 0.0, 0.0, 0.0, 0.0, 0.0, 0.0, 0.0, 0.0, 0.0], [0.5031397342681885, 0.08192653208971024, 0.05872311070561409, 0.1048090010881424, 0.1521420031785965, 0.09925960749387741, 0.0, 0.0, 0.0, 0.0, 0.0, 0.0, 0.0, 0.0, 0.0, 0.0, 0.0, 0.0, 0.0, 0.0, 0.0, 0.0, 0.0, 0.0, 0.0, 0.0, 0.0, 0.0, 0.0, 0.0, 0.0, 0.0, 0.0, 0.0, 0.0], [0.5279609560966492, 0.05825977772474289, 0.0683659091591835, 0.11652130633592606, 0.11039456725120544, 0.06918039917945862, 0.04931705817580223, 0.0, 0.0, 0.0, 0.0, 0.0, 0.0, 0.0, 0.0, 0.0, 0.0, 0.0, 0.0, 0.0, 0.0, 0.0, 0.0, 0.0, 0.0, 0.0, 0.0, 0.0, 0.0, 0.0, 0.0, 0.0, 0.0, 0.0, 0.0], [0.30010083317756653, 0.0882599875330925, 0.058349307626485825, 0.10984237492084503, 0.1686263084411621, 0.12896905839443207, 0.023227620869874954, 0.12262453138828278, 0.0, 0.0, 0.0, 0.0, 0.0, 0.0, 0.0, 0.0, 0.0, 0.0, 0.0, 0.0, 0.0, 0.0, 0.0, 0.0, 0.0, 0.0, 0.0, 0.0, 0.0, 0.0, 0.0, 0.0, 0.0, 0.0, 0.0], [0.3934404253959656, 0.04758616164326668, 0.05194966867566109, 0.07471577823162079, 0.11950992792844772, 0.059380389750003815, 0.023368611931800842, 0.1026640459895134, 0.12738502025604248, 0.0, 0.0, 0.0, 0.0, 0.0, 0.0, 0.0, 0.0, 0.0, 0.0, 0.0, 0.0, 0.0, 0.0, 0.0, 0.0, 0.0, 0.0, 0.0, 0.0, 0.0, 0.0, 0.0, 0.0, 0.0, 0.0], [0.3446025252342224, 0.05032898858189583, 0.0599132739007473, 0.044831279665231705, 0.1573815643787384, 0.06782464683055878, 0.03229011595249176, 0.07052532583475113, 0.08953909575939178, 0.08276323229074478, 0.0, 0.0, 0.0, 0.0, 0.0, 0.0, 0.0, 0.0, 0.0, 0.0, 0.0, 0.0, 0.0, 0.0, 0.0, 0.0, 0.0, 0.0, 0.0, 0.0, 0.0, 0.0, 0.0, 0.0, 0.0], [0.33508482575416565, 0.046269986778497696, 0.04785763472318649, 0.10917428135871887, 0.04435236006975174, 0.04490723833441734, 0.028443878516554832, 0.07920622825622559, 0.10731326043605804, 0.06832481175661087, 0.08906550705432892, 0.0, 0.0, 0.0, 0.0, 0.0, 0.0, 0.0, 0.0, 0.0, 0.0, 0.0, 0.0, 0.0, 0.0, 0.0, 0.0, 0.0, 0.0, 0.0, 0.0, 0.0, 0.0, 0.0, 0.0], [0.31157219409942627, 0.03927762061357498, 0.03521272912621498, 0.07550996541976929, 0.08078577369451523, 0.04503688961267471, 0.02880651317536831, 0.10218672454357147, 0.08797678351402283, 0.05585261434316635, 0.08571925759315491, 0.0520629808306694, 0.0, 0.0, 0.0, 0.0, 0.0, 0.0, 0.0, 0.0, 0.0, 0.0, 0.0, 0.0, 0.0, 0.0, 0.0, 0.0, 0.0, 0.0, 0.0, 0.0, 0.0, 0.0, 0.0], [0.36146947741508484, 0.06311225891113281, 0.026989925652742386, 0.07095795124769211, 0.03985173627734184, 0.02944651059806347, 0.02279636636376381, 0.07072700560092926, 0.11304391175508499, 0.033355195075273514, 0.037144169211387634, 0.047639425843954086, 0.08346597850322723, 0.0, 0.0, 0.0, 0.0, 0.0, 0.0, 0.0, 0.0, 0.0, 0.0, 0.0, 0.0, 0.0, 0.0, 0.0, 0.0, 0.0, 0.0, 0.0, 0.0, 0.0, 0.0], [0.26885920763015747, 0.032650742679834366, 0.03938186168670654, 0.050811462104320526, 0.08684232085943222, 0.04310199245810509, 0.017922362312674522, 0.06655362248420715, 0.07785408198833466, 0.04528900608420372, 0.06586871296167374, 0.046066053211688995, 0.07721763849258423, 0.08158092945814133, 0.0, 0.0, 0.0, 0.0, 0.0, 0.0, 0.0, 0.0, 0.0, 0.0, 0.0, 0.0, 0.0, 0.0, 0.0, 0.0, 0.0, 0.0, 0.0, 0.0, 0.0], [0.20790532231330872, 0.030814697965979576, 0.029462965205311775, 0.050674211233854294, 0.08743477612733841, 0.04770582914352417, 0.027333181351423264, 0.09152107685804367, 0.05214144289493561, 0.04708246886730194, 0.08081997185945511, 0.054532743990421295, 0.12074848264455795, 0.05516166239976883, 0.016661206260323524, 0.0, 0.0, 0.0, 0.0, 0.0, 0.0, 0.0, 0.0, 0.0, 0.0, 0.0, 0.0, 0.0, 0.0, 0.0, 0.0, 0.0, 0.0, 0.0, 0.0], [0.19932863116264343, 0.04206708446145058, 0.05715767666697502, 0.07193328440189362, 0.050658807158470154, 0.031524576246738434, 0.02713681012392044, 0.041409049183130264, 0.0932227298617363, 0.052022069692611694, 0.0254228338599205, 0.05927913263440132, 0.06613776832818985, 0.09582274407148361, 0.031632158905267715, 0.05524466559290886, 0.0, 0.0, 0.0, 0.0, 0.0, 0.0, 0.0, 0.0, 0.0, 0.0, 0.0, 0.0, 0.0, 0.0, 0.0, 0.0, 0.0, 0.0, 0.0], [0.2371978908777237, 0.030675802379846573, 0.0292084738612175, 0.058212388306856155, 0.06082988902926445, 0.034956082701683044, 0.024440526962280273, 0.0708492174744606, 0.05983858183026314, 0.03970345854759216, 0.059325918555259705, 0.03675239160656929, 0.07694026082754135, 0.06171642243862152, 0.014049733988940716, 0.06745626777410507, 0.03784665837883949, 0.0, 0.0, 0.0, 0.0, 0.0, 0.0, 0.0, 0.0, 0.0, 0.0, 0.0, 0.0, 0.0, 0.0, 0.0, 0.0, 0.0, 0.0], [0.24995316565036774, 0.026629485189914703, 0.039317596703767776, 0.04463212564587593, 0.07087578624486923, 0.034094203263521194, 0.021265042945742607, 0.05726420134305954, 0.051796626299619675, 0.03503984585404396, 0.0439227931201458, 0.03922874107956886, 0.06155911833047867, 0.0512242391705513, 0.015611974522471428, 0.08278121054172516, 0.038917426019907, 0.03588636592030525, 0.0, 0.0, 0.0, 0.0, 0.0, 0.0, 0.0, 0.0, 0.0, 0.0, 0.0, 0.0, 0.0, 0.0, 0.0, 0.0, 0.0], [0.22269795835018158, 0.02651812508702278, 0.03978951275348663, 0.02760399505496025, 0.08196067810058594, 0.03582964837551117, 0.015378967858850956, 0.06874661892652512, 0.05343087017536163, 0.054698191583156586, 0.057215701788663864, 0.03161527216434479, 0.03717070817947388, 0.052282966673374176, 0.01185118779540062, 0.0720609575510025, 0.030878296121954918, 0.024411164224147797, 0.05585915595293045, 0.0, 0.0, 0.0, 0.0, 0.0, 0.0, 0.0, 0.0, 0.0, 0.0, 0.0, 0.0, 0.0, 0.0, 0.0, 0.0], [0.07419287413358688, 0.050926994532346725, 0.028230944648385048, 0.034200068563222885, 0.03361426666378975, 0.05182218924164772, 0.009658378548920155, 0.04940613731741905, 0.09883321821689606, 0.05356479808688164, 0.024581868201494217, 0.05879184231162071, 0.013026798143982887, 0.10889024287462234, 0.015677114948630333, 0.04766633361577988, 0.06507280468940735, 0.03886169567704201, 0.0398426279425621, 0.10313881933689117, 0.0, 0.0, 0.0, 0.0, 0.0, 0.0, 0.0, 0.0, 0.0, 0.0, 0.0, 0.0, 0.0, 0.0, 0.0], [0.22614894807338715, 0.025769883766770363, 0.033361680805683136, 0.04034484922885895, 0.061168424785137177, 0.03166026249527931, 0.023036982864141464, 0.04815826192498207, 0.04964129626750946, 0.02570328302681446, 0.051324233412742615, 0.02922578528523445, 0.04627237841486931, 0.04679545760154724, 0.010471498593688011, 0.04346739128232002, 0.027977753430604935, 0.03356107696890831, 0.03209926187992096, 0.055624041706323624, 0.058187272399663925, 0.0, 0.0, 0.0, 0.0, 0.0, 0.0, 0.0, 0.0, 0.0, 0.0, 0.0, 0.0, 0.0, 0.0], [0.1944299340248108, 0.02000579610466957, 0.025669965893030167, 0.027610069140791893, 0.07351990789175034, 0.025118568912148476, 0.016428448259830475, 0.05443364754319191, 0.04450269043445587, 0.022272864356637, 0.029331279918551445, 0.030642621219158173, 0.0628659725189209, 0.04339166358113289, 0.010215997695922852, 0.09763482213020325, 0.029601428657770157, 0.02808045968413353, 0.037571631371974945, 0.05037400871515274, 0.06089741364121437, 0.01540081761777401, 0.0, 0.0, 0.0, 0.0, 0.0, 0.0, 0.0, 0.0, 0.0, 0.0, 0.0, 0.0, 0.0], [0.19766588509082794, 0.041157495230436325, 0.033601172268390656, 0.023870175704360008, 0.06633450090885162, 0.028016969561576843, 0.019582943990826607, 0.0517856664955616, 0.031591471284627914, 0.02653614431619644, 0.041643157601356506, 0.025757968425750732, 0.04328408092260361, 0.029939448460936546, 0.012750308960676193, 0.05606914311647415, 0.024677351117134094, 0.021505901589989662, 0.04559292644262314, 0.07480883598327637, 0.0443340428173542, 0.021997347474098206, 0.03749702870845795, 0.0, 0.0, 0.0, 0.0, 0.0, 0.0, 0.0, 0.0, 0.0, 0.0, 0.0, 0.0], [0.18043571710586548, 0.0233498252928257, 0.023929737508296967, 0.04454164579510689, 0.04070594534277916, 0.03654099255800247, 0.01661658100783825, 0.05323561653494835, 0.050283920019865036, 0.02584688365459442, 0.04605167359113693, 0.024920538067817688, 0.039760906249284744, 0.04893423989415169, 0.012390011921525002, 0.06191658973693848, 0.023965341970324516, 0.02875448390841484, 0.025095410645008087, 0.06865917891263962, 0.0735766813158989, 0.018046909943223, 0.022800737991929054, 0.009640373289585114, 0.0, 0.0, 0.0, 0.0, 0.0, 0.0, 0.0, 0.0, 0.0, 0.0, 0.0], [0.242463618516922, 0.024696463719010353, 0.03868826478719711, 0.03357228636741638, 0.05476618558168411, 0.03380468115210533, 0.020721614360809326, 0.03275461867451668, 0.04349979758262634, 0.018562650308012962, 0.03646848350763321, 0.03100249171257019, 0.03862546384334564, 0.039931800216436386, 0.01072716899216175, 0.03831769898533821, 0.029280323535203934, 0.02467813715338707, 0.027889324352145195, 0.04502159357070923, 0.043075982481241226, 0.016905827447772026, 0.023586304858326912, 0.007298621814697981, 0.04366062954068184, 0.0, 0.0, 0.0, 0.0, 0.0, 0.0, 0.0, 0.0, 0.0, 0.0], [0.11111285537481308, 0.029458750039339066, 0.024559462442994118, 0.03090249001979828, 0.033864825963974, 0.033630646765232086, 0.01283144298940897, 0.03066927194595337, 0.06390532851219177, 0.023481523618102074, 0.025704598054289818, 0.037669774144887924, 0.01616786979138851, 0.06660736352205276, 0.017231760546565056, 0.030658673495054245, 0.039240460842847824, 0.024295233190059662, 0.02638879045844078, 0.0586402602493763, 0.10666141659021378, 0.017623892053961754, 0.024245422333478928, 0.018279604613780975, 0.03675020486116409, 0.05941801518201828, 0.0, 0.0, 0.0, 0.0, 0.0, 0.0, 0.0, 0.0, 0.0], [0.17855210602283478, 0.0437387116253376, 0.027772288769483566, 0.03288249298930168, 0.08083151280879974, 0.03614853695034981, 0.01943814754486084, 0.03604714572429657, 0.0315406359732151, 0.02228383533656597, 0.026742061600089073, 0.020272957161068916, 0.04929489269852638, 0.02805705927312374, 0.010035552084445953, 0.028219008818268776, 0.01852661371231079, 0.025377938523888588, 0.03921228647232056, 0.05273989215493202, 0.02473510056734085, 0.028674781322479248, 0.029405998066067696, 0.013893150724470615, 0.017606470733880997, 0.05648735538125038, 0.021483486518263817, 0.0, 0.0, 0.0, 0.0, 0.0, 0.0, 0.0, 0.0], [0.15546511113643646, 0.04916937276721001, 0.024515939876437187, 0.025700515136122704, 0.05483129620552063, 0.04209274798631668, 0.011645039543509483, 0.06493962556123734, 0.031219741329550743, 0.026562776416540146, 0.02832685224711895, 0.01828904263675213, 0.034908611327409744, 0.029660992324352264, 0.00855859275907278, 0.0466504767537117, 0.017669813707470894, 0.023724358528852463, 0.019038734957575798, 0.0771576464176178, 0.027307383716106415, 0.019747745245695114, 0.024364113807678223, 0.014429942704737186, 0.01892835460603237, 0.058505598455667496, 0.024364061653614044, 0.02222544513642788, 0.0, 0.0, 0.0, 0.0, 0.0, 0.0, 0.0], [0.19332920014858246, 0.02629834972321987, 0.0303924810141325, 0.02961188182234764, 0.0452016144990921, 0.03307906538248062, 0.021840767934918404, 0.02659415639936924, 0.045382823795080185, 0.03843944892287254, 0.02691539190709591, 0.024535102769732475, 0.015795718878507614, 0.04036761075258255, 0.01063427235931158, 0.02634548209607601, 0.022409794852137566, 0.01994604617357254, 0.04401850700378418, 0.06709349155426025, 0.03345474228262901, 0.0160849466919899, 0.025615878403186798, 0.01140951830893755, 0.013623228296637535, 0.04055493697524071, 0.016662977635860443, 0.03589889407157898, 0.018463708460330963, 0.0, 0.0, 0.0, 0.0, 0.0, 0.0], [0.1596519500017166, 0.018642351031303406, 0.026677701622247696, 0.02804783172905445, 0.04907772317528725, 0.026045678183436394, 0.017807718366384506, 0.03679423779249191, 0.04596945270895958, 0.01911088638007641, 0.03796319663524628, 0.02762061357498169, 0.028341028839349747, 0.04296436533331871, 0.008847586810588837, 0.03253019601106644, 0.02565998025238514, 0.024485114961862564, 0.029966218397021294, 0.040540698915719986, 0.042335040867328644, 0.017694547772407532, 0.02121768146753311, 0.0063809482380747795, 0.031033912673592567, 0.035579703748226166, 0.025066185742616653, 0.026607492938637733, 0.02430843934416771, 0.04303150996565819, 0.0, 0.0, 0.0, 0.0, 0.0], [0.1966170370578766, 0.019791385158896446, 0.033033326268196106, 0.02568706125020981, 0.04220607876777649, 0.031375836580991745, 0.01624363847076893, 0.030698411166667938, 0.03629426658153534, 0.026839343830943108, 0.026712186634540558, 0.023046307265758514, 0.02195010334253311, 0.033448364585638046, 0.010305730625987053, 0.022743644192814827, 0.02148079313337803, 0.021094737574458122, 0.03149039298295975, 0.03692729026079178, 0.03723211586475372, 0.015422004275023937, 0.019252333790063858, 0.0073204911313951015, 0.02476692758500576, 0.044391680508852005, 0.01985073834657669, 0.026133669540286064, 0.01812446303665638, 0.04270906001329422, 0.036810584366321564, 0.0, 0.0, 0.0, 0.0], [0.16313210129737854, 0.022932494059205055, 0.029583672061562538, 0.028615478426218033, 0.03778465464711189, 0.026518719270825386, 0.026229016482830048, 0.03103415109217167, 0.03483206033706665, 0.018975621089339256, 0.03320293128490448, 0.026435932144522667, 0.03230736404657364, 0.031329210847616196, 0.01172788254916668, 0.02716914378106594, 0.024106508120894432, 0.0226203091442585, 0.02575555630028248, 0.03801414743065834, 0.032074037939310074, 0.01735425367951393, 0.017987210303544998, 0.009293689392507076, 0.04247136041522026, 0.03121584840118885, 0.019006572663784027, 0.021523458883166313, 0.017541196197271347, 0.04014519974589348, 0.01816076599061489, 0.040919505059719086, 0.0, 0.0, 0.0], [0.15803851187229156, 0.016828814521431923, 0.02064237743616104, 0.04538250342011452, 0.04664170369505882, 0.027835221961140633, 0.020206503570079803, 0.042115096002817154, 0.03703450411558151, 0.01774458959698677, 0.030353333801031113, 0.024713626131415367, 0.03428487107157707, 0.03341372683644295, 0.009082169272005558, 0.035213764756917953, 0.022280124947428703, 0.02085000090301037, 0.02739020809531212, 0.03231462091207504, 0.037649236619472504, 0.014920784160494804, 0.01655367575585842, 0.006309077143669128, 0.023218732327222824, 0.027949854731559753, 0.023832255974411964, 0.015323559753596783, 0.017670487985014915, 0.026815265417099, 0.022188857197761536, 0.028694558888673782, 0.03650736063718796, 0.0, 0.0], [0.17019407451152802, 0.03212590515613556, 0.02987009659409523, 0.019615579396486282, 0.05489380657672882, 0.03622060269117355, 0.01715220883488655, 0.032326579093933105, 0.0315006822347641, 0.029624538496136665, 0.02909427136182785, 0.01662425510585308, 0.029989808797836304, 0.027614127844572067, 0.01094976719468832, 0.03436654061079025, 0.014830101281404495, 0.015176062472164631, 0.03050290048122406, 0.04159744083881378, 0.02064121887087822, 0.017041228711605072, 0.02617543563246727, 0.010538819245994091, 0.0074417972937226295, 0.03439134731888771, 0.02607710100710392, 0.029615657404065132, 0.01369301974773407, 0.018074292689561844, 0.03374851122498512, 0.02900260128080845, 0.013117278926074505, 0.01617228239774704, 0.0], [0.11417392641305923, 0.016700681298971176, 0.023576244711875916, 0.03235283121466637, 0.05511362478137016, 0.029616650193929672, 0.017176389694213867, 0.05952783301472664, 0.0384342335164547, 0.020421102643013, 0.03235999867320061, 0.01921744830906391, 0.019135119393467903, 0.03519751504063606, 0.010996297001838684, 0.044014446437358856, 0.016835952177643776, 0.01621249131858349, 0.02384052984416485, 0.04231659322977066, 0.03716840595006943, 0.00900731235742569, 0.01597953774034977, 0.005828783847391605, 0.020826399326324463, 0.02825581282377243, 0.03160591423511505, 0.024252017959952354, 0.023285269737243652, 0.019917484372854233, 0.02455977536737919, 0.02195737697184086, 0.013193149119615555, 0.02020881511271, 0.03673402592539787]]]}\n",
              "    )\n",
              "    </script>"
            ],
            "text/plain": [
              "<circuitsvis.utils.render.RenderedHTML at 0x788b7f6a4970>"
            ]
          },
          "metadata": {},
          "output_type": "display_data"
        }
      ],
      "source": [
        "import circuitsvis as cv\n",
        "from IPython.display import display\n",
        "\n",
        "html = cv.attention.attention_patterns(\n",
        "    tokens=reference_gpt2.to_str_tokens(reference_text),\n",
        "    attention=cache[\"pattern\", 0][0]\n",
        ")\n",
        "display(html)"
      ]
    },
    {
      "cell_type": "markdown",
      "metadata": {
        "id": "vcT1uWPGfHN2"
      },
      "source": [
        "You can also use the `attention_heads` function, which has similar syntax but presents the information in a different (sometimes more helpful) way.\n"
      ]
    },
    {
      "cell_type": "markdown",
      "metadata": {
        "id": "yMqCi5OYfHN2"
      },
      "source": [
        "<details>\n",
        "<summary>Help - my <code>attention_heads</code> plots are behaving weirdly.</summary>\n",
        "\n",
        "This seems to be a bug in `circuitsvis` - on VSCode, the attention head plots continually shrink in size.\n",
        "\n",
        "Until this is fixed, one way to get around it is to open the plots in your browser. You can do this inline with the `webbrowser` library:\n",
        "\n",
        "```python\n",
        "attn_heads = cv.attention.attention_heads(\n",
        "    tokens=reference_gpt2.to_str_tokens(reference_text),\n",
        "    attention=cache[\"pattern\", 0][0]\n",
        ")\n",
        "\n",
        "path = \"attn_heads.html\"\n",
        "\n",
        "with open(path, \"w\") as f:\n",
        "    f.write(str(attn_heads))\n",
        "\n",
        "webbrowser.open(path)\n",
        "```\n",
        "\n",
        "To check exactly where this is getting saved, you can print your current working directory with `os.getcwd()`.\n",
        "</details>\n"
      ]
    },
    {
      "cell_type": "markdown",
      "metadata": {
        "id": "972Ltv3vtDOH"
      },
      "source": [
        "---\n",
        "\n",
        "Note - don't worry if you don't get 100% accuracy here; the tests are pretty stringent. Even things like having your `einsum` input arguments in a different order might result in the output being very slightly different. You should be getting at least 99% accuracy though, so if the value is lower then this it probably means you've made a mistake somewhere.\n",
        "\n",
        "Also, this implementation will probably be the most challenging exercise on this page, so don't worry if it takes you some time! You should look at parts of the solution if you're stuck.\n"
      ]
    },
    {
      "cell_type": "markdown",
      "metadata": {
        "id": "CeWonT0afHN2"
      },
      "source": [
        "A couple of notes / hints:\n",
        "\n",
        "* Don't forget the attention score scaling (this should come before the masking).\n",
        "* You can use `torch.where`, or the `torch.masked_fill` function when masking the attention scores.\n",
        "* The `\"IGNORE\"` buffer is a very large negative number. This is the value you should mask your attention scores with (i.e. set them to this number wherever you want the probabilities to be zero). We indicate the existence of a `self.IGNORE` attribute to VSCode's typechecker via the line `IGNORE: Float[Tensor, \"\"]` in the second line of the code below.\n",
        "\n",
        "<details>\n",
        "<summary>Question - why do you think we mask the attention scores by setting them to a large negative number, rather than the attention probabilities by setting them to zero?</summary>\n",
        "\n",
        "If we masked the attention probabilities, then the probabilities would no longer sum to 1.\n",
        "\n",
        "We want to mask the scores and *then* take softmax, so that the probabilities are still valid probabilities (i.e. they sum to 1), and the values in the masked positions have no influence on the model's output.\n",
        "</details>\n"
      ]
    },
    {
      "cell_type": "code",
      "execution_count": 22,
      "metadata": {
        "colab": {
          "base_uri": "https://localhost:8080/"
        },
        "id": "wNOKYkvom4R_",
        "outputId": "dc5de697-f4a1-4b8e-a075-ec96af10f84a"
      },
      "outputs": [
        {
          "name": "stdout",
          "output_type": "stream",
          "text": [
            "Input shape: torch.Size([2, 4, 768])\n",
            "Output shape: torch.Size([2, 4, 768]) \n",
            "\n",
            "Input shape: torch.Size([1, 35, 768])\n",
            "Output shape: torch.Size([1, 35, 768])\n",
            "Reference output shape: torch.Size([1, 35, 768]) \n",
            "\n",
            "100.00% of the values are correct\n",
            "\n"
          ]
        }
      ],
      "source": [
        "class Attention(nn.Module):\n",
        "    IGNORE: Float[Tensor, \"\"]\n",
        "\n",
        "    def __init__(self, cfg: Config):\n",
        "        super().__init__()\n",
        "        self.cfg = cfg\n",
        "        self.W_Q = nn.Parameter(t.empty((cfg.n_heads, cfg.d_model, cfg.d_head)))\n",
        "        self.W_K = nn.Parameter(t.empty((cfg.n_heads, cfg.d_model, cfg.d_head)))\n",
        "        self.W_V = nn.Parameter(t.empty((cfg.n_heads, cfg.d_model, cfg.d_head)))\n",
        "        self.W_O = nn.Parameter(t.empty((cfg.n_heads, cfg.d_head, cfg.d_model)))\n",
        "        self.b_Q = nn.Parameter(t.zeros((cfg.n_heads, cfg.d_head)))\n",
        "        self.b_K = nn.Parameter(t.zeros((cfg.n_heads, cfg.d_head)))\n",
        "        self.b_V = nn.Parameter(t.zeros((cfg.n_heads, cfg.d_head)))\n",
        "        self.b_O = nn.Parameter(t.zeros((cfg.d_model)))\n",
        "        nn.init.normal_(self.W_Q, std=self.cfg.init_range)\n",
        "        nn.init.normal_(self.W_K, std=self.cfg.init_range)\n",
        "        nn.init.normal_(self.W_V, std=self.cfg.init_range)\n",
        "        nn.init.normal_(self.W_O, std=self.cfg.init_range)\n",
        "        self.register_buffer(\"IGNORE\", t.tensor(-1e5, dtype=t.float32, device=device))\n",
        "\n",
        "    def forward(\n",
        "        self, normalized_resid_pre: Float[Tensor, \"batch posn d_model\"]\n",
        "    ) -> Float[Tensor, \"batch posn d_model\"]:\n",
        "        q = einops.einsum(\n",
        "            normalized_resid_pre, self.W_Q,\n",
        "            \"batch posn d_model, nheads d_model d_head -> batch posn nheads d_head\",\n",
        "        ) + self.b_Q\n",
        "        k = einops.einsum(\n",
        "            normalized_resid_pre, self.W_K,\n",
        "            \"batch posn d_model, nheads d_model d_head -> batch posn nheads d_head\",\n",
        "        ) + self.b_K\n",
        "        attn_scores = einops.einsum(q, k, \"b sq n h, b sk n h -> b n sq sk\")\n",
        "\n",
        "        attn_scores /= self.cfg.d_head ** 0.5 # scaling\n",
        "        attn_scores = self.apply_causal_mask(attn_scores) # mask\n",
        "        attn_prob = attn_scores.softmax(dim=-1) # attention pattern\n",
        "\n",
        "        # step 2\n",
        "        v = einops.einsum(\n",
        "            normalized_resid_pre, self.W_V,\n",
        "            \"batch posn d_model, nheads d_model d_head -> batch posn nheads d_head\",\n",
        "        ) + self.b_V\n",
        "        z = einops.einsum(v, attn_prob, \"b sk n h, b n sq sk -> b sq n h\")\n",
        "        attn_out = einops.einsum(z, self.W_O, \"b sq n h, n h e -> b sq e\") + self.b_O\n",
        "\n",
        "        return attn_out\n",
        "        # axis present: iterate across\n",
        "        # axis absent: multiply and sum across\n",
        "\n",
        "    def apply_causal_mask(\n",
        "        self, attn_scores: Float[Tensor, \"batch n_heads query_pos key_pos\"]\n",
        "    ) -> Float[Tensor, \"batch n_heads query_pos key_pos\"]:\n",
        "        '''\n",
        "        Applies a causal mask to attention scores, and returns masked scores.\n",
        "        '''\n",
        "        all_ones = t.ones(attn_scores.size(-2), attn_scores.size(-1), device=attn_scores.device)\n",
        "        mask = t.triu(all_ones, diagonal=1).bool()\n",
        "        # Apply the mask to attention scores, then return the masked scores\n",
        "        attn_scores.masked_fill_(mask, self.IGNORE)\n",
        "        return attn_scores\n",
        "\n",
        "rand_float_test(Attention, [2, 4, 768])\n",
        "load_gpt2_test(Attention, reference_gpt2.blocks[0].attn, cache[\"normalized\", 0, \"ln1\"])"
      ]
    },
    {
      "cell_type": "markdown",
      "metadata": {
        "id": "Cn0_PpeKt3UT"
      },
      "source": [
        "<details>\n",
        "<summary>Hint (pseudocode for both functions)</summary>\n",
        "\n",
        "```python\n",
        "def forward(\n",
        "    self, normalized_resid_pre: Float[Tensor, \"batch posn d_model\"]\n",
        ") -> Float[Tensor, \"batch posn d_model\"]:\n",
        "\n",
        "    # Calculate query, key and value vectors\n",
        "\n",
        "    # Calculate attention scores, then scale and mask, and apply softmax to get probabilities\n",
        "\n",
        "    # Take weighted sum of value vectors, according to attention probabilities\n",
        "\n",
        "    # Calculate output (by applying matrix W_O and summing over heads, then adding bias b_O)\n",
        "\n",
        "\n",
        "def apply_causal_mask(\n",
        "        self, attn_scores: Float[Tensor, \"batch n_heads query_pos key_pos\"]\n",
        "    ) -> Float[Tensor, \"batch n_heads query_pos key_pos\"]:\n",
        "\n",
        "    # Define a mask that is True for all positions we want to set probabilities to zero for\n",
        "\n",
        "    # Apply the mask to attention scores, then return the masked scores\n",
        "```\n",
        "</details>\n",
        "\n"
      ]
    },
    {
      "cell_type": "markdown",
      "metadata": {
        "id": "5phgYX4Um4SA"
      },
      "source": [
        "## MLP\n",
        "\n",
        "```c\n",
        "Difficulty: 🔴🔴⚪⚪⚪\n",
        "Importance: 🔵🔵🔵🔵⚪\n",
        "\n",
        "You should spend up to 10-15 minutes on this exercise.\n",
        "```\n",
        "\n",
        "Next, you should implement the MLP layer, which consists of:\n",
        "\n",
        "* A linear layer, with weight `W_in`, bias `b_in`\n",
        "* A nonlinear function (we usually use GELU; the function `gelu_new` has been imported for this purpose)\n",
        "* A linear layer, with weight `W_out`, bias `b_out`\n"
      ]
    },
    {
      "cell_type": "code",
      "execution_count": 23,
      "metadata": {
        "colab": {
          "base_uri": "https://localhost:8080/"
        },
        "id": "5ByI-Sj2m4SA",
        "outputId": "c5e54a77-0dd0-43be-b54e-b94ed940c402"
      },
      "outputs": [
        {
          "name": "stdout",
          "output_type": "stream",
          "text": [
            "Input shape: torch.Size([2, 4, 768])\n",
            "Output shape: torch.Size([2, 4, 768]) \n",
            "\n",
            "Input shape: torch.Size([1, 35, 768])\n",
            "Output shape: torch.Size([1, 35, 768])\n",
            "Reference output shape: torch.Size([1, 35, 768]) \n",
            "\n",
            "100.00% of the values are correct\n",
            "\n"
          ]
        }
      ],
      "source": [
        "class MLP(nn.Module):\n",
        "    def __init__(self, cfg: Config):\n",
        "        super().__init__()\n",
        "        self.cfg = cfg\n",
        "        self.W_in = nn.Parameter(t.empty((cfg.d_model, cfg.d_mlp)))\n",
        "        self.W_out = nn.Parameter(t.empty((cfg.d_mlp, cfg.d_model)))\n",
        "        self.b_in = nn.Parameter(t.zeros((cfg.d_mlp)))\n",
        "        self.b_out = nn.Parameter(t.zeros((cfg.d_model)))\n",
        "        nn.init.normal_(self.W_in, std=self.cfg.init_range)\n",
        "        nn.init.normal_(self.W_out, std=self.cfg.init_range)\n",
        "\n",
        "    def forward(\n",
        "        self, normalized_resid_mid: Float[Tensor, \"batch posn d_model\"]\n",
        "    ) -> Float[Tensor, \"batch posn d_model\"]:\n",
        "        step_1 = einops.einsum(self.W_in, normalized_resid_mid, \"d_model d_mlp, batch posn d_model -> batch posn d_mlp\") + self.b_in\n",
        "        step_2 = gelu_new(step_1)\n",
        "        step_3 = einops.einsum(step_2, self.W_out, \"batch posn d_mlp, d_mlp d_model -> batch posn d_model\") + self.b_out\n",
        "        return step_3\n",
        "\n",
        "\n",
        "rand_float_test(MLP, [2, 4, 768])\n",
        "load_gpt2_test(MLP, reference_gpt2.blocks[0].mlp, cache[\"normalized\", 0, \"ln2\"])"
      ]
    },
    {
      "cell_type": "markdown",
      "metadata": {
        "id": "wZWuD4I4m4SA"
      },
      "source": [
        "## Transformer Block\n",
        "\n",
        "```c\n",
        "Difficulty: 🔴🔴⚪⚪⚪\n",
        "Importance: 🔵🔵🔵⚪⚪\n",
        "\n",
        "You should spend up to ~10 minutes on this exercise.\n",
        "```\n",
        "\n",
        "Now, we can put together the attention, MLP and layernorms into a single transformer block. Remember to implement the residual connections correctly!\n"
      ]
    },
    {
      "cell_type": "code",
      "execution_count": 24,
      "metadata": {
        "colab": {
          "base_uri": "https://localhost:8080/"
        },
        "id": "ffiFxAJzm4SA",
        "outputId": "755b350a-6dd1-4b47-e57a-45346aaa9d83"
      },
      "outputs": [
        {
          "name": "stdout",
          "output_type": "stream",
          "text": [
            "Input shape: torch.Size([2, 4, 768])\n",
            "Output shape: torch.Size([2, 4, 768]) \n",
            "\n",
            "Input shape: torch.Size([1, 35, 768])\n",
            "Output shape: torch.Size([1, 35, 768])\n",
            "Reference output shape: torch.Size([1, 35, 768]) \n",
            "\n",
            "100.00% of the values are correct\n",
            "\n"
          ]
        }
      ],
      "source": [
        "class TransformerBlock(nn.Module):\n",
        "    def __init__(self, cfg: Config):\n",
        "        super().__init__()\n",
        "        self.cfg = cfg\n",
        "        self.ln1 = LayerNorm(cfg)\n",
        "        self.attn = Attention(cfg)\n",
        "        self.ln2 = LayerNorm(cfg)\n",
        "        self.mlp = MLP(cfg)\n",
        "\n",
        "    def forward(\n",
        "        self, resid_pre: Float[Tensor, \"batch position d_model\"]\n",
        "    ) -> Float[Tensor, \"batch position d_model\"]:\n",
        "        attn_out = self.attn(self.ln1(resid_pre))\n",
        "        new_resid = resid_pre + attn_out\n",
        "        mlp_out = self.mlp(self.ln2(new_resid))\n",
        "        new_new_resid = mlp_out + new_resid\n",
        "        return new_new_resid\n",
        "\n",
        "rand_float_test(TransformerBlock, [2, 4, 768])\n",
        "load_gpt2_test(TransformerBlock, reference_gpt2.blocks[0], cache[\"resid_pre\", 0])"
      ]
    },
    {
      "cell_type": "markdown",
      "metadata": {
        "id": "07tkfme7HUfk"
      },
      "source": [
        "<details>\n",
        "<summary>Help - I'm getting 100% accuracy on all modules before this point, but only about 90% accuracy on this one.</summary>\n",
        "\n",
        "This might be because your layernorm implementation divides by `std + eps` rather than `(var + eps).sqrt()`. The latter matches the implementation used by GPT-2 (and this error only shows up in these tests).\n",
        "\n",
        "</details>"
      ]
    },
    {
      "cell_type": "markdown",
      "metadata": {
        "id": "mgzAM-VQm4SA"
      },
      "source": [
        "## Unembedding\n",
        "\n",
        "```c\n",
        "Difficulty: 🔴🔴⚪⚪⚪\n",
        "Importance: 🔵🔵🔵⚪⚪\n",
        "\n",
        "You should spend up to ~10 minutes on this exercise.\n",
        "```\n",
        "\n",
        "The unembedding is just a linear layer (with weight `W_U` and bias `b_U`).\n"
      ]
    },
    {
      "cell_type": "code",
      "execution_count": 25,
      "metadata": {
        "colab": {
          "base_uri": "https://localhost:8080/"
        },
        "id": "XEMB7p_Vm4SA",
        "outputId": "396eb6e3-6c40-4e23-f561-d600d6f71a23"
      },
      "outputs": [
        {
          "name": "stdout",
          "output_type": "stream",
          "text": [
            "Input shape: torch.Size([2, 4, 768])\n",
            "Output shape: torch.Size([2, 4, 50257]) \n",
            "\n",
            "Input shape: torch.Size([1, 35, 768])\n",
            "Output shape: torch.Size([1, 35, 50257])\n",
            "Reference output shape: torch.Size([1, 35, 50257]) \n",
            "\n",
            "100.00% of the values are correct\n",
            "\n"
          ]
        }
      ],
      "source": [
        "class Unembed(nn.Module):\n",
        "    def __init__(self, cfg):\n",
        "        super().__init__()\n",
        "        self.cfg = cfg\n",
        "        self.W_U = nn.Parameter(t.empty((cfg.d_model, cfg.d_vocab)))\n",
        "        nn.init.normal_(self.W_U, std=self.cfg.init_range)\n",
        "        self.b_U = nn.Parameter(t.zeros((cfg.d_vocab), requires_grad=False))\n",
        "\n",
        "    def forward(\n",
        "        self, normalized_resid_final: Float[Tensor, \"batch position d_model\"]\n",
        "    ) -> Float[Tensor, \"batch position d_vocab\"]:\n",
        "        out = einops.einsum(normalized_resid_final, self.W_U, \"batch position d_model, d_model d_vocab -> batch position d_vocab\") + self.b_U\n",
        "        return out\n",
        "\n",
        "rand_float_test(Unembed, [2, 4, 768])\n",
        "load_gpt2_test(Unembed, reference_gpt2.unembed, cache[\"ln_final.hook_normalized\"])"
      ]
    },
    {
      "cell_type": "markdown",
      "metadata": {
        "id": "_eRyuDxLm4SB"
      },
      "source": [
        "## Full Transformer\n",
        "\n",
        "```c\n",
        "Difficulty: 🔴🔴⚪⚪⚪\n",
        "Importance: 🔵🔵🔵⚪⚪\n",
        "\n",
        "You should spend up to ~10 minutes on this exercise.\n",
        "```\n"
      ]
    },
    {
      "cell_type": "code",
      "execution_count": 26,
      "metadata": {
        "colab": {
          "base_uri": "https://localhost:8080/"
        },
        "id": "KCCrXlzYm4SB",
        "outputId": "bafa5568-de82-4c57-a22b-1ebd8a812678"
      },
      "outputs": [
        {
          "name": "stdout",
          "output_type": "stream",
          "text": [
            "Input shape: torch.Size([2, 4])\n",
            "Output shape: torch.Size([2, 4, 50257]) \n",
            "\n",
            "Input shape: torch.Size([1, 45])\n",
            "Output shape: torch.Size([1, 45, 50257])\n",
            "Reference output shape: torch.Size([1, 45, 50257]) \n",
            "\n",
            "100.00% of the values are correct\n",
            "\n"
          ]
        }
      ],
      "source": [
        "class DemoTransformer(nn.Module):\n",
        "    def __init__(self, cfg: Config):\n",
        "        super().__init__()\n",
        "        self.cfg = cfg\n",
        "        self.embed = Embed(cfg)\n",
        "        self.pos_embed = PosEmbed(cfg)\n",
        "        self.blocks = nn.ModuleList([TransformerBlock(cfg) for _ in range(cfg.n_layers)])\n",
        "        self.ln_final = LayerNorm(cfg)\n",
        "        self.unembed = Unembed(cfg)\n",
        "\n",
        "    def forward(self, tokens: Int[Tensor, \"batch position\"]) -> Float[Tensor, \"batch position d_vocab\"]:\n",
        "        embedded = self.embed(tokens)\n",
        "        pos_emb = self.pos_embed(tokens)\n",
        "        residual = embedded + pos_emb\n",
        "\n",
        "        for block in self.blocks:\n",
        "            residual = block(residual)\n",
        "        resid_final = self.ln_final(residual)\n",
        "        logits = self.unembed(resid_final)\n",
        "\n",
        "        return logits\n",
        "\n",
        "\n",
        "\n",
        "\n",
        "\n",
        "\n",
        "rand_int_test(DemoTransformer, [2, 4])\n",
        "load_gpt2_test(DemoTransformer, reference_gpt2, tokens)"
      ]
    },
    {
      "cell_type": "markdown",
      "metadata": {
        "id": "yNwh7R1em4SB"
      },
      "source": [
        "**Try it out!**\n"
      ]
    },
    {
      "cell_type": "code",
      "execution_count": 27,
      "metadata": {
        "id": "deE6uPlxm4SB"
      },
      "outputs": [],
      "source": [
        "demo_gpt2 = DemoTransformer(Config(debug=False)).to(device)\n",
        "demo_gpt2.load_state_dict(reference_gpt2.state_dict(), strict=False)\n",
        "\n",
        "demo_logits = demo_gpt2(tokens)"
      ]
    },
    {
      "cell_type": "markdown",
      "metadata": {
        "id": "gAhstai4m4SB"
      },
      "source": [
        "Let's take a test string, and calculate the loss!\n",
        "\n",
        "We're using the formula for **cross-entropy loss**. The cross entropy loss between a modelled distribution $Q$ and target distribution $P$ is:\n",
        "\n",
        "$$\n",
        "-\\sum_x P(x) \\log Q(x)\n",
        "$$\n",
        "\n",
        "In the case where $P$ is just the empirical distribution from target classes (i.e. $P(x^*) = 1$ for the correct class $x^*$) then this becomes:\n",
        "\n",
        "$$\n",
        "-\\log Q(x^*)\n",
        "$$\n",
        "\n",
        "in other words, the negative log prob of the true classification.\n"
      ]
    },
    {
      "cell_type": "code",
      "execution_count": 28,
      "metadata": {
        "colab": {
          "base_uri": "https://localhost:8080/"
        },
        "id": "UtO9ZsL6m4SB",
        "outputId": "dde514e9-9a90-4141-d6a5-54d5727a1313"
      },
      "outputs": [
        {
          "name": "stdout",
          "output_type": "stream",
          "text": [
            "Avg cross entropy loss: 4.0442\n",
            "Avg cross entropy loss for uniform distribution: 10.824905\n",
            "Avg probability assigned to correct token: 0.098628\n"
          ]
        }
      ],
      "source": [
        "def get_log_probs(\n",
        "    logits: Float[Tensor, \"batch posn d_vocab\"],\n",
        "    tokens: Int[Tensor, \"batch posn\"]\n",
        ") -> Float[Tensor, \"batch posn-1\"]:\n",
        "\n",
        "    log_probs = logits.log_softmax(dim=-1)\n",
        "    # Get logprobs the first seq_len-1 predictions (so we can compare them with the actual next tokens)\n",
        "    log_probs_for_tokens = log_probs[:, :-1].gather(dim=-1, index=tokens[:, 1:].unsqueeze(-1)).squeeze(-1)\n",
        "\n",
        "    return log_probs_for_tokens\n",
        "\n",
        "\n",
        "pred_log_probs = get_log_probs(demo_logits, tokens)\n",
        "print(f\"Avg cross entropy loss: {-pred_log_probs.mean():.4f}\")\n",
        "print(f\"Avg cross entropy loss for uniform distribution: {math.log(demo_gpt2.cfg.d_vocab):4f}\")\n",
        "print(f\"Avg probability assigned to correct token: {pred_log_probs.exp().mean():4f}\")"
      ]
    },
    {
      "cell_type": "markdown",
      "metadata": {
        "id": "cOChhr71m4SC"
      },
      "source": [
        "We can also greedily generate text, by taking the most likely next token and continually appending it to our prompt before feeding it back into the model:\n"
      ]
    },
    {
      "cell_type": "code",
      "execution_count": 29,
      "metadata": {
        "colab": {
          "base_uri": "https://localhost:8080/",
          "height": 86,
          "referenced_widgets": [
            "2a82455bddf3414e92f57b743832e085",
            "d710f45ebfae46e29dc9cca3077137b8",
            "10f2d969cc8246579907c6634be09271",
            "5b84e2e915314dccaa0c3337d832aec4",
            "e8540390d5f94e71a84ee75b78a50d9a",
            "31abef5cdf0741abb36112eeb3847374",
            "451a1c60abd74a14924640d5e3a8a305",
            "212772b9bbad4b86a90265c2d1635c7f",
            "2f7d6b7c8ba64fffa4c5c97133bd2140",
            "83fc637dd5ce492f8dc0335a13911e8e",
            "b88c4efbf35d4f2faa126990681e3bec"
          ]
        },
        "id": "IPEmKN1Bm4SC",
        "outputId": "1ad8c9fd-ba38-4b41-f6e4-4e34046e9974"
      },
      "outputs": [
        {
          "data": {
            "application/vnd.jupyter.widget-view+json": {
              "model_id": "2a82455bddf3414e92f57b743832e085",
              "version_major": 2,
              "version_minor": 0
            },
            "text/plain": [
              "  0%|          | 0/100 [00:00<?, ?it/s]"
            ]
          },
          "metadata": {},
          "output_type": "display_data"
        },
        {
          "name": "stdout",
          "output_type": "stream",
          "text": [
            "The Total Perspective Vortex derives its picture of the whole Universe on the principle of the total perspective. The total perspective is the view of the whole Universe from the point of view of the observer. The total perspective is the view of the whole Universe from the point of view of the observer. The total perspective is the view of the whole Universe from the point of view of the observer. The total perspective is the view of the whole Universe from the point of view of the observer. The total perspective is the view of the whole Universe from the point of view of the observer. The\n"
          ]
        }
      ],
      "source": [
        "test_string = '''The Total Perspective Vortex derives its picture of the whole Universe on the principle of'''\n",
        "for i in tqdm(range(100)):\n",
        "    test_tokens = reference_gpt2.to_tokens(test_string).to(device)\n",
        "    demo_logits = demo_gpt2(test_tokens)\n",
        "    test_string += reference_gpt2.tokenizer.decode(demo_logits[-1, -1].argmax())\n",
        "\n",
        "print(test_string)"
      ]
    },
    {
      "cell_type": "markdown",
      "metadata": {
        "id": "tGrShZtp0O0E"
      },
      "source": [
        "In later sections, we'll learn to generate text in slightly more interesting ways than just argmaxing the output.\n"
      ]
    },
    {
      "cell_type": "markdown",
      "metadata": {
        "id": "QfeyG6NZm4SC"
      },
      "source": [
        "# 3️⃣ Training a Transformer\n"
      ]
    },
    {
      "cell_type": "markdown",
      "metadata": {
        "id": "RGFuGCKtnNy3"
      },
      "source": [
        "> ##### Learning objectives\n",
        ">\n",
        "> * Understand how to train a transformer from scratch\n",
        "> * Write a basic transformer training loop\n",
        "> * Interpret the transformer's falling cross entropy loss with reference to features of the training data (e.g. bigram frequencies)\n"
      ]
    },
    {
      "cell_type": "markdown",
      "metadata": {
        "id": "K6oZKflnnXgj"
      },
      "source": [
        "Now that we've built our transformer, and verified that it performs as expected when we load in weights, let's try training it from scratch!\n",
        "\n",
        "This is a lightweight demonstration of how you can actually train your own GPT-2 with this code! Here we train a tiny model on a tiny dataset, but it's fundamentally the same code for training a larger/more real model (though you'll need beefier GPUs and data parallelism to do it remotely efficiently, and fancier parallelism for much bigger ones).\n",
        "\n",
        "For our purposes, we'll train 2L 4 heads per layer model, with context length 256, for 10*200 steps of batch size 16, just to show what it looks like (and so the notebook doesn't melt your colab / machine!)."
      ]
    },
    {
      "cell_type": "markdown",
      "metadata": {
        "id": "-VB5ELjInZzj"
      },
      "source": [
        "## Create Model"
      ]
    },
    {
      "cell_type": "code",
      "execution_count": 30,
      "metadata": {
        "id": "4TMr-rMQnayL"
      },
      "outputs": [],
      "source": [
        "model_cfg = Config(\n",
        "    debug=False,\n",
        "    d_model=256,\n",
        "    n_heads=4,\n",
        "    d_head=64,\n",
        "    d_mlp=1024,\n",
        "    n_layers=2,\n",
        "    n_ctx=256,\n",
        "    d_vocab=reference_gpt2.cfg.d_vocab\n",
        ")\n",
        "model = DemoTransformer(model_cfg)"
      ]
    },
    {
      "cell_type": "markdown",
      "metadata": {
        "id": "ggSGeTT_nb5Z"
      },
      "source": [
        "## Training Args\n",
        "\n",
        "\n",
        "Note, for this optimization we'll be using **weight decay**."
      ]
    },
    {
      "cell_type": "code",
      "execution_count": 31,
      "metadata": {
        "id": "95hodhD_ndRy"
      },
      "outputs": [],
      "source": [
        "@dataclass\n",
        "class TransformerTrainingArgs():\n",
        "\tbatch_size = 16\n",
        "\tepochs = 20\n",
        "\tmax_steps_per_epoch = 200\n",
        "\tlr = 1e-3\n",
        "\tweight_decay = 1e-2\n",
        "\twandb_project: Optional[str] = \"day1-demotransformer\"\n",
        "\twandb_name: Optional[str] = None\n",
        "\n",
        "\n",
        "args = TransformerTrainingArgs()"
      ]
    },
    {
      "cell_type": "markdown",
      "metadata": {
        "id": "lR8gVegcnfW2"
      },
      "source": [
        "## Create Data\n",
        "\n",
        "We load in a tiny dataset made by Neel Nanda, with the first 10K entries in the Pile (inspired by Stas' version for OpenWebText!)"
      ]
    },
    {
      "cell_type": "code",
      "execution_count": 32,
      "metadata": {
        "colab": {
          "base_uri": "https://localhost:8080/",
          "height": 232,
          "referenced_widgets": [
            "cc025259fe7b42fb9eb6c04b78272689",
            "e6b1eeec6fb7402f97baee09059812de",
            "c8a0f550b891442a82b60efcdd32fe16",
            "ff27255610c64fd595482ea5d2f6ac5f",
            "fbc4b37002204defba03cc62584a6003",
            "1b0153db2d934b369c61ef89807bd45f",
            "3b257ffba386405dac880431192ef19a",
            "52244926f31a4c5ba7495217597c2b67",
            "938a749bb04540858e2e81a066ad9160",
            "420ad617674f43e49f6ed2f6add8662b",
            "6ee6598d2c64481ab3ef7e24b0e1c6ff",
            "f26e38ef3e5a47809aad6973a8b6805c",
            "e90ceab87be840b78d19eaeb62244d56",
            "7feead43fc9f469fb510379115344e25",
            "27c612ae50ce4f07a6da644f9a620149",
            "497cfd5134a74e4caf2009e74a856a36",
            "abae612905b44b79acc45faf41117cb0",
            "867aa7145d0d431cbf81647da325b46e",
            "3038e89545fc478190df51a8501a1e99",
            "36299a8f39a04a14aa178169f4d501c9",
            "421ed24482fa4425842c2b5363977f6c",
            "719b036f4f044b20876972ead7514730",
            "df042e6642654b14a5cd1ff784f1af62",
            "d8d298d2ae074f4ca1b2db0a5e59a988",
            "640f5170fda74cd299ab91c9b3433e5e",
            "88da8bf8126b42eeac5eeda8b8acc74b",
            "6a621c7bfe6349de9f4f9a6e7f3d1d86",
            "d7f040a1392d498c871853a0d555eb52",
            "8962ef47c53a4ca19678c54993c71cba",
            "98ea47810e4640da94bb59ad9df290db",
            "c4dde5765e064e21b93718a620706684",
            "c72d217b0e724e29b4c0aad8fae66b58",
            "b8b7ee337a9a4c3ba89ffe4c707db2b2",
            "360986d93c19456798bcac24042bf6e8",
            "ab7fd01201ab4cfca32f67def3be2acb",
            "84b7ec3115e54716a63aa94dce229bcb",
            "f08a38d6d263490cb9dc918983cd5ae8",
            "b5da9d54f1284486adaa268686e71044",
            "1ffb63f6ef2d4e6eba7d8ad7655f502a",
            "b9129c66a1cb4a43a3c7ab3ef38194b7",
            "7b19d82c41534e98a3458585f8cf962c",
            "a05eb6bbdd25401ba212184dfdb6bef2",
            "7e6f929d4fc04efb855fee7dfad03ff7",
            "f7cdf8bd852742aba578649984a9549d"
          ]
        },
        "id": "9udsnznsnik8",
        "outputId": "607ef840-a146-4e42-c691-4f5997a41e41"
      },
      "outputs": [
        {
          "data": {
            "application/vnd.jupyter.widget-view+json": {
              "model_id": "cc025259fe7b42fb9eb6c04b78272689",
              "version_major": 2,
              "version_minor": 0
            },
            "text/plain": [
              "Downloading readme:   0%|          | 0.00/373 [00:00<?, ?B/s]"
            ]
          },
          "metadata": {},
          "output_type": "display_data"
        },
        {
          "data": {
            "application/vnd.jupyter.widget-view+json": {
              "model_id": "f26e38ef3e5a47809aad6973a8b6805c",
              "version_major": 2,
              "version_minor": 0
            },
            "text/plain": [
              "Downloading metadata:   0%|          | 0.00/921 [00:00<?, ?B/s]"
            ]
          },
          "metadata": {},
          "output_type": "display_data"
        },
        {
          "data": {
            "application/vnd.jupyter.widget-view+json": {
              "model_id": "df042e6642654b14a5cd1ff784f1af62",
              "version_major": 2,
              "version_minor": 0
            },
            "text/plain": [
              "Downloading data:   0%|          | 0.00/33.3M [00:00<?, ?B/s]"
            ]
          },
          "metadata": {},
          "output_type": "display_data"
        },
        {
          "data": {
            "application/vnd.jupyter.widget-view+json": {
              "model_id": "360986d93c19456798bcac24042bf6e8",
              "version_major": 2,
              "version_minor": 0
            },
            "text/plain": [
              "Generating train split:   0%|          | 0/10000 [00:00<?, ? examples/s]"
            ]
          },
          "metadata": {},
          "output_type": "display_data"
        },
        {
          "name": "stdout",
          "output_type": "stream",
          "text": [
            "Dataset({\n",
            "    features: ['text'],\n",
            "    num_rows: 10000\n",
            "})\n",
            "It is done, and submitted. You can play “Survival of the Tastiest” on Android, and on the web. Playi\n"
          ]
        }
      ],
      "source": [
        "dataset = datasets.load_dataset(\"NeelNanda/pile-10k\", split=\"train\").remove_columns(\"meta\")\n",
        "print(dataset)\n",
        "print(dataset[0]['text'][:100])"
      ]
    },
    {
      "cell_type": "markdown",
      "metadata": {
        "id": "chj2r8J-njhC"
      },
      "source": [
        "`tokenize_and_concatenate` is a useful function which takes our dataset of strings, and returns a dataset of token IDs ready to feed into the model. We then create a dataloader from this tokenized dataset. The useful method `train_test_split` can give us a training and testing set.\n"
      ]
    },
    {
      "cell_type": "code",
      "execution_count": 33,
      "metadata": {
        "colab": {
          "base_uri": "https://localhost:8080/",
          "height": 243,
          "referenced_widgets": [
            "e8a6ce5c25104b6bb7fb6211de5746a8",
            "5a4e57f8a6c247708b52c01901727b91",
            "fc8f044a5eb848c9b5243589c02482fa",
            "13159fa65d864f15829373ec8d2cd00c",
            "e163596d951946ebb8d62ce8a338f879",
            "6f6bf384f3554fef80ac1ac48f7e0160",
            "504a0bdfcbe44940b3848c662564cb46",
            "439ae25fa03a46f6a7b63bc350b15c8b",
            "6f02a64f4ab343d29c41991a7787f3ef",
            "648f4ac074ca4391aa3fa8c114cad76e",
            "68a5d4ac556e471b9b718852d2b45991"
          ]
        },
        "id": "mgogWcLUnk0U",
        "outputId": "f372c3eb-7725-4a17-fff3-e6327dda819e"
      },
      "outputs": [
        {
          "name": "stderr",
          "output_type": "stream",
          "text": [
            "/usr/local/lib/python3.10/dist-packages/multiprocess/popen_fork.py:66: RuntimeWarning: os.fork() was called. os.fork() is incompatible with multithreaded code, and JAX is multithreaded, so this will likely lead to a deadlock.\n",
            "  self.pid = os.fork()\n"
          ]
        },
        {
          "data": {
            "application/vnd.jupyter.widget-view+json": {
              "model_id": "e8a6ce5c25104b6bb7fb6211de5746a8",
              "version_major": 2,
              "version_minor": 0
            },
            "text/plain": [
              "Map (num_proc=4):   0%|          | 0/10000 [00:00<?, ? examples/s]"
            ]
          },
          "metadata": {},
          "output_type": "display_data"
        },
        {
          "name": "stderr",
          "output_type": "stream",
          "text": [
            "Token indices sequence length is longer than the specified maximum sequence length for this model (80023 > 1024). Running this sequence through the model will result in indexing errors\n",
            "Token indices sequence length is longer than the specified maximum sequence length for this model (101051 > 1024). Running this sequence through the model will result in indexing errors\n",
            "Token indices sequence length is longer than the specified maximum sequence length for this model (155995 > 1024). Running this sequence through the model will result in indexing errors\n",
            "/usr/local/lib/python3.10/dist-packages/multiprocess/popen_fork.py:66: RuntimeWarning: os.fork() was called. os.fork() is incompatible with multithreaded code, and JAX is multithreaded, so this will likely lead to a deadlock.\n",
            "  self.pid = os.fork()\n",
            "Token indices sequence length is longer than the specified maximum sequence length for this model (229134 > 1024). Running this sequence through the model will result in indexing errors\n",
            "/usr/local/lib/python3.10/dist-packages/torch/utils/data/dataloader.py:558: UserWarning: This DataLoader will create 4 worker processes in total. Our suggested max number of worker in current system is 2, which is smaller than what this DataLoader is going to create. Please be aware that excessive worker creation might get DataLoader running slow or even freeze, lower the worker number to avoid potential slowness/freeze if necessary.\n",
            "  warnings.warn(_create_warning_msg(\n"
          ]
        }
      ],
      "source": [
        "tokenized_dataset = tokenize_and_concatenate(dataset, reference_gpt2.tokenizer, streaming=False, max_length=model.cfg.n_ctx, column_name=\"text\", add_bos_token=True, num_proc=4)\n",
        "\n",
        "dataset_dict = tokenized_dataset.train_test_split(test_size=1000)\n",
        "train_loader = DataLoader(dataset_dict[\"train\"], batch_size=args.batch_size, shuffle=True, num_workers=4, pin_memory=True)\n",
        "test_loader = DataLoader(dataset_dict[\"test\"], batch_size=args.batch_size, shuffle=False, num_workers=4, pin_memory=True)"
      ]
    },
    {
      "cell_type": "markdown",
      "metadata": {
        "id": "Fcx4oMaInlpi"
      },
      "source": [
        "When we iterate through these dataloaders, we will find dictionaries with the single key `'tokens'`, which maps to a tensor of token IDs with shape `(batch, seq_len)`."
      ]
    },
    {
      "cell_type": "code",
      "execution_count": 34,
      "metadata": {
        "colab": {
          "base_uri": "https://localhost:8080/"
        },
        "id": "Y_Y7vD8BnqK-",
        "outputId": "ae154c7c-1a55-4807-eadb-56ac501f395c"
      },
      "outputs": [
        {
          "name": "stdout",
          "output_type": "stream",
          "text": [
            "dict_keys(['tokens'])\n",
            "torch.Size([16, 256])\n"
          ]
        }
      ],
      "source": [
        "first_batch = train_loader.dataset[:args.batch_size]\n",
        "\n",
        "print(first_batch.keys())\n",
        "print(first_batch['tokens'].shape)"
      ]
    },
    {
      "cell_type": "markdown",
      "metadata": {
        "id": "hyjlKG-AnrZc"
      },
      "source": [
        "## Training Loop\n",
        "\n",
        "If you did the material on [training loops](https://arena-ch0-fundamentals.streamlit.app/[0.3]_ResNets#training-loop) during the first week, this should all be familiar to you. If not, you can skim that section for an overview of the key concepts. The start of the **Training loop** section is most important, and the subsections on [Modularisation](https://arena-ch0-fundamentals.streamlit.app/[0.3]_ResNets#modularisation) and [dataclasses](https://arena-ch0-fundamentals.streamlit.app/[0.3]_ResNets#aside-dataclasses) are also very useful. Lastly, we'll also be using Weights and Biases to train our model - you can read about how to use it [here](https://arena-ch0-fundamentals.streamlit.app/[0.4]_Optimization#what-is-weights-and-biases). Here are (roughly) all the things you should know for the following exercises:\n",
        "                \n",
        "* The key parts of a gradient update step are:\n",
        "    * Calculating the (cross-entropy) loss between a model's output and the true labels,\n",
        "    * `loss.backward()` - calculate gradients of the loss with respect to the model parameters,\n",
        "    * `optimizer.step()` - update the model parameters using the gradients,\n",
        "    * `optimizer.zero_grad()` - zero the gradients so they don't accumulate.\n",
        "* We can nicely package up training loops into a class, which includes methods for training and validation steps among other things. This helps with writing code that can be reused in different contexts.\n",
        "* We can use dataclasses to store all the arguments relevant to training in one place, and then pass them to our trainer class. Autocompletion is one nice bonus of this!\n",
        "    * Be careful of scope here, you want to make sure you're referring to `self.args` within the trainer class, rather than the global `args`.\n",
        "* You can use Weights and Biases to track experiments and log relevant variables. The three essential functions are:\n",
        "    * `wandb.init()` - initialize a new run, takes arguments `project`, `name` and `config` (among others).\n",
        "    * `wandb.log()` - log a dictionary of variables, e.g. `{\"loss\": loss}`. Also takes a `step` argument.\n",
        "    * `wandb.finish()` - called at the end of training (no arguments)."
      ]
    },
    {
      "cell_type": "markdown",
      "metadata": {
        "id": "tvM-W_TGnuoN"
      },
      "source": [
        "### Exercise - write training loop\n",
        "\n",
        "```c\n",
        "Difficulty: 🔴🔴🔴⚪⚪\n",
        "Importance: 🔵🔵🔵🔵⚪\n",
        "\n",
        "You should spend up to 10-20 minutes on this exercise.\n",
        "```"
      ]
    },
    {
      "cell_type": "markdown",
      "metadata": {
        "id": "2qbuJ4winvyY"
      },
      "source": [
        "You should fill in the methods below. Some guidance:\n",
        "\n",
        "* Remember we were able to calculate cross entropy loss using the `get_log_probs` function in the previous section.\n",
        "* You should use the optimizer `t.optim.AdamW` (Adam with weight decay), and with hyperparameters `lr` and `weight_decay` taken from your `TransformerTrainingArgs` dataclass instance.\n",
        "* The easiest way to compute accuracy is to have the `validation_step` method return a 1D boolean tensor indicating the positions where the model's prediction was correct. Then you can concatenate all these tensors together and take the mean to get the overall accuracy for the epoch.\n",
        "* We've given you the argument `max_steps_per_epoch`, a hacky way of making sure the training phase in each epoch doesn't go on for too long. You can terminate each training phase after this many steps.\n",
        "* Remember to move tokens to your device, via `tokens.to(device)` (this should be a global variable, defined at the top of your notebook).\n",
        "* You can refer back to the training loops from the [previous chapter of the course](https://arena-ch0-fundamentals.streamlit.app/[0.3]_ResNets#training-loop) if you'd like.\n"
      ]
    },
    {
      "cell_type": "code",
      "execution_count": 37,
      "metadata": {
        "id": "zVBEDTGMnxSk"
      },
      "outputs": [],
      "source": [
        "class TransformerTrainer:\n",
        "\tdef __init__(self, args: TransformerTrainingArgs, model: DemoTransformer):\n",
        "\t\tsuper().__init__()\n",
        "\t\tself.model = model\n",
        "\t\tself.args = args\n",
        "\t\tself.optimizer = t.optim.AdamW(self.model.parameters(), lr=args.lr, weight_decay=args.weight_decay)\n",
        "\t\tself.step = 0\n",
        "\n",
        "\n",
        "\tdef training_step(self, batch: Dict[str, Int[Tensor, \"batch seq\"]]) -> Float[Tensor, \"\"]:\n",
        "\t\t'''\n",
        "\t\tCalculates the loss on the tokens in the batch, performs a gradient update step, and logs the loss.\n",
        "\n",
        "\t\tRemember that `batch` is a dictionary with the single key 'tokens'.\n",
        "\t\t'''\n",
        "\n",
        "\t\ttokens = batch[\"tokens\"].to(device)\n",
        "\t\tlogits = self.model(tokens)\n",
        "\t\tloss = -get_log_probs(logits, tokens).mean()\n",
        "\t\tloss.backward()\n",
        "\t\tself.optimizer.step()\n",
        "\t\tself.step += 1\n",
        "\t\tself.optimizer.zero_grad()\n",
        "\t\twandb.log({\"train_loss\": loss}, step=self.step)\n",
        "\t\treturn loss\n",
        "\n",
        "\n",
        "\tdef validation_step(self, batch: Dict[str, Int[Tensor, \"batch seq\"]]):\n",
        "\t\t'''\n",
        "\t\tCalculates & returns the accuracy on the tokens in the batch (i.e. how often the model's prediction\n",
        "\t\tis correct). Logging should happen in the `train` function (after we've computed the accuracy for\n",
        "\t\tthe whole validation set).\n",
        "\t\t'''\n",
        "\t\t# tokens = batch[\"tokens\"].to(device)\n",
        "\t\t# logits = self.model(tokens)\n",
        "\t\t# accuracy = (tokens == logits.argmax(dim=-1)).float().mean()\n",
        "\t\t# return accuracy\n",
        "\t\ttokens = batch[\"tokens\"].to(device)\n",
        "\t\tlogits: Tensor = self.model(tokens)[:, :-1]\n",
        "\t\tpredicted_tokens = logits.argmax(dim=-1)\n",
        "\t\tcorrect_predictions = (predicted_tokens == tokens[:, 1:]).flatten()\n",
        "\t\treturn correct_predictions\n",
        "\n",
        "\n",
        "\tdef train(self):\n",
        "\t\t'''\n",
        "\t\tTrains the model, for `self.args.epochs` epochs. Also handles wandb initialisation, and early stopping\n",
        "\t\tfor each epoch at `self.args.max_steps_per_epoch` steps.\n",
        "\t\t'''\n",
        "\t\t#! Commented out code is ours, trains correctly but doesn't track accuracy to wandb\n",
        "\t\t# wandb.init(project=self.args.wandb_project, name=self.args.wandb_name, config=self.args)\n",
        "\t\t# accuracy = np.nan\n",
        "\n",
        "\t\t# progress_bar = tqdm(total = self.args.max_steps_per_epoch * self.args.epochs)\n",
        "\n",
        "\t\t# training_data = self.train_loader()\n",
        "\t\t# test_data = self.test_loader()\n",
        "\n",
        "\n",
        "\t\t# for epoch in range(self.args.epochs):\n",
        "\t\t# \tfor batch in training_data:\n",
        "\t\t# \t\t\tloss = self.training_step(batch)\n",
        "\n",
        "\t\t# \t\t\tprogress_bar.update()\n",
        "\t\t# \t\t\tprogress_bar.set_description(f\"Epoch {epoch+1}, loss: {loss:.3f}, accuracy: {accuracy:.3f}\")\n",
        "\t\t# \t\t\tif i >= self.args.max_steps_per_epoch:\n",
        "\t\t# \t\t\t\t\tbreak\n",
        "\n",
        "\t\t# \tcorrect_predictions = t.concat([self.validation_step(batch) for batch in self.test_loader()])\n",
        "\t\t# \taccuracy = correct_predictions.float().mean().item()\n",
        "\t\t# \twandb.log({\"accuracy\": accuracy}, step=self.step)\n",
        "\n",
        "\t\t# wandb.finish()\n",
        "\t\twandb.init(project=self.args.wandb_project, name=self.args.wandb_name, config=self.args)\n",
        "\t\taccuracy = np.nan\n",
        "\n",
        "\t\tprogress_bar = tqdm(total = self.args.max_steps_per_epoch * self.args.epochs)\n",
        "\n",
        "\t\tfor epoch in range(self.args.epochs):\n",
        "\t\t\t\tfor i, batch in enumerate(self.train_loader()):\n",
        "\t\t\t\t\t\tloss = self.training_step(batch)\n",
        "\t\t\t\t\t\tprogress_bar.update()\n",
        "\t\t\t\t\t\tprogress_bar.set_description(f\"Epoch {epoch+1}, loss: {loss:.3f}, accuracy: {accuracy:.3f}\")\n",
        "\t\t\t\t\t\tif i >= self.args.max_steps_per_epoch:\n",
        "\t\t\t\t\t\t\t\tbreak\n",
        "\n",
        "\t\t\t\tcorrect_predictions = t.concat([self.validation_step(batch) for batch in self.test_loader()])\n",
        "\t\t\t\taccuracy = correct_predictions.float().mean().item()\n",
        "\t\t\t\twandb.log({\"accuracy\": accuracy}, step=self.step)\n",
        "\n",
        "\t\twandb.finish()\n",
        "\n",
        "\n",
        "\n",
        "\tdef train_loader(self) -> DataLoader:\n",
        "\t\t'''Returns train loader (as in code above).'''\n",
        "\t\treturn DataLoader(dataset_dict[\"train\"], batch_size=self.args.batch_size, shuffle=True, num_workers=4, pin_memory=True)\n",
        "\n",
        "\n",
        "\tdef test_loader(self) -> DataLoader:\n",
        "\t\t'''Returns test loader (as in code above).'''\n",
        "\t\treturn DataLoader(dataset_dict[\"test\"], batch_size=self.args.batch_size, shuffle=False, num_workers=4, pin_memory=True)\n"
      ]
    },
    {
      "cell_type": "markdown",
      "metadata": {
        "id": "yvyAODwP3D8K"
      },
      "source": [
        "Note - this section of the course used to use PyTorch Lightning, but this has now been taken out. You can see the old version of the training code which used PyTorch Lightning in the dropdown below.\n",
        "\n",
        "<details>\n",
        "<summary>PyTorch Lighting training loop</summary>\n",
        "\n",
        "```python\n",
        "class LitTransformer(pl.LightningModule):\n",
        "\tdef __init__(self, args: TransformerTrainingArgs, model: DemoTransformer, data_loader: DataLoader):\n",
        "\t\tsuper().__init__()\n",
        "\t\tself.model = model\n",
        "\t\tself.cfg = model.cfg\n",
        "\t\tself.args = args\n",
        "\t\tself.data_loader = data_loader\n",
        "\n",
        "\tdef forward(self, tokens: Int[Tensor, \"batch position\"]) -> Float[Tensor, \"batch position d_vocab\"]:\n",
        "\t\tlogits = self.model(tokens)\n",
        "\t\treturn logits\n",
        "\n",
        "\tdef training_step(self, batch: Dict[str, Tensor], batch_idx: int) -> Float[Tensor, \"\"]:\n",
        "\t\t'''\n",
        "\t\tHere you compute and return the training loss and some additional metrics for e.g.\n",
        "\t\tthe progress bar or logger.\n",
        "\t\t'''\n",
        "\t\ttokens = batch[\"tokens\"].to(device)\n",
        "\t\tlogits = self.model(tokens)\n",
        "\t\tloss = -get_log_probs(logits, tokens).mean()\n",
        "\t\tself.log(\"train_loss\", loss)\n",
        "\t\treturn loss\n",
        "\n",
        "\tdef configure_optimizers(self):\n",
        "\t\t'''\n",
        "\t\tChoose what optimizers and learning-rate schedulers to use in your optimization.\n",
        "\t\t'''\n",
        "\t\toptimizer = t.optim.AdamW(self.model.parameters(), lr=self.args.lr, weight_decay=self.args.weight_decay)\n",
        "\t\treturn optimizer\n",
        "\n",
        "\tdef train_dataloader(self):\n",
        "\t\treturn self.data_loader\n",
        "\n",
        "\n",
        "litmodel = LitTransformer(args, model, data_loader)\n",
        "logger = WandbLogger(save_dir=args.log_dir, project=args.log_name, name=args.run_name)\n",
        "\n",
        "trainer = pl.Trainer(\n",
        "    max_epochs=args.max_epochs,\n",
        "    logger=logger,\n",
        "    log_every_n_steps=args.log_every_n_steps\n",
        ")\n",
        "trainer.fit(model=litmodel, train_dataloaders=litmodel.data_loader)\n",
        "wandb.finish()\n",
        "```\n",
        "\n",
        "</details>"
      ]
    },
    {
      "cell_type": "code",
      "execution_count": 38,
      "metadata": {
        "colab": {
          "base_uri": "https://localhost:8080/",
          "height": 630,
          "referenced_widgets": [
            "c7584e21d2ae4d76afb5394030243ce8",
            "19613768e7e343158bdbcd77485c7688",
            "fb7af54931c54972ae75525fe183f555",
            "e87b9b1192ca4a4ea7c949fe80d59e55",
            "e36278eaf40b4892b80126d60b201ce7",
            "8d88c483b73c434b853bdf9acad920bc",
            "64e841bc002147e396626c475890153d",
            "52a01fc3547b497cbc89d784e7837d16",
            "5f372ea899074904ae295d9c501f70fb",
            "24e8beea147240f0bc660819c238338a",
            "ec33a83aa06140daa9337c73595d8fb8",
            "a324b6017498425b8362049b0541ea78",
            "c5c85f8c4be14ca9b8acf238cc438946",
            "e3d356fea53849f1ae5044ebaa777079",
            "fef0cf4288624b89846a9e93b8bdf87f",
            "354d0cf922e84019b7ddc10b936d1277",
            "6ac9db692a124b5e9baaaa2d97dad713",
            "4ea668157df64d4fb8d68ca3028d89da",
            "b72728efd60840c6ba2949fe2654406f",
            "56fdb930c327474eb8d96fbddba791f0",
            "2b4021e25bd54216a8e01f95eb3d7961",
            "50fa567a3d1240339c49cbb4a6ba2b92",
            "078c768e382d4343b002ec42095a3fa1",
            "4f9d731ad1d4409c813ffb27694d2af6",
            "c9c83af17e584f9e9f6569620c0cb084",
            "9e301cb1b39946719a1919f9c11f685a",
            "ae9cf57283d345399299a0f44eee4552"
          ]
        },
        "id": "nWJyh1lon0IH",
        "outputId": "10b01b04-a56d-4681-e4bb-208cc8470f4b"
      },
      "outputs": [
        {
          "data": {
            "text/html": [
              "Finishing last run (ID:iws97rkx) before initializing another..."
            ],
            "text/plain": [
              "<IPython.core.display.HTML object>"
            ]
          },
          "metadata": {},
          "output_type": "display_data"
        },
        {
          "data": {
            "application/vnd.jupyter.widget-view+json": {
              "model_id": "c7584e21d2ae4d76afb5394030243ce8",
              "version_major": 2,
              "version_minor": 0
            },
            "text/plain": [
              "VBox(children=(Label(value='0.001 MB of 0.001 MB uploaded\\r'), FloatProgress(value=1.0, max=1.0)))"
            ]
          },
          "metadata": {},
          "output_type": "display_data"
        },
        {
          "data": {
            "text/html": [
              "<style>\n",
              "    table.wandb td:nth-child(1) { padding: 0 10px; text-align: left ; width: auto;} td:nth-child(2) {text-align: left ; width: 100%}\n",
              "    .wandb-row { display: flex; flex-direction: row; flex-wrap: wrap; justify-content: flex-start; width: 100% }\n",
              "    .wandb-col { display: flex; flex-direction: column; flex-basis: 100%; flex: 1; padding: 10px; }\n",
              "    </style>\n",
              "<div class=\"wandb-row\"><div class=\"wandb-col\"><h3>Run history:</h3><br/><table class=\"wandb\"><tr><td>train_loss</td><td>█▇▇▇▆▆▅▅▆▄▁▄▅▅▅▂▅▃▂▃▃▄▄▄▃▃▃▄▃▂▃▃▂▂▃▃▃▂▁▂</td></tr></table><br/></div><div class=\"wandb-col\"><h3>Run summary:</h3><br/><table class=\"wandb\"><tr><td>train_loss</td><td>3.31813</td></tr></table><br/></div></div>"
            ],
            "text/plain": [
              "<IPython.core.display.HTML object>"
            ]
          },
          "metadata": {},
          "output_type": "display_data"
        },
        {
          "data": {
            "text/html": [
              " View run <strong style=\"color:#cdcd00\">breezy-field-2</strong> at: <a href='https://wandb.ai/suspiciousleaf/day1-demotransformer/runs/iws97rkx' target=\"_blank\">https://wandb.ai/suspiciousleaf/day1-demotransformer/runs/iws97rkx</a><br/> View project at: <a href='https://wandb.ai/suspiciousleaf/day1-demotransformer' target=\"_blank\">https://wandb.ai/suspiciousleaf/day1-demotransformer</a><br/>Synced 5 W&B file(s), 0 media file(s), 0 artifact file(s) and 0 other file(s)"
            ],
            "text/plain": [
              "<IPython.core.display.HTML object>"
            ]
          },
          "metadata": {},
          "output_type": "display_data"
        },
        {
          "data": {
            "text/html": [
              "Find logs at: <code>./wandb/run-20240416_201701-iws97rkx/logs</code>"
            ],
            "text/plain": [
              "<IPython.core.display.HTML object>"
            ]
          },
          "metadata": {},
          "output_type": "display_data"
        },
        {
          "data": {
            "text/html": [
              "Successfully finished last run (ID:iws97rkx). Initializing new run:<br/>"
            ],
            "text/plain": [
              "<IPython.core.display.HTML object>"
            ]
          },
          "metadata": {},
          "output_type": "display_data"
        },
        {
          "data": {
            "text/html": [
              "Tracking run with wandb version 0.16.6"
            ],
            "text/plain": [
              "<IPython.core.display.HTML object>"
            ]
          },
          "metadata": {},
          "output_type": "display_data"
        },
        {
          "data": {
            "text/html": [
              "Run data is saved locally in <code>/content/chapter1_transformer_interp/exercises/wandb/run-20240416_203510-p7rjs57a</code>"
            ],
            "text/plain": [
              "<IPython.core.display.HTML object>"
            ]
          },
          "metadata": {},
          "output_type": "display_data"
        },
        {
          "data": {
            "text/html": [
              "Syncing run <strong><a href='https://wandb.ai/suspiciousleaf/day1-demotransformer/runs/p7rjs57a' target=\"_blank\">treasured-microwave-3</a></strong> to <a href='https://wandb.ai/suspiciousleaf/day1-demotransformer' target=\"_blank\">Weights & Biases</a> (<a href='https://wandb.me/run' target=\"_blank\">docs</a>)<br/>"
            ],
            "text/plain": [
              "<IPython.core.display.HTML object>"
            ]
          },
          "metadata": {},
          "output_type": "display_data"
        },
        {
          "data": {
            "text/html": [
              " View project at <a href='https://wandb.ai/suspiciousleaf/day1-demotransformer' target=\"_blank\">https://wandb.ai/suspiciousleaf/day1-demotransformer</a>"
            ],
            "text/plain": [
              "<IPython.core.display.HTML object>"
            ]
          },
          "metadata": {},
          "output_type": "display_data"
        },
        {
          "data": {
            "text/html": [
              " View run at <a href='https://wandb.ai/suspiciousleaf/day1-demotransformer/runs/p7rjs57a' target=\"_blank\">https://wandb.ai/suspiciousleaf/day1-demotransformer/runs/p7rjs57a</a>"
            ],
            "text/plain": [
              "<IPython.core.display.HTML object>"
            ]
          },
          "metadata": {},
          "output_type": "display_data"
        },
        {
          "data": {
            "application/vnd.jupyter.widget-view+json": {
              "model_id": "5f372ea899074904ae295d9c501f70fb",
              "version_major": 2,
              "version_minor": 0
            },
            "text/plain": [
              "  0%|          | 0/4000 [00:00<?, ?it/s]"
            ]
          },
          "metadata": {},
          "output_type": "display_data"
        },
        {
          "data": {
            "application/vnd.jupyter.widget-view+json": {
              "model_id": "56fdb930c327474eb8d96fbddba791f0",
              "version_major": 2,
              "version_minor": 0
            },
            "text/plain": [
              "VBox(children=(Label(value='0.011 MB of 0.011 MB uploaded\\r'), FloatProgress(value=1.0, max=1.0)))"
            ]
          },
          "metadata": {},
          "output_type": "display_data"
        },
        {
          "data": {
            "text/html": [
              "<style>\n",
              "    table.wandb td:nth-child(1) { padding: 0 10px; text-align: left ; width: auto;} td:nth-child(2) {text-align: left ; width: 100%}\n",
              "    .wandb-row { display: flex; flex-direction: row; flex-wrap: wrap; justify-content: flex-start; width: 100% }\n",
              "    .wandb-col { display: flex; flex-direction: column; flex-basis: 100%; flex: 1; padding: 10px; }\n",
              "    </style>\n",
              "<div class=\"wandb-row\"><div class=\"wandb-col\"><h3>Run history:</h3><br/><table class=\"wandb\"><tr><td>accuracy</td><td>▁▂▃▄▄▅▅▅▆▆▆▇▇▇▇▇████</td></tr><tr><td>train_loss</td><td>██▇▆▅▆▅▆▅▆▆▅▅▄▄▄▄▄▃▄▂▃▄▃▂▄▃▃▃▁▂▄▃▄▂▂▃▃▃▁</td></tr></table><br/></div><div class=\"wandb-col\"><h3>Run summary:</h3><br/><table class=\"wandb\"><tr><td>accuracy</td><td>0.31389</td></tr><tr><td>train_loss</td><td>4.35147</td></tr></table><br/></div></div>"
            ],
            "text/plain": [
              "<IPython.core.display.HTML object>"
            ]
          },
          "metadata": {},
          "output_type": "display_data"
        },
        {
          "data": {
            "text/html": [
              " View run <strong style=\"color:#cdcd00\">treasured-microwave-3</strong> at: <a href='https://wandb.ai/suspiciousleaf/day1-demotransformer/runs/p7rjs57a' target=\"_blank\">https://wandb.ai/suspiciousleaf/day1-demotransformer/runs/p7rjs57a</a><br/> View project at: <a href='https://wandb.ai/suspiciousleaf/day1-demotransformer' target=\"_blank\">https://wandb.ai/suspiciousleaf/day1-demotransformer</a><br/>Synced 4 W&B file(s), 0 media file(s), 0 artifact file(s) and 0 other file(s)"
            ],
            "text/plain": [
              "<IPython.core.display.HTML object>"
            ]
          },
          "metadata": {},
          "output_type": "display_data"
        },
        {
          "data": {
            "text/html": [
              "Find logs at: <code>./wandb/run-20240416_203510-p7rjs57a/logs</code>"
            ],
            "text/plain": [
              "<IPython.core.display.HTML object>"
            ]
          },
          "metadata": {},
          "output_type": "display_data"
        }
      ],
      "source": [
        "model = DemoTransformer(model_cfg).to(device)\n",
        "args = TransformerTrainingArgs()\n",
        "trainer = TransformerTrainer(args, model)\n",
        "trainer.train()"
      ]
    },
    {
      "cell_type": "markdown",
      "metadata": {
        "id": "bypGwSMYn2Bl"
      },
      "source": [
        "When you run the code for the first time, you'll have to login to Weights and Biases, and paste an API key into VSCode. After this is done, your Weights and Biases training run will start. It'll give you a lot of output text, one line of which will look like:\n",
        "\n",
        "```\n",
        "View run at https://wandb.ai/<USERNAME>/<PROJECT-NAME>/runs/<RUN-NAME>\n",
        "```\n",
        "\n",
        "which you can click on to visit the run page.\n",
        "\n",
        "> Note - to see the plots more clearly in Weights and Biases, you can click on the **edit panel** of your plot (the small pencil symbol at the top-right), then move the **smoothing** slider to the right."
      ]
    },
    {
      "cell_type": "markdown",
      "metadata": {
        "id": "VLJL82W0oWzF"
      },
      "source": [
        "### A note on this loss curve (optional)\n",
        "\n",
        "\n",
        "What's up with the shape of our loss curve? It seems like we start at around 10-11, drops down very fast, but then levels out. It turns out, this is all to do with the kinds of algorithms the model learns during training.\n",
        "\n",
        "When it starts out, your model will be outputting random noise, which might look a lot like \"predict each token with approximately uniform probability\", i.e. $Q(x) = 1/d_\\text{vocab}$ for all $x$. This gives us a cross entropy loss of $\\log (d_\\text{vocab})$.\n",
        "\n"
      ]
    },
    {
      "cell_type": "code",
      "execution_count": null,
      "metadata": {
        "id": "n0_NVezboOHw"
      },
      "outputs": [],
      "source": [
        "d_vocab = model.cfg.d_vocab\n",
        "\n",
        "print(f\"d_vocab = {d_vocab}\")\n",
        "print(f\"Cross entropy loss on uniform distribution = {math.log(d_vocab)}\")"
      ]
    },
    {
      "cell_type": "markdown",
      "metadata": {
        "id": "oLbVtVOYoQp5"
      },
      "source": [
        "The next thing we might expect the model to learn is the frequencies of words in the english language. After all, small common tokens like `\" and\"` or `\" the\"` might appear much more frequently than others. This would give us an average cross entropy loss of:\n",
        "\n",
        "$$\n",
        "- \\sum_x p_x \\log p_x\n",
        "$$\n",
        "\n",
        "where $p_x$ is the actual frequency of the word in our training data.\n",
        "\n",
        "We can evaluate this quantity as follows:"
      ]
    },
    {
      "cell_type": "code",
      "execution_count": null,
      "metadata": {
        "id": "PYLIco76oSeX"
      },
      "outputs": [],
      "source": [
        "toks = tokenized_dataset[:][\"tokens\"].flatten()\n",
        "\n",
        "d_vocab = model.cfg.d_vocab\n",
        "freqs = t.bincount(toks, minlength=d_vocab)\n",
        "probs = freqs.float() / freqs.sum()\n",
        "\n",
        "distn = t.distributions.categorical.Categorical(probs=probs)\n",
        "entropy = distn.entropy()\n",
        "\n",
        "print(f\"Entropy of training data = {entropy}\")"
      ]
    },
    {
      "cell_type": "markdown",
      "metadata": {
        "id": "cQwiLxr6oUUq"
      },
      "source": [
        "After unigram frequencies, the next thing our model usually learns is **bigram frequencies** (i.e. the frequency of pairs of adjacent tokens in the training data). For instance, `\"I\"` and `\" am\"` are common tokens, but their bigram frequency is much higher than it would be if they occurred independently. Bigram frequencies actually take you pretty far, since they also help with:\n",
        "\n",
        "* Some simple grammatical rules (e.g. a full stop being followed by a capitalized word)\n",
        "* Weird quirks of tokenization (e.g. `\" manip\"` being followed by `\"ulative\"`)\n",
        "* Common names (e.g. `\"Barack\"` being followed by `\" Obama\"`)\n",
        "\n",
        "\n",
        "After approximating bigram frequencies, we need to start using smarter techniques, like trigrams (which can only be implemented using attention heads), **induction heads** (which we'll learn a lot more about in the next set of exercises!), and fact memorization or more basic grammar and syntax rules. Marginal improvement starts getting a lot harder around here, leading to a flattening of our loss curve."
      ]
    },
    {
      "cell_type": "markdown",
      "metadata": {
        "id": "pA0KyYuAvs8g"
      },
      "source": [
        "### Exercise (optional) - log completions\n",
        "\n",
        "*Note - you might want to come back to this exercise after you understand how sampling works.*\n",
        "\n",
        "Choose a handle of prompts, and log the model's completions on those sentences. We recommend you do this with a lower frequency than loss is logged (e.g. once every 10-100 batches).\n",
        "\n",
        "The `wandb` syntax for logging text is pretty simple. Firstly, you can just print output as stdout and this is also logged to Weights & Biases (you can find it under the \"Logs\" section of your run). Alternatively, you can log data in the form of a table, and have it appear next to your other charts:\n",
        "\n",
        "```python\n",
        "wandb.log({\"completions_table\": wandb.Table(\n",
        "    data = data,\n",
        "    columns = [\"epoch\", \"step\", \"text\"]\n",
        ")})\n",
        "```\n",
        "\n",
        "where `data` is a list of length-3 lists, with each list containing (epoch, step, text). If you choose this option, we recommend logging the table less frequently than you're sampling from the model, to make sure you're not sending too much data (because unfortunately wandb doesn't have methods to incrementally update the table during logging).\n",
        "\n",
        "If you want to try this before going through the sampling exercises (which are quite long!), you can use the code below to sample output from the model. Note that the `TransformerSampler` object is already in inference mode, so you don't need to worry about this."
      ]
    },
    {
      "cell_type": "code",
      "execution_count": null,
      "metadata": {
        "id": "-GVOVlqHvuh4"
      },
      "outputs": [],
      "source": [
        "def sampling_fn(model: DemoTransformer, prompt: str) -> str:\n",
        "    sampler = solutions.TransformerSampler(model, reference_gpt2.tokenizer)\n",
        "    output = sampler.sample(prompt, temperature=0.7, top_p=0.95, max_tokens_generated=16)\n",
        "    return output\n",
        "\n",
        "model = DemoTransformer(model_cfg).to(device)\n",
        "\n",
        "# Should be entirely random, because it uses a newly initialized model\n",
        "print(sampling_fn(model, prompt=\"John and Mary went to the\"))"
      ]
    },
    {
      "cell_type": "code",
      "execution_count": null,
      "metadata": {
        "id": "3WeGuzYkvu2s"
      },
      "outputs": [],
      "source": [
        "# YOUR CODE HERE - rewrite train function, using text logging"
      ]
    },
    {
      "cell_type": "markdown",
      "metadata": {
        "id": "YtqvYaxmwTi7"
      },
      "source": [
        "You shouldn't expect to see perfect logical coherence from your model, but you should at least see that it respects basic word frequencies, and follows basic rules of grammar some of the time. Hopefully this gives some perspective on how difficult training a transformer can be!"
      ]
    },
    {
      "cell_type": "markdown",
      "metadata": {
        "id": "hrSd3-YnfHN9"
      },
      "source": [
        "# 4️⃣ Sampling from a Transformer\n"
      ]
    },
    {
      "cell_type": "markdown",
      "metadata": {
        "id": "LdezwBEFfHN9"
      },
      "source": [
        "> ##### Learning objectives\n",
        ">\n",
        "> * Learn how to sample from a transformer\n",
        ">     * This includes basic methods like greedy search or top-k, and more advanced methods like beam search\n",
        "> * Learn how to cache the output of a transformer, so that it can be used to generate text more efficiently\n",
        ">     * Optionally, rewrite your sampling functions to make use of your caching methods\n"
      ]
    },
    {
      "cell_type": "markdown",
      "metadata": {
        "id": "c7C6E0bFfHN9"
      },
      "source": [
        "One obvious method to sample tokens from a distribution would be to always take the token assigned the highest probability. But this can lead to some boring and repetitive outcomes, and at worst it can lock our transformer's output into a loop.\n",
        "\n",
        "First, you should read HuggingFace's blog post [How to generate text: using different decoding methods for language generation with Transformers](https://huggingface.co/blog/how-to-generate).\n",
        "\n",
        "Once you've done that, you can work through the `TransformerSampler` class below, and implement the different sampling methods. Each method will come with its own tests, and demo code for you to run.\n"
      ]
    },
    {
      "cell_type": "code",
      "execution_count": null,
      "metadata": {
        "id": "aviyrTWefHN9"
      },
      "outputs": [],
      "source": [
        "model_cfg = Config()\n",
        "model = DemoTransformer(model_cfg).to(device)\n",
        "model.load_state_dict(reference_gpt2.state_dict(), strict=False)\n",
        "\n",
        "tokenizer = reference_gpt2.tokenizer"
      ]
    },
    {
      "cell_type": "code",
      "execution_count": null,
      "metadata": {
        "id": "4p1szCj1fHN9"
      },
      "outputs": [],
      "source": [
        "class TransformerSampler:\n",
        "\n",
        "    def __init__(self, model: DemoTransformer, tokenizer: GPT2TokenizerFast):\n",
        "        self.model = model\n",
        "        self.cfg = model.cfg\n",
        "        self.tokenizer = tokenizer\n",
        "\n",
        "    @t.inference_mode()\n",
        "    def sample(self, prompt: str, max_tokens_generated=100, verbose=False, **kwargs):\n",
        "        '''\n",
        "        Returns a string of autoregressively generated text, starting from the prompt.\n",
        "\n",
        "        Sampling terminates at max_tokens_generated, or when the model generates an\n",
        "        end-of-sequence token.\n",
        "\n",
        "        kwargs are passed to sample_next_token, to give detailed instructions on how\n",
        "        new tokens are chosen.\n",
        "        '''\n",
        "        pass\n",
        "\n",
        "\n",
        "    @t.inference_mode()\n",
        "    def beam_search(\n",
        "        self,\n",
        "        prompt: str,\n",
        "        num_return_sequences: int,\n",
        "        num_beams: int,\n",
        "        max_new_tokens: int,\n",
        "        no_repeat_ngram_size: int = 0,\n",
        "        verbose=False\n",
        "    ) -> List[Tuple[float, t.Tensor]]:\n",
        "        '''\n",
        "        Returns a string of autoregressively generated text, starting from the prompt.\n",
        "\n",
        "        Sampling terminates at max_tokens_generated, or when the model generates an\n",
        "        end-of-sequence token.\n",
        "\n",
        "        kwargs are passed to sample_next_token, to give detailed instructions on how\n",
        "        new tokens are chosen.\n",
        "        '''\n",
        "        pass\n",
        "\n",
        "\n",
        "    @staticmethod\n",
        "    def sample_next_token(\n",
        "        input_ids: Int[Tensor, \"seq_len\"],\n",
        "        logits: Float[Tensor, \"seq_len d_vocab\"],\n",
        "        temperature=1.0,\n",
        "        top_k=0,\n",
        "        top_p=0.0,\n",
        "        frequency_penalty=0.0,\n",
        "        seed=None\n",
        "    ):\n",
        "        assert input_ids.ndim == 1, \"input_ids should be a 1D sequence of token ids\"\n",
        "        assert temperature >= 0, \"Temperature should be non-negative\"\n",
        "        assert 0 <= top_p <= 1.0, \"Top-p must be a probability\"\n",
        "        assert 0 <= top_k, \"Top-k must be non-negative\"\n",
        "        assert not (top_p != 0 and top_k != 0), \"At most one of top-p and top-k supported\"\n",
        "\n",
        "        # Set random seeds for reproducibility\n",
        "        if seed is not None:\n",
        "            t.manual_seed(seed)\n",
        "            np.random.seed(seed)\n",
        "\n",
        "        # Apply all the specialized sampling methods\n",
        "        if temperature == 0:\n",
        "            return TransformerSampler.greedy_search(logits)\n",
        "        elif temperature != 1.0:\n",
        "            logits = TransformerSampler.apply_temperature(logits, temperature)\n",
        "        if frequency_penalty != 0.0:\n",
        "            logits = TransformerSampler.apply_frequency_penalty(input_ids, logits, frequency_penalty)\n",
        "        if top_k > 0:\n",
        "            return TransformerSampler.sample_top_k(logits, top_k)\n",
        "        if top_p > 0.0:\n",
        "            return TransformerSampler.sample_top_p(logits, top_p)\n",
        "        return TransformerSampler.sample_basic(logits)\n",
        "\n",
        "\n",
        "    @staticmethod\n",
        "    def greedy_search(logits: Float[Tensor, \"d_vocab\"]) -> int:\n",
        "        '''\n",
        "        Returns the most likely token (as an int).\n",
        "        '''\n",
        "        out = logits.argmax().item()\n",
        "        return out\n",
        "\n",
        "\n",
        "    @staticmethod\n",
        "    def apply_temperature(logits: Float[Tensor, \"d_vocab\"], temperature: float) -> Float[Tensor, \"d_vocab\"]:\n",
        "        '''\n",
        "        Applies temperature scaling to the logits.\n",
        "        '''\n",
        "        pass\n",
        "\n",
        "\n",
        "    @staticmethod\n",
        "    def apply_frequency_penalty(input_ids: Int[Tensor, \"seq_len\"], logits: Float[Tensor, \"d_vocab\"], freq_penalty: float) -> Float[Tensor, \"d_vocab\"]:\n",
        "        '''\n",
        "        Applies a frequency penalty to the logits.\n",
        "        '''\n",
        "        pass\n",
        "\n",
        "\n",
        "    @staticmethod\n",
        "    def sample_basic(logits: Float[Tensor, \"d_vocab\"]) -> int:\n",
        "        '''\n",
        "        Samples from the distribution defined by the logits.\n",
        "        '''\n",
        "        pass\n",
        "\n",
        "\n",
        "    @staticmethod\n",
        "    def sample_top_k(logits: Float[Tensor, \"d_vocab\"], k: int) -> int:\n",
        "        '''\n",
        "        Samples from the top k most likely tokens.\n",
        "        '''\n",
        "        pass\n",
        "\n",
        "\n",
        "    @staticmethod\n",
        "    def sample_top_p(logits: Float[Tensor, \"d_vocab\"], top_p: float, min_tokens_to_keep: int = 1) -> int:\n",
        "        '''\n",
        "        Samples from the most likely tokens which make up at least p cumulative probability.\n",
        "        '''\n",
        "        pass"
      ]
    },
    {
      "cell_type": "markdown",
      "metadata": {
        "id": "lwA5ge9KfHN9"
      },
      "source": [
        "## Main Sampling Function\n",
        "\n",
        "The first thing you should do is implement the `sample` method.\n",
        "\n",
        "### Exercise - implement `sample`\n",
        "\n",
        "```c\n",
        "Difficulty: 🔴🔴🔴⚪⚪\n",
        "Importance: 🔵🔵🔵⚪⚪\n",
        "\n",
        "You should spend up to 20-25 minutes on this exercise.\n",
        "```\n",
        "\n",
        "This function takes in a prompt (in the form of a string), encodes it as a sequence of token ids using `self.tokenizer.encode`, and then continually generates new tokens by repeating the following steps:\n",
        "\n",
        "1. Passing the tokenized prompt through the model to get logits,\n",
        "2. Taking the logit vector corresponding to the last token in the prompt (i.e. the prediction for the *next* token),\n",
        "3. Sampling from this distribution to get a new token, using `self.sample_next_token(input_ids, logits, **kwargs)` (here, `kwargs` contains all the sampling-specific arguments, e.g. temperature, top-k, etc.),\n",
        "4. Appending this new token to the input tokens, and repeating the process until we meet one of two termination critera:\n",
        "    * We generate `max_tokens_generated` new tokens, or\n",
        "    * We generate the end-of-sequence token (which we can access via `self.tokenizer.eos_token_id`).\n",
        "\n",
        "Finally, we use `self.tokenizer.decode` to convert the generated token ids back into a string, and return this string.\n",
        "\n",
        "We also have a `verbose` argument - when this is true you can print your output while it's being sampled.\n",
        "\n",
        "Below is some code which tests your sampling function by performing greedy sampling (which means always choosing the most likely next token at each step).\n",
        "\n",
        "<details>\n",
        "<summary>Why does <code>temperature=0.0</code> correspond to greedy sampling?</summary>\n",
        "\n",
        "To apply a temperature to our sampling (as we'll see later) means to scale all logits by `(1 / temperature)`. The basic intuition here is:\n",
        "\n",
        "* A higher temperature means a smaller scale factor, so the logits all approach zero, i.e. uniform distribution, and the sampling process is a lot more random (producing more diverse and varied outputs)\n",
        "* A lower temperature means a larger scale factor, so the logits all approach infinity, i.e. a dirac delta function, and the sampling process is a lot more deterministic (producing less varied output)\n",
        "\n",
        "As temperature gets close to zero, the difference between the largest logit and second largest logit becomes very large, so the distribution tends to \"probability of 1 on the highest-likelihood token\", i.e. greedy sampling. You can derive this formally if you prefer.\n",
        "</details>\n",
        "\n",
        "A few hints:\n",
        "\n",
        "* Don't forget about tensor shapes! Your model's input should always have a batch dimension, i.e. it should be shape `(1, seq_len)`.\n",
        "* The `sample_next_token` method will return an integer, so make sure you wrap this in a tensor before concatenating it to the end of your input IDs.\n",
        "* Also remember to have your tensors be on the same device (we have a global `device` variable).\n",
        "* Remember to put your model in evaluation mode, using `model.eval()`.\n",
        "\n",
        "To be clear - the idea is for you to implement the `sample` method of the `TransformerSampler` class; you can do this by either editing the class definition directly or (if you want to avoid scrolling) define the `sample` function outside the class and then assign it via `TransformerSampler.sample = sample`."
      ]
    },
    {
      "cell_type": "code",
      "execution_count": null,
      "metadata": {
        "id": "loDmpBfmfHN9"
      },
      "outputs": [],
      "source": [
        "sampler = TransformerSampler(model, tokenizer)\n",
        "\n",
        "prompt = \"Jingle bells, jingle bells, jingle all the way\"\n",
        "print(f\"Greedy decoding with prompt: {prompt!r}\\n\")\n",
        "\n",
        "output = sampler.sample(prompt, max_tokens_generated=8, temperature=0.0)\n",
        "print(f\"Your model said: {output!r}\\n\")\n",
        "\n",
        "expected = \"Jingle bells, jingle bells, jingle all the way up to the top of the mountain.\"\n",
        "assert output == expected\n",
        "\n",
        "print(\"Tests passed!\")"
      ]
    },
    {
      "cell_type": "markdown",
      "metadata": {
        "id": "aIx0p0MlfHN-"
      },
      "source": [
        "## Sampling with Categorical\n",
        "\n",
        "Now, we'll move into implementing specific sampling methods.\n",
        "\n",
        "PyTorch provides a [`distributions` package](https://pytorch.org/docs/stable/distributions.html#distribution) with a number of convenient methods for sampling from various distributions.\n",
        "\n",
        "For now, we just need [`t.distributions.categorical.Categorical`](https://pytorch.org/docs/stable/distributions.html#categorical). Use this to implement `sample_basic`, which just samples from the provided logits (which may have already been modified by the temperature and frequency penalties).\n",
        "\n",
        "Note that this will be slow since we aren't batching the samples, but don't worry about speed for now.\n"
      ]
    },
    {
      "cell_type": "markdown",
      "metadata": {
        "id": "DLjEUGqZfHN-"
      },
      "source": [
        "### Exercise - Basic Sampling\n",
        "\n",
        "```c\n",
        "Difficulty: 🔴🔴⚪⚪⚪\n",
        "Importance: 🔵🔵⚪⚪⚪\n",
        "\n",
        "You should spend up to 5-10 minutes on this exercise.\n",
        "```\n",
        "\n",
        "Implement basic sampling in the `TransformerSampler` class above, then run the code below to verify your solution works.\n"
      ]
    },
    {
      "cell_type": "code",
      "execution_count": null,
      "metadata": {
        "id": "cSA2Sr0FfHN-"
      },
      "outputs": [],
      "source": [
        "prompt = \"John and Mary went to the\"\n",
        "input_ids = tokenizer.encode(prompt, return_tensors=\"pt\").to(device)\n",
        "logits = model(input_ids)[0, -1]\n",
        "\n",
        "expected_top_5 = {\n",
        "    \" church\": 0.0648,\n",
        "    \" house\": 0.0367,\n",
        "    \" temple\": 0.0145,\n",
        "    \" same\": 0.0104,\n",
        "    \" Church\": 0.0097\n",
        "}\n",
        "frequency_of_top_5 = defaultdict(int)\n",
        "\n",
        "N = 10_000\n",
        "for _ in tqdm(range(N)):\n",
        "    token = TransformerSampler.sample_next_token(input_ids.squeeze(), logits)\n",
        "    frequency_of_top_5[tokenizer.decode(token)] += 1\n",
        "\n",
        "for word in expected_top_5:\n",
        "    expected_freq = expected_top_5[word]\n",
        "    observed_freq = frequency_of_top_5[word] / N\n",
        "    print(f\"Word: {word!r:<9}. Expected freq {expected_freq:.4f}, observed freq {observed_freq:.4f}\")\n",
        "    assert abs(observed_freq - expected_freq) < 0.01, \"Try increasing N if this fails by a small amount.\"\n",
        "\n",
        "print(\"Tests passed!\")"
      ]
    },
    {
      "cell_type": "markdown",
      "metadata": {
        "id": "lXLHfTYzfHN-"
      },
      "source": [
        "### Exercise - Temperature\n",
        "\n",
        "```c\n",
        "Difficulty: 🔴⚪⚪⚪⚪\n",
        "Importance: 🔵🔵⚪⚪⚪\n",
        "\n",
        "You should spend up to 5-10 minutes on this exercise.\n",
        "```\n",
        "\n",
        "Temperature sounds fancy, but it's literally just dividing the logits by the temperature. You should implement this in your `TransformerSampler` class now.\n"
      ]
    },
    {
      "cell_type": "code",
      "execution_count": null,
      "metadata": {
        "id": "wph7hgyMfHN-"
      },
      "outputs": [],
      "source": [
        "logits = t.tensor([1, 2]).log()\n",
        "\n",
        "cold_logits = TransformerSampler.apply_temperature(logits, temperature=0.001)\n",
        "print('A low temperature \"sharpens\" or \"peaks\" the distribution: ', cold_logits)\n",
        "t.testing.assert_close(cold_logits, 1000.0 * logits)\n",
        "\n",
        "hot_logits = TransformerSampler.apply_temperature(logits, temperature=1000.0)\n",
        "print(\"A high temperature flattens the distribution: \", hot_logits)\n",
        "t.testing.assert_close(hot_logits, 0.001 * logits)\n",
        "\n",
        "print(\"Tests passed!\")"
      ]
    },
    {
      "cell_type": "markdown",
      "metadata": {
        "id": "aSf7Ipi1fHN-"
      },
      "source": [
        "<details>\n",
        "<summary>Question - what is the limit of applying 'sample_basic' after adjusting with temperature, when temperature goes to zero? How about when temperature goes to infinity?</summary>\n",
        "\n",
        "The limit when temperature goes to zero is greedy search (because dividing by a small number makes the logits very big, in other words the difference between the maximum logit one and all the others will grow).\n",
        "\n",
        "The limit when temperature goes to infinity is uniform random sampling over all words (because all logits will be pushed towards zero).\")\n",
        "</details>\n"
      ]
    },
    {
      "cell_type": "markdown",
      "metadata": {
        "id": "t8H7_bF-fHN_"
      },
      "source": [
        "### Exercise - Frequency Penalty\n",
        "\n",
        "```c\n",
        "Difficulty: 🔴🔴⚪⚪⚪\n",
        "Importance: 🔵⚪⚪⚪⚪\n",
        "\n",
        "You should spend up to 10-15 minutes on this exercise.\n",
        "```\n",
        "\n",
        "The frequency penalty is simple as well: count the number of occurrences of each token, then subtract `freq_penalty` for each occurrence. Hint: use `t.bincount` (documentation [here](https://pytorch.org/docs/stable/generated/torch.bincount.html)) to do this in a vectorized way.\n",
        "\n",
        "You should implement the `apply_frequency_penalty` method in your `TransformerSampler` class now, then run the cell below to check your solution.\n"
      ]
    },
    {
      "cell_type": "markdown",
      "metadata": {
        "id": "6i5tF4StfHN_"
      },
      "source": [
        "<details>\n",
        "<summary>Help - I'm getting a <code>RuntimeError</code>; my tensor sizes don't match.</summary>\n",
        "\n",
        "Look at the documentation page for `t.bincount`. You might need to use the `minlength` argument - why?\n",
        "</details>\n"
      ]
    },
    {
      "cell_type": "code",
      "execution_count": null,
      "metadata": {
        "id": "y9A7LdixfHN_"
      },
      "outputs": [],
      "source": [
        "bieber_prompt = \"And I was like Baby, baby, baby, oh Like, Baby, baby, baby, no Like, Baby, baby, baby, oh I thought you'd always be mine, mine\"\n",
        "input_ids = tokenizer.encode(bieber_prompt, return_tensors=\"pt\")\n",
        "logits = t.ones(tokenizer.vocab_size)\n",
        "penalized_logits = TransformerSampler.apply_frequency_penalty(input_ids.squeeze(), logits, 2.0)\n",
        "\n",
        "assert penalized_logits[5156].item() == -11, \"Expected 6 occurrences of ' baby' with leading space, 1-2*6=-11\"\n",
        "assert penalized_logits[14801].item() == -5, \"Expected 3 occurrences of ' Baby' with leading space, 1-2*3=-5\"\n",
        "\n",
        "print(\"Tests passed!\")"
      ]
    },
    {
      "cell_type": "markdown",
      "metadata": {
        "id": "PuNpoR3CfHN_"
      },
      "source": [
        "### Sampling - Manual Testing\n",
        "\n",
        "Run the below cell to get a sense for the `temperature` and `freq_penalty` arguments. Play with your own prompt and try other values.\n",
        "\n",
        "Note: your model can generate newlines or non-printing characters, so calling `print` on generated text sometimes looks awkward on screen. You can call `repr` on the string before printing to have the string escaped nicely.\n"
      ]
    },
    {
      "cell_type": "code",
      "execution_count": null,
      "metadata": {
        "id": "owibsBUjfHN_"
      },
      "outputs": [],
      "source": [
        "sampler = TransformerSampler(model, tokenizer)\n",
        "\n",
        "N_RUNS = 1\n",
        "your_prompt = \"Jingle bells, jingle bells, jingle all the way\"\n",
        "cases = [\n",
        "    (\"High freq penalty\", dict(frequency_penalty=100.0)),\n",
        "    (\"Negative freq penalty\", dict(frequency_penalty=-3.0)),\n",
        "    (\"Too hot!\", dict(temperature=2.0)),\n",
        "    (\"Pleasantly cool\", dict(temperature=0.7)),\n",
        "    (\"Pleasantly warm\", dict(temperature=0.9)),\n",
        "    (\"Too cold!\", dict(temperature=0.01)),\n",
        "]\n",
        "\n",
        "table = Table(\"Name\", \"Kwargs\", \"Output\", title=\"Sampling - Manual Testing\")\n",
        "\n",
        "for (name, kwargs) in cases:\n",
        "    for i in range(N_RUNS):\n",
        "        output = sampler.sample(your_prompt, max_tokens_generated=24, **kwargs)\n",
        "        table.add_row(name, repr(kwargs), repr(output) + \"\\n\")\n",
        "\n",
        "rprint(table)"
      ]
    },
    {
      "cell_type": "markdown",
      "metadata": {
        "id": "v9fFSMW7fHN_"
      },
      "source": [
        "## Top-K Sampling\n",
        "\n",
        "Conceptually, the steps in top-k sampling are:\n",
        "- Find the `top_k` largest probabilities (you can use [`torch.topk`](https://pytorch.org/docs/stable/generated/torch.topk.html))\n",
        "- Set all other probabilities to zero\n",
        "- Normalize and sample\n"
      ]
    },
    {
      "cell_type": "markdown",
      "metadata": {
        "id": "R0hBDuz4fHN_"
      },
      "source": [
        "### Exercise - implement `sample_top_k`\n",
        "\n",
        "```c\n",
        "Difficulty: 🔴🔴⚪⚪⚪\n",
        "Importance: 🔵⚪⚪⚪⚪\n",
        "\n",
        "You should spend up to 5-10 minutes on this exercise.\n",
        "```\n",
        "\n",
        "Implement the method `sample_top_k` now. Your implementation should stay in log-space throughout (don't exponentiate to obtain probabilities). This means you don't actually need to worry about normalizing, because `Categorical` accepts unnormalised logits.\n"
      ]
    },
    {
      "cell_type": "code",
      "execution_count": null,
      "metadata": {
        "id": "HocllGE0fHN_"
      },
      "outputs": [],
      "source": [
        "prompt = \"John and Mary went to the\"\n",
        "input_ids = tokenizer.encode(prompt, return_tensors=\"pt\").to(device)\n",
        "logits = model(input_ids)[0, -1]\n",
        "\n",
        "expected_top_5 = {\n",
        "    \" church\": 0.0648,\n",
        "    \" house\": 0.0367,\n",
        "    \" temple\": 0.0145,\n",
        "    \" same\": 0.0104,\n",
        "    \" Church\": 0.0097\n",
        "}\n",
        "topk_5_sum = sum(expected_top_5.values())\n",
        "\n",
        "observed_freqs = defaultdict(int)\n",
        "\n",
        "N = 10000\n",
        "for _ in tqdm(range(N)):\n",
        "    token = TransformerSampler.sample_next_token(input_ids.squeeze(), logits, top_k=5)\n",
        "    observed_freqs[tokenizer.decode(token)] += 1\n",
        "\n",
        "for word in expected_top_5:\n",
        "    expected_freq = expected_top_5[word] / topk_5_sum\n",
        "    observed_freq = observed_freqs[word] / N\n",
        "    print(f\"Word: {word!r:<9}. Expected freq = {expected_freq:.4f}, observed freq = {observed_freq:.4f}\")\n",
        "    assert abs(observed_freq - expected_freq) < 0.015, \"Try increasing N if this fails by a small amount.\""
      ]
    },
    {
      "cell_type": "markdown",
      "metadata": {
        "id": "3HElusTNfHOA"
      },
      "source": [
        "### Top-K Sampling - Example\n",
        "\n",
        "The [GPT-2 paper](https://d4mucfpksywv.cloudfront.net/better-language-models/language_models_are_unsupervised_multitask_learners.pdf) famously included an example prompt about unicorns. Now it's your turn to see just how cherry picked this example was.\n",
        "\n",
        "The paper claims they used `top_k=40` and best of 10 samples.\n"
      ]
    },
    {
      "cell_type": "code",
      "execution_count": null,
      "metadata": {
        "id": "24dChHZ1fHOA"
      },
      "outputs": [],
      "source": [
        "sampler = TransformerSampler(model, tokenizer)\n",
        "\n",
        "your_prompt = \"In a shocking finding, scientist discovered a herd of unicorns living in a remote, previously unexplored valley, in the Andes Mountains. Even more surprising to the researchers was the fact that the unicorns spoke perfect English.\"\n",
        "output = sampler.sample(your_prompt, temperature=0.7, top_k=40, max_tokens_generated=64)\n",
        "rprint(f\"Your model said:\\n\\n[bold dark_orange]{output}\")"
      ]
    },
    {
      "cell_type": "markdown",
      "metadata": {
        "id": "WpaCZmw3yW9X"
      },
      "source": [
        "This is pretty incredible! For some perspective on how much of a paradigm shift even basic models like this represented, we recommend reading [this section from Simulators](https://www.lesswrong.com/posts/vJFdjigzmcXMhNTsx/simulators#The_limit_of_sequence_modeling)."
      ]
    },
    {
      "cell_type": "markdown",
      "metadata": {
        "id": "kEmLBEn9fHOA"
      },
      "source": [
        "## Top-p aka Nucleus Sampling\n",
        "\n",
        "The basic idea is that we choose the most likely words, up until the total probability of words we've chosen crosses some threshold. Then we sample from those chosen words based on their logits.\n",
        "\n",
        "The steps are:\n",
        "\n",
        "- Sort the probabilities from largest to smallest\n",
        "- Find the cutoff point where the cumulative probability first equals or exceeds `top_p`. We do the cutoff inclusively, keeping the first probability above the threshold.\n",
        "- If the number of kept probabilities is less than `min_tokens_to_keep`, keep that many tokens instead.\n",
        "- Set all other probabilities to zero\n",
        "- Normalize and sample\n",
        "\n",
        "Optionally, refer to the paper [The Curious Case of Neural Text Degeneration](https://arxiv.org/pdf/1904.09751.pdf) for some comparison of different methods.\n"
      ]
    },
    {
      "cell_type": "markdown",
      "metadata": {
        "id": "fAJaTvcefHOA"
      },
      "source": [
        "### Exercise - implement `sample_top_p`\n",
        "\n",
        "```c\n",
        "Difficulty: 🔴🔴🔴⚪⚪\n",
        "Importance: 🔵⚪⚪⚪⚪\n",
        "\n",
        "You should spend up to 15-20 minutes on this exercise.\n",
        "```\n",
        "\n",
        "<details>\n",
        "<summary>Example of top-p sampling (if you're confused)</summary>\n",
        "\n",
        "If our probabilities were `(0.4, 0.3, 0.2, 0.1)` and our cutoff was `top_p=0.8`, then we'd sample from the first three elements (because their total probability is `0.9` which is over the threshold, but the first two only have a total prob of `0.7` which is under the threshold). Once we've chosen to sample from those three, we would renormalise them by dividing by their sum (so the probabilities we use when sampling are `(4/9, 3/9, 2/9)`.\n",
        "</details>\n",
        "\n",
        "<details>\n",
        "<summary>Help - I'm stuck on how to implement this function.</summary>\n",
        "\n",
        "First, sort the logits using the `sort(descending=True)` method (this returns values and indices). Then you can get `cumulative_probs` by applying softmax to these logits and taking the cumsum. Then, you can decide how many probabilities to keep by using the `t.searchsorted` function.\n",
        "    \n",
        "Once you've decided which probabilities to keep, it's easiest to sample from them using the original logits (you should have preserved the indices when you called `logits.sort`). This way, you don't need to worry about renormalising like you would if you were using probabilities.\n",
        "</details>\n"
      ]
    },
    {
      "cell_type": "code",
      "execution_count": null,
      "metadata": {
        "id": "ndUIZuRJfHOA"
      },
      "outputs": [],
      "source": [
        "prompt = \"John and Mary went to the\"\n",
        "input_ids = tokenizer.encode(prompt, return_tensors=\"pt\").to(device)\n",
        "logits = model(input_ids)[0, -1]\n",
        "\n",
        "expected_top_10pct = {\n",
        "    \" church\": 0.0648,\n",
        "    \" house\": 0.0367, # These are the two most likely tokens, and add up to >10%\n",
        "}\n",
        "top_10pct_sum = sum(expected_top_10pct.values())\n",
        "\n",
        "observed_freqs = defaultdict(int)\n",
        "\n",
        "N = 10000\n",
        "for _ in tqdm(range(N)):\n",
        "    token = TransformerSampler.sample_next_token(input_ids.squeeze(), logits, top_p=0.1)\n",
        "    observed_freqs[tokenizer.decode(token)] += 1\n",
        "\n",
        "for word in expected_top_10pct:\n",
        "    expected_freq = expected_top_10pct[word] / top_10pct_sum\n",
        "    observed_freq = observed_freqs[word] / N\n",
        "    print(f\"Word: {word!r:<9}. Expected freq {expected_freq:.4f}, observed freq {observed_freq:.4f}\")\n",
        "    assert abs(observed_freq - expected_freq) < 0.01, \"Try increasing N if this fails by a small amount.\""
      ]
    },
    {
      "cell_type": "markdown",
      "metadata": {
        "id": "qhrTvZp6fHOA"
      },
      "source": [
        "### Top-p Sampling - Example\n"
      ]
    },
    {
      "cell_type": "code",
      "execution_count": null,
      "metadata": {
        "id": "vCBMUxzufHOE"
      },
      "outputs": [],
      "source": [
        "sampler = TransformerSampler(model, tokenizer)\n",
        "\n",
        "your_prompt = \"Eliezer Shlomo Yudkowsky (born September 11, 1979) is an American decision and artificial intelligence (AI) theorist and writer, best known for\"\n",
        "output = sampler.sample(your_prompt, temperature=0.7, top_p=0.95, max_tokens_generated=64)\n",
        "rprint(f\"Your model said:\\n\\n[bold dark_orange]{output}\")"
      ]
    },
    {
      "cell_type": "markdown",
      "metadata": {
        "id": "a6PVv6PHfHOE"
      },
      "source": [
        "## Beam search\n",
        "\n",
        "Finally, we'll implement a more advanced way of searching over output: **beam search**. You should read the [HuggingFace page](https://huggingface.co/blog/how-to-generate#beam-search) on beam search before moving on.\n",
        "\n",
        "In beam search, we maintain a list of size `num_beams` completions which are the most likely completions so far as measured by the product of their probabilities. Since this product can become very small, we use the sum of log probabilities instead. Note - log probabilities are *not* the same as your model's output. We get log probabilities by first taking softmax of our output and then taking log. You can do this with the [`log_softmax`](https://pytorch.org/docs/stable/generated/torch.nn.functional.log_softmax.html) function / tensor method.\n"
      ]
    },
    {
      "cell_type": "markdown",
      "metadata": {
        "id": "jsRXQwecfHOE"
      },
      "source": [
        "<details>\n",
        "<summary>Log probabilities are equal to the logit output after being translated by some amount X (where X is a function of the original logit output). Can you prove this?</summary>\n",
        "\n",
        "Suppose our vector of logits is $x$, and we take softmax to get a vector of probabilities $p$, then log again to get a vector of log probabilities $l$. Then the $i$-th element of this vector of logprobs is:\n",
        "\n",
        "$$\n",
        "\\begin{align}\n",
        "l_i &= \\log p_i \\\\\n",
        "&= \\log \\frac{\\exp(x_i)}{\\sum_j \\exp(x_j)} \\\\\n",
        "&= x_i - \\log \\sum_j \\exp(x_j) \\\\\n",
        "&= x_i - C\n",
        "\\end{align}\n",
        "$$\n",
        "\n",
        "where $C = \\log \\sum_j \\exp(x_j)$ is the same for all elements. So we can see that $l_i$ is equal to the logit output $x_i$ after being translated by $C$.\n",
        "\n",
        "It's important not to mix up logits and logprobs!\n",
        "</details>\n",
        "\n",
        "<details>\n",
        "<summary>Why do you think we use log softmax rather than logit output?</summary>\n",
        "\n",
        "Logit output is translation invariant. If we had two different beams and we were generating the next tokens in those beams, there would be no reasonable way to compare the two beams to each other, because we could shift the logit vector for one beam by a constant amount without changing the distribution.\n",
        "\n",
        "</details>\n"
      ]
    },
    {
      "cell_type": "markdown",
      "metadata": {
        "id": "-dQFaVpFfHOE"
      },
      "source": [
        "At each iteration, we run the batch of completions through the model and take the log-softmax to obtain `d_vocab` log-probs for each completion, or `num_beams * d_vocab` possible next completions in total.\n",
        "\n",
        "If we kept all of these, then we would have `num_beams * d_vocab * d_vocab` completions after the next iteration which is way too many, so instead we sort them by their score and loop through from best (highest) log probability to worst (lowest).\n",
        "\n",
        "The illustration below might help (based on real results from this method). Here, we have the following hyperparameters:\n",
        "\n",
        "```python\n",
        "num_beams = 3\n",
        "max_new_tokens = 3\n",
        "num_return_sequences = 2\n",
        "```\n"
      ]
    },
    {
      "cell_type": "markdown",
      "metadata": {
        "id": "JhmYgrg4fHOE"
      },
      "source": [
        "<img src=\"https://raw.githubusercontent.com/callummcdougall/computational-thread-art/master/example_images/misc/beam-search.png\" width=\"1000\">\n"
      ]
    },
    {
      "cell_type": "markdown",
      "metadata": {
        "id": "ZnZQieUBfHOF"
      },
      "source": [
        "Note how after each \"generate\" stage, we have `num_beams ** 2` possible completions, which we then filter down to `num_beams`. Can you see why we need to generate this many (and what might happen if we generated fewer)?\n"
      ]
    },
    {
      "cell_type": "markdown",
      "metadata": {
        "id": "Jn-kjeh8fHOF"
      },
      "source": [
        "How do we deal with sequences that terminate early (i.e. by generating an EOS token)? Answer - we append them to the list of completions which we'll return at the end, and remove them from the generation tree. Our algorithm terminates when either all our sequences have length `max_new_tokens` larger than the initial prompt length, or we've generated `num_returns_sequences` terminating sequences.\n"
      ]
    },
    {
      "cell_type": "markdown",
      "metadata": {
        "id": "ZFiBucEHfHOF"
      },
      "source": [
        "### Exercise - implement `beam_search`\n",
        "\n",
        "```c\n",
        "Difficulty: 🔴🔴🔴🔴⚪\n",
        "Importance: 🔵⚪⚪⚪⚪\n",
        "\n",
        "You should spend up to 30-40 minutes on this exercise.\n",
        "```\n",
        "\n",
        "You should now complete the `beam_search` method in your `TransformerSampler` class.\n",
        "\n",
        "We've provided one possible template for you to use: the class `Beams`, with important methods `generate` and `filter` for you to fit in (which correspond to the two stages in the diagram above). There are also a few of helper functions in this class:\n",
        "\n",
        "* `new_beams`, which creates a new `Beams` object from an old one.\n",
        "* `__getitem__`, which allows you to index into a `Beams` object to get a specific batch of beams.\n",
        "* `logprobs_and_completions`, which turns a `Beams` object into a list of (logprob sum, string completion) tuples (useful for getting your final output).\n",
        "* `print`, which prints out the current state of the beams (useful for debugging, if you run `beam_search` with `verbose=True`).\n",
        "\n",
        "You can then fill in the `beam_search` function, using this class and its methods.\n",
        "\n",
        "We've provided unit tests for the `generate` and `filter` functions, so you can verify that these are correct before moving on to the full `beam_search` function.\n",
        "\n",
        "**Note that using the `Beams` class is not strictly necessary, you could fill in the `beam_search` function directly if you prefer.** The `Beams` class is just meant to provide one example way you might implement this function. Often, modular code like this is easier to write and debug, and easier to extend to cover new use cases (e.g. when we use caching in the bonus exercises).\n",
        "\n",
        "#### Why all the n-gram repetition?\n",
        "\n",
        "You should observe that, while the output of beam search is sometimes more fluent than some of the other sampling methods you implement, it also has an unfortunate tendency to repeat sentences or sequences. This makes sense - if the model produces a sentence with a relatively high logit sum, then it will want to produce the same sentence again even if it doesn't make a lot of sense in context.\n",
        "\n",
        "A common solution is to ban repetition of n-grams. We've provided the argument `no_repeat_ngram_size` in the `generate` method for this purpose. Using this argument should prevent the model from repeating any n-grams of that size. Good values of this parameter to try are 2 or 3.\n",
        "\n",
        "However, first you should focus on getting a working version of beam search *without* using this argument.\n",
        "\n",
        "<details>\n",
        "<summary>Hint (for <code>no_repeat_ngram_size</code>)</summary>\n",
        "\n",
        "It might be helpful to implement the following method first. You can use this rather than `torch.topk` in your `generate` method.\n",
        "\n",
        "```python\n",
        "def get_topk_non_repeating(\n",
        "    self,\n",
        "    logprobs: Float[Tensor, \"batch d_vocab\"],\n",
        "    no_repeat_ngram_size: int,\n",
        "    k: int,\n",
        ") -> Tuple[Float[Tensor, \"k\"], Int[Tensor, \"k\"]]:\n",
        "    '''\n",
        "    logprobs:\n",
        "        tensor of the log-probs for the next token\n",
        "    no_repeat_ngram_size:\n",
        "        size of ngram to avoid repeating\n",
        "    k:\n",
        "        number of top logits to return, for each beam in our collection\n",
        "\n",
        "    Returns:\n",
        "        equivalent to the output of `logprobs.topk(dim=-1)`, but makes sure\n",
        "        that no returned tokens would produce an ngram of size  `no_repeat_ngram_size`\n",
        "        which has already appeared in `self.tokens`.\n",
        "    '''\n",
        "    pass\n",
        "```\n",
        "</details>\n"
      ]
    },
    {
      "cell_type": "code",
      "execution_count": null,
      "metadata": {
        "id": "-RhHI8AyfHOF"
      },
      "outputs": [],
      "source": [
        "@dataclass\n",
        "class Beams:\n",
        "    '''Class to store beams during beam search.'''\n",
        "    model: DemoTransformer\n",
        "    tokenizer: GPT2TokenizerFast\n",
        "    logprob_sums: Float[Tensor, \"batch\"]\n",
        "    tokens: Int[Tensor, \"batch seq\"]\n",
        "\n",
        "    def new_beams(self, logprob_sums, tokens) -> \"Beams\":\n",
        "        '''Creates a new Beams object with the same model and tokenizer.'''\n",
        "        return Beams(self.model, self.tokenizer, logprob_sums, tokens)\n",
        "\n",
        "    def __getitem__(self, idx) -> \"Beams\":\n",
        "        '''Allows you to take a slice of the beams object along the batch dimension.'''\n",
        "        return self.new_beams(self.logprob_sums[idx], self.tokens[idx])\n",
        "\n",
        "    @property\n",
        "    def logprobs_and_completions(self) -> List[Tuple[float, str]]:\n",
        "        '''Returns self as a list of logprob sums and completions (useful for getting final output).'''\n",
        "        return [\n",
        "            (logprob_sum.item(), self.tokenizer.decode(tokens))\n",
        "            for (logprob_sum, tokens) in zip(self.logprob_sums, self.tokens)\n",
        "        ]\n",
        "\n",
        "\n",
        "    def generate(self, toks_per_beam: int, no_repeat_ngram_size: Optional[int] = None) -> \"Beams\":\n",
        "        '''\n",
        "        Starting from the current set of beams (which has length `num_beams`), returns a new\n",
        "        set of `num_beams * toks_per_beam`, containing the best `toks_per_beam` continuations for each\n",
        "        of the original beams.\n",
        "\n",
        "        Optional argument `no_repeat_ngram_size` means your model won't generate any sequences with\n",
        "        a repeating n-gram of this length.\n",
        "        '''\n",
        "        pass\n",
        "\n",
        "    def filter(self, num_beams: int) -> Tuple[\"Beams\", \"Beams\"]:\n",
        "        '''\n",
        "        Returns:\n",
        "            best_beams: Beams\n",
        "                filtered version of self, containing all best `num_beams` which are also not terminated.\n",
        "\n",
        "            early_terminations: Beams\n",
        "                filtered version of self, containing all best `num_beams` which are also terminated.\n",
        "                i.e. the sum of lengths of these two should equal `num_beams`.\n",
        "        '''\n",
        "        pass\n",
        "\n",
        "    def print(self, title=\"Best completions\", max_print_chars=80) -> None:\n",
        "        '''\n",
        "        Prints out a set of sequences with their corresponding logitsums.\n",
        "        '''\n",
        "        if len(self.tokens) == 0:\n",
        "            return\n",
        "        table = Table(\"logitsum\", \"completion\", title=title)\n",
        "        for logprob_sum, tokens in zip(self.logprob_sums, self.tokens):\n",
        "            text = self.tokenizer.decode(tokens)\n",
        "            if len(repr(text)) > max_print_chars:\n",
        "                text = text[:int(0.3 * max_print_chars)] + \" ... \" + text[-int(0.7 * max_print_chars):]\n",
        "            table.add_row(f\"{logprob_sum:>8.3f}\", repr(text))\n",
        "        rprint(table)\n",
        "\n",
        "\n",
        "    def get_topk_non_repeating(\n",
        "        self,\n",
        "        logprobs: Float[Tensor, \"batch d_vocab\"],\n",
        "        no_repeat_ngram_size: Optional[int],\n",
        "        k: int,\n",
        "    ) -> Tuple[Float[Tensor, \"k\"], Int[Tensor, \"k\"]]:\n",
        "        '''\n",
        "        logprobs:\n",
        "            tensor of the log-probs for the next token\n",
        "        no_repeat_ngram_size:\n",
        "            size of ngram to avoid repeating\n",
        "        k:\n",
        "            number of top logits to return, for each beam in our collection\n",
        "\n",
        "        Returns:\n",
        "            equivalent to the output of `logprobs.topk(dim=-1)`, but makes sure\n",
        "            that no returned tokens would produce an ngram of size  `no_repeat_ngram_size`\n",
        "            which has already appeared in `self.tokens`.\n",
        "        '''\n",
        "        batch, seq_len = self.tokens.shape\n",
        "        neg_inf = t.tensor(-1.0e4).to(device)\n",
        "\n",
        "        # If completion isn't long enough for a repetition, or we have no restructions, just return topk\n",
        "        if (no_repeat_ngram_size is not None) and (seq_len > no_repeat_ngram_size-1):\n",
        "            # Otherwise, we need to check for ngram repetitions\n",
        "            # First, get the most recent `no_repeat_ngram_size-1` tokens\n",
        "            last_ngram_prefix = self.tokens[:, seq_len - (no_repeat_ngram_size-1):]\n",
        "            # Next, find all the tokens we're not allowed to generate (by going iterating through past ngrams and seeing if those ngram prefixes match the last one)\n",
        "            for i in range(seq_len - (no_repeat_ngram_size-1)):\n",
        "                ngrams = self.tokens[:, i:i+no_repeat_ngram_size] # (batch, ngram)\n",
        "                ngrams_are_repeated = (ngrams[:, :-1] == last_ngram_prefix).all(-1) # (batch,)\n",
        "                ngram_end_tokens = ngrams[:, [-1]] # (batch, 1)\n",
        "                # Fill logprobs with neginf wherever the ngrams are repeated\n",
        "                logprobs[range(batch), ngram_end_tokens] = t.where(\n",
        "                    ngrams_are_repeated,\n",
        "                    neg_inf,\n",
        "                    logprobs[range(batch), ngram_end_tokens],\n",
        "            )\n",
        "\n",
        "        # Finally, get our actual tokens\n",
        "        return logprobs.topk(k=k, dim=-1)\n",
        "\n",
        "\n",
        "@t.inference_mode()\n",
        "def beam_search(\n",
        "    self: TransformerSampler,\n",
        "    prompt: str,\n",
        "    num_return_sequences: int,\n",
        "    num_beams: int,\n",
        "    max_new_tokens: int,\n",
        "    no_repeat_ngram_size: Optional[int] = None,\n",
        "    verbose=False\n",
        ") -> List[Tuple[float, Tensor]]:\n",
        "    '''\n",
        "    Implements a beam search, by repeatedly performing the `generate` and `filter` steps (starting\n",
        "    from the initial prompt) until either of the two stopping criteria are met:\n",
        "\n",
        "        (1) we've generated `max_new_tokens` tokens, or\n",
        "        (2) we've generated `num_returns_sequences` terminating sequences.\n",
        "\n",
        "    To modularize this function, most of the actual complexity is in the Beams class,\n",
        "    in the `generate` and `filter` methods.\n",
        "    '''\n",
        "\n",
        "    assert num_return_sequences <= num_beams\n",
        "    self.model.eval()\n",
        "\n",
        "        pass"
      ]
    },
    {
      "cell_type": "markdown",
      "metadata": {
        "id": "EYDnDhhAfHOF"
      },
      "source": [
        "Example usage of the `Beams` class, and the `print` method (not the logitsums aren't necessarily accurate, this example is just an illustration):\n"
      ]
    },
    {
      "cell_type": "code",
      "execution_count": null,
      "metadata": {
        "id": "_dIOf4f9fHOF"
      },
      "outputs": [],
      "source": [
        "beams = Beams(\n",
        "    model,\n",
        "    tokenizer,\n",
        "    logprob_sums = t.tensor([-10.0, -15.0, -20.0]).to(device),\n",
        "    tokens = t.tensor([\n",
        "        [5661, 318, 262, 2368],\n",
        "        [5661, 318, 262, 1218],\n",
        "        [5661, 318, 262, 717],\n",
        "    ]).to(device)\n",
        ")\n",
        "\n",
        "beams.print()"
      ]
    },
    {
      "cell_type": "markdown",
      "metadata": {
        "id": "O7ndBImyfHOF"
      },
      "source": [
        "And here are some unit tests for your `generate` and `filter` methods:\n"
      ]
    },
    {
      "cell_type": "code",
      "execution_count": null,
      "metadata": {
        "id": "BxrABZUzfHOF"
      },
      "outputs": [],
      "source": [
        "print(\"Testing generate, without no_repeat_ngram_size argument:\")\n",
        "new_beams = beams.generate(toks_per_beam=2)\n",
        "new_beams.print()\n",
        "assert new_beams.logprobs_and_completions[0][1] == \"this is the third time\""
      ]
    },
    {
      "cell_type": "code",
      "execution_count": null,
      "metadata": {
        "id": "QD1Q7u74fHOG"
      },
      "outputs": [],
      "source": [
        "print(\"Testing generate, with no_repeat_ngram_size argument:\")\n",
        "\n",
        "bigram_beams = Beams(\n",
        "    model,\n",
        "    tokenizer,\n",
        "    logprob_sums = t.tensor([-0.0]).to(device),\n",
        "    tokens = t.tensor([[530, 734, 530, 734]]).to(device)\n",
        "    # tokens are \" one two one two\"\n",
        ")\n",
        "\n",
        "# With no_repeat_ngram_size=1, should not generate the token \" one\" or \" two\"\n",
        "new_bigram_beams = bigram_beams.generate(toks_per_beam=3, no_repeat_ngram_size=1)\n",
        "new_bigram_beams.print()\n",
        "assert all([not (completion[1].endswith(\" one\") or completion[1].endswith(\" two\")) for completion in new_bigram_beams.logprobs_and_completions])\n",
        "\n",
        "# With no_repeat_ngram_size=2, it can generate \" two\" (which it should), but not \" one\"\n",
        "new_bigram_beams = bigram_beams.generate(toks_per_beam=3, no_repeat_ngram_size=2)\n",
        "new_bigram_beams.print()\n",
        "assert all([not completion[1].endswith(\" one\") for completion in new_bigram_beams.logprobs_and_completions])\n",
        "assert any([not completion[1].endswith(\" two\") for completion in new_bigram_beams.logprobs_and_completions])\n",
        "\n",
        "print(\"All tests for `generate` passed!\")"
      ]
    },
    {
      "cell_type": "code",
      "execution_count": null,
      "metadata": {
        "id": "U0NG1ZaqfHOG"
      },
      "outputs": [],
      "source": [
        "logprob_sums = t.tensor([-1.0, -2.0]).to(device)\n",
        "tokens = t.tensor([\n",
        "    [19485, 13],\n",
        "    [19485, tokenizer.eos_token_id]\n",
        "]).to(device)\n",
        "\n",
        "beams_with_eos = Beams(model, tokenizer, logprob_sums, tokens)\n",
        "best_beams, early_terminations = beams_with_eos.filter(2)\n",
        "\n",
        "t.testing.assert_close(best_beams.logprob_sums, logprob_sums[[0]])\n",
        "t.testing.assert_close(best_beams.tokens, tokens[[0]])\n",
        "\n",
        "assert early_terminations.logprobs_and_completions == [(-2.0, \"Stop\" + tokenizer.eos_token)]\n",
        "\n",
        "print(\"All tests for `filter` passed!\")"
      ]
    },
    {
      "cell_type": "markdown",
      "metadata": {
        "id": "Shua7jeTfHOG"
      },
      "source": [
        "<details>\n",
        "<summary>Solutions (for <code>generate</code> and <code>filter</code>)</summary>\n",
        "\n",
        "```python\n",
        "def generate(self, toks_per_beam: int, no_repeat_ngram_size: Optional[int] = None) -> \"Beams\":\n",
        "    '''\n",
        "    Starting from the current set of beams (which has length `num_beams`), returns a new\n",
        "    set of `num_beams * toks_per_beam`, containing the best `toks_per_beam` continuations for each\n",
        "    of the original beams.\n",
        "\n",
        "    Optional argument `no_repeat_ngram_size` means your model won't generate any sequences with\n",
        "    a repeating n-gram of this length (don't worry about implementing this until later).\n",
        "    '''\n",
        "    # SOLUTION\n",
        "\n",
        "    # Get the output logprobs for the next token (for every sequence in current beams)\n",
        "    logprobs: Tensor = self.model(self.tokens)[:, -1, :].log_softmax(-1)\n",
        "\n",
        "    # Get the top `toks_per_beam` tokens for each sequence\n",
        "    topk_logprobs, topk_tokenIDs = logprobs.topk(k=toks_per_beam)\n",
        "\n",
        "    # Get all of the new possible beams, via einops operations\n",
        "    #   Here, we're effectively flattening out the batch dimension and k dimension, to give us tensors\n",
        "    #   with every possible combination of (original sequence, new token) pairs.)\n",
        "    new_logprob_sums = sum([\n",
        "        einops.repeat(self.logprob_sums, \"batch -> batch k\", k=toks_per_beam),\n",
        "        einops.rearrange(topk_logprobs, \"batch k -> (batch k)\")\n",
        "    ])\n",
        "    new_tokens = t.concat([\n",
        "        einops.repeat(self.tokens, \"batch seq -> (batch k) seq\", k=toks_per_beam),\n",
        "        einops.rearrange(topk_tokenIDs, \"batch k -> (batch k) 1\")\n",
        "    ], dim=-1)\n",
        "    return self.new_beams(new_logprob_sums, new_tokens)\n",
        "\n",
        "\n",
        "def filter(self, num_beams: int) -> Tuple[\"Beams\", \"Beams\"]:\n",
        "    '''\n",
        "    Returns:\n",
        "        best_beams: Beams\n",
        "            filtered version of self, containing all best `num_beams` which are also not terminated.\n",
        "\n",
        "        early_terminations: Beams\n",
        "            filtered version of self, containing all best `num_beams` which are also terminated.\n",
        "            i.e. the sum of lengths of these two should equal `num_beams`.\n",
        "    '''\n",
        "    # SOLUTION\n",
        "\n",
        "    # Get the indices of top `num_beams` beams\n",
        "    top_beam_indices = self.logprob_sums.topk(k=num_beams, dim=0).indices.tolist()\n",
        "    # Get the indices of terminated sequences\n",
        "    new_tokens = self.tokens[:, -1]\n",
        "    terminated_indices = t.nonzero(new_tokens == self.tokenizer.eos_token_id)\n",
        "\n",
        "    # Get the indices of the `num_beams` best sequences (some terminated, some not terminated)\n",
        "    best_continuing = [i for i in top_beam_indices if i not in terminated_indices]\n",
        "    best_terminated = [i for i in top_beam_indices if i in terminated_indices]\n",
        "\n",
        "    # Return the beam objects from these indices\n",
        "    best_beams_continuing = self.new_beams(self.logprob_sums[best_continuing], self.tokens[best_continuing])\n",
        "    best_beams_terminated = self.new_beams(self.logprob_sums[best_terminated], self.tokens[best_terminated])\n",
        "    return best_beams_continuing, best_beams_terminated\n",
        "```\n",
        "\n",
        "</details>\n"
      ]
    },
    {
      "cell_type": "markdown",
      "metadata": {
        "id": "jrXHl0GsfHOG"
      },
      "source": [
        "Once you've passed both these unit tests, you can try implementing the full beam search function. It should create a `Beams` object from the initial prompt, and then repeatedly call `generate` and `filter` until the stopping criteria are met.\n"
      ]
    },
    {
      "cell_type": "code",
      "execution_count": null,
      "metadata": {
        "id": "2Uno10GRfHOG"
      },
      "outputs": [],
      "source": [
        "TransformerSampler.beam_search = beam_search\n",
        "\n",
        "sampler = TransformerSampler(model, tokenizer)\n",
        "\n",
        "prompt = \"The ships hung in the sky in much the same way that\"\n",
        "orig_len = len(tokenizer.encode(prompt))\n",
        "\n",
        "final_logitsums_and_completions = sampler.beam_search(\n",
        "    prompt=prompt,\n",
        "    num_return_sequences=3,\n",
        "    num_beams=40,\n",
        "    max_new_tokens=60,\n",
        "    no_repeat_ngram_size=2,\n",
        "    verbose=False\n",
        ")\n",
        "\n",
        "# Print all the best output\n",
        "for logprob_sum, text in final_logitsums_and_completions:\n",
        "    avg_logprob_as_prob = t.tensor(logprob_sum / (len(tokenizer.encode(text)) - orig_len)).exp().item()\n",
        "    print(\"=\" * 25 + f\" Avg logprob (as probability) = {avg_logprob_as_prob:.3f} \" + \"=\" * 25)\n",
        "    rprint(\"Best output:\\n\\n[bold dark_orange]\" + text)"
      ]
    },
    {
      "cell_type": "markdown",
      "metadata": {
        "id": "THgjSPShfHOG"
      },
      "source": [
        "<details>\n",
        "<summary>Solution (full)</summary>\n",
        "\n",
        "A solution for the class method `get_topk_non_repeating`:\n",
        "\n",
        "```python\n",
        "def get_topk_non_repeating(\n",
        "    self,\n",
        "    logprobs: Float[Tensor, \"batch d_vocab\"],\n",
        "    no_repeat_ngram_size: Optional[int],\n",
        "    k: int,\n",
        ") -> Tuple[Float[Tensor, \"k\"], Int[Tensor, \"k\"]]:\n",
        "    '''\n",
        "    logprobs:\n",
        "        tensor of the log-probs for the next token\n",
        "    no_repeat_ngram_size:\n",
        "        size of ngram to avoid repeating\n",
        "    k:\n",
        "        number of top logits to return, for each beam in our collection\n",
        "\n",
        "    Returns:\n",
        "        equivalent to the output of `logprobs.topk(dim=-1)`, but makes sure\n",
        "        that no returned tokens would produce an ngram of size  `no_repeat_ngram_size`\n",
        "        which has already appeared in `self.tokens`.\n",
        "    '''\n",
        "    batch, seq_len = self.tokens.shape\n",
        "    neg_inf = t.tensor(-1.0e4).to(device)\n",
        "\n",
        "    # If completion isn't long enough for a repetition, or we have no restructions, just return topk\n",
        "    if (no_repeat_ngram_size is not None) and (seq_len > no_repeat_ngram_size-1):\n",
        "        # Otherwise, we need to check for ngram repetitions\n",
        "        # First, get the most recent `no_repeat_ngram_size-1` tokens\n",
        "        last_ngram_prefix = self.tokens[:, seq_len - (no_repeat_ngram_size-1):]\n",
        "        # Next, find all the tokens we're not allowed to generate (by going iterating through past ngrams and seeing if those ngram prefixes match the last one)\n",
        "        for i in range(seq_len - (no_repeat_ngram_size-1)):\n",
        "            ngrams = self.tokens[:, i:i+no_repeat_ngram_size] # (batch, ngram)\n",
        "            ngrams_are_repeated = (ngrams[:, :-1] == last_ngram_prefix).all(-1) # (batch,)\n",
        "            ngram_end_tokens = ngrams[:, [-1]] # (batch, 1)\n",
        "            # Fill logprobs with neginf wherever the ngrams are repeated\n",
        "            logprobs[range(batch), ngram_end_tokens] = t.where(\n",
        "                ngrams_are_repeated,\n",
        "                neg_inf,\n",
        "                logprobs[range(batch), ngram_end_tokens],\n",
        "        )\n",
        "\n",
        "    # Finally, get our actual tokens\n",
        "    return logprobs.topk(k=k, dim=-1)\n",
        "```\n",
        "\n",
        "and for the main function:\n",
        "\n",
        "```python\n",
        "@t.inference_mode()\n",
        "def beam_search(\n",
        "    self: TransformerSampler,\n",
        "    prompt: str,\n",
        "    num_return_sequences: int,\n",
        "    num_beams: int,\n",
        "    max_new_tokens: int,\n",
        "    no_repeat_ngram_size: Optional[int] = None,\n",
        "    verbose=False\n",
        ") -> List[Tuple[float, Tensor]]:\n",
        "    '''\n",
        "    Implements a beam search, by repeatedly performing the `generate` and `filter` steps (starting\n",
        "    from the initial prompt) until either of the two stopping criteria are met:\n",
        "\n",
        "        (1) we've generated `max_new_tokens` tokens, or\n",
        "        (2) we've generated `num_returns_sequences` terminating sequences.\n",
        "\n",
        "    To modularize this function, most of the actual complexity is in the Beams class,\n",
        "    in the `generate` and `filter` methods.\n",
        "    '''\n",
        "\n",
        "    assert num_return_sequences <= num_beams\n",
        "    self.model.eval()\n",
        "\n",
        "    # SOLUTION\n",
        "    tokens = self.tokenizer.encode(prompt, return_tensors=\"pt\").to(device)\n",
        "\n",
        "    # List for final beams to return (and early terminations)\n",
        "    final_logprobs_and_completions: List[Tuple[float, str]] = []\n",
        "    # Keep track of all best beams after each step\n",
        "    best_beams = Beams(self.model, self.tokenizer, t.tensor([0.0]).to(device), tokens)\n",
        "\n",
        "    for n in tqdm(range(max_new_tokens)):\n",
        "\n",
        "        # Generation step\n",
        "        best_beams = best_beams.generate(toks_per_beam=num_beams, no_repeat_ngram_size=no_repeat_ngram_size)\n",
        "\n",
        "        # Filtering step\n",
        "        best_beams, best_beams_terminated = best_beams.filter(num_beams=num_beams)\n",
        "        final_logprobs_and_completions.extend(best_beams_terminated.logprobs_and_completions)\n",
        "\n",
        "        # Print output\n",
        "        if verbose:\n",
        "            best_beams.print()\n",
        "\n",
        "        # Check stopping condition\n",
        "        if len(final_logprobs_and_completions) >= num_return_sequences:\n",
        "            return final_logprobs_and_completions[:num_return_sequences]\n",
        "\n",
        "    final_logprobs_and_completions.extend(best_beams.logprobs_and_completions)\n",
        "    final_logprobs_and_completions = final_logprobs_and_completions[:num_return_sequences]\n",
        "    return final_logprobs_and_completions\n",
        "```\n",
        "\n",
        "</details>\n"
      ]
    },
    {
      "cell_type": "markdown",
      "metadata": {
        "id": "J8FpquaGfHOH"
      },
      "source": [
        "## Caching\n"
      ]
    },
    {
      "cell_type": "markdown",
      "metadata": {
        "id": "_myyOt5hfHOH"
      },
      "source": [
        "*This section is also designed to be challenging, and take quite some time. There are many different ways to solve it, and you're expected to try and find your own way (you should think about this for a while before looking at the suggestions in the dropdowns). Additionally, you might not find it as interesting as some of the other sections. In this case, and if you have a lot of extra time, you might want to start on the \"building BERT\" exercises from this chapter.*\n"
      ]
    },
    {
      "cell_type": "markdown",
      "metadata": {
        "id": "vu83LC_4fHOH"
      },
      "source": [
        "### How can caching help us?\n",
        "\n",
        "The text generation we've done so far is needlessly re-computing certain values, which is very noticeable when you try to generate longer sequences.\n",
        "\n",
        "Suppose you're generating text, and you've already run GPT on the sentence \"My life motto:\". Now you want to run the model on the sentence \"My life motto: Always\". Which computations from the first sentence can you reuse?\n",
        "\n",
        "<details>\n",
        "<summary>Answer</summary>\n",
        "\n",
        "At each attention layer, the only things the attention layer needs from the previous sequence positions are the key and value vectors. This is explained in the following diagram:\n",
        "\n",
        "<img src=\"https://raw.githubusercontent.com/callummcdougall/computational-thread-art/master/example_images/misc/tl-cache.png\" width=\"600\">\n",
        "\n",
        "</details>\n"
      ]
    },
    {
      "cell_type": "markdown",
      "metadata": {
        "id": "f7xGpbbZfHOH"
      },
      "source": [
        "### Exercise - implement caching\n",
        "\n",
        "```c\n",
        "Difficulty: 🔴🔴🔴🔴🔴\n",
        "Importance: 🔵⚪⚪⚪⚪\n",
        "\n",
        "You are expected to spend well over an hour on this exercise, if you choose to do it.\n",
        "```\n",
        "\n",
        "Modify your GPT-2 to optionally use a cache. When you run your GPT on `\"My life motto:\"`, it should store the necessary values in the cache. Then in the next forward pass with just `\" Always\"` as input, it should load the cached values instead of recomputing them (and update the cache). This only needs to work with a single input sequence (batch size of 1), and you can assume that after the first forward pass, the input will be just one token.\n",
        "\n",
        "The design of the cache is completely up to you - discuss possible designs with your partner before writing code. It should be possible to have only one GPT2 instance and many different cache instances at one time. Imagine that you want to use one instance to serve multiple users submitting requests for text generation like in [AI Dungeon](https://aidungeon.io/).\n",
        "\n",
        "You'll also need to rewrite parts of your `DemoTransformer` code, in order to get this to work. The tests have been built to accommodate modules which return their output as the first element in a tuple (i.e. `(output, cache)`) rather than just returning the output, so you should use the tests to verify that your modules still work as expected.\n",
        "\n",
        "Some example considerations:\n",
        "\n",
        "* Which GPT-2 classes need to interact with the cache?\n",
        "    * Will you need to change the positional embedding, and if so then how?\n",
        "* Should the cache be mutable and be updated in place, or does updating actually just create a separate instance?\n",
        "    * *(Hint here - think about how you might use the cache during beam search.)*\n",
        "* Is it possible for other programmers to incorrectly use your cache? Is there a way to prevent this failure mode or at least detect this and complain loudly?\n"
      ]
    },
    {
      "cell_type": "markdown",
      "metadata": {
        "id": "vq-Sx8apfHOH"
      },
      "source": [
        "<details>\n",
        "<summary>Cache implentation (example)</summary>\n",
        "\n",
        "This KeyValueCache object is structured as just a fancy tensor (it inherits all the methods from Tensor). The main difference is that it has a few extra helper methods, e.g. constructing an empty cache from a Config object.\n",
        "\n",
        "There are other ways you could do this, e.g. having your `KeyValueCache` class contain list of `KeyValueCacheEntry` objects (where each of these corresponds to a different layer).\n",
        "\n",
        "```python\n",
        "# Define a type for a single layer's cache entry (useful for type checking in later functions)\n",
        "KeyValueCacheTensor = Float[Tensor, \"2 batch seq_len n_heads d_head\"]\n",
        "\n",
        "class KeyValueCache(Tensor):\n",
        "    '''\n",
        "    This class holds tensors of key and value vectors, to be used for caching.\n",
        "\n",
        "    If we define it using cfg and batch then it's initialized as empty, but\n",
        "    we can also define it from kv_cache_entries.\n",
        "    '''\n",
        "    @classmethod\n",
        "    def new_empty(cls, cfg: Config, batch: int = 1) -> \"KeyValueCache\":\n",
        "        '''\n",
        "        Doing a forward pass on a cache created in this way indicates \"we don't\n",
        "        yet have a cache, but we want this forward pass to return a cache\".\n",
        "        Whereas using cache=None in a forward pass indicates we don't want to\n",
        "        return a cache.\n",
        "        '''\n",
        "        shape = (cfg.n_layers, 2, batch, 0, cfg.n_heads, cfg.d_head)\n",
        "        return cls(*shape).to(device)\n",
        "\n",
        "    # Define a handful of properties, so they can be referenced directly rather than\n",
        "    # indexing (which is more likely to lead to mistakes)\n",
        "\n",
        "    @property\n",
        "    def k(self) -> Tensor:\n",
        "        return self[:, 0]\n",
        "\n",
        "    @property\n",
        "    def v(self) -> Tensor:\n",
        "        return self[:, 1]\n",
        "\n",
        "    @property\n",
        "    def batch(self) -> int:\n",
        "        return self.shape[2]\n",
        "    \n",
        "    @property\n",
        "    def seq_len(self) -> int:\n",
        "        return self.shape[3]\n",
        "\n",
        "\n",
        "# Example implementation:\n",
        "cfg = model.cfg\n",
        "batch = 6\n",
        "kv_cache = KeyValueCache.new_empty(cfg, batch)\n",
        "\n",
        "print(f\"Shape of all kv-cache = {tuple(kv_cache.shape)}\")\n",
        "print(f\"Shape of just k-cache = {tuple(kv_cache.k.shape)}\")\n",
        "for kv_cache_entry in kv_cache:\n",
        "    print(f\"Shape of cache entry for one layer = {tuple(kv_cache_entry.shape)}\")\n",
        "    break\n",
        "print(f\"Batch size = {kv_cache.batch}\")\n",
        "print(f\"Current sequence length = {kv_cache.seq_len}\")\n",
        "```\n",
        "\n",
        "</details>\n",
        "\n",
        "<details>\n",
        "<summary>New <code>DemoTransformer</code> components (and testing)</summary>\n",
        "\n",
        "```python\n",
        "# Define new model parts where necessary, and create a new model & test it\n",
        "# Note that sometimes our modules return a tuple of (tensor output, cache) rather than just output. The\n",
        "# tests have been built to accommodate this.\n",
        "\n",
        "\n",
        "class PosEmbed(nn.Module):\n",
        "    def __init__(self, cfg: Config):\n",
        "        super().__init__()\n",
        "        self.cfg = cfg\n",
        "        self.W_pos = nn.Parameter(t.empty((cfg.n_ctx, cfg.d_model)))\n",
        "        nn.init.normal_(self.W_pos, std=self.cfg.init_range)\n",
        "\n",
        "    def forward(\n",
        "        self,\n",
        "        tokens: Int[Tensor, \"batch position\"],\n",
        "        past_kv_pos_offset: int = 0\n",
        "    ) -> Float[Tensor, \"batch position d_model\"]:\n",
        "        \n",
        "        # SOLUTION\n",
        "        batch, seq_len = tokens.shape\n",
        "        return einops.repeat(\n",
        "            self.W_pos[past_kv_pos_offset: seq_len+past_kv_pos_offset],\n",
        "            \"seq d_model -> batch seq d_model\",\n",
        "            batch=batch\n",
        "        )\n",
        "\n",
        "\n",
        "class Attention(nn.Module):\n",
        "    IGNORE: Float[Tensor, \"\"]\n",
        "\n",
        "    def __init__(self, cfg: Config):\n",
        "        super().__init__()\n",
        "        self.cfg = cfg\n",
        "        self.W_Q = nn.Parameter(t.empty((cfg.n_heads, cfg.d_model, cfg.d_head)))\n",
        "        self.W_K = nn.Parameter(t.empty((cfg.n_heads, cfg.d_model, cfg.d_head)))\n",
        "        self.W_V = nn.Parameter(t.empty((cfg.n_heads, cfg.d_model, cfg.d_head)))\n",
        "        self.W_O = nn.Parameter(t.empty((cfg.n_heads, cfg.d_head, cfg.d_model)))\n",
        "        self.b_Q = nn.Parameter(t.zeros((cfg.n_heads, cfg.d_head)))\n",
        "        self.b_K = nn.Parameter(t.zeros((cfg.n_heads, cfg.d_head)))\n",
        "        self.b_V = nn.Parameter(t.zeros((cfg.n_heads, cfg.d_head)))\n",
        "        self.b_O = nn.Parameter(t.zeros((cfg.d_model)))\n",
        "        nn.init.normal_(self.W_Q, std=self.cfg.init_range)\n",
        "        nn.init.normal_(self.W_K, std=self.cfg.init_range)\n",
        "        nn.init.normal_(self.W_V, std=self.cfg.init_range)\n",
        "        nn.init.normal_(self.W_O, std=self.cfg.init_range)\n",
        "        self.register_buffer(\"IGNORE\", t.tensor(-1e5, dtype=t.float32, device=device))\n",
        "\n",
        "    def forward(\n",
        "        self,\n",
        "        normalized_resid_pre: Float[Tensor, \"batch posn d_model\"],\n",
        "        kv_cache_entry: Optional[KeyValueCacheTensor] = None,\n",
        "    ) -> Tuple[\n",
        "        Float[Tensor, \"batch posn d_model\"],\n",
        "        Optional[KeyValueCacheTensor]\n",
        "    ]:\n",
        "        '''\n",
        "        Returns the result of applying attention layer to normlized_resid_pre, as well as\n",
        "        the new cached key and value vectors (which we get from concatenating the old cached\n",
        "        ones with the new key and value vectors).\n",
        "        '''\n",
        "        \n",
        "        # SOLUTION\n",
        "\n",
        "        # Calculate the new query, key and value vectors\n",
        "        q = einops.einsum(\n",
        "            normalized_resid_pre, self.W_Q,\n",
        "            \"batch posn d_model, nheads d_model d_head -> batch posn nheads d_head\"\n",
        "        ) + self.b_Q\n",
        "        k = einops.einsum(\n",
        "            normalized_resid_pre, self.W_K,\n",
        "            \"batch posn d_model, nheads d_model d_head -> batch posn nheads d_head\"\n",
        "        ) + self.b_K\n",
        "        v = einops.einsum(\n",
        "            normalized_resid_pre, self.W_V,\n",
        "            \"batch posn d_model, nheads d_model d_head -> batch posn nheads d_head\"\n",
        "        ) + self.b_V\n",
        "\n",
        "        # If cache_entry is not None, this means we use the previous key and value vectors\n",
        "        # Also we'll need to get a new cache entry which will be used later to construct a new cache\n",
        "        if kv_cache_entry is not None:\n",
        "            k = t.concat([kv_cache_entry[0], k], dim=1)\n",
        "            v = t.concat([kv_cache_entry[1], v], dim=1)\n",
        "            kv_cache_entry = t.stack([k, v])\n",
        "\n",
        "        # Calculate attention scores, then scale and mask, and apply softmax to get probabilities\n",
        "        attn_scores = einops.einsum(\n",
        "            q, k,\n",
        "            \"batch posn_Q nheads d_head, batch posn_K nheads d_head -> batch nheads posn_Q posn_K\"\n",
        "        )\n",
        "        attn_scores_masked = self.apply_causal_mask(attn_scores / self.cfg.d_head ** 0.5)\n",
        "        attn_pattern = attn_scores_masked.softmax(-1)\n",
        "\n",
        "        # Take weighted sum of value vectors, according to attention probabilities\n",
        "        z = einops.einsum(\n",
        "            v, attn_pattern,\n",
        "            \"batch posn_K nheads d_head, batch nheads posn_Q posn_K -> batch posn_Q nheads d_head\"\n",
        "        )\n",
        "\n",
        "        # Calculate output (by applying matrix W_O and summing over heads, then adding bias b_O)\n",
        "        out = einops.einsum(\n",
        "            z, self.W_O,\n",
        "            \"batch posn_Q nheads d_head, nheads d_head d_model -> batch posn_Q d_model\"\n",
        "        ) + self.b_O\n",
        "\n",
        "        return out, kv_cache_entry\n",
        "\n",
        "    def apply_causal_mask(\n",
        "        self, attn_scores: Float[Tensor, \"batch n_heads query_pos key_pos\"]\n",
        "    ) -> Float[Tensor, \"batch n_heads query_pos key_pos\"]:\n",
        "        '''\n",
        "        Here, attn_scores have shape (batch, n_heads, query_pos, key_pos), where query_pos represents the\n",
        "        new (non-cached) positions, and key_pos represent all the positions (cached and non-cached).\n",
        "\n",
        "        So when we create our mask, the query indices and key indices will both go up to the same value\n",
        "        (the full sequence length), but the query indices will start at >0.\n",
        "        '''\n",
        "        new_seq_len, full_seq_len = attn_scores.shape[-2:]\n",
        "        assert new_seq_len <= full_seq_len\n",
        "        q_posn = einops.repeat(attn_scores.new_tensor(range(full_seq_len-new_seq_len, full_seq_len)), \"q -> q k\", k=full_seq_len)\n",
        "        k_posn = einops.repeat(attn_scores.new_tensor(range(full_seq_len)), \"k -> q k\", q=new_seq_len)\n",
        "        mask = q_posn < k_posn\n",
        "        attn_scores = attn_scores.masked_fill(mask, self.IGNORE)\n",
        "        return attn_scores\n",
        "\n",
        "\n",
        "class TransformerBlock(nn.Module):\n",
        "    def __init__(self, cfg: Config):\n",
        "        super().__init__()\n",
        "        self.cfg = cfg\n",
        "        self.ln1 = LayerNorm(cfg)\n",
        "        self.attn = Attention(cfg)\n",
        "        self.ln2 = LayerNorm(cfg)\n",
        "        self.mlp = MLP(cfg)\n",
        "\n",
        "    def forward(\n",
        "        self,\n",
        "        resid_pre: Float[Tensor, \"batch position d_model\"],\n",
        "        kv_cache_entry: Optional[KeyValueCacheTensor] = None,\n",
        "    ) -> Float[Tensor, \"batch position d_model\"]:\n",
        "\n",
        "        # SOLUTION\n",
        "        attn_out, kv_cache_entry = self.attn(self.ln1(resid_pre), kv_cache_entry)\n",
        "        resid_mid = attn_out + resid_pre\n",
        "        resid_post = self.mlp(self.ln2(resid_mid)) + resid_mid\n",
        "        return resid_post, kv_cache_entry\n",
        "\n",
        "\n",
        "\n",
        "class DemoTransformer(nn.Module):\n",
        "    def __init__(self, cfg: Config):\n",
        "        super().__init__()\n",
        "        self.cfg = cfg\n",
        "        self.embed = Embed(cfg)\n",
        "        self.pos_embed = PosEmbed(cfg)\n",
        "        self.blocks = nn.ModuleList([TransformerBlock(cfg) for _ in range(cfg.n_layers)])\n",
        "        self.ln_final = LayerNorm(cfg)\n",
        "        self.unembed = Unembed(cfg)\n",
        "\n",
        "    def forward(\n",
        "        self,\n",
        "        tokens: Int[Tensor, \"batch seq_pos\"],\n",
        "        kv_cache: Optional[KeyValueCache] = None\n",
        "    ) -> Float[Tensor, \"batch position d_vocab\"]:\n",
        "        \n",
        "        using_kv_cache = kv_cache is not None\n",
        "\n",
        "        if using_kv_cache:\n",
        "            # If using kv_cache, then we only need to pass forward the newest tokens\n",
        "            # Remember to add positional offset!\n",
        "            n_cached_tokens = kv_cache.seq_len\n",
        "            tokens = tokens[:, n_cached_tokens:]\n",
        "            residual = self.embed(tokens) + self.pos_embed(tokens, n_cached_tokens)\n",
        "        else:\n",
        "            # If not using cache, turn it into a list of None's (so we can iterate through it)\n",
        "            kv_cache = [None for _ in range(self.cfg.n_layers)]\n",
        "            residual = self.embed(tokens) + self.pos_embed(tokens)\n",
        "        \n",
        "        # Apply all layers, and create a (new) kv_cache from the key & value vectors\n",
        "        new_kv_cache_entries: List[KeyValueCacheTensor] = []\n",
        "        for block, kv_cache_entry in zip(self.blocks, kv_cache):\n",
        "            residual, kv_cache_entry = block(residual, kv_cache_entry)\n",
        "            if using_kv_cache: new_kv_cache_entries.append(kv_cache_entry)\n",
        "        \n",
        "        logits = self.unembed(self.ln_final(residual))\n",
        "        \n",
        "        if using_kv_cache:\n",
        "            return logits, KeyValueCache(t.stack(new_kv_cache_entries))\n",
        "        else:\n",
        "            return logits, None\n",
        "\n",
        "\n",
        "tokens = reference_gpt2.to_tokens(reference_text).to(device)\n",
        "logits, cache = reference_gpt2.run_with_cache(tokens)\n",
        "\n",
        "rand_int_test(PosEmbed, [2, 4])\n",
        "load_gpt2_test(PosEmbed, reference_gpt2.pos_embed, tokens)\n",
        "rand_float_test(Attention, [2, 4, 768])\n",
        "load_gpt2_test(Attention, reference_gpt2.blocks[0].attn, cache[\"normalized\", 0, \"ln1\"])\n",
        "rand_float_test(TransformerBlock, [2, 4, 768])\n",
        "load_gpt2_test(TransformerBlock, reference_gpt2.blocks[0], cache[\"resid_pre\", 0])\n",
        "rand_int_test(DemoTransformer, [2, 4])\n",
        "load_gpt2_test(DemoTransformer, reference_gpt2, tokens)\n",
        "```\n",
        "\n",
        "</details>\n",
        "\n",
        "<details>\n",
        "<summary>New sampling function</summary>\n",
        "\n",
        "```python\n",
        "@t.inference_mode()\n",
        "def sample_with_cache(\n",
        "    self: TransformerSampler,\n",
        "    prompt: str,\n",
        "    max_tokens_generated=100,\n",
        "    kv_cache: Optional[KeyValueCache] = None,\n",
        "    verbose=False,\n",
        "    seed: Optional[int] = None,\n",
        "    **kwargs\n",
        ") -> str:\n",
        "    \n",
        "    # SOLUTION\n",
        "    self.model.eval()\n",
        "    input_ids = self.tokenizer.encode(prompt, return_tensors=\"pt\").to(device)[0]\n",
        "    if seed is not None:\n",
        "        np.random.seed(seed)\n",
        "        t.manual_seed(seed)\n",
        "\n",
        "    for i in tqdm(range(max_tokens_generated)):\n",
        "        # Get new logits (make sure we don't pass in more tokens than the model's context length)\n",
        "        logits, kv_cache = self.model(input_ids[None, -self.cfg.n_ctx:], kv_cache)\n",
        "        # We only take logits for the last token, because this is what we're sampling\n",
        "        logits = logits[0, -1]\n",
        "        # Get next token (as a tensor of size (1, 1) so we can concat it to input_ids)\n",
        "        next_token = t.tensor([TransformerSampler.sample_next_token(input_ids, logits, **kwargs)], device=device)\n",
        "        # Create new input ids string, with shape (1, old_seq_len + 1)\n",
        "        input_ids = t.cat([input_ids, next_token], dim=-1)\n",
        "        # Print out results, if required\n",
        "        if verbose:\n",
        "            print(self.tokenizer.decode(input_ids), end=\"\\r\")\n",
        "        # If our new token was the end-of-text token, stop\n",
        "        if next_token == getattr(self.tokenizer, \"eos_token_id\", None):\n",
        "            break\n",
        "    \n",
        "    return self.tokenizer.decode(input_ids)\n",
        "\n",
        "\n",
        "TransformerSampler.sample = sample_with_cache\n",
        "```\n",
        "</details>\n",
        "\n",
        "<details>\n",
        "<summary>Code to verify that the same output is being produced by cache and no-cache versions (and to compare speeds)</summary>\n",
        "\n",
        "```python\n",
        "device = t.device(\"cuda\") # can also try \"cpu\"\n",
        "\n",
        "model = DemoTransformer(Config()).to(device)\n",
        "model.load_state_dict(reference_gpt2.state_dict(), strict=False);\n",
        "\n",
        "initial_text = \"Eliezer Shlomo Yudkowsky (born September 11, 1979) is an American decision and artificial intelligence (AI) theorist and writer, best known for\"\n",
        "# input_ids = tokenizer.encode(initial_text, return_tensors=\"pt\").squeeze()\n",
        "\n",
        "sampler = TransformerSampler(model, tokenizer)\n",
        "\n",
        "# Run the noncached version\n",
        "t0 = time.time()\n",
        "text = sampler.sample(\n",
        "    initial_text,\n",
        "    temperature=0.7,\n",
        "    top_p=0.95,\n",
        "    seed=0,\n",
        ")\n",
        "print(f\"Time taken (without cache): {time.time() - t0:.2f} seconds\")\n",
        "rprint(f\"Model output:\\n\\n[bold dark_orange]{text}[/]\")\n",
        "\n",
        "# Run the cached version\n",
        "t0 = time.time()\n",
        "text_with_cache = sampler.sample(\n",
        "    initial_text,\n",
        "    temperature=0.7,\n",
        "    top_p=0.95,\n",
        "    seed=0,\n",
        "    kv_cache=KeyValueCache.new_empty(sampler.cfg)\n",
        ")\n",
        "print(f\"Time taken (with cache): {time.time() - t0:.2f} seconds\")\n",
        "rprint(f\"Model output:\\n\\n[bold dark_orange]{text_with_cache}[/]\")\n",
        "\n",
        "# # Check they are the same\n",
        "assert text == text_with_cache, \"Your outputs are different, meaning you've probably made a mistake in your cache implementation (or failed to use random seeds).\"\n",
        "print(\"Tests passed!\")\n",
        "```\n",
        "\n",
        "</details>\n"
      ]
    },
    {
      "cell_type": "markdown",
      "metadata": {
        "id": "FhYU3O6sfHOH"
      },
      "source": [
        "You may find that your cache implementation provides a modest speedup, but probably not close to the `seq_len`-factor speedup you'd expect from the fact that you only compute one additional token at each step rather than all of them. Why is this? The answer is that, much like everything to do with computational and memory costs in deep learning, it's not so simple. There are a host of different factors which might be bottlenecking our model's forward pass speed. If you try this on the CPU, you should get a much more noticeable speedup.\n",
        "\n",
        "For a bit more on these topics, see [here](https://kipp.ly/blog/transformer-inference-arithmetic/#kv-cache).\n"
      ]
    },
    {
      "cell_type": "markdown",
      "metadata": {
        "id": "0S_uxUzRfHOH"
      },
      "source": [
        "## Bonus - cached beam search\n",
        "\n",
        "Can you modify your beam search function to use caching?\n",
        "\n",
        "Depending on how you implemented your cache earlier, you might find that a different form of caching is better suited to beam search.\n",
        "\n",
        "Again, we've provided an example implementation in a dropdown below, which is based on the cache implementation above and the previous solution for `beam_search`.\n",
        "\n",
        "<details>\n",
        "<summary>Cached beam search function</summary>\n",
        "\n",
        "As we touched on earlier, thanks to our modular code, not a lot needs to be changed when adding cache support.\n",
        "\n",
        "```python\n",
        "@dataclass\n",
        "class Beams:\n",
        "    '''Class to store beams during beam search.'''\n",
        "    model: DemoTransformer\n",
        "    tokenizer: GPT2TokenizerFast\n",
        "    logprob_sums: Float[Tensor, \"batch\"]\n",
        "    tokens: Int[Tensor, \"batch seq\"]\n",
        "    kv_cache: Optional[KeyValueCache] = None\n",
        "\n",
        "    def new_beams(self, logprob_sums, tokens, kv_cache) -> \"Beams\":\n",
        "        '''Creates a new Beams object with the same model and tokenizer.'''\n",
        "        return Beams(self.model, self.tokenizer, logprob_sums, tokens, kv_cache)\n",
        "\n",
        "    def __getitem__(self, idx) -> \"Beams\":\n",
        "        '''Helpful function allowing you to take a slice of the beams object along the batch dimension.'''\n",
        "        return self.new_beams(\n",
        "            self.logprob_sums[idx],\n",
        "            self.tokens[idx],\n",
        "            self.kv_cache[:, :, idx] if self.kv_cache is not None else None\n",
        "        )\n",
        "\n",
        "    @property\n",
        "    def logprobs_and_completions(self) -> List[Tuple[float, str]]:\n",
        "        '''Returns self as a list of logprob sums and completions (useful for getting final output).'''\n",
        "        return [\n",
        "            (logprob_sum.item(), self.tokenizer.decode(tokens))\n",
        "            for (logprob_sum, tokens) in zip(self.logprob_sums, self.tokens)\n",
        "        ]\n",
        "    \n",
        "\n",
        "    def generate(self, new_beams: int, no_repeat_ngram_size: Optional[int] = None) -> \"Beams\":\n",
        "        '''\n",
        "        Starting from the current set of beams (which has length `num_beams`), returns a new\n",
        "        set of `num_beams * new_beams`, containing the best `new_beams` continuations for each\n",
        "        of the original beams.\n",
        "\n",
        "        Optional argument `no_repeat_ngram_size` means your model won't generate any sequences with\n",
        "        a repeating n-gram of this length (don't worry about implementing this until later).\n",
        "        '''\n",
        "        # SOLUTION\n",
        "\n",
        "        # Get the output logprobs for the next token (for every sequence in current beams)\n",
        "        logprobs, kv_cache = self.model(self.tokens, self.kv_cache)\n",
        "        logprobs = logprobs[:, -1, :].log_softmax(-1)\n",
        "\n",
        "        # Get the top `new_beams` tokens for each sequence\n",
        "        topk_logprobs, topk_tokenIDs = self.get_topk_non_repeating(logprobs, no_repeat_ngram_size, k=new_beams)\n",
        "\n",
        "        # Get all of the new possible beams, via einops operations\n",
        "        #   Here, we're effectively flattening out the batch dimension and k dimension, to give us tensors\n",
        "        #   with every possible combination of (original sequence, new token) pairs.)\n",
        "        new_logprob_sums = sum([\n",
        "            einops.repeat(self.logprob_sums, \"batch -> (batch k)\", k=new_beams),\n",
        "            einops.rearrange(topk_logprobs, \"batch k -> (batch k)\")\n",
        "        ])\n",
        "        new_tokens = t.concat([\n",
        "            einops.repeat(self.tokens, \"batch seq -> (batch k) seq\", k=new_beams),\n",
        "            einops.rearrange(topk_tokenIDs, \"batch k -> (batch k) 1\")\n",
        "        ], dim=-1)\n",
        "        new_kv_cache = None if (self.kv_cache is None) else einops.repeat(\n",
        "            kv_cache, \"layer k_and_v batch ... -> layer k_and_v (batch k) ...\", k=new_beams\n",
        "        )\n",
        "        return self.new_beams(new_logprob_sums, new_tokens, new_kv_cache)\n",
        "\n",
        "\n",
        "    def filter(self, num_beams: int) -> Tuple[\"Beams\", \"Beams\"]:\n",
        "        '''\n",
        "        Returns:\n",
        "            best_beams: Beams\n",
        "                filtered version of self, containing all best `num_beams` which are also not terminated.\n",
        "\n",
        "            early_terminations: Beams\n",
        "                filtered version of self, containing all best `num_beams` which are also terminated.\n",
        "                i.e. the sum of lengths of these two should equal `num_beams`.\n",
        "        '''\n",
        "        # SOLUTION\n",
        "\n",
        "        # Get the indices of top `num_beams` beams\n",
        "        top_beam_indices = self.logprob_sums.topk(k=num_beams, dim=0).indices.tolist()\n",
        "        # Get the indices of terminated sequences\n",
        "        new_tokens = self.tokens[:, -1]\n",
        "        terminated_indices = t.nonzero(new_tokens == self.tokenizer.eos_token_id)\n",
        "\n",
        "        # Get the indices of the `num_beams` best sequences (some terminated, some not terminated)\n",
        "        best_continuing = [i for i in top_beam_indices if i not in terminated_indices]\n",
        "        best_terminated = [i for i in top_beam_indices if i in terminated_indices]\n",
        "\n",
        "        # Return the beam objects from these indices\n",
        "        return self[best_continuing], self[best_terminated]\n",
        "\n",
        "            \n",
        "    def get_topk_non_repeating(\n",
        "        self,\n",
        "        logprobs: Float[Tensor, \"batch d_vocab\"],\n",
        "        no_repeat_ngram_size: Optional[int],\n",
        "        k: int,\n",
        "    ) -> Tuple[Float[Tensor, \"k\"], Int[Tensor, \"k\"]]:\n",
        "        '''\n",
        "        logprobs:\n",
        "            tensor of the log-probs for the next token\n",
        "        no_repeat_ngram_size:\n",
        "            size of ngram to avoid repeating\n",
        "        k:\n",
        "            number of top logits to return, for each beam in our collection\n",
        "\n",
        "        Returns:\n",
        "            equivalent to the output of `logprobs.topk(dim=-1)`, but makes sure\n",
        "            that no returned tokens would produce an ngram of size  `no_repeat_ngram_size`\n",
        "            which has already appeared in `self.tokens`.\n",
        "        '''\n",
        "        batch, seq_len = self.tokens.shape\n",
        "        neg_inf = t.tensor(-1.0e4).to(device)\n",
        "\n",
        "        # If completion isn't long enough for a repetition, or we have no restructions, just return topk\n",
        "        if (no_repeat_ngram_size is not None) and (seq_len > no_repeat_ngram_size-1):\n",
        "            # Otherwise, we need to check for ngram repetitions\n",
        "            # First, get the most recent `no_repeat_ngram_size-1` tokens\n",
        "            last_ngram_prefix = self.tokens[:, seq_len - (no_repeat_ngram_size-1):]\n",
        "            # Next, find all the tokens we're not allowed to generate (by going iterating through past ngrams and seeing if those ngram prefixes match the last one)\n",
        "            for i in range(seq_len - (no_repeat_ngram_size-1)):\n",
        "                ngrams = self.tokens[:, i:i+no_repeat_ngram_size] # (batch, ngram)\n",
        "                ngrams_are_repeated = (ngrams[:, :-1] == last_ngram_prefix).all(-1) # (batch,)\n",
        "                ngram_end_tokens = ngrams[:, [-1]] # (batch, 1)\n",
        "                # Fill logprobs with neginf wherever the ngrams are repeated\n",
        "                logprobs[range(batch), ngram_end_tokens] = t.where(\n",
        "                    ngrams_are_repeated,\n",
        "                    neg_inf,\n",
        "                    logprobs[range(batch), ngram_end_tokens],\n",
        "            )\n",
        "\n",
        "        # Finally, get our actual tokens\n",
        "        return logprobs.topk(k=k, dim=-1)\n",
        "\n",
        "    def print(self, title=\"Best completions\", max_print_chars=80) -> None:\n",
        "        '''\n",
        "        Prints out a set of sequences with their corresponding logitsums.\n",
        "        '''\n",
        "        if len(self.tokens) == 0:\n",
        "            return\n",
        "        table = Table(\"logitsum\", \"completion\", title=title)\n",
        "        for logprob_sum, tokens in zip(self.logprob_sums, self.tokens):\n",
        "            text = self.tokenizer.decode(tokens)\n",
        "            if len(repr(text)) > max_print_chars:\n",
        "                text = text[:int(0.3 * max_print_chars)] + \" ... \" + text[-int(0.7 * max_print_chars):]\n",
        "            table.add_row(f\"{logprob_sum:>8.3f}\", repr(text))\n",
        "        rprint(table)\n",
        "\n",
        "\n",
        "@t.inference_mode()\n",
        "def beam_search(\n",
        "    self: TransformerSampler,\n",
        "    prompt: str,\n",
        "    num_return_sequences: int,\n",
        "    num_beams: int,\n",
        "    max_new_tokens: int,\n",
        "    no_repeat_ngram_size: Optional[int] = None,\n",
        "    kv_cache: Optional[KeyValueCache] = None,\n",
        "    verbose=False\n",
        ") -> List[Tuple[float, Tensor]]:\n",
        "    '''\n",
        "    Implements a beam search, by repeatedly performing the `generate` and `filter` steps (starting\n",
        "    from the initial prompt) until either of the two stopping criteria are met:\n",
        "\n",
        "        (1) we've generated `max_new_tokens` tokens, or\n",
        "        (2) we've generated `num_returns_sequences` terminating sequences.\n",
        "\n",
        "    To modularize this function, most of the actual complexity is in the Beams class,\n",
        "    in the `generate` and `filter` methods.\n",
        "    '''\n",
        "\n",
        "    assert num_return_sequences <= num_beams\n",
        "    self.model.eval()\n",
        "\n",
        "    # SOLUTION\n",
        "    tokens = self.tokenizer.encode(prompt, return_tensors=\"pt\").to(device)\n",
        "\n",
        "    # List for final beams to return (and early terminations)\n",
        "    final_logprobs_and_completions: List[Tuple[float, str]] = []\n",
        "    # Keep track of all best beams after each step\n",
        "    best_beams = Beams(self.model, self.tokenizer, t.tensor([0.0]).to(device), tokens, kv_cache)\n",
        "\n",
        "    for n in tqdm(range(max_new_tokens)):\n",
        "\n",
        "        # Generation step\n",
        "        best_beams = best_beams.generate(num_beams, no_repeat_ngram_size)\n",
        "\n",
        "        # Filtering step\n",
        "        best_beams, best_beams_terminated = best_beams.filter(num_beams)\n",
        "        final_logprobs_and_completions.extend(best_beams_terminated.logprobs_and_completions)\n",
        "\n",
        "        # Print output\n",
        "        if verbose:\n",
        "            best_beams.print()\n",
        "\n",
        "        # Check stopping condition\n",
        "        if len(final_logprobs_and_completions) >= num_return_sequences:\n",
        "            return final_logprobs_and_completions[:num_return_sequences]\n",
        "\n",
        "    final_logprobs_and_completions.extend(best_beams.logprobs_and_completions)\n",
        "    final_logprobs_and_completions = final_logprobs_and_completions[:num_return_sequences]\n",
        "    return final_logprobs_and_completions\n",
        "\n",
        "\n",
        "TransformerSampler.beam_search = beam_search\n",
        "```\n",
        "\n",
        "</details>\n",
        "\n",
        "<details>\n",
        "<summary>Code to verify that the same output is being produced by cache and no-cache versions (and to compare speeds)</summary>\n",
        "\n",
        "```python\n",
        "prompt = \"For you, the day Bison graced your village was the most important day of your life. But for me, it was\"\n",
        "orig_len = len(tokenizer.encode(prompt))\n",
        "\n",
        "beam_search_kwargs = dict(\n",
        "    prompt=prompt,\n",
        "    num_return_sequences=3,\n",
        "    num_beams=20,\n",
        "    max_new_tokens=60,\n",
        "    no_repeat_ngram_size=2,\n",
        "    verbose=False\n",
        ")\n",
        "\n",
        "sampler = TransformerSampler(model, tokenizer)\n",
        "\n",
        "# Run the noncached version\n",
        "t0 = time.time()\n",
        "final_logitsums_and_completions = sampler.beam_search(**beam_search_kwargs)\n",
        "logprob_sum, text = final_logitsums_and_completions[0]\n",
        "avg_logprob_as_prob = t.tensor(logprob_sum / (len(tokenizer.encode(text)) - orig_len)).exp().item()\n",
        "print(f\"Time (without cache): {time.time() - t0:.2f} seconds\")\n",
        "print(f\"Avg logprob (expressed as a probability) = {avg_logprob_as_prob:.3f}\")\n",
        "rprint(f\"Output:\\n\\n[bold dark_orange]{text}[/]\\n\\n\")\n",
        "\n",
        "# Run the cached version\n",
        "t0 = time.time()\n",
        "beam_search_kwargs[\"kv_cache\"] = KeyValueCache.new_empty(model.cfg)\n",
        "final_logitsums_and_completions = sampler.beam_search(**beam_search_kwargs)\n",
        "logprob_sum, text_with_cache = final_logitsums_and_completions[0]\n",
        "avg_logprob_as_prob = t.tensor(logprob_sum / (len(tokenizer.encode(text)) - orig_len)).exp().item()\n",
        "print(f\"Time (with cache): {time.time() - t0:.2f} seconds\")\n",
        "print(f\"Avg logprob (as probability) = {avg_logprob_as_prob:.3f}\", end=\"\")\n",
        "rprint(f\"Output:\\n\\n[bold dark_orange]{text_with_cache}[/]\\n\\n\")\n",
        "\n",
        "# Check they are the same\n",
        "assert text == text_with_cache, \"Your outputs are different, meaning you've probably made a mistake in your cache implementation.\"\n",
        "print(\"Tests passed!\")\n",
        "```\n",
        "\n",
        "</details>\n"
      ]
    }
  ],
  "metadata": {
    "accelerator": "GPU",
    "colab": {
      "collapsed_sections": [
        "Ny4PdCRf3YPu",
        "w1x_mWI6m4Rz",
        "BaSOTaLdm4R6",
        "QfeyG6NZm4SC",
        "hrSd3-YnfHN9"
      ],
      "gpuClass": "premium",
      "gpuType": "T4",
      "provenance": []
    },
    "kernelspec": {
      "display_name": "ARENA_venv",
      "language": "python",
      "name": "python3"
    },
    "language_info": {
      "codemirror_mode": {
        "name": "ipython",
        "version": 3
      },
      "file_extension": ".py",
      "mimetype": "text/x-python",
      "name": "python",
      "nbconvert_exporter": "python",
      "pygments_lexer": "ipython3",
      "version": "3.10.10 (tags/v3.10.10:aad5f6a, Feb  7 2023, 17:20:36) [MSC v.1929 64 bit (AMD64)]"
    },
    "orig_nbformat": 4,
    "vscode": {
      "interpreter": {
        "hash": "e3547adb581ff21c1fea0cf882554cea9dcd074a49a51e29b826046331f63c20"
      }
    },
    "widgets": {
      "application/vnd.jupyter.widget-state+json": {
        "00c7b2c01e4f499c987ba067efc9fa05": {
          "model_module": "@jupyter-widgets/controls",
          "model_module_version": "1.5.0",
          "model_name": "HTMLModel",
          "state": {
            "_dom_classes": [],
            "_model_module": "@jupyter-widgets/controls",
            "_model_module_version": "1.5.0",
            "_model_name": "HTMLModel",
            "_view_count": null,
            "_view_module": "@jupyter-widgets/controls",
            "_view_module_version": "1.5.0",
            "_view_name": "HTMLView",
            "description": "",
            "description_tooltip": null,
            "layout": "IPY_MODEL_654420958efc4671bd0408d11d594d51",
            "placeholder": "​",
            "style": "IPY_MODEL_d476a6979f124afdaa7d85abd53c3a5c",
            "value": " 124/124 [00:00&lt;00:00, 3.28kB/s]"
          }
        },
        "078c768e382d4343b002ec42095a3fa1": {
          "model_module": "@jupyter-widgets/base",
          "model_module_version": "1.2.0",
          "model_name": "LayoutModel",
          "state": {
            "_model_module": "@jupyter-widgets/base",
            "_model_module_version": "1.2.0",
            "_model_name": "LayoutModel",
            "_view_count": null,
            "_view_module": "@jupyter-widgets/base",
            "_view_module_version": "1.2.0",
            "_view_name": "LayoutView",
            "align_content": null,
            "align_items": null,
            "align_self": null,
            "border": null,
            "bottom": null,
            "display": null,
            "flex": null,
            "flex_flow": null,
            "grid_area": null,
            "grid_auto_columns": null,
            "grid_auto_flow": null,
            "grid_auto_rows": null,
            "grid_column": null,
            "grid_gap": null,
            "grid_row": null,
            "grid_template_areas": null,
            "grid_template_columns": null,
            "grid_template_rows": null,
            "height": null,
            "justify_content": null,
            "justify_items": null,
            "left": null,
            "margin": null,
            "max_height": null,
            "max_width": null,
            "min_height": null,
            "min_width": null,
            "object_fit": null,
            "object_position": null,
            "order": null,
            "overflow": null,
            "overflow_x": null,
            "overflow_y": null,
            "padding": null,
            "right": null,
            "top": null,
            "visibility": null,
            "width": null
          }
        },
        "0f6cdd65384e4d7f9daeaa8722bdee24": {
          "model_module": "@jupyter-widgets/base",
          "model_module_version": "1.2.0",
          "model_name": "LayoutModel",
          "state": {
            "_model_module": "@jupyter-widgets/base",
            "_model_module_version": "1.2.0",
            "_model_name": "LayoutModel",
            "_view_count": null,
            "_view_module": "@jupyter-widgets/base",
            "_view_module_version": "1.2.0",
            "_view_name": "LayoutView",
            "align_content": null,
            "align_items": null,
            "align_self": null,
            "border": null,
            "bottom": null,
            "display": null,
            "flex": null,
            "flex_flow": null,
            "grid_area": null,
            "grid_auto_columns": null,
            "grid_auto_flow": null,
            "grid_auto_rows": null,
            "grid_column": null,
            "grid_gap": null,
            "grid_row": null,
            "grid_template_areas": null,
            "grid_template_columns": null,
            "grid_template_rows": null,
            "height": null,
            "justify_content": null,
            "justify_items": null,
            "left": null,
            "margin": null,
            "max_height": null,
            "max_width": null,
            "min_height": null,
            "min_width": null,
            "object_fit": null,
            "object_position": null,
            "order": null,
            "overflow": null,
            "overflow_x": null,
            "overflow_y": null,
            "padding": null,
            "right": null,
            "top": null,
            "visibility": null,
            "width": null
          }
        },
        "10f2d969cc8246579907c6634be09271": {
          "model_module": "@jupyter-widgets/controls",
          "model_module_version": "1.5.0",
          "model_name": "FloatProgressModel",
          "state": {
            "_dom_classes": [],
            "_model_module": "@jupyter-widgets/controls",
            "_model_module_version": "1.5.0",
            "_model_name": "FloatProgressModel",
            "_view_count": null,
            "_view_module": "@jupyter-widgets/controls",
            "_view_module_version": "1.5.0",
            "_view_name": "ProgressView",
            "bar_style": "success",
            "description": "",
            "description_tooltip": null,
            "layout": "IPY_MODEL_212772b9bbad4b86a90265c2d1635c7f",
            "max": 100,
            "min": 0,
            "orientation": "horizontal",
            "style": "IPY_MODEL_2f7d6b7c8ba64fffa4c5c97133bd2140",
            "value": 100
          }
        },
        "12c52c35ef924e77b8654833e9bd950f": {
          "model_module": "@jupyter-widgets/base",
          "model_module_version": "1.2.0",
          "model_name": "LayoutModel",
          "state": {
            "_model_module": "@jupyter-widgets/base",
            "_model_module_version": "1.2.0",
            "_model_name": "LayoutModel",
            "_view_count": null,
            "_view_module": "@jupyter-widgets/base",
            "_view_module_version": "1.2.0",
            "_view_name": "LayoutView",
            "align_content": null,
            "align_items": null,
            "align_self": null,
            "border": null,
            "bottom": null,
            "display": null,
            "flex": null,
            "flex_flow": null,
            "grid_area": null,
            "grid_auto_columns": null,
            "grid_auto_flow": null,
            "grid_auto_rows": null,
            "grid_column": null,
            "grid_gap": null,
            "grid_row": null,
            "grid_template_areas": null,
            "grid_template_columns": null,
            "grid_template_rows": null,
            "height": null,
            "justify_content": null,
            "justify_items": null,
            "left": null,
            "margin": null,
            "max_height": null,
            "max_width": null,
            "min_height": null,
            "min_width": null,
            "object_fit": null,
            "object_position": null,
            "order": null,
            "overflow": null,
            "overflow_x": null,
            "overflow_y": null,
            "padding": null,
            "right": null,
            "top": null,
            "visibility": null,
            "width": null
          }
        },
        "13159fa65d864f15829373ec8d2cd00c": {
          "model_module": "@jupyter-widgets/controls",
          "model_module_version": "1.5.0",
          "model_name": "HTMLModel",
          "state": {
            "_dom_classes": [],
            "_model_module": "@jupyter-widgets/controls",
            "_model_module_version": "1.5.0",
            "_model_name": "HTMLModel",
            "_view_count": null,
            "_view_module": "@jupyter-widgets/controls",
            "_view_module_version": "1.5.0",
            "_view_name": "HTMLView",
            "description": "",
            "description_tooltip": null,
            "layout": "IPY_MODEL_648f4ac074ca4391aa3fa8c114cad76e",
            "placeholder": "​",
            "style": "IPY_MODEL_68a5d4ac556e471b9b718852d2b45991",
            "value": " 10000/10000 [01:06&lt;00:00, 246.20 examples/s]"
          }
        },
        "19613768e7e343158bdbcd77485c7688": {
          "model_module": "@jupyter-widgets/controls",
          "model_module_version": "1.5.0",
          "model_name": "LabelModel",
          "state": {
            "_dom_classes": [],
            "_model_module": "@jupyter-widgets/controls",
            "_model_module_version": "1.5.0",
            "_model_name": "LabelModel",
            "_view_count": null,
            "_view_module": "@jupyter-widgets/controls",
            "_view_module_version": "1.5.0",
            "_view_name": "LabelView",
            "description": "",
            "description_tooltip": null,
            "layout": "IPY_MODEL_e36278eaf40b4892b80126d60b201ce7",
            "placeholder": "​",
            "style": "IPY_MODEL_8d88c483b73c434b853bdf9acad920bc",
            "value": "0.012 MB of 0.012 MB uploaded\r"
          }
        },
        "1a755e737565435484da72f6273bb7b8": {
          "model_module": "@jupyter-widgets/base",
          "model_module_version": "1.2.0",
          "model_name": "LayoutModel",
          "state": {
            "_model_module": "@jupyter-widgets/base",
            "_model_module_version": "1.2.0",
            "_model_name": "LayoutModel",
            "_view_count": null,
            "_view_module": "@jupyter-widgets/base",
            "_view_module_version": "1.2.0",
            "_view_name": "LayoutView",
            "align_content": null,
            "align_items": null,
            "align_self": null,
            "border": null,
            "bottom": null,
            "display": null,
            "flex": null,
            "flex_flow": null,
            "grid_area": null,
            "grid_auto_columns": null,
            "grid_auto_flow": null,
            "grid_auto_rows": null,
            "grid_column": null,
            "grid_gap": null,
            "grid_row": null,
            "grid_template_areas": null,
            "grid_template_columns": null,
            "grid_template_rows": null,
            "height": null,
            "justify_content": null,
            "justify_items": null,
            "left": null,
            "margin": null,
            "max_height": null,
            "max_width": null,
            "min_height": null,
            "min_width": null,
            "object_fit": null,
            "object_position": null,
            "order": null,
            "overflow": null,
            "overflow_x": null,
            "overflow_y": null,
            "padding": null,
            "right": null,
            "top": null,
            "visibility": null,
            "width": null
          }
        },
        "1a979d18a89548e58385612aa2331040": {
          "model_module": "@jupyter-widgets/controls",
          "model_module_version": "1.5.0",
          "model_name": "FloatProgressModel",
          "state": {
            "_dom_classes": [],
            "_model_module": "@jupyter-widgets/controls",
            "_model_module_version": "1.5.0",
            "_model_name": "FloatProgressModel",
            "_view_count": null,
            "_view_module": "@jupyter-widgets/controls",
            "_view_module_version": "1.5.0",
            "_view_name": "ProgressView",
            "bar_style": "success",
            "description": "",
            "description_tooltip": null,
            "layout": "IPY_MODEL_39d222b0e0ce4e10907b43f1c0e58825",
            "max": 456318,
            "min": 0,
            "orientation": "horizontal",
            "style": "IPY_MODEL_56b8fe7b6c214debb41d4ee557d07c49",
            "value": 456318
          }
        },
        "1b0153db2d934b369c61ef89807bd45f": {
          "model_module": "@jupyter-widgets/base",
          "model_module_version": "1.2.0",
          "model_name": "LayoutModel",
          "state": {
            "_model_module": "@jupyter-widgets/base",
            "_model_module_version": "1.2.0",
            "_model_name": "LayoutModel",
            "_view_count": null,
            "_view_module": "@jupyter-widgets/base",
            "_view_module_version": "1.2.0",
            "_view_name": "LayoutView",
            "align_content": null,
            "align_items": null,
            "align_self": null,
            "border": null,
            "bottom": null,
            "display": null,
            "flex": null,
            "flex_flow": null,
            "grid_area": null,
            "grid_auto_columns": null,
            "grid_auto_flow": null,
            "grid_auto_rows": null,
            "grid_column": null,
            "grid_gap": null,
            "grid_row": null,
            "grid_template_areas": null,
            "grid_template_columns": null,
            "grid_template_rows": null,
            "height": null,
            "justify_content": null,
            "justify_items": null,
            "left": null,
            "margin": null,
            "max_height": null,
            "max_width": null,
            "min_height": null,
            "min_width": null,
            "object_fit": null,
            "object_position": null,
            "order": null,
            "overflow": null,
            "overflow_x": null,
            "overflow_y": null,
            "padding": null,
            "right": null,
            "top": null,
            "visibility": null,
            "width": null
          }
        },
        "1c18cc650bf14513affcaa7269d96ede": {
          "model_module": "@jupyter-widgets/controls",
          "model_module_version": "1.5.0",
          "model_name": "HTMLModel",
          "state": {
            "_dom_classes": [],
            "_model_module": "@jupyter-widgets/controls",
            "_model_module_version": "1.5.0",
            "_model_name": "HTMLModel",
            "_view_count": null,
            "_view_module": "@jupyter-widgets/controls",
            "_view_module_version": "1.5.0",
            "_view_name": "HTMLView",
            "description": "",
            "description_tooltip": null,
            "layout": "IPY_MODEL_dbcf62928afa490086f5af5fb6d75658",
            "placeholder": "​",
            "style": "IPY_MODEL_ea690105d8b845a78534144cf6659801",
            "value": " 1.04M/1.04M [00:00&lt;00:00, 5.32MB/s]"
          }
        },
        "1ffb63f6ef2d4e6eba7d8ad7655f502a": {
          "model_module": "@jupyter-widgets/base",
          "model_module_version": "1.2.0",
          "model_name": "LayoutModel",
          "state": {
            "_model_module": "@jupyter-widgets/base",
            "_model_module_version": "1.2.0",
            "_model_name": "LayoutModel",
            "_view_count": null,
            "_view_module": "@jupyter-widgets/base",
            "_view_module_version": "1.2.0",
            "_view_name": "LayoutView",
            "align_content": null,
            "align_items": null,
            "align_self": null,
            "border": null,
            "bottom": null,
            "display": null,
            "flex": null,
            "flex_flow": null,
            "grid_area": null,
            "grid_auto_columns": null,
            "grid_auto_flow": null,
            "grid_auto_rows": null,
            "grid_column": null,
            "grid_gap": null,
            "grid_row": null,
            "grid_template_areas": null,
            "grid_template_columns": null,
            "grid_template_rows": null,
            "height": null,
            "justify_content": null,
            "justify_items": null,
            "left": null,
            "margin": null,
            "max_height": null,
            "max_width": null,
            "min_height": null,
            "min_width": null,
            "object_fit": null,
            "object_position": null,
            "order": null,
            "overflow": null,
            "overflow_x": null,
            "overflow_y": null,
            "padding": null,
            "right": null,
            "top": null,
            "visibility": null,
            "width": null
          }
        },
        "212772b9bbad4b86a90265c2d1635c7f": {
          "model_module": "@jupyter-widgets/base",
          "model_module_version": "1.2.0",
          "model_name": "LayoutModel",
          "state": {
            "_model_module": "@jupyter-widgets/base",
            "_model_module_version": "1.2.0",
            "_model_name": "LayoutModel",
            "_view_count": null,
            "_view_module": "@jupyter-widgets/base",
            "_view_module_version": "1.2.0",
            "_view_name": "LayoutView",
            "align_content": null,
            "align_items": null,
            "align_self": null,
            "border": null,
            "bottom": null,
            "display": null,
            "flex": null,
            "flex_flow": null,
            "grid_area": null,
            "grid_auto_columns": null,
            "grid_auto_flow": null,
            "grid_auto_rows": null,
            "grid_column": null,
            "grid_gap": null,
            "grid_row": null,
            "grid_template_areas": null,
            "grid_template_columns": null,
            "grid_template_rows": null,
            "height": null,
            "justify_content": null,
            "justify_items": null,
            "left": null,
            "margin": null,
            "max_height": null,
            "max_width": null,
            "min_height": null,
            "min_width": null,
            "object_fit": null,
            "object_position": null,
            "order": null,
            "overflow": null,
            "overflow_x": null,
            "overflow_y": null,
            "padding": null,
            "right": null,
            "top": null,
            "visibility": null,
            "width": null
          }
        },
        "23c8e227375144cfa0da8da7068599c4": {
          "model_module": "@jupyter-widgets/base",
          "model_module_version": "1.2.0",
          "model_name": "LayoutModel",
          "state": {
            "_model_module": "@jupyter-widgets/base",
            "_model_module_version": "1.2.0",
            "_model_name": "LayoutModel",
            "_view_count": null,
            "_view_module": "@jupyter-widgets/base",
            "_view_module_version": "1.2.0",
            "_view_name": "LayoutView",
            "align_content": null,
            "align_items": null,
            "align_self": null,
            "border": null,
            "bottom": null,
            "display": null,
            "flex": null,
            "flex_flow": null,
            "grid_area": null,
            "grid_auto_columns": null,
            "grid_auto_flow": null,
            "grid_auto_rows": null,
            "grid_column": null,
            "grid_gap": null,
            "grid_row": null,
            "grid_template_areas": null,
            "grid_template_columns": null,
            "grid_template_rows": null,
            "height": null,
            "justify_content": null,
            "justify_items": null,
            "left": null,
            "margin": null,
            "max_height": null,
            "max_width": null,
            "min_height": null,
            "min_width": null,
            "object_fit": null,
            "object_position": null,
            "order": null,
            "overflow": null,
            "overflow_x": null,
            "overflow_y": null,
            "padding": null,
            "right": null,
            "top": null,
            "visibility": null,
            "width": null
          }
        },
        "24e8beea147240f0bc660819c238338a": {
          "model_module": "@jupyter-widgets/controls",
          "model_module_version": "1.5.0",
          "model_name": "HTMLModel",
          "state": {
            "_dom_classes": [],
            "_model_module": "@jupyter-widgets/controls",
            "_model_module_version": "1.5.0",
            "_model_name": "HTMLModel",
            "_view_count": null,
            "_view_module": "@jupyter-widgets/controls",
            "_view_module_version": "1.5.0",
            "_view_name": "HTMLView",
            "description": "",
            "description_tooltip": null,
            "layout": "IPY_MODEL_e3d356fea53849f1ae5044ebaa777079",
            "placeholder": "​",
            "style": "IPY_MODEL_fef0cf4288624b89846a9e93b8bdf87f",
            "value": "Epoch 20, loss: 4.351, accuracy: 0.312: "
          }
        },
        "255765c8a3ec4100b89e337c67408bcc": {
          "model_module": "@jupyter-widgets/controls",
          "model_module_version": "1.5.0",
          "model_name": "HBoxModel",
          "state": {
            "_dom_classes": [],
            "_model_module": "@jupyter-widgets/controls",
            "_model_module_version": "1.5.0",
            "_model_name": "HBoxModel",
            "_view_count": null,
            "_view_module": "@jupyter-widgets/controls",
            "_view_module_version": "1.5.0",
            "_view_name": "HBoxView",
            "box_style": "",
            "children": [
              "IPY_MODEL_5c3f92fd977b4d4d908f96cdbff73bed",
              "IPY_MODEL_e99946f952624fd29ef0594cd7c53cc0",
              "IPY_MODEL_7da3074f574b4e73ab0bc4081d92ce49"
            ],
            "layout": "IPY_MODEL_3a77813f6cd5443cb764fac39a0a6050"
          }
        },
        "27c612ae50ce4f07a6da644f9a620149": {
          "model_module": "@jupyter-widgets/controls",
          "model_module_version": "1.5.0",
          "model_name": "HTMLModel",
          "state": {
            "_dom_classes": [],
            "_model_module": "@jupyter-widgets/controls",
            "_model_module_version": "1.5.0",
            "_model_name": "HTMLModel",
            "_view_count": null,
            "_view_module": "@jupyter-widgets/controls",
            "_view_module_version": "1.5.0",
            "_view_name": "HTMLView",
            "description": "",
            "description_tooltip": null,
            "layout": "IPY_MODEL_421ed24482fa4425842c2b5363977f6c",
            "placeholder": "​",
            "style": "IPY_MODEL_719b036f4f044b20876972ead7514730",
            "value": " 921/921 [00:00&lt;00:00, 11.9kB/s]"
          }
        },
        "2a365392b69b4267885dee36a4eb17fb": {
          "model_module": "@jupyter-widgets/base",
          "model_module_version": "1.2.0",
          "model_name": "LayoutModel",
          "state": {
            "_model_module": "@jupyter-widgets/base",
            "_model_module_version": "1.2.0",
            "_model_name": "LayoutModel",
            "_view_count": null,
            "_view_module": "@jupyter-widgets/base",
            "_view_module_version": "1.2.0",
            "_view_name": "LayoutView",
            "align_content": null,
            "align_items": null,
            "align_self": null,
            "border": null,
            "bottom": null,
            "display": null,
            "flex": null,
            "flex_flow": null,
            "grid_area": null,
            "grid_auto_columns": null,
            "grid_auto_flow": null,
            "grid_auto_rows": null,
            "grid_column": null,
            "grid_gap": null,
            "grid_row": null,
            "grid_template_areas": null,
            "grid_template_columns": null,
            "grid_template_rows": null,
            "height": null,
            "justify_content": null,
            "justify_items": null,
            "left": null,
            "margin": null,
            "max_height": null,
            "max_width": null,
            "min_height": null,
            "min_width": null,
            "object_fit": null,
            "object_position": null,
            "order": null,
            "overflow": null,
            "overflow_x": null,
            "overflow_y": null,
            "padding": null,
            "right": null,
            "top": null,
            "visibility": null,
            "width": null
          }
        },
        "2a82455bddf3414e92f57b743832e085": {
          "model_module": "@jupyter-widgets/controls",
          "model_module_version": "1.5.0",
          "model_name": "HBoxModel",
          "state": {
            "_dom_classes": [],
            "_model_module": "@jupyter-widgets/controls",
            "_model_module_version": "1.5.0",
            "_model_name": "HBoxModel",
            "_view_count": null,
            "_view_module": "@jupyter-widgets/controls",
            "_view_module_version": "1.5.0",
            "_view_name": "HBoxView",
            "box_style": "",
            "children": [
              "IPY_MODEL_d710f45ebfae46e29dc9cca3077137b8",
              "IPY_MODEL_10f2d969cc8246579907c6634be09271",
              "IPY_MODEL_5b84e2e915314dccaa0c3337d832aec4"
            ],
            "layout": "IPY_MODEL_e8540390d5f94e71a84ee75b78a50d9a"
          }
        },
        "2b4021e25bd54216a8e01f95eb3d7961": {
          "model_module": "@jupyter-widgets/controls",
          "model_module_version": "1.5.0",
          "model_name": "LabelModel",
          "state": {
            "_dom_classes": [],
            "_model_module": "@jupyter-widgets/controls",
            "_model_module_version": "1.5.0",
            "_model_name": "LabelModel",
            "_view_count": null,
            "_view_module": "@jupyter-widgets/controls",
            "_view_module_version": "1.5.0",
            "_view_name": "LabelView",
            "description": "",
            "description_tooltip": null,
            "layout": "IPY_MODEL_4f9d731ad1d4409c813ffb27694d2af6",
            "placeholder": "​",
            "style": "IPY_MODEL_c9c83af17e584f9e9f6569620c0cb084",
            "value": "0.011 MB of 0.011 MB uploaded\r"
          }
        },
        "2f7d6b7c8ba64fffa4c5c97133bd2140": {
          "model_module": "@jupyter-widgets/controls",
          "model_module_version": "1.5.0",
          "model_name": "ProgressStyleModel",
          "state": {
            "_model_module": "@jupyter-widgets/controls",
            "_model_module_version": "1.5.0",
            "_model_name": "ProgressStyleModel",
            "_view_count": null,
            "_view_module": "@jupyter-widgets/base",
            "_view_module_version": "1.2.0",
            "_view_name": "StyleView",
            "bar_color": null,
            "description_width": ""
          }
        },
        "3038e89545fc478190df51a8501a1e99": {
          "model_module": "@jupyter-widgets/base",
          "model_module_version": "1.2.0",
          "model_name": "LayoutModel",
          "state": {
            "_model_module": "@jupyter-widgets/base",
            "_model_module_version": "1.2.0",
            "_model_name": "LayoutModel",
            "_view_count": null,
            "_view_module": "@jupyter-widgets/base",
            "_view_module_version": "1.2.0",
            "_view_name": "LayoutView",
            "align_content": null,
            "align_items": null,
            "align_self": null,
            "border": null,
            "bottom": null,
            "display": null,
            "flex": null,
            "flex_flow": null,
            "grid_area": null,
            "grid_auto_columns": null,
            "grid_auto_flow": null,
            "grid_auto_rows": null,
            "grid_column": null,
            "grid_gap": null,
            "grid_row": null,
            "grid_template_areas": null,
            "grid_template_columns": null,
            "grid_template_rows": null,
            "height": null,
            "justify_content": null,
            "justify_items": null,
            "left": null,
            "margin": null,
            "max_height": null,
            "max_width": null,
            "min_height": null,
            "min_width": null,
            "object_fit": null,
            "object_position": null,
            "order": null,
            "overflow": null,
            "overflow_x": null,
            "overflow_y": null,
            "padding": null,
            "right": null,
            "top": null,
            "visibility": null,
            "width": null
          }
        },
        "31abef5cdf0741abb36112eeb3847374": {
          "model_module": "@jupyter-widgets/base",
          "model_module_version": "1.2.0",
          "model_name": "LayoutModel",
          "state": {
            "_model_module": "@jupyter-widgets/base",
            "_model_module_version": "1.2.0",
            "_model_name": "LayoutModel",
            "_view_count": null,
            "_view_module": "@jupyter-widgets/base",
            "_view_module_version": "1.2.0",
            "_view_name": "LayoutView",
            "align_content": null,
            "align_items": null,
            "align_self": null,
            "border": null,
            "bottom": null,
            "display": null,
            "flex": null,
            "flex_flow": null,
            "grid_area": null,
            "grid_auto_columns": null,
            "grid_auto_flow": null,
            "grid_auto_rows": null,
            "grid_column": null,
            "grid_gap": null,
            "grid_row": null,
            "grid_template_areas": null,
            "grid_template_columns": null,
            "grid_template_rows": null,
            "height": null,
            "justify_content": null,
            "justify_items": null,
            "left": null,
            "margin": null,
            "max_height": null,
            "max_width": null,
            "min_height": null,
            "min_width": null,
            "object_fit": null,
            "object_position": null,
            "order": null,
            "overflow": null,
            "overflow_x": null,
            "overflow_y": null,
            "padding": null,
            "right": null,
            "top": null,
            "visibility": null,
            "width": null
          }
        },
        "31c541a2a591468291ee6dbbf311698b": {
          "model_module": "@jupyter-widgets/controls",
          "model_module_version": "1.5.0",
          "model_name": "ProgressStyleModel",
          "state": {
            "_model_module": "@jupyter-widgets/controls",
            "_model_module_version": "1.5.0",
            "_model_name": "ProgressStyleModel",
            "_view_count": null,
            "_view_module": "@jupyter-widgets/base",
            "_view_module_version": "1.2.0",
            "_view_name": "StyleView",
            "bar_color": null,
            "description_width": ""
          }
        },
        "354d0cf922e84019b7ddc10b936d1277": {
          "model_module": "@jupyter-widgets/base",
          "model_module_version": "1.2.0",
          "model_name": "LayoutModel",
          "state": {
            "_model_module": "@jupyter-widgets/base",
            "_model_module_version": "1.2.0",
            "_model_name": "LayoutModel",
            "_view_count": null,
            "_view_module": "@jupyter-widgets/base",
            "_view_module_version": "1.2.0",
            "_view_name": "LayoutView",
            "align_content": null,
            "align_items": null,
            "align_self": null,
            "border": null,
            "bottom": null,
            "display": null,
            "flex": null,
            "flex_flow": null,
            "grid_area": null,
            "grid_auto_columns": null,
            "grid_auto_flow": null,
            "grid_auto_rows": null,
            "grid_column": null,
            "grid_gap": null,
            "grid_row": null,
            "grid_template_areas": null,
            "grid_template_columns": null,
            "grid_template_rows": null,
            "height": null,
            "justify_content": null,
            "justify_items": null,
            "left": null,
            "margin": null,
            "max_height": null,
            "max_width": null,
            "min_height": null,
            "min_width": null,
            "object_fit": null,
            "object_position": null,
            "order": null,
            "overflow": null,
            "overflow_x": null,
            "overflow_y": null,
            "padding": null,
            "right": null,
            "top": null,
            "visibility": null,
            "width": null
          }
        },
        "360986d93c19456798bcac24042bf6e8": {
          "model_module": "@jupyter-widgets/controls",
          "model_module_version": "1.5.0",
          "model_name": "HBoxModel",
          "state": {
            "_dom_classes": [],
            "_model_module": "@jupyter-widgets/controls",
            "_model_module_version": "1.5.0",
            "_model_name": "HBoxModel",
            "_view_count": null,
            "_view_module": "@jupyter-widgets/controls",
            "_view_module_version": "1.5.0",
            "_view_name": "HBoxView",
            "box_style": "",
            "children": [
              "IPY_MODEL_ab7fd01201ab4cfca32f67def3be2acb",
              "IPY_MODEL_84b7ec3115e54716a63aa94dce229bcb",
              "IPY_MODEL_f08a38d6d263490cb9dc918983cd5ae8"
            ],
            "layout": "IPY_MODEL_b5da9d54f1284486adaa268686e71044"
          }
        },
        "36299a8f39a04a14aa178169f4d501c9": {
          "model_module": "@jupyter-widgets/controls",
          "model_module_version": "1.5.0",
          "model_name": "ProgressStyleModel",
          "state": {
            "_model_module": "@jupyter-widgets/controls",
            "_model_module_version": "1.5.0",
            "_model_name": "ProgressStyleModel",
            "_view_count": null,
            "_view_module": "@jupyter-widgets/base",
            "_view_module_version": "1.2.0",
            "_view_name": "StyleView",
            "bar_color": null,
            "description_width": ""
          }
        },
        "3701ab6992c64ad5bb0bf55ea6c028a7": {
          "model_module": "@jupyter-widgets/controls",
          "model_module_version": "1.5.0",
          "model_name": "DescriptionStyleModel",
          "state": {
            "_model_module": "@jupyter-widgets/controls",
            "_model_module_version": "1.5.0",
            "_model_name": "DescriptionStyleModel",
            "_view_count": null,
            "_view_module": "@jupyter-widgets/base",
            "_view_module_version": "1.2.0",
            "_view_name": "StyleView",
            "description_width": ""
          }
        },
        "37e0b3fdbc5c4d85acdd6e21175fd53f": {
          "model_module": "@jupyter-widgets/controls",
          "model_module_version": "1.5.0",
          "model_name": "DescriptionStyleModel",
          "state": {
            "_model_module": "@jupyter-widgets/controls",
            "_model_module_version": "1.5.0",
            "_model_name": "DescriptionStyleModel",
            "_view_count": null,
            "_view_module": "@jupyter-widgets/base",
            "_view_module_version": "1.2.0",
            "_view_name": "StyleView",
            "description_width": ""
          }
        },
        "39d222b0e0ce4e10907b43f1c0e58825": {
          "model_module": "@jupyter-widgets/base",
          "model_module_version": "1.2.0",
          "model_name": "LayoutModel",
          "state": {
            "_model_module": "@jupyter-widgets/base",
            "_model_module_version": "1.2.0",
            "_model_name": "LayoutModel",
            "_view_count": null,
            "_view_module": "@jupyter-widgets/base",
            "_view_module_version": "1.2.0",
            "_view_name": "LayoutView",
            "align_content": null,
            "align_items": null,
            "align_self": null,
            "border": null,
            "bottom": null,
            "display": null,
            "flex": null,
            "flex_flow": null,
            "grid_area": null,
            "grid_auto_columns": null,
            "grid_auto_flow": null,
            "grid_auto_rows": null,
            "grid_column": null,
            "grid_gap": null,
            "grid_row": null,
            "grid_template_areas": null,
            "grid_template_columns": null,
            "grid_template_rows": null,
            "height": null,
            "justify_content": null,
            "justify_items": null,
            "left": null,
            "margin": null,
            "max_height": null,
            "max_width": null,
            "min_height": null,
            "min_width": null,
            "object_fit": null,
            "object_position": null,
            "order": null,
            "overflow": null,
            "overflow_x": null,
            "overflow_y": null,
            "padding": null,
            "right": null,
            "top": null,
            "visibility": null,
            "width": null
          }
        },
        "3a77813f6cd5443cb764fac39a0a6050": {
          "model_module": "@jupyter-widgets/base",
          "model_module_version": "1.2.0",
          "model_name": "LayoutModel",
          "state": {
            "_model_module": "@jupyter-widgets/base",
            "_model_module_version": "1.2.0",
            "_model_name": "LayoutModel",
            "_view_count": null,
            "_view_module": "@jupyter-widgets/base",
            "_view_module_version": "1.2.0",
            "_view_name": "LayoutView",
            "align_content": null,
            "align_items": null,
            "align_self": null,
            "border": null,
            "bottom": null,
            "display": null,
            "flex": null,
            "flex_flow": null,
            "grid_area": null,
            "grid_auto_columns": null,
            "grid_auto_flow": null,
            "grid_auto_rows": null,
            "grid_column": null,
            "grid_gap": null,
            "grid_row": null,
            "grid_template_areas": null,
            "grid_template_columns": null,
            "grid_template_rows": null,
            "height": null,
            "justify_content": null,
            "justify_items": null,
            "left": null,
            "margin": null,
            "max_height": null,
            "max_width": null,
            "min_height": null,
            "min_width": null,
            "object_fit": null,
            "object_position": null,
            "order": null,
            "overflow": null,
            "overflow_x": null,
            "overflow_y": null,
            "padding": null,
            "right": null,
            "top": null,
            "visibility": null,
            "width": null
          }
        },
        "3b257ffba386405dac880431192ef19a": {
          "model_module": "@jupyter-widgets/controls",
          "model_module_version": "1.5.0",
          "model_name": "DescriptionStyleModel",
          "state": {
            "_model_module": "@jupyter-widgets/controls",
            "_model_module_version": "1.5.0",
            "_model_name": "DescriptionStyleModel",
            "_view_count": null,
            "_view_module": "@jupyter-widgets/base",
            "_view_module_version": "1.2.0",
            "_view_name": "StyleView",
            "description_width": ""
          }
        },
        "420ad617674f43e49f6ed2f6add8662b": {
          "model_module": "@jupyter-widgets/base",
          "model_module_version": "1.2.0",
          "model_name": "LayoutModel",
          "state": {
            "_model_module": "@jupyter-widgets/base",
            "_model_module_version": "1.2.0",
            "_model_name": "LayoutModel",
            "_view_count": null,
            "_view_module": "@jupyter-widgets/base",
            "_view_module_version": "1.2.0",
            "_view_name": "LayoutView",
            "align_content": null,
            "align_items": null,
            "align_self": null,
            "border": null,
            "bottom": null,
            "display": null,
            "flex": null,
            "flex_flow": null,
            "grid_area": null,
            "grid_auto_columns": null,
            "grid_auto_flow": null,
            "grid_auto_rows": null,
            "grid_column": null,
            "grid_gap": null,
            "grid_row": null,
            "grid_template_areas": null,
            "grid_template_columns": null,
            "grid_template_rows": null,
            "height": null,
            "justify_content": null,
            "justify_items": null,
            "left": null,
            "margin": null,
            "max_height": null,
            "max_width": null,
            "min_height": null,
            "min_width": null,
            "object_fit": null,
            "object_position": null,
            "order": null,
            "overflow": null,
            "overflow_x": null,
            "overflow_y": null,
            "padding": null,
            "right": null,
            "top": null,
            "visibility": null,
            "width": null
          }
        },
        "421ed24482fa4425842c2b5363977f6c": {
          "model_module": "@jupyter-widgets/base",
          "model_module_version": "1.2.0",
          "model_name": "LayoutModel",
          "state": {
            "_model_module": "@jupyter-widgets/base",
            "_model_module_version": "1.2.0",
            "_model_name": "LayoutModel",
            "_view_count": null,
            "_view_module": "@jupyter-widgets/base",
            "_view_module_version": "1.2.0",
            "_view_name": "LayoutView",
            "align_content": null,
            "align_items": null,
            "align_self": null,
            "border": null,
            "bottom": null,
            "display": null,
            "flex": null,
            "flex_flow": null,
            "grid_area": null,
            "grid_auto_columns": null,
            "grid_auto_flow": null,
            "grid_auto_rows": null,
            "grid_column": null,
            "grid_gap": null,
            "grid_row": null,
            "grid_template_areas": null,
            "grid_template_columns": null,
            "grid_template_rows": null,
            "height": null,
            "justify_content": null,
            "justify_items": null,
            "left": null,
            "margin": null,
            "max_height": null,
            "max_width": null,
            "min_height": null,
            "min_width": null,
            "object_fit": null,
            "object_position": null,
            "order": null,
            "overflow": null,
            "overflow_x": null,
            "overflow_y": null,
            "padding": null,
            "right": null,
            "top": null,
            "visibility": null,
            "width": null
          }
        },
        "43685d799cc340b7bafcca540a345b4a": {
          "model_module": "@jupyter-widgets/controls",
          "model_module_version": "1.5.0",
          "model_name": "FloatProgressModel",
          "state": {
            "_dom_classes": [],
            "_model_module": "@jupyter-widgets/controls",
            "_model_module_version": "1.5.0",
            "_model_name": "FloatProgressModel",
            "_view_count": null,
            "_view_module": "@jupyter-widgets/controls",
            "_view_module_version": "1.5.0",
            "_view_name": "ProgressView",
            "bar_style": "success",
            "description": "",
            "description_tooltip": null,
            "layout": "IPY_MODEL_7d0127e5e2c7414498085c4b788184f8",
            "max": 548105171,
            "min": 0,
            "orientation": "horizontal",
            "style": "IPY_MODEL_6d69f5d0baaf4590b7831f9939598738",
            "value": 548105171
          }
        },
        "43920883352644c5bb03569eeafd8411": {
          "model_module": "@jupyter-widgets/controls",
          "model_module_version": "1.5.0",
          "model_name": "DescriptionStyleModel",
          "state": {
            "_model_module": "@jupyter-widgets/controls",
            "_model_module_version": "1.5.0",
            "_model_name": "DescriptionStyleModel",
            "_view_count": null,
            "_view_module": "@jupyter-widgets/base",
            "_view_module_version": "1.2.0",
            "_view_name": "StyleView",
            "description_width": ""
          }
        },
        "439ae25fa03a46f6a7b63bc350b15c8b": {
          "model_module": "@jupyter-widgets/base",
          "model_module_version": "1.2.0",
          "model_name": "LayoutModel",
          "state": {
            "_model_module": "@jupyter-widgets/base",
            "_model_module_version": "1.2.0",
            "_model_name": "LayoutModel",
            "_view_count": null,
            "_view_module": "@jupyter-widgets/base",
            "_view_module_version": "1.2.0",
            "_view_name": "LayoutView",
            "align_content": null,
            "align_items": null,
            "align_self": null,
            "border": null,
            "bottom": null,
            "display": null,
            "flex": null,
            "flex_flow": null,
            "grid_area": null,
            "grid_auto_columns": null,
            "grid_auto_flow": null,
            "grid_auto_rows": null,
            "grid_column": null,
            "grid_gap": null,
            "grid_row": null,
            "grid_template_areas": null,
            "grid_template_columns": null,
            "grid_template_rows": null,
            "height": null,
            "justify_content": null,
            "justify_items": null,
            "left": null,
            "margin": null,
            "max_height": null,
            "max_width": null,
            "min_height": null,
            "min_width": null,
            "object_fit": null,
            "object_position": null,
            "order": null,
            "overflow": null,
            "overflow_x": null,
            "overflow_y": null,
            "padding": null,
            "right": null,
            "top": null,
            "visibility": null,
            "width": null
          }
        },
        "451a1c60abd74a14924640d5e3a8a305": {
          "model_module": "@jupyter-widgets/controls",
          "model_module_version": "1.5.0",
          "model_name": "DescriptionStyleModel",
          "state": {
            "_model_module": "@jupyter-widgets/controls",
            "_model_module_version": "1.5.0",
            "_model_name": "DescriptionStyleModel",
            "_view_count": null,
            "_view_module": "@jupyter-widgets/base",
            "_view_module_version": "1.2.0",
            "_view_name": "StyleView",
            "description_width": ""
          }
        },
        "497cfd5134a74e4caf2009e74a856a36": {
          "model_module": "@jupyter-widgets/base",
          "model_module_version": "1.2.0",
          "model_name": "LayoutModel",
          "state": {
            "_model_module": "@jupyter-widgets/base",
            "_model_module_version": "1.2.0",
            "_model_name": "LayoutModel",
            "_view_count": null,
            "_view_module": "@jupyter-widgets/base",
            "_view_module_version": "1.2.0",
            "_view_name": "LayoutView",
            "align_content": null,
            "align_items": null,
            "align_self": null,
            "border": null,
            "bottom": null,
            "display": null,
            "flex": null,
            "flex_flow": null,
            "grid_area": null,
            "grid_auto_columns": null,
            "grid_auto_flow": null,
            "grid_auto_rows": null,
            "grid_column": null,
            "grid_gap": null,
            "grid_row": null,
            "grid_template_areas": null,
            "grid_template_columns": null,
            "grid_template_rows": null,
            "height": null,
            "justify_content": null,
            "justify_items": null,
            "left": null,
            "margin": null,
            "max_height": null,
            "max_width": null,
            "min_height": null,
            "min_width": null,
            "object_fit": null,
            "object_position": null,
            "order": null,
            "overflow": null,
            "overflow_x": null,
            "overflow_y": null,
            "padding": null,
            "right": null,
            "top": null,
            "visibility": null,
            "width": null
          }
        },
        "4a554bd28d1642c5bf5326e682daddd1": {
          "model_module": "@jupyter-widgets/controls",
          "model_module_version": "1.5.0",
          "model_name": "ProgressStyleModel",
          "state": {
            "_model_module": "@jupyter-widgets/controls",
            "_model_module_version": "1.5.0",
            "_model_name": "ProgressStyleModel",
            "_view_count": null,
            "_view_module": "@jupyter-widgets/base",
            "_view_module_version": "1.2.0",
            "_view_name": "StyleView",
            "bar_color": null,
            "description_width": ""
          }
        },
        "4ddc15fbe3044bc59e89cbc45519bf0f": {
          "model_module": "@jupyter-widgets/controls",
          "model_module_version": "1.5.0",
          "model_name": "HTMLModel",
          "state": {
            "_dom_classes": [],
            "_model_module": "@jupyter-widgets/controls",
            "_model_module_version": "1.5.0",
            "_model_name": "HTMLModel",
            "_view_count": null,
            "_view_module": "@jupyter-widgets/controls",
            "_view_module_version": "1.5.0",
            "_view_name": "HTMLView",
            "description": "",
            "description_tooltip": null,
            "layout": "IPY_MODEL_8e4e46015fc24ba0910c620dd3161627",
            "placeholder": "​",
            "style": "IPY_MODEL_37e0b3fdbc5c4d85acdd6e21175fd53f",
            "value": " 1.36M/1.36M [00:00&lt;00:00, 18.8MB/s]"
          }
        },
        "4ea668157df64d4fb8d68ca3028d89da": {
          "model_module": "@jupyter-widgets/base",
          "model_module_version": "1.2.0",
          "model_name": "LayoutModel",
          "state": {
            "_model_module": "@jupyter-widgets/base",
            "_model_module_version": "1.2.0",
            "_model_name": "LayoutModel",
            "_view_count": null,
            "_view_module": "@jupyter-widgets/base",
            "_view_module_version": "1.2.0",
            "_view_name": "LayoutView",
            "align_content": null,
            "align_items": null,
            "align_self": null,
            "border": null,
            "bottom": null,
            "display": null,
            "flex": null,
            "flex_flow": null,
            "grid_area": null,
            "grid_auto_columns": null,
            "grid_auto_flow": null,
            "grid_auto_rows": null,
            "grid_column": null,
            "grid_gap": null,
            "grid_row": null,
            "grid_template_areas": null,
            "grid_template_columns": null,
            "grid_template_rows": null,
            "height": null,
            "justify_content": null,
            "justify_items": null,
            "left": null,
            "margin": null,
            "max_height": null,
            "max_width": null,
            "min_height": null,
            "min_width": null,
            "object_fit": null,
            "object_position": null,
            "order": null,
            "overflow": null,
            "overflow_x": null,
            "overflow_y": null,
            "padding": null,
            "right": null,
            "top": null,
            "visibility": null,
            "width": null
          }
        },
        "4f682dd7cb734ed98d09d35cb73f7f67": {
          "model_module": "@jupyter-widgets/base",
          "model_module_version": "1.2.0",
          "model_name": "LayoutModel",
          "state": {
            "_model_module": "@jupyter-widgets/base",
            "_model_module_version": "1.2.0",
            "_model_name": "LayoutModel",
            "_view_count": null,
            "_view_module": "@jupyter-widgets/base",
            "_view_module_version": "1.2.0",
            "_view_name": "LayoutView",
            "align_content": null,
            "align_items": null,
            "align_self": null,
            "border": null,
            "bottom": null,
            "display": null,
            "flex": null,
            "flex_flow": null,
            "grid_area": null,
            "grid_auto_columns": null,
            "grid_auto_flow": null,
            "grid_auto_rows": null,
            "grid_column": null,
            "grid_gap": null,
            "grid_row": null,
            "grid_template_areas": null,
            "grid_template_columns": null,
            "grid_template_rows": null,
            "height": null,
            "justify_content": null,
            "justify_items": null,
            "left": null,
            "margin": null,
            "max_height": null,
            "max_width": null,
            "min_height": null,
            "min_width": null,
            "object_fit": null,
            "object_position": null,
            "order": null,
            "overflow": null,
            "overflow_x": null,
            "overflow_y": null,
            "padding": null,
            "right": null,
            "top": null,
            "visibility": null,
            "width": null
          }
        },
        "4f9d731ad1d4409c813ffb27694d2af6": {
          "model_module": "@jupyter-widgets/base",
          "model_module_version": "1.2.0",
          "model_name": "LayoutModel",
          "state": {
            "_model_module": "@jupyter-widgets/base",
            "_model_module_version": "1.2.0",
            "_model_name": "LayoutModel",
            "_view_count": null,
            "_view_module": "@jupyter-widgets/base",
            "_view_module_version": "1.2.0",
            "_view_name": "LayoutView",
            "align_content": null,
            "align_items": null,
            "align_self": null,
            "border": null,
            "bottom": null,
            "display": null,
            "flex": null,
            "flex_flow": null,
            "grid_area": null,
            "grid_auto_columns": null,
            "grid_auto_flow": null,
            "grid_auto_rows": null,
            "grid_column": null,
            "grid_gap": null,
            "grid_row": null,
            "grid_template_areas": null,
            "grid_template_columns": null,
            "grid_template_rows": null,
            "height": null,
            "justify_content": null,
            "justify_items": null,
            "left": null,
            "margin": null,
            "max_height": null,
            "max_width": null,
            "min_height": null,
            "min_width": null,
            "object_fit": null,
            "object_position": null,
            "order": null,
            "overflow": null,
            "overflow_x": null,
            "overflow_y": null,
            "padding": null,
            "right": null,
            "top": null,
            "visibility": null,
            "width": null
          }
        },
        "504a0bdfcbe44940b3848c662564cb46": {
          "model_module": "@jupyter-widgets/controls",
          "model_module_version": "1.5.0",
          "model_name": "DescriptionStyleModel",
          "state": {
            "_model_module": "@jupyter-widgets/controls",
            "_model_module_version": "1.5.0",
            "_model_name": "DescriptionStyleModel",
            "_view_count": null,
            "_view_module": "@jupyter-widgets/base",
            "_view_module_version": "1.2.0",
            "_view_name": "StyleView",
            "description_width": ""
          }
        },
        "50fa567a3d1240339c49cbb4a6ba2b92": {
          "model_module": "@jupyter-widgets/controls",
          "model_module_version": "1.5.0",
          "model_name": "FloatProgressModel",
          "state": {
            "_dom_classes": [],
            "_model_module": "@jupyter-widgets/controls",
            "_model_module_version": "1.5.0",
            "_model_name": "FloatProgressModel",
            "_view_count": null,
            "_view_module": "@jupyter-widgets/controls",
            "_view_module_version": "1.5.0",
            "_view_name": "ProgressView",
            "bar_style": "",
            "description": "",
            "description_tooltip": null,
            "layout": "IPY_MODEL_9e301cb1b39946719a1919f9c11f685a",
            "max": 1,
            "min": 0,
            "orientation": "horizontal",
            "style": "IPY_MODEL_ae9cf57283d345399299a0f44eee4552",
            "value": 1
          }
        },
        "52244926f31a4c5ba7495217597c2b67": {
          "model_module": "@jupyter-widgets/base",
          "model_module_version": "1.2.0",
          "model_name": "LayoutModel",
          "state": {
            "_model_module": "@jupyter-widgets/base",
            "_model_module_version": "1.2.0",
            "_model_name": "LayoutModel",
            "_view_count": null,
            "_view_module": "@jupyter-widgets/base",
            "_view_module_version": "1.2.0",
            "_view_name": "LayoutView",
            "align_content": null,
            "align_items": null,
            "align_self": null,
            "border": null,
            "bottom": null,
            "display": null,
            "flex": null,
            "flex_flow": null,
            "grid_area": null,
            "grid_auto_columns": null,
            "grid_auto_flow": null,
            "grid_auto_rows": null,
            "grid_column": null,
            "grid_gap": null,
            "grid_row": null,
            "grid_template_areas": null,
            "grid_template_columns": null,
            "grid_template_rows": null,
            "height": null,
            "justify_content": null,
            "justify_items": null,
            "left": null,
            "margin": null,
            "max_height": null,
            "max_width": null,
            "min_height": null,
            "min_width": null,
            "object_fit": null,
            "object_position": null,
            "order": null,
            "overflow": null,
            "overflow_x": null,
            "overflow_y": null,
            "padding": null,
            "right": null,
            "top": null,
            "visibility": null,
            "width": null
          }
        },
        "52a01fc3547b497cbc89d784e7837d16": {
          "model_module": "@jupyter-widgets/controls",
          "model_module_version": "1.5.0",
          "model_name": "ProgressStyleModel",
          "state": {
            "_model_module": "@jupyter-widgets/controls",
            "_model_module_version": "1.5.0",
            "_model_name": "ProgressStyleModel",
            "_view_count": null,
            "_view_module": "@jupyter-widgets/base",
            "_view_module_version": "1.2.0",
            "_view_name": "StyleView",
            "bar_color": null,
            "description_width": ""
          }
        },
        "540b580999bb4e19bc597296aebabcdd": {
          "model_module": "@jupyter-widgets/base",
          "model_module_version": "1.2.0",
          "model_name": "LayoutModel",
          "state": {
            "_model_module": "@jupyter-widgets/base",
            "_model_module_version": "1.2.0",
            "_model_name": "LayoutModel",
            "_view_count": null,
            "_view_module": "@jupyter-widgets/base",
            "_view_module_version": "1.2.0",
            "_view_name": "LayoutView",
            "align_content": null,
            "align_items": null,
            "align_self": null,
            "border": null,
            "bottom": null,
            "display": null,
            "flex": null,
            "flex_flow": null,
            "grid_area": null,
            "grid_auto_columns": null,
            "grid_auto_flow": null,
            "grid_auto_rows": null,
            "grid_column": null,
            "grid_gap": null,
            "grid_row": null,
            "grid_template_areas": null,
            "grid_template_columns": null,
            "grid_template_rows": null,
            "height": null,
            "justify_content": null,
            "justify_items": null,
            "left": null,
            "margin": null,
            "max_height": null,
            "max_width": null,
            "min_height": null,
            "min_width": null,
            "object_fit": null,
            "object_position": null,
            "order": null,
            "overflow": null,
            "overflow_x": null,
            "overflow_y": null,
            "padding": null,
            "right": null,
            "top": null,
            "visibility": null,
            "width": null
          }
        },
        "5446a0429dc741db96ae8986415c167f": {
          "model_module": "@jupyter-widgets/base",
          "model_module_version": "1.2.0",
          "model_name": "LayoutModel",
          "state": {
            "_model_module": "@jupyter-widgets/base",
            "_model_module_version": "1.2.0",
            "_model_name": "LayoutModel",
            "_view_count": null,
            "_view_module": "@jupyter-widgets/base",
            "_view_module_version": "1.2.0",
            "_view_name": "LayoutView",
            "align_content": null,
            "align_items": null,
            "align_self": null,
            "border": null,
            "bottom": null,
            "display": null,
            "flex": null,
            "flex_flow": null,
            "grid_area": null,
            "grid_auto_columns": null,
            "grid_auto_flow": null,
            "grid_auto_rows": null,
            "grid_column": null,
            "grid_gap": null,
            "grid_row": null,
            "grid_template_areas": null,
            "grid_template_columns": null,
            "grid_template_rows": null,
            "height": null,
            "justify_content": null,
            "justify_items": null,
            "left": null,
            "margin": null,
            "max_height": null,
            "max_width": null,
            "min_height": null,
            "min_width": null,
            "object_fit": null,
            "object_position": null,
            "order": null,
            "overflow": null,
            "overflow_x": null,
            "overflow_y": null,
            "padding": null,
            "right": null,
            "top": null,
            "visibility": null,
            "width": null
          }
        },
        "56b8fe7b6c214debb41d4ee557d07c49": {
          "model_module": "@jupyter-widgets/controls",
          "model_module_version": "1.5.0",
          "model_name": "ProgressStyleModel",
          "state": {
            "_model_module": "@jupyter-widgets/controls",
            "_model_module_version": "1.5.0",
            "_model_name": "ProgressStyleModel",
            "_view_count": null,
            "_view_module": "@jupyter-widgets/base",
            "_view_module_version": "1.2.0",
            "_view_name": "StyleView",
            "bar_color": null,
            "description_width": ""
          }
        },
        "56fdb930c327474eb8d96fbddba791f0": {
          "model_module": "@jupyter-widgets/controls",
          "model_module_version": "1.5.0",
          "model_name": "VBoxModel",
          "state": {
            "_dom_classes": [],
            "_model_module": "@jupyter-widgets/controls",
            "_model_module_version": "1.5.0",
            "_model_name": "VBoxModel",
            "_view_count": null,
            "_view_module": "@jupyter-widgets/controls",
            "_view_module_version": "1.5.0",
            "_view_name": "VBoxView",
            "box_style": "",
            "children": [
              "IPY_MODEL_2b4021e25bd54216a8e01f95eb3d7961",
              "IPY_MODEL_50fa567a3d1240339c49cbb4a6ba2b92"
            ],
            "layout": "IPY_MODEL_078c768e382d4343b002ec42095a3fa1"
          }
        },
        "571b0b9bde254692a8fac5ff1a0bc58f": {
          "model_module": "@jupyter-widgets/base",
          "model_module_version": "1.2.0",
          "model_name": "LayoutModel",
          "state": {
            "_model_module": "@jupyter-widgets/base",
            "_model_module_version": "1.2.0",
            "_model_name": "LayoutModel",
            "_view_count": null,
            "_view_module": "@jupyter-widgets/base",
            "_view_module_version": "1.2.0",
            "_view_name": "LayoutView",
            "align_content": null,
            "align_items": null,
            "align_self": null,
            "border": null,
            "bottom": null,
            "display": null,
            "flex": null,
            "flex_flow": null,
            "grid_area": null,
            "grid_auto_columns": null,
            "grid_auto_flow": null,
            "grid_auto_rows": null,
            "grid_column": null,
            "grid_gap": null,
            "grid_row": null,
            "grid_template_areas": null,
            "grid_template_columns": null,
            "grid_template_rows": null,
            "height": null,
            "justify_content": null,
            "justify_items": null,
            "left": null,
            "margin": null,
            "max_height": null,
            "max_width": null,
            "min_height": null,
            "min_width": null,
            "object_fit": null,
            "object_position": null,
            "order": null,
            "overflow": null,
            "overflow_x": null,
            "overflow_y": null,
            "padding": null,
            "right": null,
            "top": null,
            "visibility": null,
            "width": null
          }
        },
        "5a4e57f8a6c247708b52c01901727b91": {
          "model_module": "@jupyter-widgets/controls",
          "model_module_version": "1.5.0",
          "model_name": "HTMLModel",
          "state": {
            "_dom_classes": [],
            "_model_module": "@jupyter-widgets/controls",
            "_model_module_version": "1.5.0",
            "_model_name": "HTMLModel",
            "_view_count": null,
            "_view_module": "@jupyter-widgets/controls",
            "_view_module_version": "1.5.0",
            "_view_name": "HTMLView",
            "description": "",
            "description_tooltip": null,
            "layout": "IPY_MODEL_6f6bf384f3554fef80ac1ac48f7e0160",
            "placeholder": "​",
            "style": "IPY_MODEL_504a0bdfcbe44940b3848c662564cb46",
            "value": "Map (num_proc=4): 100%"
          }
        },
        "5b84e2e915314dccaa0c3337d832aec4": {
          "model_module": "@jupyter-widgets/controls",
          "model_module_version": "1.5.0",
          "model_name": "HTMLModel",
          "state": {
            "_dom_classes": [],
            "_model_module": "@jupyter-widgets/controls",
            "_model_module_version": "1.5.0",
            "_model_name": "HTMLModel",
            "_view_count": null,
            "_view_module": "@jupyter-widgets/controls",
            "_view_module_version": "1.5.0",
            "_view_name": "HTMLView",
            "description": "",
            "description_tooltip": null,
            "layout": "IPY_MODEL_83fc637dd5ce492f8dc0335a13911e8e",
            "placeholder": "​",
            "style": "IPY_MODEL_b88c4efbf35d4f2faa126990681e3bec",
            "value": " 100/100 [00:05&lt;00:00, 19.23it/s]"
          }
        },
        "5c3d9c7fefb64b3e8e81662041cd21ce": {
          "model_module": "@jupyter-widgets/controls",
          "model_module_version": "1.5.0",
          "model_name": "ProgressStyleModel",
          "state": {
            "_model_module": "@jupyter-widgets/controls",
            "_model_module_version": "1.5.0",
            "_model_name": "ProgressStyleModel",
            "_view_count": null,
            "_view_module": "@jupyter-widgets/base",
            "_view_module_version": "1.2.0",
            "_view_name": "StyleView",
            "bar_color": null,
            "description_width": ""
          }
        },
        "5c3f92fd977b4d4d908f96cdbff73bed": {
          "model_module": "@jupyter-widgets/controls",
          "model_module_version": "1.5.0",
          "model_name": "HTMLModel",
          "state": {
            "_dom_classes": [],
            "_model_module": "@jupyter-widgets/controls",
            "_model_module_version": "1.5.0",
            "_model_name": "HTMLModel",
            "_view_count": null,
            "_view_module": "@jupyter-widgets/controls",
            "_view_module_version": "1.5.0",
            "_view_name": "HTMLView",
            "description": "",
            "description_tooltip": null,
            "layout": "IPY_MODEL_12c52c35ef924e77b8654833e9bd950f",
            "placeholder": "​",
            "style": "IPY_MODEL_fc0788cc1ea040678b155998593c68a0",
            "value": "config.json: 100%"
          }
        },
        "5f372ea899074904ae295d9c501f70fb": {
          "model_module": "@jupyter-widgets/controls",
          "model_module_version": "1.5.0",
          "model_name": "HBoxModel",
          "state": {
            "_dom_classes": [],
            "_model_module": "@jupyter-widgets/controls",
            "_model_module_version": "1.5.0",
            "_model_name": "HBoxModel",
            "_view_count": null,
            "_view_module": "@jupyter-widgets/controls",
            "_view_module_version": "1.5.0",
            "_view_name": "HBoxView",
            "box_style": "",
            "children": [
              "IPY_MODEL_24e8beea147240f0bc660819c238338a",
              "IPY_MODEL_ec33a83aa06140daa9337c73595d8fb8",
              "IPY_MODEL_a324b6017498425b8362049b0541ea78"
            ],
            "layout": "IPY_MODEL_c5c85f8c4be14ca9b8acf238cc438946"
          }
        },
        "5f5a0846a31b4d76a5677655d9446df2": {
          "model_module": "@jupyter-widgets/controls",
          "model_module_version": "1.5.0",
          "model_name": "FloatProgressModel",
          "state": {
            "_dom_classes": [],
            "_model_module": "@jupyter-widgets/controls",
            "_model_module_version": "1.5.0",
            "_model_name": "FloatProgressModel",
            "_view_count": null,
            "_view_module": "@jupyter-widgets/controls",
            "_view_module_version": "1.5.0",
            "_view_name": "ProgressView",
            "bar_style": "success",
            "description": "",
            "description_tooltip": null,
            "layout": "IPY_MODEL_e0dff96e96104e159f40738df5e2779f",
            "max": 26,
            "min": 0,
            "orientation": "horizontal",
            "style": "IPY_MODEL_5c3d9c7fefb64b3e8e81662041cd21ce",
            "value": 26
          }
        },
        "640f5170fda74cd299ab91c9b3433e5e": {
          "model_module": "@jupyter-widgets/controls",
          "model_module_version": "1.5.0",
          "model_name": "FloatProgressModel",
          "state": {
            "_dom_classes": [],
            "_model_module": "@jupyter-widgets/controls",
            "_model_module_version": "1.5.0",
            "_model_name": "FloatProgressModel",
            "_view_count": null,
            "_view_module": "@jupyter-widgets/controls",
            "_view_module_version": "1.5.0",
            "_view_name": "ProgressView",
            "bar_style": "success",
            "description": "",
            "description_tooltip": null,
            "layout": "IPY_MODEL_98ea47810e4640da94bb59ad9df290db",
            "max": 33262901,
            "min": 0,
            "orientation": "horizontal",
            "style": "IPY_MODEL_c4dde5765e064e21b93718a620706684",
            "value": 33262901
          }
        },
        "648f4ac074ca4391aa3fa8c114cad76e": {
          "model_module": "@jupyter-widgets/base",
          "model_module_version": "1.2.0",
          "model_name": "LayoutModel",
          "state": {
            "_model_module": "@jupyter-widgets/base",
            "_model_module_version": "1.2.0",
            "_model_name": "LayoutModel",
            "_view_count": null,
            "_view_module": "@jupyter-widgets/base",
            "_view_module_version": "1.2.0",
            "_view_name": "LayoutView",
            "align_content": null,
            "align_items": null,
            "align_self": null,
            "border": null,
            "bottom": null,
            "display": null,
            "flex": null,
            "flex_flow": null,
            "grid_area": null,
            "grid_auto_columns": null,
            "grid_auto_flow": null,
            "grid_auto_rows": null,
            "grid_column": null,
            "grid_gap": null,
            "grid_row": null,
            "grid_template_areas": null,
            "grid_template_columns": null,
            "grid_template_rows": null,
            "height": null,
            "justify_content": null,
            "justify_items": null,
            "left": null,
            "margin": null,
            "max_height": null,
            "max_width": null,
            "min_height": null,
            "min_width": null,
            "object_fit": null,
            "object_position": null,
            "order": null,
            "overflow": null,
            "overflow_x": null,
            "overflow_y": null,
            "padding": null,
            "right": null,
            "top": null,
            "visibility": null,
            "width": null
          }
        },
        "64e841bc002147e396626c475890153d": {
          "model_module": "@jupyter-widgets/base",
          "model_module_version": "1.2.0",
          "model_name": "LayoutModel",
          "state": {
            "_model_module": "@jupyter-widgets/base",
            "_model_module_version": "1.2.0",
            "_model_name": "LayoutModel",
            "_view_count": null,
            "_view_module": "@jupyter-widgets/base",
            "_view_module_version": "1.2.0",
            "_view_name": "LayoutView",
            "align_content": null,
            "align_items": null,
            "align_self": null,
            "border": null,
            "bottom": null,
            "display": null,
            "flex": null,
            "flex_flow": null,
            "grid_area": null,
            "grid_auto_columns": null,
            "grid_auto_flow": null,
            "grid_auto_rows": null,
            "grid_column": null,
            "grid_gap": null,
            "grid_row": null,
            "grid_template_areas": null,
            "grid_template_columns": null,
            "grid_template_rows": null,
            "height": null,
            "justify_content": null,
            "justify_items": null,
            "left": null,
            "margin": null,
            "max_height": null,
            "max_width": null,
            "min_height": null,
            "min_width": null,
            "object_fit": null,
            "object_position": null,
            "order": null,
            "overflow": null,
            "overflow_x": null,
            "overflow_y": null,
            "padding": null,
            "right": null,
            "top": null,
            "visibility": null,
            "width": null
          }
        },
        "64f5203fbcbf4aa2933ea0b33c303412": {
          "model_module": "@jupyter-widgets/controls",
          "model_module_version": "1.5.0",
          "model_name": "ProgressStyleModel",
          "state": {
            "_model_module": "@jupyter-widgets/controls",
            "_model_module_version": "1.5.0",
            "_model_name": "ProgressStyleModel",
            "_view_count": null,
            "_view_module": "@jupyter-widgets/base",
            "_view_module_version": "1.2.0",
            "_view_name": "StyleView",
            "bar_color": null,
            "description_width": ""
          }
        },
        "654420958efc4671bd0408d11d594d51": {
          "model_module": "@jupyter-widgets/base",
          "model_module_version": "1.2.0",
          "model_name": "LayoutModel",
          "state": {
            "_model_module": "@jupyter-widgets/base",
            "_model_module_version": "1.2.0",
            "_model_name": "LayoutModel",
            "_view_count": null,
            "_view_module": "@jupyter-widgets/base",
            "_view_module_version": "1.2.0",
            "_view_name": "LayoutView",
            "align_content": null,
            "align_items": null,
            "align_self": null,
            "border": null,
            "bottom": null,
            "display": null,
            "flex": null,
            "flex_flow": null,
            "grid_area": null,
            "grid_auto_columns": null,
            "grid_auto_flow": null,
            "grid_auto_rows": null,
            "grid_column": null,
            "grid_gap": null,
            "grid_row": null,
            "grid_template_areas": null,
            "grid_template_columns": null,
            "grid_template_rows": null,
            "height": null,
            "justify_content": null,
            "justify_items": null,
            "left": null,
            "margin": null,
            "max_height": null,
            "max_width": null,
            "min_height": null,
            "min_width": null,
            "object_fit": null,
            "object_position": null,
            "order": null,
            "overflow": null,
            "overflow_x": null,
            "overflow_y": null,
            "padding": null,
            "right": null,
            "top": null,
            "visibility": null,
            "width": null
          }
        },
        "67f147327cbf49b2b2e9d2a5395e386f": {
          "model_module": "@jupyter-widgets/controls",
          "model_module_version": "1.5.0",
          "model_name": "HTMLModel",
          "state": {
            "_dom_classes": [],
            "_model_module": "@jupyter-widgets/controls",
            "_model_module_version": "1.5.0",
            "_model_name": "HTMLModel",
            "_view_count": null,
            "_view_module": "@jupyter-widgets/controls",
            "_view_module_version": "1.5.0",
            "_view_name": "HTMLView",
            "description": "",
            "description_tooltip": null,
            "layout": "IPY_MODEL_ae8afef9cfec430ba2e318705a4223ba",
            "placeholder": "​",
            "style": "IPY_MODEL_a178800868f3426ab41122b6ca113d15",
            "value": "tokenizer.json: 100%"
          }
        },
        "68a5d4ac556e471b9b718852d2b45991": {
          "model_module": "@jupyter-widgets/controls",
          "model_module_version": "1.5.0",
          "model_name": "DescriptionStyleModel",
          "state": {
            "_model_module": "@jupyter-widgets/controls",
            "_model_module_version": "1.5.0",
            "_model_name": "DescriptionStyleModel",
            "_view_count": null,
            "_view_module": "@jupyter-widgets/base",
            "_view_module_version": "1.2.0",
            "_view_name": "StyleView",
            "description_width": ""
          }
        },
        "6a621c7bfe6349de9f4f9a6e7f3d1d86": {
          "model_module": "@jupyter-widgets/base",
          "model_module_version": "1.2.0",
          "model_name": "LayoutModel",
          "state": {
            "_model_module": "@jupyter-widgets/base",
            "_model_module_version": "1.2.0",
            "_model_name": "LayoutModel",
            "_view_count": null,
            "_view_module": "@jupyter-widgets/base",
            "_view_module_version": "1.2.0",
            "_view_name": "LayoutView",
            "align_content": null,
            "align_items": null,
            "align_self": null,
            "border": null,
            "bottom": null,
            "display": null,
            "flex": null,
            "flex_flow": null,
            "grid_area": null,
            "grid_auto_columns": null,
            "grid_auto_flow": null,
            "grid_auto_rows": null,
            "grid_column": null,
            "grid_gap": null,
            "grid_row": null,
            "grid_template_areas": null,
            "grid_template_columns": null,
            "grid_template_rows": null,
            "height": null,
            "justify_content": null,
            "justify_items": null,
            "left": null,
            "margin": null,
            "max_height": null,
            "max_width": null,
            "min_height": null,
            "min_width": null,
            "object_fit": null,
            "object_position": null,
            "order": null,
            "overflow": null,
            "overflow_x": null,
            "overflow_y": null,
            "padding": null,
            "right": null,
            "top": null,
            "visibility": null,
            "width": null
          }
        },
        "6a9416c25d9d4f4d963bfe02f3eac6eb": {
          "model_module": "@jupyter-widgets/controls",
          "model_module_version": "1.5.0",
          "model_name": "HBoxModel",
          "state": {
            "_dom_classes": [],
            "_model_module": "@jupyter-widgets/controls",
            "_model_module_version": "1.5.0",
            "_model_name": "HBoxModel",
            "_view_count": null,
            "_view_module": "@jupyter-widgets/controls",
            "_view_module_version": "1.5.0",
            "_view_name": "HBoxView",
            "box_style": "",
            "children": [
              "IPY_MODEL_67f147327cbf49b2b2e9d2a5395e386f",
              "IPY_MODEL_e7a4696abb864486bd9c56b7a712b62c",
              "IPY_MODEL_4ddc15fbe3044bc59e89cbc45519bf0f"
            ],
            "layout": "IPY_MODEL_84637fa4e06a4ea5af462244760367ba"
          }
        },
        "6ac9db692a124b5e9baaaa2d97dad713": {
          "model_module": "@jupyter-widgets/controls",
          "model_module_version": "1.5.0",
          "model_name": "ProgressStyleModel",
          "state": {
            "_model_module": "@jupyter-widgets/controls",
            "_model_module_version": "1.5.0",
            "_model_name": "ProgressStyleModel",
            "_view_count": null,
            "_view_module": "@jupyter-widgets/base",
            "_view_module_version": "1.2.0",
            "_view_name": "StyleView",
            "bar_color": null,
            "description_width": ""
          }
        },
        "6d69f5d0baaf4590b7831f9939598738": {
          "model_module": "@jupyter-widgets/controls",
          "model_module_version": "1.5.0",
          "model_name": "ProgressStyleModel",
          "state": {
            "_model_module": "@jupyter-widgets/controls",
            "_model_module_version": "1.5.0",
            "_model_name": "ProgressStyleModel",
            "_view_count": null,
            "_view_module": "@jupyter-widgets/base",
            "_view_module_version": "1.2.0",
            "_view_name": "StyleView",
            "bar_color": null,
            "description_width": ""
          }
        },
        "6e5f1540cd6b4396b7267ab6d68e1893": {
          "model_module": "@jupyter-widgets/controls",
          "model_module_version": "1.5.0",
          "model_name": "HTMLModel",
          "state": {
            "_dom_classes": [],
            "_model_module": "@jupyter-widgets/controls",
            "_model_module_version": "1.5.0",
            "_model_name": "HTMLModel",
            "_view_count": null,
            "_view_module": "@jupyter-widgets/controls",
            "_view_module_version": "1.5.0",
            "_view_name": "HTMLView",
            "description": "",
            "description_tooltip": null,
            "layout": "IPY_MODEL_b4b4d978fc5449c98c4c0b49ec08e7ad",
            "placeholder": "​",
            "style": "IPY_MODEL_e3e84318af3e48c2a3d4b393ba1fcda5",
            "value": "vocab.json: 100%"
          }
        },
        "6ee6598d2c64481ab3ef7e24b0e1c6ff": {
          "model_module": "@jupyter-widgets/controls",
          "model_module_version": "1.5.0",
          "model_name": "DescriptionStyleModel",
          "state": {
            "_model_module": "@jupyter-widgets/controls",
            "_model_module_version": "1.5.0",
            "_model_name": "DescriptionStyleModel",
            "_view_count": null,
            "_view_module": "@jupyter-widgets/base",
            "_view_module_version": "1.2.0",
            "_view_name": "StyleView",
            "description_width": ""
          }
        },
        "6f02a64f4ab343d29c41991a7787f3ef": {
          "model_module": "@jupyter-widgets/controls",
          "model_module_version": "1.5.0",
          "model_name": "ProgressStyleModel",
          "state": {
            "_model_module": "@jupyter-widgets/controls",
            "_model_module_version": "1.5.0",
            "_model_name": "ProgressStyleModel",
            "_view_count": null,
            "_view_module": "@jupyter-widgets/base",
            "_view_module_version": "1.2.0",
            "_view_name": "StyleView",
            "bar_color": null,
            "description_width": ""
          }
        },
        "6f6bf384f3554fef80ac1ac48f7e0160": {
          "model_module": "@jupyter-widgets/base",
          "model_module_version": "1.2.0",
          "model_name": "LayoutModel",
          "state": {
            "_model_module": "@jupyter-widgets/base",
            "_model_module_version": "1.2.0",
            "_model_name": "LayoutModel",
            "_view_count": null,
            "_view_module": "@jupyter-widgets/base",
            "_view_module_version": "1.2.0",
            "_view_name": "LayoutView",
            "align_content": null,
            "align_items": null,
            "align_self": null,
            "border": null,
            "bottom": null,
            "display": null,
            "flex": null,
            "flex_flow": null,
            "grid_area": null,
            "grid_auto_columns": null,
            "grid_auto_flow": null,
            "grid_auto_rows": null,
            "grid_column": null,
            "grid_gap": null,
            "grid_row": null,
            "grid_template_areas": null,
            "grid_template_columns": null,
            "grid_template_rows": null,
            "height": null,
            "justify_content": null,
            "justify_items": null,
            "left": null,
            "margin": null,
            "max_height": null,
            "max_width": null,
            "min_height": null,
            "min_width": null,
            "object_fit": null,
            "object_position": null,
            "order": null,
            "overflow": null,
            "overflow_x": null,
            "overflow_y": null,
            "padding": null,
            "right": null,
            "top": null,
            "visibility": null,
            "width": null
          }
        },
        "719b036f4f044b20876972ead7514730": {
          "model_module": "@jupyter-widgets/controls",
          "model_module_version": "1.5.0",
          "model_name": "DescriptionStyleModel",
          "state": {
            "_model_module": "@jupyter-widgets/controls",
            "_model_module_version": "1.5.0",
            "_model_name": "DescriptionStyleModel",
            "_view_count": null,
            "_view_module": "@jupyter-widgets/base",
            "_view_module_version": "1.2.0",
            "_view_name": "StyleView",
            "description_width": ""
          }
        },
        "79f17ff195a44e6dac1efb6ff428ceaf": {
          "model_module": "@jupyter-widgets/controls",
          "model_module_version": "1.5.0",
          "model_name": "DescriptionStyleModel",
          "state": {
            "_model_module": "@jupyter-widgets/controls",
            "_model_module_version": "1.5.0",
            "_model_name": "DescriptionStyleModel",
            "_view_count": null,
            "_view_module": "@jupyter-widgets/base",
            "_view_module_version": "1.2.0",
            "_view_name": "StyleView",
            "description_width": ""
          }
        },
        "7b19d82c41534e98a3458585f8cf962c": {
          "model_module": "@jupyter-widgets/base",
          "model_module_version": "1.2.0",
          "model_name": "LayoutModel",
          "state": {
            "_model_module": "@jupyter-widgets/base",
            "_model_module_version": "1.2.0",
            "_model_name": "LayoutModel",
            "_view_count": null,
            "_view_module": "@jupyter-widgets/base",
            "_view_module_version": "1.2.0",
            "_view_name": "LayoutView",
            "align_content": null,
            "align_items": null,
            "align_self": null,
            "border": null,
            "bottom": null,
            "display": null,
            "flex": null,
            "flex_flow": null,
            "grid_area": null,
            "grid_auto_columns": null,
            "grid_auto_flow": null,
            "grid_auto_rows": null,
            "grid_column": null,
            "grid_gap": null,
            "grid_row": null,
            "grid_template_areas": null,
            "grid_template_columns": null,
            "grid_template_rows": null,
            "height": null,
            "justify_content": null,
            "justify_items": null,
            "left": null,
            "margin": null,
            "max_height": null,
            "max_width": null,
            "min_height": null,
            "min_width": null,
            "object_fit": null,
            "object_position": null,
            "order": null,
            "overflow": null,
            "overflow_x": null,
            "overflow_y": null,
            "padding": null,
            "right": null,
            "top": null,
            "visibility": null,
            "width": null
          }
        },
        "7d0127e5e2c7414498085c4b788184f8": {
          "model_module": "@jupyter-widgets/base",
          "model_module_version": "1.2.0",
          "model_name": "LayoutModel",
          "state": {
            "_model_module": "@jupyter-widgets/base",
            "_model_module_version": "1.2.0",
            "_model_name": "LayoutModel",
            "_view_count": null,
            "_view_module": "@jupyter-widgets/base",
            "_view_module_version": "1.2.0",
            "_view_name": "LayoutView",
            "align_content": null,
            "align_items": null,
            "align_self": null,
            "border": null,
            "bottom": null,
            "display": null,
            "flex": null,
            "flex_flow": null,
            "grid_area": null,
            "grid_auto_columns": null,
            "grid_auto_flow": null,
            "grid_auto_rows": null,
            "grid_column": null,
            "grid_gap": null,
            "grid_row": null,
            "grid_template_areas": null,
            "grid_template_columns": null,
            "grid_template_rows": null,
            "height": null,
            "justify_content": null,
            "justify_items": null,
            "left": null,
            "margin": null,
            "max_height": null,
            "max_width": null,
            "min_height": null,
            "min_width": null,
            "object_fit": null,
            "object_position": null,
            "order": null,
            "overflow": null,
            "overflow_x": null,
            "overflow_y": null,
            "padding": null,
            "right": null,
            "top": null,
            "visibility": null,
            "width": null
          }
        },
        "7da3074f574b4e73ab0bc4081d92ce49": {
          "model_module": "@jupyter-widgets/controls",
          "model_module_version": "1.5.0",
          "model_name": "HTMLModel",
          "state": {
            "_dom_classes": [],
            "_model_module": "@jupyter-widgets/controls",
            "_model_module_version": "1.5.0",
            "_model_name": "HTMLModel",
            "_view_count": null,
            "_view_module": "@jupyter-widgets/controls",
            "_view_module_version": "1.5.0",
            "_view_name": "HTMLView",
            "description": "",
            "description_tooltip": null,
            "layout": "IPY_MODEL_c5e5949f05394ba58088d00936a3852a",
            "placeholder": "​",
            "style": "IPY_MODEL_c45af9a074f1463d82f42589d6056301",
            "value": " 665/665 [00:00&lt;00:00, 22.4kB/s]"
          }
        },
        "7e6d72d8dbf04cd7afde9356c2a6f828": {
          "model_module": "@jupyter-widgets/controls",
          "model_module_version": "1.5.0",
          "model_name": "HBoxModel",
          "state": {
            "_dom_classes": [],
            "_model_module": "@jupyter-widgets/controls",
            "_model_module_version": "1.5.0",
            "_model_name": "HBoxModel",
            "_view_count": null,
            "_view_module": "@jupyter-widgets/controls",
            "_view_module_version": "1.5.0",
            "_view_name": "HBoxView",
            "box_style": "",
            "children": [
              "IPY_MODEL_d72424a0694a4ba0bc7bb7833d708521",
              "IPY_MODEL_1a979d18a89548e58385612aa2331040",
              "IPY_MODEL_c16ef81e21e24b5d97a709dc534c9df9"
            ],
            "layout": "IPY_MODEL_4f682dd7cb734ed98d09d35cb73f7f67"
          }
        },
        "7e6f929d4fc04efb855fee7dfad03ff7": {
          "model_module": "@jupyter-widgets/base",
          "model_module_version": "1.2.0",
          "model_name": "LayoutModel",
          "state": {
            "_model_module": "@jupyter-widgets/base",
            "_model_module_version": "1.2.0",
            "_model_name": "LayoutModel",
            "_view_count": null,
            "_view_module": "@jupyter-widgets/base",
            "_view_module_version": "1.2.0",
            "_view_name": "LayoutView",
            "align_content": null,
            "align_items": null,
            "align_self": null,
            "border": null,
            "bottom": null,
            "display": null,
            "flex": null,
            "flex_flow": null,
            "grid_area": null,
            "grid_auto_columns": null,
            "grid_auto_flow": null,
            "grid_auto_rows": null,
            "grid_column": null,
            "grid_gap": null,
            "grid_row": null,
            "grid_template_areas": null,
            "grid_template_columns": null,
            "grid_template_rows": null,
            "height": null,
            "justify_content": null,
            "justify_items": null,
            "left": null,
            "margin": null,
            "max_height": null,
            "max_width": null,
            "min_height": null,
            "min_width": null,
            "object_fit": null,
            "object_position": null,
            "order": null,
            "overflow": null,
            "overflow_x": null,
            "overflow_y": null,
            "padding": null,
            "right": null,
            "top": null,
            "visibility": null,
            "width": null
          }
        },
        "7f08c1176f944f509a748afbeab26ca6": {
          "model_module": "@jupyter-widgets/controls",
          "model_module_version": "1.5.0",
          "model_name": "HTMLModel",
          "state": {
            "_dom_classes": [],
            "_model_module": "@jupyter-widgets/controls",
            "_model_module_version": "1.5.0",
            "_model_name": "HTMLModel",
            "_view_count": null,
            "_view_module": "@jupyter-widgets/controls",
            "_view_module_version": "1.5.0",
            "_view_name": "HTMLView",
            "description": "",
            "description_tooltip": null,
            "layout": "IPY_MODEL_bf66037e2a2e41a0924e521a880e1655",
            "placeholder": "​",
            "style": "IPY_MODEL_43920883352644c5bb03569eeafd8411",
            "value": " 548M/548M [00:03&lt;00:00, 196MB/s]"
          }
        },
        "7feead43fc9f469fb510379115344e25": {
          "model_module": "@jupyter-widgets/controls",
          "model_module_version": "1.5.0",
          "model_name": "FloatProgressModel",
          "state": {
            "_dom_classes": [],
            "_model_module": "@jupyter-widgets/controls",
            "_model_module_version": "1.5.0",
            "_model_name": "FloatProgressModel",
            "_view_count": null,
            "_view_module": "@jupyter-widgets/controls",
            "_view_module_version": "1.5.0",
            "_view_name": "ProgressView",
            "bar_style": "success",
            "description": "",
            "description_tooltip": null,
            "layout": "IPY_MODEL_3038e89545fc478190df51a8501a1e99",
            "max": 921,
            "min": 0,
            "orientation": "horizontal",
            "style": "IPY_MODEL_36299a8f39a04a14aa178169f4d501c9",
            "value": 921
          }
        },
        "8280bc15c3804e16a5385dac17f661a4": {
          "model_module": "@jupyter-widgets/controls",
          "model_module_version": "1.5.0",
          "model_name": "HBoxModel",
          "state": {
            "_dom_classes": [],
            "_model_module": "@jupyter-widgets/controls",
            "_model_module_version": "1.5.0",
            "_model_name": "HBoxModel",
            "_view_count": null,
            "_view_module": "@jupyter-widgets/controls",
            "_view_module_version": "1.5.0",
            "_view_name": "HBoxView",
            "box_style": "",
            "children": [
              "IPY_MODEL_abded08c94b04abea1459b56898262d3",
              "IPY_MODEL_43685d799cc340b7bafcca540a345b4a",
              "IPY_MODEL_7f08c1176f944f509a748afbeab26ca6"
            ],
            "layout": "IPY_MODEL_b2e8a5c1843d4872809a0bb8072f1620"
          }
        },
        "83fc637dd5ce492f8dc0335a13911e8e": {
          "model_module": "@jupyter-widgets/base",
          "model_module_version": "1.2.0",
          "model_name": "LayoutModel",
          "state": {
            "_model_module": "@jupyter-widgets/base",
            "_model_module_version": "1.2.0",
            "_model_name": "LayoutModel",
            "_view_count": null,
            "_view_module": "@jupyter-widgets/base",
            "_view_module_version": "1.2.0",
            "_view_name": "LayoutView",
            "align_content": null,
            "align_items": null,
            "align_self": null,
            "border": null,
            "bottom": null,
            "display": null,
            "flex": null,
            "flex_flow": null,
            "grid_area": null,
            "grid_auto_columns": null,
            "grid_auto_flow": null,
            "grid_auto_rows": null,
            "grid_column": null,
            "grid_gap": null,
            "grid_row": null,
            "grid_template_areas": null,
            "grid_template_columns": null,
            "grid_template_rows": null,
            "height": null,
            "justify_content": null,
            "justify_items": null,
            "left": null,
            "margin": null,
            "max_height": null,
            "max_width": null,
            "min_height": null,
            "min_width": null,
            "object_fit": null,
            "object_position": null,
            "order": null,
            "overflow": null,
            "overflow_x": null,
            "overflow_y": null,
            "padding": null,
            "right": null,
            "top": null,
            "visibility": null,
            "width": null
          }
        },
        "84637fa4e06a4ea5af462244760367ba": {
          "model_module": "@jupyter-widgets/base",
          "model_module_version": "1.2.0",
          "model_name": "LayoutModel",
          "state": {
            "_model_module": "@jupyter-widgets/base",
            "_model_module_version": "1.2.0",
            "_model_name": "LayoutModel",
            "_view_count": null,
            "_view_module": "@jupyter-widgets/base",
            "_view_module_version": "1.2.0",
            "_view_name": "LayoutView",
            "align_content": null,
            "align_items": null,
            "align_self": null,
            "border": null,
            "bottom": null,
            "display": null,
            "flex": null,
            "flex_flow": null,
            "grid_area": null,
            "grid_auto_columns": null,
            "grid_auto_flow": null,
            "grid_auto_rows": null,
            "grid_column": null,
            "grid_gap": null,
            "grid_row": null,
            "grid_template_areas": null,
            "grid_template_columns": null,
            "grid_template_rows": null,
            "height": null,
            "justify_content": null,
            "justify_items": null,
            "left": null,
            "margin": null,
            "max_height": null,
            "max_width": null,
            "min_height": null,
            "min_width": null,
            "object_fit": null,
            "object_position": null,
            "order": null,
            "overflow": null,
            "overflow_x": null,
            "overflow_y": null,
            "padding": null,
            "right": null,
            "top": null,
            "visibility": null,
            "width": null
          }
        },
        "84b7ec3115e54716a63aa94dce229bcb": {
          "model_module": "@jupyter-widgets/controls",
          "model_module_version": "1.5.0",
          "model_name": "FloatProgressModel",
          "state": {
            "_dom_classes": [],
            "_model_module": "@jupyter-widgets/controls",
            "_model_module_version": "1.5.0",
            "_model_name": "FloatProgressModel",
            "_view_count": null,
            "_view_module": "@jupyter-widgets/controls",
            "_view_module_version": "1.5.0",
            "_view_name": "ProgressView",
            "bar_style": "success",
            "description": "",
            "description_tooltip": null,
            "layout": "IPY_MODEL_7b19d82c41534e98a3458585f8cf962c",
            "max": 10000,
            "min": 0,
            "orientation": "horizontal",
            "style": "IPY_MODEL_a05eb6bbdd25401ba212184dfdb6bef2",
            "value": 10000
          }
        },
        "867aa7145d0d431cbf81647da325b46e": {
          "model_module": "@jupyter-widgets/controls",
          "model_module_version": "1.5.0",
          "model_name": "DescriptionStyleModel",
          "state": {
            "_model_module": "@jupyter-widgets/controls",
            "_model_module_version": "1.5.0",
            "_model_name": "DescriptionStyleModel",
            "_view_count": null,
            "_view_module": "@jupyter-widgets/base",
            "_view_module_version": "1.2.0",
            "_view_name": "StyleView",
            "description_width": ""
          }
        },
        "88da8bf8126b42eeac5eeda8b8acc74b": {
          "model_module": "@jupyter-widgets/controls",
          "model_module_version": "1.5.0",
          "model_name": "HTMLModel",
          "state": {
            "_dom_classes": [],
            "_model_module": "@jupyter-widgets/controls",
            "_model_module_version": "1.5.0",
            "_model_name": "HTMLModel",
            "_view_count": null,
            "_view_module": "@jupyter-widgets/controls",
            "_view_module_version": "1.5.0",
            "_view_name": "HTMLView",
            "description": "",
            "description_tooltip": null,
            "layout": "IPY_MODEL_c72d217b0e724e29b4c0aad8fae66b58",
            "placeholder": "​",
            "style": "IPY_MODEL_b8b7ee337a9a4c3ba89ffe4c707db2b2",
            "value": " 33.3M/33.3M [00:00&lt;00:00, 37.5MB/s]"
          }
        },
        "8962ef47c53a4ca19678c54993c71cba": {
          "model_module": "@jupyter-widgets/controls",
          "model_module_version": "1.5.0",
          "model_name": "DescriptionStyleModel",
          "state": {
            "_model_module": "@jupyter-widgets/controls",
            "_model_module_version": "1.5.0",
            "_model_name": "DescriptionStyleModel",
            "_view_count": null,
            "_view_module": "@jupyter-widgets/base",
            "_view_module_version": "1.2.0",
            "_view_name": "StyleView",
            "description_width": ""
          }
        },
        "8d88c483b73c434b853bdf9acad920bc": {
          "model_module": "@jupyter-widgets/controls",
          "model_module_version": "1.5.0",
          "model_name": "DescriptionStyleModel",
          "state": {
            "_model_module": "@jupyter-widgets/controls",
            "_model_module_version": "1.5.0",
            "_model_name": "DescriptionStyleModel",
            "_view_count": null,
            "_view_module": "@jupyter-widgets/base",
            "_view_module_version": "1.2.0",
            "_view_name": "StyleView",
            "description_width": ""
          }
        },
        "8e4e46015fc24ba0910c620dd3161627": {
          "model_module": "@jupyter-widgets/base",
          "model_module_version": "1.2.0",
          "model_name": "LayoutModel",
          "state": {
            "_model_module": "@jupyter-widgets/base",
            "_model_module_version": "1.2.0",
            "_model_name": "LayoutModel",
            "_view_count": null,
            "_view_module": "@jupyter-widgets/base",
            "_view_module_version": "1.2.0",
            "_view_name": "LayoutView",
            "align_content": null,
            "align_items": null,
            "align_self": null,
            "border": null,
            "bottom": null,
            "display": null,
            "flex": null,
            "flex_flow": null,
            "grid_area": null,
            "grid_auto_columns": null,
            "grid_auto_flow": null,
            "grid_auto_rows": null,
            "grid_column": null,
            "grid_gap": null,
            "grid_row": null,
            "grid_template_areas": null,
            "grid_template_columns": null,
            "grid_template_rows": null,
            "height": null,
            "justify_content": null,
            "justify_items": null,
            "left": null,
            "margin": null,
            "max_height": null,
            "max_width": null,
            "min_height": null,
            "min_width": null,
            "object_fit": null,
            "object_position": null,
            "order": null,
            "overflow": null,
            "overflow_x": null,
            "overflow_y": null,
            "padding": null,
            "right": null,
            "top": null,
            "visibility": null,
            "width": null
          }
        },
        "91b1c6844fbf4000ba638f5dd346a5b7": {
          "model_module": "@jupyter-widgets/controls",
          "model_module_version": "1.5.0",
          "model_name": "HTMLModel",
          "state": {
            "_dom_classes": [],
            "_model_module": "@jupyter-widgets/controls",
            "_model_module_version": "1.5.0",
            "_model_name": "HTMLModel",
            "_view_count": null,
            "_view_module": "@jupyter-widgets/controls",
            "_view_module_version": "1.5.0",
            "_view_name": "HTMLView",
            "description": "",
            "description_tooltip": null,
            "layout": "IPY_MODEL_f7a21f435d6243b0882e048181618c7a",
            "placeholder": "​",
            "style": "IPY_MODEL_b30d677efc6349abb135517d36b52ee5",
            "value": " 26.0/26.0 [00:00&lt;00:00, 577B/s]"
          }
        },
        "938a749bb04540858e2e81a066ad9160": {
          "model_module": "@jupyter-widgets/controls",
          "model_module_version": "1.5.0",
          "model_name": "ProgressStyleModel",
          "state": {
            "_model_module": "@jupyter-widgets/controls",
            "_model_module_version": "1.5.0",
            "_model_name": "ProgressStyleModel",
            "_view_count": null,
            "_view_module": "@jupyter-widgets/base",
            "_view_module_version": "1.2.0",
            "_view_name": "StyleView",
            "bar_color": null,
            "description_width": ""
          }
        },
        "9577a88cc0794bf5b3edd656e0b726c0": {
          "model_module": "@jupyter-widgets/base",
          "model_module_version": "1.2.0",
          "model_name": "LayoutModel",
          "state": {
            "_model_module": "@jupyter-widgets/base",
            "_model_module_version": "1.2.0",
            "_model_name": "LayoutModel",
            "_view_count": null,
            "_view_module": "@jupyter-widgets/base",
            "_view_module_version": "1.2.0",
            "_view_name": "LayoutView",
            "align_content": null,
            "align_items": null,
            "align_self": null,
            "border": null,
            "bottom": null,
            "display": null,
            "flex": null,
            "flex_flow": null,
            "grid_area": null,
            "grid_auto_columns": null,
            "grid_auto_flow": null,
            "grid_auto_rows": null,
            "grid_column": null,
            "grid_gap": null,
            "grid_row": null,
            "grid_template_areas": null,
            "grid_template_columns": null,
            "grid_template_rows": null,
            "height": null,
            "justify_content": null,
            "justify_items": null,
            "left": null,
            "margin": null,
            "max_height": null,
            "max_width": null,
            "min_height": null,
            "min_width": null,
            "object_fit": null,
            "object_position": null,
            "order": null,
            "overflow": null,
            "overflow_x": null,
            "overflow_y": null,
            "padding": null,
            "right": null,
            "top": null,
            "visibility": null,
            "width": null
          }
        },
        "98ea47810e4640da94bb59ad9df290db": {
          "model_module": "@jupyter-widgets/base",
          "model_module_version": "1.2.0",
          "model_name": "LayoutModel",
          "state": {
            "_model_module": "@jupyter-widgets/base",
            "_model_module_version": "1.2.0",
            "_model_name": "LayoutModel",
            "_view_count": null,
            "_view_module": "@jupyter-widgets/base",
            "_view_module_version": "1.2.0",
            "_view_name": "LayoutView",
            "align_content": null,
            "align_items": null,
            "align_self": null,
            "border": null,
            "bottom": null,
            "display": null,
            "flex": null,
            "flex_flow": null,
            "grid_area": null,
            "grid_auto_columns": null,
            "grid_auto_flow": null,
            "grid_auto_rows": null,
            "grid_column": null,
            "grid_gap": null,
            "grid_row": null,
            "grid_template_areas": null,
            "grid_template_columns": null,
            "grid_template_rows": null,
            "height": null,
            "justify_content": null,
            "justify_items": null,
            "left": null,
            "margin": null,
            "max_height": null,
            "max_width": null,
            "min_height": null,
            "min_width": null,
            "object_fit": null,
            "object_position": null,
            "order": null,
            "overflow": null,
            "overflow_x": null,
            "overflow_y": null,
            "padding": null,
            "right": null,
            "top": null,
            "visibility": null,
            "width": null
          }
        },
        "9b2cecb4686848e5907409bf052e1996": {
          "model_module": "@jupyter-widgets/controls",
          "model_module_version": "1.5.0",
          "model_name": "DescriptionStyleModel",
          "state": {
            "_model_module": "@jupyter-widgets/controls",
            "_model_module_version": "1.5.0",
            "_model_name": "DescriptionStyleModel",
            "_view_count": null,
            "_view_module": "@jupyter-widgets/base",
            "_view_module_version": "1.2.0",
            "_view_name": "StyleView",
            "description_width": ""
          }
        },
        "9e301cb1b39946719a1919f9c11f685a": {
          "model_module": "@jupyter-widgets/base",
          "model_module_version": "1.2.0",
          "model_name": "LayoutModel",
          "state": {
            "_model_module": "@jupyter-widgets/base",
            "_model_module_version": "1.2.0",
            "_model_name": "LayoutModel",
            "_view_count": null,
            "_view_module": "@jupyter-widgets/base",
            "_view_module_version": "1.2.0",
            "_view_name": "LayoutView",
            "align_content": null,
            "align_items": null,
            "align_self": null,
            "border": null,
            "bottom": null,
            "display": null,
            "flex": null,
            "flex_flow": null,
            "grid_area": null,
            "grid_auto_columns": null,
            "grid_auto_flow": null,
            "grid_auto_rows": null,
            "grid_column": null,
            "grid_gap": null,
            "grid_row": null,
            "grid_template_areas": null,
            "grid_template_columns": null,
            "grid_template_rows": null,
            "height": null,
            "justify_content": null,
            "justify_items": null,
            "left": null,
            "margin": null,
            "max_height": null,
            "max_width": null,
            "min_height": null,
            "min_width": null,
            "object_fit": null,
            "object_position": null,
            "order": null,
            "overflow": null,
            "overflow_x": null,
            "overflow_y": null,
            "padding": null,
            "right": null,
            "top": null,
            "visibility": null,
            "width": null
          }
        },
        "a05eb6bbdd25401ba212184dfdb6bef2": {
          "model_module": "@jupyter-widgets/controls",
          "model_module_version": "1.5.0",
          "model_name": "ProgressStyleModel",
          "state": {
            "_model_module": "@jupyter-widgets/controls",
            "_model_module_version": "1.5.0",
            "_model_name": "ProgressStyleModel",
            "_view_count": null,
            "_view_module": "@jupyter-widgets/base",
            "_view_module_version": "1.2.0",
            "_view_name": "StyleView",
            "bar_color": null,
            "description_width": ""
          }
        },
        "a062c231d6ce47058fc40195c8c6ba15": {
          "model_module": "@jupyter-widgets/controls",
          "model_module_version": "1.5.0",
          "model_name": "HBoxModel",
          "state": {
            "_dom_classes": [],
            "_model_module": "@jupyter-widgets/controls",
            "_model_module_version": "1.5.0",
            "_model_name": "HBoxModel",
            "_view_count": null,
            "_view_module": "@jupyter-widgets/controls",
            "_view_module_version": "1.5.0",
            "_view_name": "HBoxView",
            "box_style": "",
            "children": [
              "IPY_MODEL_d13f81ffbd3c4519968703ce55b7ef88",
              "IPY_MODEL_5f5a0846a31b4d76a5677655d9446df2",
              "IPY_MODEL_91b1c6844fbf4000ba638f5dd346a5b7"
            ],
            "layout": "IPY_MODEL_b99844112a3c4151aa7c912d9b054149"
          }
        },
        "a178800868f3426ab41122b6ca113d15": {
          "model_module": "@jupyter-widgets/controls",
          "model_module_version": "1.5.0",
          "model_name": "DescriptionStyleModel",
          "state": {
            "_model_module": "@jupyter-widgets/controls",
            "_model_module_version": "1.5.0",
            "_model_name": "DescriptionStyleModel",
            "_view_count": null,
            "_view_module": "@jupyter-widgets/base",
            "_view_module_version": "1.2.0",
            "_view_name": "StyleView",
            "description_width": ""
          }
        },
        "a324b6017498425b8362049b0541ea78": {
          "model_module": "@jupyter-widgets/controls",
          "model_module_version": "1.5.0",
          "model_name": "HTMLModel",
          "state": {
            "_dom_classes": [],
            "_model_module": "@jupyter-widgets/controls",
            "_model_module_version": "1.5.0",
            "_model_name": "HTMLModel",
            "_view_count": null,
            "_view_module": "@jupyter-widgets/controls",
            "_view_module_version": "1.5.0",
            "_view_name": "HTMLView",
            "description": "",
            "description_tooltip": null,
            "layout": "IPY_MODEL_4ea668157df64d4fb8d68ca3028d89da",
            "placeholder": "​",
            "style": "IPY_MODEL_b72728efd60840c6ba2949fe2654406f",
            "value": " 4020/? [13:55&lt;00:00,  5.36it/s]"
          }
        },
        "ab7fd01201ab4cfca32f67def3be2acb": {
          "model_module": "@jupyter-widgets/controls",
          "model_module_version": "1.5.0",
          "model_name": "HTMLModel",
          "state": {
            "_dom_classes": [],
            "_model_module": "@jupyter-widgets/controls",
            "_model_module_version": "1.5.0",
            "_model_name": "HTMLModel",
            "_view_count": null,
            "_view_module": "@jupyter-widgets/controls",
            "_view_module_version": "1.5.0",
            "_view_name": "HTMLView",
            "description": "",
            "description_tooltip": null,
            "layout": "IPY_MODEL_1ffb63f6ef2d4e6eba7d8ad7655f502a",
            "placeholder": "​",
            "style": "IPY_MODEL_b9129c66a1cb4a43a3c7ab3ef38194b7",
            "value": "Generating train split: 100%"
          }
        },
        "abae612905b44b79acc45faf41117cb0": {
          "model_module": "@jupyter-widgets/base",
          "model_module_version": "1.2.0",
          "model_name": "LayoutModel",
          "state": {
            "_model_module": "@jupyter-widgets/base",
            "_model_module_version": "1.2.0",
            "_model_name": "LayoutModel",
            "_view_count": null,
            "_view_module": "@jupyter-widgets/base",
            "_view_module_version": "1.2.0",
            "_view_name": "LayoutView",
            "align_content": null,
            "align_items": null,
            "align_self": null,
            "border": null,
            "bottom": null,
            "display": null,
            "flex": null,
            "flex_flow": null,
            "grid_area": null,
            "grid_auto_columns": null,
            "grid_auto_flow": null,
            "grid_auto_rows": null,
            "grid_column": null,
            "grid_gap": null,
            "grid_row": null,
            "grid_template_areas": null,
            "grid_template_columns": null,
            "grid_template_rows": null,
            "height": null,
            "justify_content": null,
            "justify_items": null,
            "left": null,
            "margin": null,
            "max_height": null,
            "max_width": null,
            "min_height": null,
            "min_width": null,
            "object_fit": null,
            "object_position": null,
            "order": null,
            "overflow": null,
            "overflow_x": null,
            "overflow_y": null,
            "padding": null,
            "right": null,
            "top": null,
            "visibility": null,
            "width": null
          }
        },
        "abded08c94b04abea1459b56898262d3": {
          "model_module": "@jupyter-widgets/controls",
          "model_module_version": "1.5.0",
          "model_name": "HTMLModel",
          "state": {
            "_dom_classes": [],
            "_model_module": "@jupyter-widgets/controls",
            "_model_module_version": "1.5.0",
            "_model_name": "HTMLModel",
            "_view_count": null,
            "_view_module": "@jupyter-widgets/controls",
            "_view_module_version": "1.5.0",
            "_view_name": "HTMLView",
            "description": "",
            "description_tooltip": null,
            "layout": "IPY_MODEL_ed205b16f00b48b083b6b7dcfa861e32",
            "placeholder": "​",
            "style": "IPY_MODEL_ec1ab50cb31040fc9ba58dce0965fec2",
            "value": "model.safetensors: 100%"
          }
        },
        "ae8afef9cfec430ba2e318705a4223ba": {
          "model_module": "@jupyter-widgets/base",
          "model_module_version": "1.2.0",
          "model_name": "LayoutModel",
          "state": {
            "_model_module": "@jupyter-widgets/base",
            "_model_module_version": "1.2.0",
            "_model_name": "LayoutModel",
            "_view_count": null,
            "_view_module": "@jupyter-widgets/base",
            "_view_module_version": "1.2.0",
            "_view_name": "LayoutView",
            "align_content": null,
            "align_items": null,
            "align_self": null,
            "border": null,
            "bottom": null,
            "display": null,
            "flex": null,
            "flex_flow": null,
            "grid_area": null,
            "grid_auto_columns": null,
            "grid_auto_flow": null,
            "grid_auto_rows": null,
            "grid_column": null,
            "grid_gap": null,
            "grid_row": null,
            "grid_template_areas": null,
            "grid_template_columns": null,
            "grid_template_rows": null,
            "height": null,
            "justify_content": null,
            "justify_items": null,
            "left": null,
            "margin": null,
            "max_height": null,
            "max_width": null,
            "min_height": null,
            "min_width": null,
            "object_fit": null,
            "object_position": null,
            "order": null,
            "overflow": null,
            "overflow_x": null,
            "overflow_y": null,
            "padding": null,
            "right": null,
            "top": null,
            "visibility": null,
            "width": null
          }
        },
        "ae9cf57283d345399299a0f44eee4552": {
          "model_module": "@jupyter-widgets/controls",
          "model_module_version": "1.5.0",
          "model_name": "ProgressStyleModel",
          "state": {
            "_model_module": "@jupyter-widgets/controls",
            "_model_module_version": "1.5.0",
            "_model_name": "ProgressStyleModel",
            "_view_count": null,
            "_view_module": "@jupyter-widgets/base",
            "_view_module_version": "1.2.0",
            "_view_name": "StyleView",
            "bar_color": null,
            "description_width": ""
          }
        },
        "b2e8a5c1843d4872809a0bb8072f1620": {
          "model_module": "@jupyter-widgets/base",
          "model_module_version": "1.2.0",
          "model_name": "LayoutModel",
          "state": {
            "_model_module": "@jupyter-widgets/base",
            "_model_module_version": "1.2.0",
            "_model_name": "LayoutModel",
            "_view_count": null,
            "_view_module": "@jupyter-widgets/base",
            "_view_module_version": "1.2.0",
            "_view_name": "LayoutView",
            "align_content": null,
            "align_items": null,
            "align_self": null,
            "border": null,
            "bottom": null,
            "display": null,
            "flex": null,
            "flex_flow": null,
            "grid_area": null,
            "grid_auto_columns": null,
            "grid_auto_flow": null,
            "grid_auto_rows": null,
            "grid_column": null,
            "grid_gap": null,
            "grid_row": null,
            "grid_template_areas": null,
            "grid_template_columns": null,
            "grid_template_rows": null,
            "height": null,
            "justify_content": null,
            "justify_items": null,
            "left": null,
            "margin": null,
            "max_height": null,
            "max_width": null,
            "min_height": null,
            "min_width": null,
            "object_fit": null,
            "object_position": null,
            "order": null,
            "overflow": null,
            "overflow_x": null,
            "overflow_y": null,
            "padding": null,
            "right": null,
            "top": null,
            "visibility": null,
            "width": null
          }
        },
        "b30d677efc6349abb135517d36b52ee5": {
          "model_module": "@jupyter-widgets/controls",
          "model_module_version": "1.5.0",
          "model_name": "DescriptionStyleModel",
          "state": {
            "_model_module": "@jupyter-widgets/controls",
            "_model_module_version": "1.5.0",
            "_model_name": "DescriptionStyleModel",
            "_view_count": null,
            "_view_module": "@jupyter-widgets/base",
            "_view_module_version": "1.2.0",
            "_view_name": "StyleView",
            "description_width": ""
          }
        },
        "b3c301dd7923401e9bcd9f20b76ec68c": {
          "model_module": "@jupyter-widgets/base",
          "model_module_version": "1.2.0",
          "model_name": "LayoutModel",
          "state": {
            "_model_module": "@jupyter-widgets/base",
            "_model_module_version": "1.2.0",
            "_model_name": "LayoutModel",
            "_view_count": null,
            "_view_module": "@jupyter-widgets/base",
            "_view_module_version": "1.2.0",
            "_view_name": "LayoutView",
            "align_content": null,
            "align_items": null,
            "align_self": null,
            "border": null,
            "bottom": null,
            "display": null,
            "flex": null,
            "flex_flow": null,
            "grid_area": null,
            "grid_auto_columns": null,
            "grid_auto_flow": null,
            "grid_auto_rows": null,
            "grid_column": null,
            "grid_gap": null,
            "grid_row": null,
            "grid_template_areas": null,
            "grid_template_columns": null,
            "grid_template_rows": null,
            "height": null,
            "justify_content": null,
            "justify_items": null,
            "left": null,
            "margin": null,
            "max_height": null,
            "max_width": null,
            "min_height": null,
            "min_width": null,
            "object_fit": null,
            "object_position": null,
            "order": null,
            "overflow": null,
            "overflow_x": null,
            "overflow_y": null,
            "padding": null,
            "right": null,
            "top": null,
            "visibility": null,
            "width": null
          }
        },
        "b4b4d978fc5449c98c4c0b49ec08e7ad": {
          "model_module": "@jupyter-widgets/base",
          "model_module_version": "1.2.0",
          "model_name": "LayoutModel",
          "state": {
            "_model_module": "@jupyter-widgets/base",
            "_model_module_version": "1.2.0",
            "_model_name": "LayoutModel",
            "_view_count": null,
            "_view_module": "@jupyter-widgets/base",
            "_view_module_version": "1.2.0",
            "_view_name": "LayoutView",
            "align_content": null,
            "align_items": null,
            "align_self": null,
            "border": null,
            "bottom": null,
            "display": null,
            "flex": null,
            "flex_flow": null,
            "grid_area": null,
            "grid_auto_columns": null,
            "grid_auto_flow": null,
            "grid_auto_rows": null,
            "grid_column": null,
            "grid_gap": null,
            "grid_row": null,
            "grid_template_areas": null,
            "grid_template_columns": null,
            "grid_template_rows": null,
            "height": null,
            "justify_content": null,
            "justify_items": null,
            "left": null,
            "margin": null,
            "max_height": null,
            "max_width": null,
            "min_height": null,
            "min_width": null,
            "object_fit": null,
            "object_position": null,
            "order": null,
            "overflow": null,
            "overflow_x": null,
            "overflow_y": null,
            "padding": null,
            "right": null,
            "top": null,
            "visibility": null,
            "width": null
          }
        },
        "b5da9d54f1284486adaa268686e71044": {
          "model_module": "@jupyter-widgets/base",
          "model_module_version": "1.2.0",
          "model_name": "LayoutModel",
          "state": {
            "_model_module": "@jupyter-widgets/base",
            "_model_module_version": "1.2.0",
            "_model_name": "LayoutModel",
            "_view_count": null,
            "_view_module": "@jupyter-widgets/base",
            "_view_module_version": "1.2.0",
            "_view_name": "LayoutView",
            "align_content": null,
            "align_items": null,
            "align_self": null,
            "border": null,
            "bottom": null,
            "display": null,
            "flex": null,
            "flex_flow": null,
            "grid_area": null,
            "grid_auto_columns": null,
            "grid_auto_flow": null,
            "grid_auto_rows": null,
            "grid_column": null,
            "grid_gap": null,
            "grid_row": null,
            "grid_template_areas": null,
            "grid_template_columns": null,
            "grid_template_rows": null,
            "height": null,
            "justify_content": null,
            "justify_items": null,
            "left": null,
            "margin": null,
            "max_height": null,
            "max_width": null,
            "min_height": null,
            "min_width": null,
            "object_fit": null,
            "object_position": null,
            "order": null,
            "overflow": null,
            "overflow_x": null,
            "overflow_y": null,
            "padding": null,
            "right": null,
            "top": null,
            "visibility": null,
            "width": null
          }
        },
        "b72728efd60840c6ba2949fe2654406f": {
          "model_module": "@jupyter-widgets/controls",
          "model_module_version": "1.5.0",
          "model_name": "DescriptionStyleModel",
          "state": {
            "_model_module": "@jupyter-widgets/controls",
            "_model_module_version": "1.5.0",
            "_model_name": "DescriptionStyleModel",
            "_view_count": null,
            "_view_module": "@jupyter-widgets/base",
            "_view_module_version": "1.2.0",
            "_view_name": "StyleView",
            "description_width": ""
          }
        },
        "b88c4efbf35d4f2faa126990681e3bec": {
          "model_module": "@jupyter-widgets/controls",
          "model_module_version": "1.5.0",
          "model_name": "DescriptionStyleModel",
          "state": {
            "_model_module": "@jupyter-widgets/controls",
            "_model_module_version": "1.5.0",
            "_model_name": "DescriptionStyleModel",
            "_view_count": null,
            "_view_module": "@jupyter-widgets/base",
            "_view_module_version": "1.2.0",
            "_view_name": "StyleView",
            "description_width": ""
          }
        },
        "b8b7ee337a9a4c3ba89ffe4c707db2b2": {
          "model_module": "@jupyter-widgets/controls",
          "model_module_version": "1.5.0",
          "model_name": "DescriptionStyleModel",
          "state": {
            "_model_module": "@jupyter-widgets/controls",
            "_model_module_version": "1.5.0",
            "_model_name": "DescriptionStyleModel",
            "_view_count": null,
            "_view_module": "@jupyter-widgets/base",
            "_view_module_version": "1.2.0",
            "_view_name": "StyleView",
            "description_width": ""
          }
        },
        "b9129c66a1cb4a43a3c7ab3ef38194b7": {
          "model_module": "@jupyter-widgets/controls",
          "model_module_version": "1.5.0",
          "model_name": "DescriptionStyleModel",
          "state": {
            "_model_module": "@jupyter-widgets/controls",
            "_model_module_version": "1.5.0",
            "_model_name": "DescriptionStyleModel",
            "_view_count": null,
            "_view_module": "@jupyter-widgets/base",
            "_view_module_version": "1.2.0",
            "_view_name": "StyleView",
            "description_width": ""
          }
        },
        "b99844112a3c4151aa7c912d9b054149": {
          "model_module": "@jupyter-widgets/base",
          "model_module_version": "1.2.0",
          "model_name": "LayoutModel",
          "state": {
            "_model_module": "@jupyter-widgets/base",
            "_model_module_version": "1.2.0",
            "_model_name": "LayoutModel",
            "_view_count": null,
            "_view_module": "@jupyter-widgets/base",
            "_view_module_version": "1.2.0",
            "_view_name": "LayoutView",
            "align_content": null,
            "align_items": null,
            "align_self": null,
            "border": null,
            "bottom": null,
            "display": null,
            "flex": null,
            "flex_flow": null,
            "grid_area": null,
            "grid_auto_columns": null,
            "grid_auto_flow": null,
            "grid_auto_rows": null,
            "grid_column": null,
            "grid_gap": null,
            "grid_row": null,
            "grid_template_areas": null,
            "grid_template_columns": null,
            "grid_template_rows": null,
            "height": null,
            "justify_content": null,
            "justify_items": null,
            "left": null,
            "margin": null,
            "max_height": null,
            "max_width": null,
            "min_height": null,
            "min_width": null,
            "object_fit": null,
            "object_position": null,
            "order": null,
            "overflow": null,
            "overflow_x": null,
            "overflow_y": null,
            "padding": null,
            "right": null,
            "top": null,
            "visibility": null,
            "width": null
          }
        },
        "bf66037e2a2e41a0924e521a880e1655": {
          "model_module": "@jupyter-widgets/base",
          "model_module_version": "1.2.0",
          "model_name": "LayoutModel",
          "state": {
            "_model_module": "@jupyter-widgets/base",
            "_model_module_version": "1.2.0",
            "_model_name": "LayoutModel",
            "_view_count": null,
            "_view_module": "@jupyter-widgets/base",
            "_view_module_version": "1.2.0",
            "_view_name": "LayoutView",
            "align_content": null,
            "align_items": null,
            "align_self": null,
            "border": null,
            "bottom": null,
            "display": null,
            "flex": null,
            "flex_flow": null,
            "grid_area": null,
            "grid_auto_columns": null,
            "grid_auto_flow": null,
            "grid_auto_rows": null,
            "grid_column": null,
            "grid_gap": null,
            "grid_row": null,
            "grid_template_areas": null,
            "grid_template_columns": null,
            "grid_template_rows": null,
            "height": null,
            "justify_content": null,
            "justify_items": null,
            "left": null,
            "margin": null,
            "max_height": null,
            "max_width": null,
            "min_height": null,
            "min_width": null,
            "object_fit": null,
            "object_position": null,
            "order": null,
            "overflow": null,
            "overflow_x": null,
            "overflow_y": null,
            "padding": null,
            "right": null,
            "top": null,
            "visibility": null,
            "width": null
          }
        },
        "c16ef81e21e24b5d97a709dc534c9df9": {
          "model_module": "@jupyter-widgets/controls",
          "model_module_version": "1.5.0",
          "model_name": "HTMLModel",
          "state": {
            "_dom_classes": [],
            "_model_module": "@jupyter-widgets/controls",
            "_model_module_version": "1.5.0",
            "_model_name": "HTMLModel",
            "_view_count": null,
            "_view_module": "@jupyter-widgets/controls",
            "_view_module_version": "1.5.0",
            "_view_name": "HTMLView",
            "description": "",
            "description_tooltip": null,
            "layout": "IPY_MODEL_2a365392b69b4267885dee36a4eb17fb",
            "placeholder": "​",
            "style": "IPY_MODEL_9b2cecb4686848e5907409bf052e1996",
            "value": " 456k/456k [00:00&lt;00:00, 7.04MB/s]"
          }
        },
        "c45af9a074f1463d82f42589d6056301": {
          "model_module": "@jupyter-widgets/controls",
          "model_module_version": "1.5.0",
          "model_name": "DescriptionStyleModel",
          "state": {
            "_model_module": "@jupyter-widgets/controls",
            "_model_module_version": "1.5.0",
            "_model_name": "DescriptionStyleModel",
            "_view_count": null,
            "_view_module": "@jupyter-widgets/base",
            "_view_module_version": "1.2.0",
            "_view_name": "StyleView",
            "description_width": ""
          }
        },
        "c4dde5765e064e21b93718a620706684": {
          "model_module": "@jupyter-widgets/controls",
          "model_module_version": "1.5.0",
          "model_name": "ProgressStyleModel",
          "state": {
            "_model_module": "@jupyter-widgets/controls",
            "_model_module_version": "1.5.0",
            "_model_name": "ProgressStyleModel",
            "_view_count": null,
            "_view_module": "@jupyter-widgets/base",
            "_view_module_version": "1.2.0",
            "_view_name": "StyleView",
            "bar_color": null,
            "description_width": ""
          }
        },
        "c5c85f8c4be14ca9b8acf238cc438946": {
          "model_module": "@jupyter-widgets/base",
          "model_module_version": "1.2.0",
          "model_name": "LayoutModel",
          "state": {
            "_model_module": "@jupyter-widgets/base",
            "_model_module_version": "1.2.0",
            "_model_name": "LayoutModel",
            "_view_count": null,
            "_view_module": "@jupyter-widgets/base",
            "_view_module_version": "1.2.0",
            "_view_name": "LayoutView",
            "align_content": null,
            "align_items": null,
            "align_self": null,
            "border": null,
            "bottom": null,
            "display": null,
            "flex": null,
            "flex_flow": null,
            "grid_area": null,
            "grid_auto_columns": null,
            "grid_auto_flow": null,
            "grid_auto_rows": null,
            "grid_column": null,
            "grid_gap": null,
            "grid_row": null,
            "grid_template_areas": null,
            "grid_template_columns": null,
            "grid_template_rows": null,
            "height": null,
            "justify_content": null,
            "justify_items": null,
            "left": null,
            "margin": null,
            "max_height": null,
            "max_width": null,
            "min_height": null,
            "min_width": null,
            "object_fit": null,
            "object_position": null,
            "order": null,
            "overflow": null,
            "overflow_x": null,
            "overflow_y": null,
            "padding": null,
            "right": null,
            "top": null,
            "visibility": null,
            "width": null
          }
        },
        "c5e5949f05394ba58088d00936a3852a": {
          "model_module": "@jupyter-widgets/base",
          "model_module_version": "1.2.0",
          "model_name": "LayoutModel",
          "state": {
            "_model_module": "@jupyter-widgets/base",
            "_model_module_version": "1.2.0",
            "_model_name": "LayoutModel",
            "_view_count": null,
            "_view_module": "@jupyter-widgets/base",
            "_view_module_version": "1.2.0",
            "_view_name": "LayoutView",
            "align_content": null,
            "align_items": null,
            "align_self": null,
            "border": null,
            "bottom": null,
            "display": null,
            "flex": null,
            "flex_flow": null,
            "grid_area": null,
            "grid_auto_columns": null,
            "grid_auto_flow": null,
            "grid_auto_rows": null,
            "grid_column": null,
            "grid_gap": null,
            "grid_row": null,
            "grid_template_areas": null,
            "grid_template_columns": null,
            "grid_template_rows": null,
            "height": null,
            "justify_content": null,
            "justify_items": null,
            "left": null,
            "margin": null,
            "max_height": null,
            "max_width": null,
            "min_height": null,
            "min_width": null,
            "object_fit": null,
            "object_position": null,
            "order": null,
            "overflow": null,
            "overflow_x": null,
            "overflow_y": null,
            "padding": null,
            "right": null,
            "top": null,
            "visibility": null,
            "width": null
          }
        },
        "c72d217b0e724e29b4c0aad8fae66b58": {
          "model_module": "@jupyter-widgets/base",
          "model_module_version": "1.2.0",
          "model_name": "LayoutModel",
          "state": {
            "_model_module": "@jupyter-widgets/base",
            "_model_module_version": "1.2.0",
            "_model_name": "LayoutModel",
            "_view_count": null,
            "_view_module": "@jupyter-widgets/base",
            "_view_module_version": "1.2.0",
            "_view_name": "LayoutView",
            "align_content": null,
            "align_items": null,
            "align_self": null,
            "border": null,
            "bottom": null,
            "display": null,
            "flex": null,
            "flex_flow": null,
            "grid_area": null,
            "grid_auto_columns": null,
            "grid_auto_flow": null,
            "grid_auto_rows": null,
            "grid_column": null,
            "grid_gap": null,
            "grid_row": null,
            "grid_template_areas": null,
            "grid_template_columns": null,
            "grid_template_rows": null,
            "height": null,
            "justify_content": null,
            "justify_items": null,
            "left": null,
            "margin": null,
            "max_height": null,
            "max_width": null,
            "min_height": null,
            "min_width": null,
            "object_fit": null,
            "object_position": null,
            "order": null,
            "overflow": null,
            "overflow_x": null,
            "overflow_y": null,
            "padding": null,
            "right": null,
            "top": null,
            "visibility": null,
            "width": null
          }
        },
        "c7584e21d2ae4d76afb5394030243ce8": {
          "model_module": "@jupyter-widgets/controls",
          "model_module_version": "1.5.0",
          "model_name": "VBoxModel",
          "state": {
            "_dom_classes": [],
            "_model_module": "@jupyter-widgets/controls",
            "_model_module_version": "1.5.0",
            "_model_name": "VBoxModel",
            "_view_count": null,
            "_view_module": "@jupyter-widgets/controls",
            "_view_module_version": "1.5.0",
            "_view_name": "VBoxView",
            "box_style": "",
            "children": [
              "IPY_MODEL_19613768e7e343158bdbcd77485c7688",
              "IPY_MODEL_fb7af54931c54972ae75525fe183f555"
            ],
            "layout": "IPY_MODEL_e87b9b1192ca4a4ea7c949fe80d59e55"
          }
        },
        "c8a0f550b891442a82b60efcdd32fe16": {
          "model_module": "@jupyter-widgets/controls",
          "model_module_version": "1.5.0",
          "model_name": "FloatProgressModel",
          "state": {
            "_dom_classes": [],
            "_model_module": "@jupyter-widgets/controls",
            "_model_module_version": "1.5.0",
            "_model_name": "FloatProgressModel",
            "_view_count": null,
            "_view_module": "@jupyter-widgets/controls",
            "_view_module_version": "1.5.0",
            "_view_name": "ProgressView",
            "bar_style": "success",
            "description": "",
            "description_tooltip": null,
            "layout": "IPY_MODEL_52244926f31a4c5ba7495217597c2b67",
            "max": 373,
            "min": 0,
            "orientation": "horizontal",
            "style": "IPY_MODEL_938a749bb04540858e2e81a066ad9160",
            "value": 373
          }
        },
        "c9c83af17e584f9e9f6569620c0cb084": {
          "model_module": "@jupyter-widgets/controls",
          "model_module_version": "1.5.0",
          "model_name": "DescriptionStyleModel",
          "state": {
            "_model_module": "@jupyter-widgets/controls",
            "_model_module_version": "1.5.0",
            "_model_name": "DescriptionStyleModel",
            "_view_count": null,
            "_view_module": "@jupyter-widgets/base",
            "_view_module_version": "1.2.0",
            "_view_name": "StyleView",
            "description_width": ""
          }
        },
        "cc025259fe7b42fb9eb6c04b78272689": {
          "model_module": "@jupyter-widgets/controls",
          "model_module_version": "1.5.0",
          "model_name": "HBoxModel",
          "state": {
            "_dom_classes": [],
            "_model_module": "@jupyter-widgets/controls",
            "_model_module_version": "1.5.0",
            "_model_name": "HBoxModel",
            "_view_count": null,
            "_view_module": "@jupyter-widgets/controls",
            "_view_module_version": "1.5.0",
            "_view_name": "HBoxView",
            "box_style": "",
            "children": [
              "IPY_MODEL_e6b1eeec6fb7402f97baee09059812de",
              "IPY_MODEL_c8a0f550b891442a82b60efcdd32fe16",
              "IPY_MODEL_ff27255610c64fd595482ea5d2f6ac5f"
            ],
            "layout": "IPY_MODEL_fbc4b37002204defba03cc62584a6003"
          }
        },
        "cd05362d5ce54269b779487487258daf": {
          "model_module": "@jupyter-widgets/controls",
          "model_module_version": "1.5.0",
          "model_name": "HBoxModel",
          "state": {
            "_dom_classes": [],
            "_model_module": "@jupyter-widgets/controls",
            "_model_module_version": "1.5.0",
            "_model_name": "HBoxModel",
            "_view_count": null,
            "_view_module": "@jupyter-widgets/controls",
            "_view_module_version": "1.5.0",
            "_view_name": "HBoxView",
            "box_style": "",
            "children": [
              "IPY_MODEL_fb472c29775d4c30b54f61c187f4f22d",
              "IPY_MODEL_f8baa438d2884b24a1d06a9bc8bb403a",
              "IPY_MODEL_00c7b2c01e4f499c987ba067efc9fa05"
            ],
            "layout": "IPY_MODEL_540b580999bb4e19bc597296aebabcdd"
          }
        },
        "d13f81ffbd3c4519968703ce55b7ef88": {
          "model_module": "@jupyter-widgets/controls",
          "model_module_version": "1.5.0",
          "model_name": "HTMLModel",
          "state": {
            "_dom_classes": [],
            "_model_module": "@jupyter-widgets/controls",
            "_model_module_version": "1.5.0",
            "_model_name": "HTMLModel",
            "_view_count": null,
            "_view_module": "@jupyter-widgets/controls",
            "_view_module_version": "1.5.0",
            "_view_name": "HTMLView",
            "description": "",
            "description_tooltip": null,
            "layout": "IPY_MODEL_d5a384088d1542119bdaf9131d8a8906",
            "placeholder": "​",
            "style": "IPY_MODEL_3701ab6992c64ad5bb0bf55ea6c028a7",
            "value": "tokenizer_config.json: 100%"
          }
        },
        "d476a6979f124afdaa7d85abd53c3a5c": {
          "model_module": "@jupyter-widgets/controls",
          "model_module_version": "1.5.0",
          "model_name": "DescriptionStyleModel",
          "state": {
            "_model_module": "@jupyter-widgets/controls",
            "_model_module_version": "1.5.0",
            "_model_name": "DescriptionStyleModel",
            "_view_count": null,
            "_view_module": "@jupyter-widgets/base",
            "_view_module_version": "1.2.0",
            "_view_name": "StyleView",
            "description_width": ""
          }
        },
        "d5a384088d1542119bdaf9131d8a8906": {
          "model_module": "@jupyter-widgets/base",
          "model_module_version": "1.2.0",
          "model_name": "LayoutModel",
          "state": {
            "_model_module": "@jupyter-widgets/base",
            "_model_module_version": "1.2.0",
            "_model_name": "LayoutModel",
            "_view_count": null,
            "_view_module": "@jupyter-widgets/base",
            "_view_module_version": "1.2.0",
            "_view_name": "LayoutView",
            "align_content": null,
            "align_items": null,
            "align_self": null,
            "border": null,
            "bottom": null,
            "display": null,
            "flex": null,
            "flex_flow": null,
            "grid_area": null,
            "grid_auto_columns": null,
            "grid_auto_flow": null,
            "grid_auto_rows": null,
            "grid_column": null,
            "grid_gap": null,
            "grid_row": null,
            "grid_template_areas": null,
            "grid_template_columns": null,
            "grid_template_rows": null,
            "height": null,
            "justify_content": null,
            "justify_items": null,
            "left": null,
            "margin": null,
            "max_height": null,
            "max_width": null,
            "min_height": null,
            "min_width": null,
            "object_fit": null,
            "object_position": null,
            "order": null,
            "overflow": null,
            "overflow_x": null,
            "overflow_y": null,
            "padding": null,
            "right": null,
            "top": null,
            "visibility": null,
            "width": null
          }
        },
        "d710f45ebfae46e29dc9cca3077137b8": {
          "model_module": "@jupyter-widgets/controls",
          "model_module_version": "1.5.0",
          "model_name": "HTMLModel",
          "state": {
            "_dom_classes": [],
            "_model_module": "@jupyter-widgets/controls",
            "_model_module_version": "1.5.0",
            "_model_name": "HTMLModel",
            "_view_count": null,
            "_view_module": "@jupyter-widgets/controls",
            "_view_module_version": "1.5.0",
            "_view_name": "HTMLView",
            "description": "",
            "description_tooltip": null,
            "layout": "IPY_MODEL_31abef5cdf0741abb36112eeb3847374",
            "placeholder": "​",
            "style": "IPY_MODEL_451a1c60abd74a14924640d5e3a8a305",
            "value": "100%"
          }
        },
        "d72424a0694a4ba0bc7bb7833d708521": {
          "model_module": "@jupyter-widgets/controls",
          "model_module_version": "1.5.0",
          "model_name": "HTMLModel",
          "state": {
            "_dom_classes": [],
            "_model_module": "@jupyter-widgets/controls",
            "_model_module_version": "1.5.0",
            "_model_name": "HTMLModel",
            "_view_count": null,
            "_view_module": "@jupyter-widgets/controls",
            "_view_module_version": "1.5.0",
            "_view_name": "HTMLView",
            "description": "",
            "description_tooltip": null,
            "layout": "IPY_MODEL_571b0b9bde254692a8fac5ff1a0bc58f",
            "placeholder": "​",
            "style": "IPY_MODEL_ee07362183114348bf2d42c004e595b1",
            "value": "merges.txt: 100%"
          }
        },
        "d7f040a1392d498c871853a0d555eb52": {
          "model_module": "@jupyter-widgets/base",
          "model_module_version": "1.2.0",
          "model_name": "LayoutModel",
          "state": {
            "_model_module": "@jupyter-widgets/base",
            "_model_module_version": "1.2.0",
            "_model_name": "LayoutModel",
            "_view_count": null,
            "_view_module": "@jupyter-widgets/base",
            "_view_module_version": "1.2.0",
            "_view_name": "LayoutView",
            "align_content": null,
            "align_items": null,
            "align_self": null,
            "border": null,
            "bottom": null,
            "display": null,
            "flex": null,
            "flex_flow": null,
            "grid_area": null,
            "grid_auto_columns": null,
            "grid_auto_flow": null,
            "grid_auto_rows": null,
            "grid_column": null,
            "grid_gap": null,
            "grid_row": null,
            "grid_template_areas": null,
            "grid_template_columns": null,
            "grid_template_rows": null,
            "height": null,
            "justify_content": null,
            "justify_items": null,
            "left": null,
            "margin": null,
            "max_height": null,
            "max_width": null,
            "min_height": null,
            "min_width": null,
            "object_fit": null,
            "object_position": null,
            "order": null,
            "overflow": null,
            "overflow_x": null,
            "overflow_y": null,
            "padding": null,
            "right": null,
            "top": null,
            "visibility": null,
            "width": null
          }
        },
        "d8d298d2ae074f4ca1b2db0a5e59a988": {
          "model_module": "@jupyter-widgets/controls",
          "model_module_version": "1.5.0",
          "model_name": "HTMLModel",
          "state": {
            "_dom_classes": [],
            "_model_module": "@jupyter-widgets/controls",
            "_model_module_version": "1.5.0",
            "_model_name": "HTMLModel",
            "_view_count": null,
            "_view_module": "@jupyter-widgets/controls",
            "_view_module_version": "1.5.0",
            "_view_name": "HTMLView",
            "description": "",
            "description_tooltip": null,
            "layout": "IPY_MODEL_d7f040a1392d498c871853a0d555eb52",
            "placeholder": "​",
            "style": "IPY_MODEL_8962ef47c53a4ca19678c54993c71cba",
            "value": "Downloading data: 100%"
          }
        },
        "dbcf62928afa490086f5af5fb6d75658": {
          "model_module": "@jupyter-widgets/base",
          "model_module_version": "1.2.0",
          "model_name": "LayoutModel",
          "state": {
            "_model_module": "@jupyter-widgets/base",
            "_model_module_version": "1.2.0",
            "_model_name": "LayoutModel",
            "_view_count": null,
            "_view_module": "@jupyter-widgets/base",
            "_view_module_version": "1.2.0",
            "_view_name": "LayoutView",
            "align_content": null,
            "align_items": null,
            "align_self": null,
            "border": null,
            "bottom": null,
            "display": null,
            "flex": null,
            "flex_flow": null,
            "grid_area": null,
            "grid_auto_columns": null,
            "grid_auto_flow": null,
            "grid_auto_rows": null,
            "grid_column": null,
            "grid_gap": null,
            "grid_row": null,
            "grid_template_areas": null,
            "grid_template_columns": null,
            "grid_template_rows": null,
            "height": null,
            "justify_content": null,
            "justify_items": null,
            "left": null,
            "margin": null,
            "max_height": null,
            "max_width": null,
            "min_height": null,
            "min_width": null,
            "object_fit": null,
            "object_position": null,
            "order": null,
            "overflow": null,
            "overflow_x": null,
            "overflow_y": null,
            "padding": null,
            "right": null,
            "top": null,
            "visibility": null,
            "width": null
          }
        },
        "df042e6642654b14a5cd1ff784f1af62": {
          "model_module": "@jupyter-widgets/controls",
          "model_module_version": "1.5.0",
          "model_name": "HBoxModel",
          "state": {
            "_dom_classes": [],
            "_model_module": "@jupyter-widgets/controls",
            "_model_module_version": "1.5.0",
            "_model_name": "HBoxModel",
            "_view_count": null,
            "_view_module": "@jupyter-widgets/controls",
            "_view_module_version": "1.5.0",
            "_view_name": "HBoxView",
            "box_style": "",
            "children": [
              "IPY_MODEL_d8d298d2ae074f4ca1b2db0a5e59a988",
              "IPY_MODEL_640f5170fda74cd299ab91c9b3433e5e",
              "IPY_MODEL_88da8bf8126b42eeac5eeda8b8acc74b"
            ],
            "layout": "IPY_MODEL_6a621c7bfe6349de9f4f9a6e7f3d1d86"
          }
        },
        "e0dff96e96104e159f40738df5e2779f": {
          "model_module": "@jupyter-widgets/base",
          "model_module_version": "1.2.0",
          "model_name": "LayoutModel",
          "state": {
            "_model_module": "@jupyter-widgets/base",
            "_model_module_version": "1.2.0",
            "_model_name": "LayoutModel",
            "_view_count": null,
            "_view_module": "@jupyter-widgets/base",
            "_view_module_version": "1.2.0",
            "_view_name": "LayoutView",
            "align_content": null,
            "align_items": null,
            "align_self": null,
            "border": null,
            "bottom": null,
            "display": null,
            "flex": null,
            "flex_flow": null,
            "grid_area": null,
            "grid_auto_columns": null,
            "grid_auto_flow": null,
            "grid_auto_rows": null,
            "grid_column": null,
            "grid_gap": null,
            "grid_row": null,
            "grid_template_areas": null,
            "grid_template_columns": null,
            "grid_template_rows": null,
            "height": null,
            "justify_content": null,
            "justify_items": null,
            "left": null,
            "margin": null,
            "max_height": null,
            "max_width": null,
            "min_height": null,
            "min_width": null,
            "object_fit": null,
            "object_position": null,
            "order": null,
            "overflow": null,
            "overflow_x": null,
            "overflow_y": null,
            "padding": null,
            "right": null,
            "top": null,
            "visibility": null,
            "width": null
          }
        },
        "e163596d951946ebb8d62ce8a338f879": {
          "model_module": "@jupyter-widgets/base",
          "model_module_version": "1.2.0",
          "model_name": "LayoutModel",
          "state": {
            "_model_module": "@jupyter-widgets/base",
            "_model_module_version": "1.2.0",
            "_model_name": "LayoutModel",
            "_view_count": null,
            "_view_module": "@jupyter-widgets/base",
            "_view_module_version": "1.2.0",
            "_view_name": "LayoutView",
            "align_content": null,
            "align_items": null,
            "align_self": null,
            "border": null,
            "bottom": null,
            "display": null,
            "flex": null,
            "flex_flow": null,
            "grid_area": null,
            "grid_auto_columns": null,
            "grid_auto_flow": null,
            "grid_auto_rows": null,
            "grid_column": null,
            "grid_gap": null,
            "grid_row": null,
            "grid_template_areas": null,
            "grid_template_columns": null,
            "grid_template_rows": null,
            "height": null,
            "justify_content": null,
            "justify_items": null,
            "left": null,
            "margin": null,
            "max_height": null,
            "max_width": null,
            "min_height": null,
            "min_width": null,
            "object_fit": null,
            "object_position": null,
            "order": null,
            "overflow": null,
            "overflow_x": null,
            "overflow_y": null,
            "padding": null,
            "right": null,
            "top": null,
            "visibility": null,
            "width": null
          }
        },
        "e36278eaf40b4892b80126d60b201ce7": {
          "model_module": "@jupyter-widgets/base",
          "model_module_version": "1.2.0",
          "model_name": "LayoutModel",
          "state": {
            "_model_module": "@jupyter-widgets/base",
            "_model_module_version": "1.2.0",
            "_model_name": "LayoutModel",
            "_view_count": null,
            "_view_module": "@jupyter-widgets/base",
            "_view_module_version": "1.2.0",
            "_view_name": "LayoutView",
            "align_content": null,
            "align_items": null,
            "align_self": null,
            "border": null,
            "bottom": null,
            "display": null,
            "flex": null,
            "flex_flow": null,
            "grid_area": null,
            "grid_auto_columns": null,
            "grid_auto_flow": null,
            "grid_auto_rows": null,
            "grid_column": null,
            "grid_gap": null,
            "grid_row": null,
            "grid_template_areas": null,
            "grid_template_columns": null,
            "grid_template_rows": null,
            "height": null,
            "justify_content": null,
            "justify_items": null,
            "left": null,
            "margin": null,
            "max_height": null,
            "max_width": null,
            "min_height": null,
            "min_width": null,
            "object_fit": null,
            "object_position": null,
            "order": null,
            "overflow": null,
            "overflow_x": null,
            "overflow_y": null,
            "padding": null,
            "right": null,
            "top": null,
            "visibility": null,
            "width": null
          }
        },
        "e3d356fea53849f1ae5044ebaa777079": {
          "model_module": "@jupyter-widgets/base",
          "model_module_version": "1.2.0",
          "model_name": "LayoutModel",
          "state": {
            "_model_module": "@jupyter-widgets/base",
            "_model_module_version": "1.2.0",
            "_model_name": "LayoutModel",
            "_view_count": null,
            "_view_module": "@jupyter-widgets/base",
            "_view_module_version": "1.2.0",
            "_view_name": "LayoutView",
            "align_content": null,
            "align_items": null,
            "align_self": null,
            "border": null,
            "bottom": null,
            "display": null,
            "flex": null,
            "flex_flow": null,
            "grid_area": null,
            "grid_auto_columns": null,
            "grid_auto_flow": null,
            "grid_auto_rows": null,
            "grid_column": null,
            "grid_gap": null,
            "grid_row": null,
            "grid_template_areas": null,
            "grid_template_columns": null,
            "grid_template_rows": null,
            "height": null,
            "justify_content": null,
            "justify_items": null,
            "left": null,
            "margin": null,
            "max_height": null,
            "max_width": null,
            "min_height": null,
            "min_width": null,
            "object_fit": null,
            "object_position": null,
            "order": null,
            "overflow": null,
            "overflow_x": null,
            "overflow_y": null,
            "padding": null,
            "right": null,
            "top": null,
            "visibility": null,
            "width": null
          }
        },
        "e3e84318af3e48c2a3d4b393ba1fcda5": {
          "model_module": "@jupyter-widgets/controls",
          "model_module_version": "1.5.0",
          "model_name": "DescriptionStyleModel",
          "state": {
            "_model_module": "@jupyter-widgets/controls",
            "_model_module_version": "1.5.0",
            "_model_name": "DescriptionStyleModel",
            "_view_count": null,
            "_view_module": "@jupyter-widgets/base",
            "_view_module_version": "1.2.0",
            "_view_name": "StyleView",
            "description_width": ""
          }
        },
        "e535587a330c40b280747ef0e27af66f": {
          "model_module": "@jupyter-widgets/controls",
          "model_module_version": "1.5.0",
          "model_name": "HBoxModel",
          "state": {
            "_dom_classes": [],
            "_model_module": "@jupyter-widgets/controls",
            "_model_module_version": "1.5.0",
            "_model_name": "HBoxModel",
            "_view_count": null,
            "_view_module": "@jupyter-widgets/controls",
            "_view_module_version": "1.5.0",
            "_view_name": "HBoxView",
            "box_style": "",
            "children": [
              "IPY_MODEL_6e5f1540cd6b4396b7267ab6d68e1893",
              "IPY_MODEL_efe129bb59a74c74842b14b7274bd431",
              "IPY_MODEL_1c18cc650bf14513affcaa7269d96ede"
            ],
            "layout": "IPY_MODEL_5446a0429dc741db96ae8986415c167f"
          }
        },
        "e6b1eeec6fb7402f97baee09059812de": {
          "model_module": "@jupyter-widgets/controls",
          "model_module_version": "1.5.0",
          "model_name": "HTMLModel",
          "state": {
            "_dom_classes": [],
            "_model_module": "@jupyter-widgets/controls",
            "_model_module_version": "1.5.0",
            "_model_name": "HTMLModel",
            "_view_count": null,
            "_view_module": "@jupyter-widgets/controls",
            "_view_module_version": "1.5.0",
            "_view_name": "HTMLView",
            "description": "",
            "description_tooltip": null,
            "layout": "IPY_MODEL_1b0153db2d934b369c61ef89807bd45f",
            "placeholder": "​",
            "style": "IPY_MODEL_3b257ffba386405dac880431192ef19a",
            "value": "Downloading readme: 100%"
          }
        },
        "e7a4696abb864486bd9c56b7a712b62c": {
          "model_module": "@jupyter-widgets/controls",
          "model_module_version": "1.5.0",
          "model_name": "FloatProgressModel",
          "state": {
            "_dom_classes": [],
            "_model_module": "@jupyter-widgets/controls",
            "_model_module_version": "1.5.0",
            "_model_name": "FloatProgressModel",
            "_view_count": null,
            "_view_module": "@jupyter-widgets/controls",
            "_view_module_version": "1.5.0",
            "_view_name": "ProgressView",
            "bar_style": "success",
            "description": "",
            "description_tooltip": null,
            "layout": "IPY_MODEL_b3c301dd7923401e9bcd9f20b76ec68c",
            "max": 1355256,
            "min": 0,
            "orientation": "horizontal",
            "style": "IPY_MODEL_64f5203fbcbf4aa2933ea0b33c303412",
            "value": 1355256
          }
        },
        "e8540390d5f94e71a84ee75b78a50d9a": {
          "model_module": "@jupyter-widgets/base",
          "model_module_version": "1.2.0",
          "model_name": "LayoutModel",
          "state": {
            "_model_module": "@jupyter-widgets/base",
            "_model_module_version": "1.2.0",
            "_model_name": "LayoutModel",
            "_view_count": null,
            "_view_module": "@jupyter-widgets/base",
            "_view_module_version": "1.2.0",
            "_view_name": "LayoutView",
            "align_content": null,
            "align_items": null,
            "align_self": null,
            "border": null,
            "bottom": null,
            "display": null,
            "flex": null,
            "flex_flow": null,
            "grid_area": null,
            "grid_auto_columns": null,
            "grid_auto_flow": null,
            "grid_auto_rows": null,
            "grid_column": null,
            "grid_gap": null,
            "grid_row": null,
            "grid_template_areas": null,
            "grid_template_columns": null,
            "grid_template_rows": null,
            "height": null,
            "justify_content": null,
            "justify_items": null,
            "left": null,
            "margin": null,
            "max_height": null,
            "max_width": null,
            "min_height": null,
            "min_width": null,
            "object_fit": null,
            "object_position": null,
            "order": null,
            "overflow": null,
            "overflow_x": null,
            "overflow_y": null,
            "padding": null,
            "right": null,
            "top": null,
            "visibility": null,
            "width": null
          }
        },
        "e87b9b1192ca4a4ea7c949fe80d59e55": {
          "model_module": "@jupyter-widgets/base",
          "model_module_version": "1.2.0",
          "model_name": "LayoutModel",
          "state": {
            "_model_module": "@jupyter-widgets/base",
            "_model_module_version": "1.2.0",
            "_model_name": "LayoutModel",
            "_view_count": null,
            "_view_module": "@jupyter-widgets/base",
            "_view_module_version": "1.2.0",
            "_view_name": "LayoutView",
            "align_content": null,
            "align_items": null,
            "align_self": null,
            "border": null,
            "bottom": null,
            "display": null,
            "flex": null,
            "flex_flow": null,
            "grid_area": null,
            "grid_auto_columns": null,
            "grid_auto_flow": null,
            "grid_auto_rows": null,
            "grid_column": null,
            "grid_gap": null,
            "grid_row": null,
            "grid_template_areas": null,
            "grid_template_columns": null,
            "grid_template_rows": null,
            "height": null,
            "justify_content": null,
            "justify_items": null,
            "left": null,
            "margin": null,
            "max_height": null,
            "max_width": null,
            "min_height": null,
            "min_width": null,
            "object_fit": null,
            "object_position": null,
            "order": null,
            "overflow": null,
            "overflow_x": null,
            "overflow_y": null,
            "padding": null,
            "right": null,
            "top": null,
            "visibility": null,
            "width": null
          }
        },
        "e8a6ce5c25104b6bb7fb6211de5746a8": {
          "model_module": "@jupyter-widgets/controls",
          "model_module_version": "1.5.0",
          "model_name": "HBoxModel",
          "state": {
            "_dom_classes": [],
            "_model_module": "@jupyter-widgets/controls",
            "_model_module_version": "1.5.0",
            "_model_name": "HBoxModel",
            "_view_count": null,
            "_view_module": "@jupyter-widgets/controls",
            "_view_module_version": "1.5.0",
            "_view_name": "HBoxView",
            "box_style": "",
            "children": [
              "IPY_MODEL_5a4e57f8a6c247708b52c01901727b91",
              "IPY_MODEL_fc8f044a5eb848c9b5243589c02482fa",
              "IPY_MODEL_13159fa65d864f15829373ec8d2cd00c"
            ],
            "layout": "IPY_MODEL_e163596d951946ebb8d62ce8a338f879"
          }
        },
        "e90ceab87be840b78d19eaeb62244d56": {
          "model_module": "@jupyter-widgets/controls",
          "model_module_version": "1.5.0",
          "model_name": "HTMLModel",
          "state": {
            "_dom_classes": [],
            "_model_module": "@jupyter-widgets/controls",
            "_model_module_version": "1.5.0",
            "_model_name": "HTMLModel",
            "_view_count": null,
            "_view_module": "@jupyter-widgets/controls",
            "_view_module_version": "1.5.0",
            "_view_name": "HTMLView",
            "description": "",
            "description_tooltip": null,
            "layout": "IPY_MODEL_abae612905b44b79acc45faf41117cb0",
            "placeholder": "​",
            "style": "IPY_MODEL_867aa7145d0d431cbf81647da325b46e",
            "value": "Downloading metadata: 100%"
          }
        },
        "e99946f952624fd29ef0594cd7c53cc0": {
          "model_module": "@jupyter-widgets/controls",
          "model_module_version": "1.5.0",
          "model_name": "FloatProgressModel",
          "state": {
            "_dom_classes": [],
            "_model_module": "@jupyter-widgets/controls",
            "_model_module_version": "1.5.0",
            "_model_name": "FloatProgressModel",
            "_view_count": null,
            "_view_module": "@jupyter-widgets/controls",
            "_view_module_version": "1.5.0",
            "_view_name": "ProgressView",
            "bar_style": "success",
            "description": "",
            "description_tooltip": null,
            "layout": "IPY_MODEL_23c8e227375144cfa0da8da7068599c4",
            "max": 665,
            "min": 0,
            "orientation": "horizontal",
            "style": "IPY_MODEL_efdf6bf51d4342b3bbdc03c108a4d071",
            "value": 665
          }
        },
        "ea690105d8b845a78534144cf6659801": {
          "model_module": "@jupyter-widgets/controls",
          "model_module_version": "1.5.0",
          "model_name": "DescriptionStyleModel",
          "state": {
            "_model_module": "@jupyter-widgets/controls",
            "_model_module_version": "1.5.0",
            "_model_name": "DescriptionStyleModel",
            "_view_count": null,
            "_view_module": "@jupyter-widgets/base",
            "_view_module_version": "1.2.0",
            "_view_name": "StyleView",
            "description_width": ""
          }
        },
        "ec1ab50cb31040fc9ba58dce0965fec2": {
          "model_module": "@jupyter-widgets/controls",
          "model_module_version": "1.5.0",
          "model_name": "DescriptionStyleModel",
          "state": {
            "_model_module": "@jupyter-widgets/controls",
            "_model_module_version": "1.5.0",
            "_model_name": "DescriptionStyleModel",
            "_view_count": null,
            "_view_module": "@jupyter-widgets/base",
            "_view_module_version": "1.2.0",
            "_view_name": "StyleView",
            "description_width": ""
          }
        },
        "ec33a83aa06140daa9337c73595d8fb8": {
          "model_module": "@jupyter-widgets/controls",
          "model_module_version": "1.5.0",
          "model_name": "FloatProgressModel",
          "state": {
            "_dom_classes": [],
            "_model_module": "@jupyter-widgets/controls",
            "_model_module_version": "1.5.0",
            "_model_name": "FloatProgressModel",
            "_view_count": null,
            "_view_module": "@jupyter-widgets/controls",
            "_view_module_version": "1.5.0",
            "_view_name": "ProgressView",
            "bar_style": "",
            "description": "",
            "description_tooltip": null,
            "layout": "IPY_MODEL_354d0cf922e84019b7ddc10b936d1277",
            "max": 4000,
            "min": 0,
            "orientation": "horizontal",
            "style": "IPY_MODEL_6ac9db692a124b5e9baaaa2d97dad713",
            "value": 4000
          }
        },
        "ed205b16f00b48b083b6b7dcfa861e32": {
          "model_module": "@jupyter-widgets/base",
          "model_module_version": "1.2.0",
          "model_name": "LayoutModel",
          "state": {
            "_model_module": "@jupyter-widgets/base",
            "_model_module_version": "1.2.0",
            "_model_name": "LayoutModel",
            "_view_count": null,
            "_view_module": "@jupyter-widgets/base",
            "_view_module_version": "1.2.0",
            "_view_name": "LayoutView",
            "align_content": null,
            "align_items": null,
            "align_self": null,
            "border": null,
            "bottom": null,
            "display": null,
            "flex": null,
            "flex_flow": null,
            "grid_area": null,
            "grid_auto_columns": null,
            "grid_auto_flow": null,
            "grid_auto_rows": null,
            "grid_column": null,
            "grid_gap": null,
            "grid_row": null,
            "grid_template_areas": null,
            "grid_template_columns": null,
            "grid_template_rows": null,
            "height": null,
            "justify_content": null,
            "justify_items": null,
            "left": null,
            "margin": null,
            "max_height": null,
            "max_width": null,
            "min_height": null,
            "min_width": null,
            "object_fit": null,
            "object_position": null,
            "order": null,
            "overflow": null,
            "overflow_x": null,
            "overflow_y": null,
            "padding": null,
            "right": null,
            "top": null,
            "visibility": null,
            "width": null
          }
        },
        "ee07362183114348bf2d42c004e595b1": {
          "model_module": "@jupyter-widgets/controls",
          "model_module_version": "1.5.0",
          "model_name": "DescriptionStyleModel",
          "state": {
            "_model_module": "@jupyter-widgets/controls",
            "_model_module_version": "1.5.0",
            "_model_name": "DescriptionStyleModel",
            "_view_count": null,
            "_view_module": "@jupyter-widgets/base",
            "_view_module_version": "1.2.0",
            "_view_name": "StyleView",
            "description_width": ""
          }
        },
        "efdf6bf51d4342b3bbdc03c108a4d071": {
          "model_module": "@jupyter-widgets/controls",
          "model_module_version": "1.5.0",
          "model_name": "ProgressStyleModel",
          "state": {
            "_model_module": "@jupyter-widgets/controls",
            "_model_module_version": "1.5.0",
            "_model_name": "ProgressStyleModel",
            "_view_count": null,
            "_view_module": "@jupyter-widgets/base",
            "_view_module_version": "1.2.0",
            "_view_name": "StyleView",
            "bar_color": null,
            "description_width": ""
          }
        },
        "efe129bb59a74c74842b14b7274bd431": {
          "model_module": "@jupyter-widgets/controls",
          "model_module_version": "1.5.0",
          "model_name": "FloatProgressModel",
          "state": {
            "_dom_classes": [],
            "_model_module": "@jupyter-widgets/controls",
            "_model_module_version": "1.5.0",
            "_model_name": "FloatProgressModel",
            "_view_count": null,
            "_view_module": "@jupyter-widgets/controls",
            "_view_module_version": "1.5.0",
            "_view_name": "ProgressView",
            "bar_style": "success",
            "description": "",
            "description_tooltip": null,
            "layout": "IPY_MODEL_9577a88cc0794bf5b3edd656e0b726c0",
            "max": 1042301,
            "min": 0,
            "orientation": "horizontal",
            "style": "IPY_MODEL_31c541a2a591468291ee6dbbf311698b",
            "value": 1042301
          }
        },
        "f08a38d6d263490cb9dc918983cd5ae8": {
          "model_module": "@jupyter-widgets/controls",
          "model_module_version": "1.5.0",
          "model_name": "HTMLModel",
          "state": {
            "_dom_classes": [],
            "_model_module": "@jupyter-widgets/controls",
            "_model_module_version": "1.5.0",
            "_model_name": "HTMLModel",
            "_view_count": null,
            "_view_module": "@jupyter-widgets/controls",
            "_view_module_version": "1.5.0",
            "_view_name": "HTMLView",
            "description": "",
            "description_tooltip": null,
            "layout": "IPY_MODEL_7e6f929d4fc04efb855fee7dfad03ff7",
            "placeholder": "​",
            "style": "IPY_MODEL_f7cdf8bd852742aba578649984a9549d",
            "value": " 10000/10000 [00:00&lt;00:00, 17698.43 examples/s]"
          }
        },
        "f26e38ef3e5a47809aad6973a8b6805c": {
          "model_module": "@jupyter-widgets/controls",
          "model_module_version": "1.5.0",
          "model_name": "HBoxModel",
          "state": {
            "_dom_classes": [],
            "_model_module": "@jupyter-widgets/controls",
            "_model_module_version": "1.5.0",
            "_model_name": "HBoxModel",
            "_view_count": null,
            "_view_module": "@jupyter-widgets/controls",
            "_view_module_version": "1.5.0",
            "_view_name": "HBoxView",
            "box_style": "",
            "children": [
              "IPY_MODEL_e90ceab87be840b78d19eaeb62244d56",
              "IPY_MODEL_7feead43fc9f469fb510379115344e25",
              "IPY_MODEL_27c612ae50ce4f07a6da644f9a620149"
            ],
            "layout": "IPY_MODEL_497cfd5134a74e4caf2009e74a856a36"
          }
        },
        "f7a21f435d6243b0882e048181618c7a": {
          "model_module": "@jupyter-widgets/base",
          "model_module_version": "1.2.0",
          "model_name": "LayoutModel",
          "state": {
            "_model_module": "@jupyter-widgets/base",
            "_model_module_version": "1.2.0",
            "_model_name": "LayoutModel",
            "_view_count": null,
            "_view_module": "@jupyter-widgets/base",
            "_view_module_version": "1.2.0",
            "_view_name": "LayoutView",
            "align_content": null,
            "align_items": null,
            "align_self": null,
            "border": null,
            "bottom": null,
            "display": null,
            "flex": null,
            "flex_flow": null,
            "grid_area": null,
            "grid_auto_columns": null,
            "grid_auto_flow": null,
            "grid_auto_rows": null,
            "grid_column": null,
            "grid_gap": null,
            "grid_row": null,
            "grid_template_areas": null,
            "grid_template_columns": null,
            "grid_template_rows": null,
            "height": null,
            "justify_content": null,
            "justify_items": null,
            "left": null,
            "margin": null,
            "max_height": null,
            "max_width": null,
            "min_height": null,
            "min_width": null,
            "object_fit": null,
            "object_position": null,
            "order": null,
            "overflow": null,
            "overflow_x": null,
            "overflow_y": null,
            "padding": null,
            "right": null,
            "top": null,
            "visibility": null,
            "width": null
          }
        },
        "f7cdf8bd852742aba578649984a9549d": {
          "model_module": "@jupyter-widgets/controls",
          "model_module_version": "1.5.0",
          "model_name": "DescriptionStyleModel",
          "state": {
            "_model_module": "@jupyter-widgets/controls",
            "_model_module_version": "1.5.0",
            "_model_name": "DescriptionStyleModel",
            "_view_count": null,
            "_view_module": "@jupyter-widgets/base",
            "_view_module_version": "1.2.0",
            "_view_name": "StyleView",
            "description_width": ""
          }
        },
        "f8baa438d2884b24a1d06a9bc8bb403a": {
          "model_module": "@jupyter-widgets/controls",
          "model_module_version": "1.5.0",
          "model_name": "FloatProgressModel",
          "state": {
            "_dom_classes": [],
            "_model_module": "@jupyter-widgets/controls",
            "_model_module_version": "1.5.0",
            "_model_name": "FloatProgressModel",
            "_view_count": null,
            "_view_module": "@jupyter-widgets/controls",
            "_view_module_version": "1.5.0",
            "_view_name": "ProgressView",
            "bar_style": "success",
            "description": "",
            "description_tooltip": null,
            "layout": "IPY_MODEL_0f6cdd65384e4d7f9daeaa8722bdee24",
            "max": 124,
            "min": 0,
            "orientation": "horizontal",
            "style": "IPY_MODEL_4a554bd28d1642c5bf5326e682daddd1",
            "value": 124
          }
        },
        "fb472c29775d4c30b54f61c187f4f22d": {
          "model_module": "@jupyter-widgets/controls",
          "model_module_version": "1.5.0",
          "model_name": "HTMLModel",
          "state": {
            "_dom_classes": [],
            "_model_module": "@jupyter-widgets/controls",
            "_model_module_version": "1.5.0",
            "_model_name": "HTMLModel",
            "_view_count": null,
            "_view_module": "@jupyter-widgets/controls",
            "_view_module_version": "1.5.0",
            "_view_name": "HTMLView",
            "description": "",
            "description_tooltip": null,
            "layout": "IPY_MODEL_1a755e737565435484da72f6273bb7b8",
            "placeholder": "​",
            "style": "IPY_MODEL_79f17ff195a44e6dac1efb6ff428ceaf",
            "value": "generation_config.json: 100%"
          }
        },
        "fb7af54931c54972ae75525fe183f555": {
          "model_module": "@jupyter-widgets/controls",
          "model_module_version": "1.5.0",
          "model_name": "FloatProgressModel",
          "state": {
            "_dom_classes": [],
            "_model_module": "@jupyter-widgets/controls",
            "_model_module_version": "1.5.0",
            "_model_name": "FloatProgressModel",
            "_view_count": null,
            "_view_module": "@jupyter-widgets/controls",
            "_view_module_version": "1.5.0",
            "_view_name": "ProgressView",
            "bar_style": "",
            "description": "",
            "description_tooltip": null,
            "layout": "IPY_MODEL_64e841bc002147e396626c475890153d",
            "max": 1,
            "min": 0,
            "orientation": "horizontal",
            "style": "IPY_MODEL_52a01fc3547b497cbc89d784e7837d16",
            "value": 1
          }
        },
        "fbc4b37002204defba03cc62584a6003": {
          "model_module": "@jupyter-widgets/base",
          "model_module_version": "1.2.0",
          "model_name": "LayoutModel",
          "state": {
            "_model_module": "@jupyter-widgets/base",
            "_model_module_version": "1.2.0",
            "_model_name": "LayoutModel",
            "_view_count": null,
            "_view_module": "@jupyter-widgets/base",
            "_view_module_version": "1.2.0",
            "_view_name": "LayoutView",
            "align_content": null,
            "align_items": null,
            "align_self": null,
            "border": null,
            "bottom": null,
            "display": null,
            "flex": null,
            "flex_flow": null,
            "grid_area": null,
            "grid_auto_columns": null,
            "grid_auto_flow": null,
            "grid_auto_rows": null,
            "grid_column": null,
            "grid_gap": null,
            "grid_row": null,
            "grid_template_areas": null,
            "grid_template_columns": null,
            "grid_template_rows": null,
            "height": null,
            "justify_content": null,
            "justify_items": null,
            "left": null,
            "margin": null,
            "max_height": null,
            "max_width": null,
            "min_height": null,
            "min_width": null,
            "object_fit": null,
            "object_position": null,
            "order": null,
            "overflow": null,
            "overflow_x": null,
            "overflow_y": null,
            "padding": null,
            "right": null,
            "top": null,
            "visibility": null,
            "width": null
          }
        },
        "fc0788cc1ea040678b155998593c68a0": {
          "model_module": "@jupyter-widgets/controls",
          "model_module_version": "1.5.0",
          "model_name": "DescriptionStyleModel",
          "state": {
            "_model_module": "@jupyter-widgets/controls",
            "_model_module_version": "1.5.0",
            "_model_name": "DescriptionStyleModel",
            "_view_count": null,
            "_view_module": "@jupyter-widgets/base",
            "_view_module_version": "1.2.0",
            "_view_name": "StyleView",
            "description_width": ""
          }
        },
        "fc8f044a5eb848c9b5243589c02482fa": {
          "model_module": "@jupyter-widgets/controls",
          "model_module_version": "1.5.0",
          "model_name": "FloatProgressModel",
          "state": {
            "_dom_classes": [],
            "_model_module": "@jupyter-widgets/controls",
            "_model_module_version": "1.5.0",
            "_model_name": "FloatProgressModel",
            "_view_count": null,
            "_view_module": "@jupyter-widgets/controls",
            "_view_module_version": "1.5.0",
            "_view_name": "ProgressView",
            "bar_style": "success",
            "description": "",
            "description_tooltip": null,
            "layout": "IPY_MODEL_439ae25fa03a46f6a7b63bc350b15c8b",
            "max": 10000,
            "min": 0,
            "orientation": "horizontal",
            "style": "IPY_MODEL_6f02a64f4ab343d29c41991a7787f3ef",
            "value": 10000
          }
        },
        "fef0cf4288624b89846a9e93b8bdf87f": {
          "model_module": "@jupyter-widgets/controls",
          "model_module_version": "1.5.0",
          "model_name": "DescriptionStyleModel",
          "state": {
            "_model_module": "@jupyter-widgets/controls",
            "_model_module_version": "1.5.0",
            "_model_name": "DescriptionStyleModel",
            "_view_count": null,
            "_view_module": "@jupyter-widgets/base",
            "_view_module_version": "1.2.0",
            "_view_name": "StyleView",
            "description_width": ""
          }
        },
        "ff27255610c64fd595482ea5d2f6ac5f": {
          "model_module": "@jupyter-widgets/controls",
          "model_module_version": "1.5.0",
          "model_name": "HTMLModel",
          "state": {
            "_dom_classes": [],
            "_model_module": "@jupyter-widgets/controls",
            "_model_module_version": "1.5.0",
            "_model_name": "HTMLModel",
            "_view_count": null,
            "_view_module": "@jupyter-widgets/controls",
            "_view_module_version": "1.5.0",
            "_view_name": "HTMLView",
            "description": "",
            "description_tooltip": null,
            "layout": "IPY_MODEL_420ad617674f43e49f6ed2f6add8662b",
            "placeholder": "​",
            "style": "IPY_MODEL_6ee6598d2c64481ab3ef7e24b0e1c6ff",
            "value": " 373/373 [00:00&lt;00:00, 9.33kB/s]"
          }
        }
      }
    }
  },
  "nbformat": 4,
  "nbformat_minor": 0
}
